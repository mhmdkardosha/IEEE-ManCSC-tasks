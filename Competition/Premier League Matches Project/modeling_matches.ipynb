{
 "cells": [
  {
   "cell_type": "code",
   "execution_count": 1,
   "metadata": {},
   "outputs": [],
   "source": [
    "import pandas as pd\n",
    "import numpy as np\n",
    "import matplotlib.pyplot as plt\n",
    "import seaborn as sns\n",
    "\n",
    "from sklearn.metrics import accuracy_score, confusion_matrix, classification_report, roc_auc_score, roc_curve, auc\n",
    "from sklearn.preprocessing import StandardScaler, LabelEncoder, OneHotEncoder\n",
    "from sklearn.model_selection import train_test_split\n",
    "from sklearn.compose import ColumnTransformer\n",
    "from sklearn.pipeline import Pipeline\n",
    "\n",
    "from sklearn.ensemble import GradientBoostingClassifier, RandomForestClassifier, AdaBoostClassifier, BaggingClassifier, ExtraTreesClassifier, StackingClassifier\n",
    "from sklearn.linear_model import LogisticRegression, SGDClassifier, RidgeClassifier\n",
    "from sklearn.tree import DecisionTreeClassifier\n",
    "from sklearn.neighbors import KNeighborsClassifier\n",
    "from sklearn.neural_network import MLPClassifier\n",
    "from sklearn.svm import SVC\n",
    "import lightgbm as lgb\n",
    "import catboost as cb\n",
    "import xgboost as xgb\n",
    "\n",
    "import warnings\n",
    "warnings.filterwarnings('ignore')\n",
    "pd.set_option('display.max_columns', None)\n"
   ]
  },
  {
   "cell_type": "code",
   "execution_count": 2,
   "metadata": {},
   "outputs": [],
   "source": [
    "df = pd.read_csv('matches_cleaned.csv')"
   ]
  },
  {
   "cell_type": "code",
   "execution_count": 3,
   "metadata": {},
   "outputs": [
    {
     "data": {
      "text/html": [
       "<div>\n",
       "<style scoped>\n",
       "    .dataframe tbody tr th:only-of-type {\n",
       "        vertical-align: middle;\n",
       "    }\n",
       "\n",
       "    .dataframe tbody tr th {\n",
       "        vertical-align: top;\n",
       "    }\n",
       "\n",
       "    .dataframe thead th {\n",
       "        text-align: right;\n",
       "    }\n",
       "</style>\n",
       "<table border=\"1\" class=\"dataframe\">\n",
       "  <thead>\n",
       "    <tr style=\"text-align: right;\">\n",
       "      <th></th>\n",
       "      <th>date</th>\n",
       "      <th>time</th>\n",
       "      <th>day</th>\n",
       "      <th>venue</th>\n",
       "      <th>result</th>\n",
       "      <th>gf</th>\n",
       "      <th>ga</th>\n",
       "      <th>opponent</th>\n",
       "      <th>xg</th>\n",
       "      <th>xga</th>\n",
       "      <th>poss</th>\n",
       "      <th>captain</th>\n",
       "      <th>formation</th>\n",
       "      <th>referee</th>\n",
       "      <th>sh</th>\n",
       "      <th>sot</th>\n",
       "      <th>dist</th>\n",
       "      <th>fk</th>\n",
       "      <th>pk</th>\n",
       "      <th>pkatt</th>\n",
       "      <th>season</th>\n",
       "      <th>team</th>\n",
       "      <th>hour</th>\n",
       "      <th>day_code</th>\n",
       "      <th>points</th>\n",
       "      <th>season_winner</th>\n",
       "    </tr>\n",
       "  </thead>\n",
       "  <tbody>\n",
       "    <tr>\n",
       "      <th>0</th>\n",
       "      <td>2020-09-21</td>\n",
       "      <td>20:15 (21:15)</td>\n",
       "      <td>Monday</td>\n",
       "      <td>Away</td>\n",
       "      <td>W</td>\n",
       "      <td>3</td>\n",
       "      <td>1</td>\n",
       "      <td>Wolves</td>\n",
       "      <td>1.9</td>\n",
       "      <td>0.6</td>\n",
       "      <td>65</td>\n",
       "      <td>Fernandinho</td>\n",
       "      <td>4-2-3-1</td>\n",
       "      <td>Andre Marriner</td>\n",
       "      <td>13</td>\n",
       "      <td>8</td>\n",
       "      <td>21.1</td>\n",
       "      <td>2</td>\n",
       "      <td>1</td>\n",
       "      <td>1</td>\n",
       "      <td>2021</td>\n",
       "      <td>Manchester City</td>\n",
       "      <td>20</td>\n",
       "      <td>0</td>\n",
       "      <td>3</td>\n",
       "      <td>Manchester City</td>\n",
       "    </tr>\n",
       "    <tr>\n",
       "      <th>1</th>\n",
       "      <td>2020-09-27</td>\n",
       "      <td>16:30 (17:30)</td>\n",
       "      <td>Sunday</td>\n",
       "      <td>Home</td>\n",
       "      <td>L</td>\n",
       "      <td>2</td>\n",
       "      <td>5</td>\n",
       "      <td>Leicester City</td>\n",
       "      <td>0.9</td>\n",
       "      <td>2.9</td>\n",
       "      <td>72</td>\n",
       "      <td>Fernandinho</td>\n",
       "      <td>4-2-3-1</td>\n",
       "      <td>Michael Oliver</td>\n",
       "      <td>16</td>\n",
       "      <td>5</td>\n",
       "      <td>19.8</td>\n",
       "      <td>1</td>\n",
       "      <td>0</td>\n",
       "      <td>0</td>\n",
       "      <td>2021</td>\n",
       "      <td>Manchester City</td>\n",
       "      <td>16</td>\n",
       "      <td>6</td>\n",
       "      <td>0</td>\n",
       "      <td>Manchester City</td>\n",
       "    </tr>\n",
       "    <tr>\n",
       "      <th>2</th>\n",
       "      <td>2020-10-03</td>\n",
       "      <td>17:30 (18:30)</td>\n",
       "      <td>Saturday</td>\n",
       "      <td>Away</td>\n",
       "      <td>D</td>\n",
       "      <td>1</td>\n",
       "      <td>1</td>\n",
       "      <td>Leeds United</td>\n",
       "      <td>1.2</td>\n",
       "      <td>2.4</td>\n",
       "      <td>49</td>\n",
       "      <td>Kevin De Bruyne</td>\n",
       "      <td>4-3-3</td>\n",
       "      <td>Mike Dean</td>\n",
       "      <td>23</td>\n",
       "      <td>1</td>\n",
       "      <td>18.2</td>\n",
       "      <td>1</td>\n",
       "      <td>0</td>\n",
       "      <td>0</td>\n",
       "      <td>2021</td>\n",
       "      <td>Manchester City</td>\n",
       "      <td>17</td>\n",
       "      <td>5</td>\n",
       "      <td>1</td>\n",
       "      <td>Manchester City</td>\n",
       "    </tr>\n",
       "    <tr>\n",
       "      <th>3</th>\n",
       "      <td>2020-10-17</td>\n",
       "      <td>17:30 (18:30)</td>\n",
       "      <td>Saturday</td>\n",
       "      <td>Home</td>\n",
       "      <td>W</td>\n",
       "      <td>1</td>\n",
       "      <td>0</td>\n",
       "      <td>Arsenal</td>\n",
       "      <td>1.3</td>\n",
       "      <td>0.9</td>\n",
       "      <td>58</td>\n",
       "      <td>Raheem Sterling</td>\n",
       "      <td>3-1-4-2</td>\n",
       "      <td>Chris Kavanagh</td>\n",
       "      <td>13</td>\n",
       "      <td>5</td>\n",
       "      <td>17.7</td>\n",
       "      <td>0</td>\n",
       "      <td>0</td>\n",
       "      <td>0</td>\n",
       "      <td>2021</td>\n",
       "      <td>Manchester City</td>\n",
       "      <td>17</td>\n",
       "      <td>5</td>\n",
       "      <td>3</td>\n",
       "      <td>Manchester City</td>\n",
       "    </tr>\n",
       "    <tr>\n",
       "      <th>4</th>\n",
       "      <td>2020-10-24</td>\n",
       "      <td>12:30 (13:30)</td>\n",
       "      <td>Saturday</td>\n",
       "      <td>Away</td>\n",
       "      <td>D</td>\n",
       "      <td>1</td>\n",
       "      <td>1</td>\n",
       "      <td>West Ham</td>\n",
       "      <td>1.0</td>\n",
       "      <td>0.3</td>\n",
       "      <td>69</td>\n",
       "      <td>Raheem Sterling</td>\n",
       "      <td>4-3-3</td>\n",
       "      <td>Anthony Taylor</td>\n",
       "      <td>14</td>\n",
       "      <td>7</td>\n",
       "      <td>20.9</td>\n",
       "      <td>1</td>\n",
       "      <td>0</td>\n",
       "      <td>0</td>\n",
       "      <td>2021</td>\n",
       "      <td>Manchester City</td>\n",
       "      <td>12</td>\n",
       "      <td>5</td>\n",
       "      <td>1</td>\n",
       "      <td>Manchester City</td>\n",
       "    </tr>\n",
       "  </tbody>\n",
       "</table>\n",
       "</div>"
      ],
      "text/plain": [
       "         date           time       day venue result  gf  ga        opponent  \\\n",
       "0  2020-09-21  20:15 (21:15)    Monday  Away      W   3   1          Wolves   \n",
       "1  2020-09-27  16:30 (17:30)    Sunday  Home      L   2   5  Leicester City   \n",
       "2  2020-10-03  17:30 (18:30)  Saturday  Away      D   1   1    Leeds United   \n",
       "3  2020-10-17  17:30 (18:30)  Saturday  Home      W   1   0         Arsenal   \n",
       "4  2020-10-24  12:30 (13:30)  Saturday  Away      D   1   1        West Ham   \n",
       "\n",
       "    xg  xga  poss          captain formation         referee  sh  sot  dist  \\\n",
       "0  1.9  0.6    65      Fernandinho   4-2-3-1  Andre Marriner  13    8  21.1   \n",
       "1  0.9  2.9    72      Fernandinho   4-2-3-1  Michael Oliver  16    5  19.8   \n",
       "2  1.2  2.4    49  Kevin De Bruyne     4-3-3       Mike Dean  23    1  18.2   \n",
       "3  1.3  0.9    58  Raheem Sterling   3-1-4-2  Chris Kavanagh  13    5  17.7   \n",
       "4  1.0  0.3    69  Raheem Sterling     4-3-3  Anthony Taylor  14    7  20.9   \n",
       "\n",
       "   fk  pk  pkatt  season             team  hour  day_code  points  \\\n",
       "0   2   1      1    2021  Manchester City    20         0       3   \n",
       "1   1   0      0    2021  Manchester City    16         6       0   \n",
       "2   1   0      0    2021  Manchester City    17         5       1   \n",
       "3   0   0      0    2021  Manchester City    17         5       3   \n",
       "4   1   0      0    2021  Manchester City    12         5       1   \n",
       "\n",
       "     season_winner  \n",
       "0  Manchester City  \n",
       "1  Manchester City  \n",
       "2  Manchester City  \n",
       "3  Manchester City  \n",
       "4  Manchester City  "
      ]
     },
     "execution_count": 3,
     "metadata": {},
     "output_type": "execute_result"
    }
   ],
   "source": [
    "df.head()"
   ]
  },
  {
   "cell_type": "code",
   "execution_count": 4,
   "metadata": {},
   "outputs": [
    {
     "data": {
      "text/plain": [
       "date             0\n",
       "time             0\n",
       "day              0\n",
       "venue            0\n",
       "result           0\n",
       "gf               0\n",
       "ga               0\n",
       "opponent         0\n",
       "xg               0\n",
       "xga              0\n",
       "poss             0\n",
       "captain          0\n",
       "formation        0\n",
       "referee          0\n",
       "sh               0\n",
       "sot              0\n",
       "dist             0\n",
       "fk               0\n",
       "pk               0\n",
       "pkatt            0\n",
       "season           0\n",
       "team             0\n",
       "hour             0\n",
       "day_code         0\n",
       "points           0\n",
       "season_winner    0\n",
       "dtype: int64"
      ]
     },
     "execution_count": 4,
     "metadata": {},
     "output_type": "execute_result"
    }
   ],
   "source": [
    "df.isna().sum()"
   ]
  },
  {
   "cell_type": "code",
   "execution_count": 5,
   "metadata": {},
   "outputs": [
    {
     "name": "stdout",
     "output_type": "stream",
     "text": [
      "<class 'pandas.core.frame.DataFrame'>\n",
      "RangeIndex: 3799 entries, 0 to 3798\n",
      "Data columns (total 26 columns):\n",
      " #   Column         Non-Null Count  Dtype  \n",
      "---  ------         --------------  -----  \n",
      " 0   date           3799 non-null   object \n",
      " 1   time           3799 non-null   object \n",
      " 2   day            3799 non-null   object \n",
      " 3   venue          3799 non-null   object \n",
      " 4   result         3799 non-null   object \n",
      " 5   gf             3799 non-null   int64  \n",
      " 6   ga             3799 non-null   int64  \n",
      " 7   opponent       3799 non-null   object \n",
      " 8   xg             3799 non-null   float64\n",
      " 9   xga            3799 non-null   float64\n",
      " 10  poss           3799 non-null   int64  \n",
      " 11  captain        3799 non-null   object \n",
      " 12  formation      3799 non-null   object \n",
      " 13  referee        3799 non-null   object \n",
      " 14  sh             3799 non-null   int64  \n",
      " 15  sot            3799 non-null   int64  \n",
      " 16  dist           3799 non-null   float64\n",
      " 17  fk             3799 non-null   int64  \n",
      " 18  pk             3799 non-null   int64  \n",
      " 19  pkatt          3799 non-null   int64  \n",
      " 20  season         3799 non-null   int64  \n",
      " 21  team           3799 non-null   object \n",
      " 22  hour           3799 non-null   int64  \n",
      " 23  day_code       3799 non-null   int64  \n",
      " 24  points         3799 non-null   int64  \n",
      " 25  season_winner  3799 non-null   object \n",
      "dtypes: float64(3), int64(12), object(11)\n",
      "memory usage: 771.8+ KB\n"
     ]
    }
   ],
   "source": [
    "df.info()"
   ]
  },
  {
   "cell_type": "code",
   "execution_count": 6,
   "metadata": {},
   "outputs": [
    {
     "data": {
      "text/plain": [
       "Index(['date', 'time', 'day', 'venue', 'result', 'gf', 'ga', 'opponent', 'xg',\n",
       "       'xga', 'poss', 'captain', 'formation', 'referee', 'sh', 'sot', 'dist',\n",
       "       'fk', 'pk', 'pkatt', 'season', 'team', 'hour', 'day_code', 'points',\n",
       "       'season_winner'],\n",
       "      dtype='object')"
      ]
     },
     "execution_count": 6,
     "metadata": {},
     "output_type": "execute_result"
    }
   ],
   "source": [
    "df.columns"
   ]
  },
  {
   "cell_type": "code",
   "execution_count": 7,
   "metadata": {},
   "outputs": [
    {
     "name": "stdout",
     "output_type": "stream",
     "text": [
      "Data is correctly sorted by date for each team.\n"
     ]
    }
   ],
   "source": [
    "df['date'] = pd.to_datetime(df['date'])\n",
    "\n",
    "# Sort the DataFrame by team and date\n",
    "df_sorted = df.sort_values(['team', 'date'])\n",
    "\n",
    "# Reset the index to reflect the new order\n",
    "df_sorted = df_sorted.reset_index(drop=True)\n",
    "\n",
    "# Verify the sorting\n",
    "def verify_sorting(data):\n",
    "    # Check if dates are in ascending order for each team\n",
    "    is_sorted = data.groupby('team')['date'].is_monotonic_increasing.all()\n",
    "    \n",
    "    if is_sorted:\n",
    "        print(\"Data is correctly sorted by date for each team.\")\n",
    "    else:\n",
    "        print(\"WARNING: Data is not correctly sorted. Please check for inconsistencies.\")\n",
    "\n",
    "# Run the verification\n",
    "verify_sorting(df_sorted)"
   ]
  },
  {
   "cell_type": "code",
   "execution_count": 8,
   "metadata": {},
   "outputs": [],
   "source": [
    "def calculate_fk_pk_ratios(data):\n",
    "    \"\"\"\n",
    "    Calculate ratios and percentages for free kicks and penalties.\n",
    "    \n",
    "    Parameters:\n",
    "    data (DataFrame): The input DataFrame containing 'fk', 'pk', 'pkatt', and 'sh' columns\n",
    "    \n",
    "    Returns:\n",
    "    DataFrame: The input DataFrame with additional columns for FK and PK ratios\n",
    "    \"\"\"\n",
    "    # Free Kick Ratio: Free Kicks / Total Shots\n",
    "    data['fk_ratio'] = data['fk'] / data['sh']\n",
    "    \n",
    "    # Penalty Conversion Rate: Penalties Scored / Penalties Attempted\n",
    "    data['pk_conversion_rate'] = data['pk'] / data['pkatt']\n",
    "    \n",
    "    # Penalties per Shot: Penalties Attempted / Total Shots\n",
    "    data['pk_per_shot'] = data['pkatt'] / data['sh']\n",
    "    \n",
    "    # Handle division by zero\n",
    "    data['fk_ratio'] = data['fk_ratio'].replace([np.inf, -np.inf], np.nan)\n",
    "    data['pk_conversion_rate'] = data['pk_conversion_rate'].replace([np.inf, -np.inf], np.nan)\n",
    "    data['pk_per_shot'] = data['pk_per_shot'].replace([np.inf, -np.inf], np.nan)\n",
    "    \n",
    "    # Convert to percentages\n",
    "    data['fk_percentage'] = data['fk_ratio'] * 100\n",
    "    data['pk_conversion_percentage'] = data['pk_conversion_rate'] * 100\n",
    "    data['pk_per_shot_percentage'] = data['pk_per_shot'] * 100\n",
    "    \n",
    "    return data"
   ]
  },
  {
   "cell_type": "code",
   "execution_count": 9,
   "metadata": {},
   "outputs": [],
   "source": [
    "df_sorted = calculate_fk_pk_ratios(df_sorted)"
   ]
  },
  {
   "cell_type": "code",
   "execution_count": 10,
   "metadata": {},
   "outputs": [],
   "source": [
    "df_sorted.drop(['pk_conversion_rate', 'pk_conversion_percentage'], axis=1, inplace=True)"
   ]
  },
  {
   "cell_type": "code",
   "execution_count": 11,
   "metadata": {},
   "outputs": [
    {
     "data": {
      "image/png": "[encoded data removed]",
      "text/plain": [
       "<Figure size 1200x600 with 4 Axes>"
      ]
     },
     "metadata": {},
     "output_type": "display_data"
    }
   ],
   "source": [
    "fig, axs = plt.subplots(2, 2, figsize=(12, 6))\n",
    "i = 0\n",
    "for col in ['fk_ratio', 'pk_per_shot', 'fk_percentage', 'pk_per_shot_percentage']:\n",
    "    sns.histplot(df_sorted[col], kde=True, ax=axs.flatten()[i])\n",
    "    axs.flatten()[i].set_title('Distribution of ' + col)\n",
    "    i += 1\n",
    "\n",
    "plt.tight_layout()\n",
    "plt.show()"
   ]
  },
  {
   "cell_type": "code",
   "execution_count": 12,
   "metadata": {},
   "outputs": [
    {
     "data": {
      "image/png": "[encoded data removed]",
      "text/plain": [
       "<Figure size 1200x600 with 4 Axes>"
      ]
     },
     "metadata": {},
     "output_type": "display_data"
    }
   ],
   "source": [
    "fig, axs = plt.subplots(2, 2, figsize=(12, 6))\n",
    "i = 0\n",
    "for col in ['fk_ratio', 'pk_per_shot', 'fk_percentage', 'pk_per_shot_percentage']:\n",
    "    sns.boxenplot(df_sorted[col], ax=axs.flatten()[i])\n",
    "    axs.flatten()[i].set_title('Distribution of ' + col)\n",
    "    i += 1\n",
    "\n",
    "plt.tight_layout()\n",
    "plt.show()"
   ]
  },
  {
   "cell_type": "code",
   "execution_count": 13,
   "metadata": {},
   "outputs": [
    {
     "data": {
      "text/html": [
       "<div>\n",
       "<style scoped>\n",
       "    .dataframe tbody tr th:only-of-type {\n",
       "        vertical-align: middle;\n",
       "    }\n",
       "\n",
       "    .dataframe tbody tr th {\n",
       "        vertical-align: top;\n",
       "    }\n",
       "\n",
       "    .dataframe thead th {\n",
       "        text-align: right;\n",
       "    }\n",
       "</style>\n",
       "<table border=\"1\" class=\"dataframe\">\n",
       "  <thead>\n",
       "    <tr style=\"text-align: right;\">\n",
       "      <th></th>\n",
       "      <th>date</th>\n",
       "      <th>time</th>\n",
       "      <th>day</th>\n",
       "      <th>venue</th>\n",
       "      <th>result</th>\n",
       "      <th>gf</th>\n",
       "      <th>ga</th>\n",
       "      <th>opponent</th>\n",
       "      <th>xg</th>\n",
       "      <th>xga</th>\n",
       "      <th>poss</th>\n",
       "      <th>captain</th>\n",
       "      <th>formation</th>\n",
       "      <th>referee</th>\n",
       "      <th>sh</th>\n",
       "      <th>sot</th>\n",
       "      <th>dist</th>\n",
       "      <th>fk</th>\n",
       "      <th>pk</th>\n",
       "      <th>pkatt</th>\n",
       "      <th>season</th>\n",
       "      <th>team</th>\n",
       "      <th>hour</th>\n",
       "      <th>day_code</th>\n",
       "      <th>points</th>\n",
       "      <th>season_winner</th>\n",
       "      <th>fk_ratio</th>\n",
       "      <th>pk_per_shot</th>\n",
       "      <th>fk_percentage</th>\n",
       "      <th>pk_per_shot_percentage</th>\n",
       "    </tr>\n",
       "  </thead>\n",
       "  <tbody>\n",
       "    <tr>\n",
       "      <th>0</th>\n",
       "      <td>2019-08-11</td>\n",
       "      <td>14:00 (15:00)</td>\n",
       "      <td>Sunday</td>\n",
       "      <td>Away</td>\n",
       "      <td>W</td>\n",
       "      <td>1</td>\n",
       "      <td>0</td>\n",
       "      <td>Newcastle Utd</td>\n",
       "      <td>1.1</td>\n",
       "      <td>0.4</td>\n",
       "      <td>62</td>\n",
       "      <td>Granit Xhaka</td>\n",
       "      <td>4-2-3-1</td>\n",
       "      <td>Martin Atkinson</td>\n",
       "      <td>8</td>\n",
       "      <td>2</td>\n",
       "      <td>13.9</td>\n",
       "      <td>0</td>\n",
       "      <td>0</td>\n",
       "      <td>0</td>\n",
       "      <td>2020</td>\n",
       "      <td>Arsenal</td>\n",
       "      <td>14</td>\n",
       "      <td>6</td>\n",
       "      <td>3</td>\n",
       "      <td>Liverpool</td>\n",
       "      <td>0.000000</td>\n",
       "      <td>0.0</td>\n",
       "      <td>0.000000</td>\n",
       "      <td>0.0</td>\n",
       "    </tr>\n",
       "    <tr>\n",
       "      <th>1</th>\n",
       "      <td>2019-08-17</td>\n",
       "      <td>12:30 (13:30)</td>\n",
       "      <td>Saturday</td>\n",
       "      <td>Home</td>\n",
       "      <td>W</td>\n",
       "      <td>2</td>\n",
       "      <td>1</td>\n",
       "      <td>Burnley</td>\n",
       "      <td>0.8</td>\n",
       "      <td>1.5</td>\n",
       "      <td>67</td>\n",
       "      <td>Nacho Monreal</td>\n",
       "      <td>4-2-3-1</td>\n",
       "      <td>Mike Dean</td>\n",
       "      <td>15</td>\n",
       "      <td>9</td>\n",
       "      <td>18.7</td>\n",
       "      <td>0</td>\n",
       "      <td>0</td>\n",
       "      <td>0</td>\n",
       "      <td>2020</td>\n",
       "      <td>Arsenal</td>\n",
       "      <td>12</td>\n",
       "      <td>5</td>\n",
       "      <td>3</td>\n",
       "      <td>Liverpool</td>\n",
       "      <td>0.000000</td>\n",
       "      <td>0.0</td>\n",
       "      <td>0.000000</td>\n",
       "      <td>0.0</td>\n",
       "    </tr>\n",
       "    <tr>\n",
       "      <th>2</th>\n",
       "      <td>2019-08-24</td>\n",
       "      <td>17:30 (18:30)</td>\n",
       "      <td>Saturday</td>\n",
       "      <td>Away</td>\n",
       "      <td>L</td>\n",
       "      <td>1</td>\n",
       "      <td>3</td>\n",
       "      <td>Liverpool</td>\n",
       "      <td>1.0</td>\n",
       "      <td>2.5</td>\n",
       "      <td>48</td>\n",
       "      <td>Granit Xhaka</td>\n",
       "      <td>4-3-1-2</td>\n",
       "      <td>Anthony Taylor</td>\n",
       "      <td>9</td>\n",
       "      <td>3</td>\n",
       "      <td>19.0</td>\n",
       "      <td>1</td>\n",
       "      <td>0</td>\n",
       "      <td>0</td>\n",
       "      <td>2020</td>\n",
       "      <td>Arsenal</td>\n",
       "      <td>17</td>\n",
       "      <td>5</td>\n",
       "      <td>0</td>\n",
       "      <td>Liverpool</td>\n",
       "      <td>0.111111</td>\n",
       "      <td>0.0</td>\n",
       "      <td>11.111111</td>\n",
       "      <td>0.0</td>\n",
       "    </tr>\n",
       "    <tr>\n",
       "      <th>3</th>\n",
       "      <td>2019-09-01</td>\n",
       "      <td>16:30 (17:30)</td>\n",
       "      <td>Sunday</td>\n",
       "      <td>Home</td>\n",
       "      <td>D</td>\n",
       "      <td>2</td>\n",
       "      <td>2</td>\n",
       "      <td>Tottenham</td>\n",
       "      <td>2.4</td>\n",
       "      <td>2.0</td>\n",
       "      <td>55</td>\n",
       "      <td>Granit Xhaka</td>\n",
       "      <td>4-3-3</td>\n",
       "      <td>Martin Atkinson</td>\n",
       "      <td>26</td>\n",
       "      <td>8</td>\n",
       "      <td>18.1</td>\n",
       "      <td>2</td>\n",
       "      <td>0</td>\n",
       "      <td>0</td>\n",
       "      <td>2020</td>\n",
       "      <td>Arsenal</td>\n",
       "      <td>16</td>\n",
       "      <td>6</td>\n",
       "      <td>1</td>\n",
       "      <td>Liverpool</td>\n",
       "      <td>0.076923</td>\n",
       "      <td>0.0</td>\n",
       "      <td>7.692308</td>\n",
       "      <td>0.0</td>\n",
       "    </tr>\n",
       "    <tr>\n",
       "      <th>4</th>\n",
       "      <td>2019-09-15</td>\n",
       "      <td>16:30 (17:30)</td>\n",
       "      <td>Sunday</td>\n",
       "      <td>Away</td>\n",
       "      <td>D</td>\n",
       "      <td>2</td>\n",
       "      <td>2</td>\n",
       "      <td>Watford</td>\n",
       "      <td>0.8</td>\n",
       "      <td>2.7</td>\n",
       "      <td>48</td>\n",
       "      <td>Granit Xhaka</td>\n",
       "      <td>4-1-2-1-2</td>\n",
       "      <td>Anthony Taylor</td>\n",
       "      <td>7</td>\n",
       "      <td>4</td>\n",
       "      <td>20.8</td>\n",
       "      <td>0</td>\n",
       "      <td>0</td>\n",
       "      <td>0</td>\n",
       "      <td>2020</td>\n",
       "      <td>Arsenal</td>\n",
       "      <td>16</td>\n",
       "      <td>6</td>\n",
       "      <td>1</td>\n",
       "      <td>Liverpool</td>\n",
       "      <td>0.000000</td>\n",
       "      <td>0.0</td>\n",
       "      <td>0.000000</td>\n",
       "      <td>0.0</td>\n",
       "    </tr>\n",
       "  </tbody>\n",
       "</table>\n",
       "</div>"
      ],
      "text/plain": [
       "        date           time       day venue result  gf  ga       opponent  \\\n",
       "0 2019-08-11  14:00 (15:00)    Sunday  Away      W   1   0  Newcastle Utd   \n",
       "1 2019-08-17  12:30 (13:30)  Saturday  Home      W   2   1        Burnley   \n",
       "2 2019-08-24  17:30 (18:30)  Saturday  Away      L   1   3      Liverpool   \n",
       "3 2019-09-01  16:30 (17:30)    Sunday  Home      D   2   2      Tottenham   \n",
       "4 2019-09-15  16:30 (17:30)    Sunday  Away      D   2   2        Watford   \n",
       "\n",
       "    xg  xga  poss        captain  formation          referee  sh  sot  dist  \\\n",
       "0  1.1  0.4    62   Granit Xhaka    4-2-3-1  Martin Atkinson   8    2  13.9   \n",
       "1  0.8  1.5    67  Nacho Monreal    4-2-3-1        Mike Dean  15    9  18.7   \n",
       "2  1.0  2.5    48   Granit Xhaka    4-3-1-2   Anthony Taylor   9    3  19.0   \n",
       "3  2.4  2.0    55   Granit Xhaka      4-3-3  Martin Atkinson  26    8  18.1   \n",
       "4  0.8  2.7    48   Granit Xhaka  4-1-2-1-2   Anthony Taylor   7    4  20.8   \n",
       "\n",
       "   fk  pk  pkatt  season     team  hour  day_code  points season_winner  \\\n",
       "0   0   0      0    2020  Arsenal    14         6       3     Liverpool   \n",
       "1   0   0      0    2020  Arsenal    12         5       3     Liverpool   \n",
       "2   1   0      0    2020  Arsenal    17         5       0     Liverpool   \n",
       "3   2   0      0    2020  Arsenal    16         6       1     Liverpool   \n",
       "4   0   0      0    2020  Arsenal    16         6       1     Liverpool   \n",
       "\n",
       "   fk_ratio  pk_per_shot  fk_percentage  pk_per_shot_percentage  \n",
       "0  0.000000          0.0       0.000000                     0.0  \n",
       "1  0.000000          0.0       0.000000                     0.0  \n",
       "2  0.111111          0.0      11.111111                     0.0  \n",
       "3  0.076923          0.0       7.692308                     0.0  \n",
       "4  0.000000          0.0       0.000000                     0.0  "
      ]
     },
     "execution_count": 13,
     "metadata": {},
     "output_type": "execute_result"
    }
   ],
   "source": [
    "df_sorted.head()"
   ]
  },
  {
   "cell_type": "code",
   "execution_count": 14,
   "metadata": {},
   "outputs": [],
   "source": [
    "def calculate_rolling_average(data, column, window=5):\n",
    "    \"\"\"\n",
    "    Calculate the rolling average of a column for each team.\n",
    "    \n",
    "    Parameters:\n",
    "    data (DataFrame): The input DataFrame\n",
    "    column (str): The column to calculate the rolling average for\n",
    "    window (int): The number of games to include in the rolling average\n",
    "    \n",
    "    Returns:\n",
    "    Series: The rolling average\n",
    "    \"\"\"\n",
    "    return data.groupby('team')[column].transform(\n",
    "        lambda x: x.rolling(window=window, min_periods=1).mean()\n",
    "    )"
   ]
  },
  {
   "cell_type": "code",
   "execution_count": 15,
   "metadata": {},
   "outputs": [],
   "source": [
    "df_sorted['rolling_xg'] = calculate_rolling_average(df_sorted, 'xg')\n",
    "df_sorted['rolling_xga'] = calculate_rolling_average(df_sorted, 'xga')\n",
    "df_sorted['rolling_poss'] = calculate_rolling_average(df_sorted, 'poss')\n",
    "df_sorted['rolling_sh'] = calculate_rolling_average(df_sorted, 'sh')\n",
    "df_sorted['rolling_sot'] = calculate_rolling_average(df_sorted, 'sot')\n",
    "df_sorted['rolling_dist'] = calculate_rolling_average(df_sorted, 'dist')"
   ]
  },
  {
   "cell_type": "code",
   "execution_count": 16,
   "metadata": {},
   "outputs": [],
   "source": [
    "df_sorted['result_encoded'] = df_sorted['result'].map({'W': 1, 'D': 0, 'L': -1})\n",
    "df_sorted['form'] = calculate_rolling_average(df_sorted, 'result_encoded')"
   ]
  },
  {
   "cell_type": "code",
   "execution_count": 17,
   "metadata": {},
   "outputs": [],
   "source": [
    "df_sorted['goal_diff'] = df_sorted['gf'] - df_sorted['ga']\n",
    "df_sorted['rolling_goal_diff'] = calculate_rolling_average(df_sorted, 'goal_diff')"
   ]
  },
  {
   "cell_type": "code",
   "execution_count": 18,
   "metadata": {},
   "outputs": [],
   "source": [
    "def get_head_to_head(data):\n",
    "    \"\"\"\n",
    "    Calculate the head-to-head record against each opponent.\n",
    "    \n",
    "    Returns:\n",
    "    DataFrame: The original dataframe with an additional column for head-to-head record\n",
    "    \"\"\"\n",
    "    # Calculate the mean result for each team-opponent pair\n",
    "    h2h = data.groupby(['team', 'opponent'])['result_encoded'].mean().reset_index()\n",
    "    \n",
    "    # Rename the mean column\n",
    "    h2h = h2h.rename(columns={'result_encoded': 'h2h_record'})\n",
    "    \n",
    "    # Merge the h2h data back to the original dataframe\n",
    "    result = pd.merge(data, h2h, on=['team', 'opponent'], how='left')\n",
    "    \n",
    "    return result"
   ]
  },
  {
   "cell_type": "code",
   "execution_count": 19,
   "metadata": {},
   "outputs": [],
   "source": [
    "df_sorted = get_head_to_head(df_sorted)\n",
    "\n",
    "# Convert date to day of week\n",
    "df_sorted['day_of_week'] = pd.to_datetime(df_sorted['date']).dt.dayofweek\n"
   ]
  },
  {
   "cell_type": "code",
   "execution_count": 20,
   "metadata": {},
   "outputs": [],
   "source": [
    "def categorize_time(time):\n",
    "    hour = pd.to_datetime(time).hour\n",
    "    if hour < 12:\n",
    "        return 'early'\n",
    "    elif hour < 17:\n",
    "        return 'afternoon'\n",
    "    else:\n",
    "        return 'evening'"
   ]
  },
  {
   "cell_type": "code",
   "execution_count": 21,
   "metadata": {},
   "outputs": [],
   "source": [
    "df_sorted['time'] = df_sorted['time'].apply(lambda x: x.split(' ')[0])\n",
    "df_sorted['time_condition'] = df_sorted['time'].apply(categorize_time)"
   ]
  },
  {
   "cell_type": "code",
   "execution_count": 22,
   "metadata": {},
   "outputs": [
    {
     "data": {
      "text/plain": [
       "time_condition\n",
       "afternoon    2337\n",
       "evening      1462\n",
       "Name: count, dtype: int64"
      ]
     },
     "execution_count": 22,
     "metadata": {},
     "output_type": "execute_result"
    }
   ],
   "source": [
    "df_sorted['time_condition'].value_counts()"
   ]
  },
  {
   "cell_type": "code",
   "execution_count": 23,
   "metadata": {},
   "outputs": [
    {
     "data": {
      "text/plain": [
       "team\n",
       "Arsenal                     190\n",
       "Liverpool                   190\n",
       "West Ham United             190\n",
       "Tottenham Hotspur           190\n",
       "Newcastle United            190\n",
       "Manchester United           190\n",
       "Manchester City             190\n",
       "Aston Villa                 190\n",
       "Wolverhampton Wanderers     190\n",
       "Everton                     190\n",
       "Chelsea                     190\n",
       "Brighton and Hove Albion    190\n",
       "Crystal Palace              189\n",
       "Leicester City              152\n",
       "Burnley                     152\n",
       "Southampton                 152\n",
       "Fulham                      114\n",
       "Leeds United                114\n",
       "Bournemouth                 114\n",
       "Sheffield United            114\n",
       "Brentford                   114\n",
       "Watford                      76\n",
       "Norwich City                 76\n",
       "Nottingham Forest            76\n",
       "West Bromwich Albion         38\n",
       "Luton Town                   38\n",
       "Name: date, dtype: int64"
      ]
     },
     "execution_count": 23,
     "metadata": {},
     "output_type": "execute_result"
    }
   ],
   "source": [
    "df_sorted.groupby('team')['date'].count().sort_values(ascending=False)"
   ]
  },
  {
   "cell_type": "code",
   "execution_count": 24,
   "metadata": {},
   "outputs": [],
   "source": [
    "df_sorted['days_since_last_match'] = df_sorted.groupby('team')['date'].diff().dt.days"
   ]
  },
  {
   "cell_type": "code",
   "execution_count": 25,
   "metadata": {},
   "outputs": [],
   "source": [
    "df_sorted['days_since_last_match'].fillna(0, inplace=True)"
   ]
  },
  {
   "cell_type": "code",
   "execution_count": 26,
   "metadata": {},
   "outputs": [],
   "source": [
    "df_sorted.to_csv('matches_final.csv', index=False)"
   ]
  },
  {
   "cell_type": "code",
   "execution_count": 27,
   "metadata": {},
   "outputs": [],
   "source": [
    "columns_to_drop = ['gf', 'ga', 'xg', 'xga', 'poss', 'sh', 'sot', \n",
    "                   'goal_diff', 'day', 'pk', 'pkatt', 'fk', \n",
    "                   'referee', 'dist','points', 'season_winner', 'hour', 'result_encoded', 'day_code']\n",
    "df_sorted = df_sorted.drop(columns=columns_to_drop)"
   ]
  },
  {
   "cell_type": "code",
   "execution_count": 28,
   "metadata": {},
   "outputs": [
    {
     "data": {
      "text/html": [
       "<div>\n",
       "<style scoped>\n",
       "    .dataframe tbody tr th:only-of-type {\n",
       "        vertical-align: middle;\n",
       "    }\n",
       "\n",
       "    .dataframe tbody tr th {\n",
       "        vertical-align: top;\n",
       "    }\n",
       "\n",
       "    .dataframe thead th {\n",
       "        text-align: right;\n",
       "    }\n",
       "</style>\n",
       "<table border=\"1\" class=\"dataframe\">\n",
       "  <thead>\n",
       "    <tr style=\"text-align: right;\">\n",
       "      <th></th>\n",
       "      <th>date</th>\n",
       "      <th>time</th>\n",
       "      <th>venue</th>\n",
       "      <th>result</th>\n",
       "      <th>opponent</th>\n",
       "      <th>captain</th>\n",
       "      <th>formation</th>\n",
       "      <th>season</th>\n",
       "      <th>team</th>\n",
       "      <th>fk_ratio</th>\n",
       "      <th>pk_per_shot</th>\n",
       "      <th>fk_percentage</th>\n",
       "      <th>pk_per_shot_percentage</th>\n",
       "      <th>rolling_xg</th>\n",
       "      <th>rolling_xga</th>\n",
       "      <th>rolling_poss</th>\n",
       "      <th>rolling_sh</th>\n",
       "      <th>rolling_sot</th>\n",
       "      <th>rolling_dist</th>\n",
       "      <th>form</th>\n",
       "      <th>rolling_goal_diff</th>\n",
       "      <th>h2h_record</th>\n",
       "      <th>day_of_week</th>\n",
       "      <th>time_condition</th>\n",
       "      <th>days_since_last_match</th>\n",
       "    </tr>\n",
       "  </thead>\n",
       "  <tbody>\n",
       "    <tr>\n",
       "      <th>0</th>\n",
       "      <td>2019-08-11</td>\n",
       "      <td>14:00</td>\n",
       "      <td>Away</td>\n",
       "      <td>W</td>\n",
       "      <td>Newcastle Utd</td>\n",
       "      <td>Granit Xhaka</td>\n",
       "      <td>4-2-3-1</td>\n",
       "      <td>2020</td>\n",
       "      <td>Arsenal</td>\n",
       "      <td>0.000000</td>\n",
       "      <td>0.0</td>\n",
       "      <td>0.000000</td>\n",
       "      <td>0.0</td>\n",
       "      <td>1.100000</td>\n",
       "      <td>0.400000</td>\n",
       "      <td>62.0</td>\n",
       "      <td>8.000000</td>\n",
       "      <td>2.000000</td>\n",
       "      <td>13.900</td>\n",
       "      <td>1.000000</td>\n",
       "      <td>1.0</td>\n",
       "      <td>0.500</td>\n",
       "      <td>6</td>\n",
       "      <td>afternoon</td>\n",
       "      <td>0.0</td>\n",
       "    </tr>\n",
       "    <tr>\n",
       "      <th>1</th>\n",
       "      <td>2019-08-17</td>\n",
       "      <td>12:30</td>\n",
       "      <td>Home</td>\n",
       "      <td>W</td>\n",
       "      <td>Burnley</td>\n",
       "      <td>Nacho Monreal</td>\n",
       "      <td>4-2-3-1</td>\n",
       "      <td>2020</td>\n",
       "      <td>Arsenal</td>\n",
       "      <td>0.000000</td>\n",
       "      <td>0.0</td>\n",
       "      <td>0.000000</td>\n",
       "      <td>0.0</td>\n",
       "      <td>0.950000</td>\n",
       "      <td>0.950000</td>\n",
       "      <td>64.5</td>\n",
       "      <td>11.500000</td>\n",
       "      <td>5.500000</td>\n",
       "      <td>16.300</td>\n",
       "      <td>1.000000</td>\n",
       "      <td>1.0</td>\n",
       "      <td>0.375</td>\n",
       "      <td>5</td>\n",
       "      <td>afternoon</td>\n",
       "      <td>6.0</td>\n",
       "    </tr>\n",
       "    <tr>\n",
       "      <th>2</th>\n",
       "      <td>2019-08-24</td>\n",
       "      <td>17:30</td>\n",
       "      <td>Away</td>\n",
       "      <td>L</td>\n",
       "      <td>Liverpool</td>\n",
       "      <td>Granit Xhaka</td>\n",
       "      <td>4-3-1-2</td>\n",
       "      <td>2020</td>\n",
       "      <td>Arsenal</td>\n",
       "      <td>0.111111</td>\n",
       "      <td>0.0</td>\n",
       "      <td>11.111111</td>\n",
       "      <td>0.0</td>\n",
       "      <td>0.966667</td>\n",
       "      <td>1.466667</td>\n",
       "      <td>59.0</td>\n",
       "      <td>10.666667</td>\n",
       "      <td>4.666667</td>\n",
       "      <td>17.200</td>\n",
       "      <td>0.333333</td>\n",
       "      <td>0.0</td>\n",
       "      <td>-0.200</td>\n",
       "      <td>5</td>\n",
       "      <td>evening</td>\n",
       "      <td>7.0</td>\n",
       "    </tr>\n",
       "    <tr>\n",
       "      <th>3</th>\n",
       "      <td>2019-09-01</td>\n",
       "      <td>16:30</td>\n",
       "      <td>Home</td>\n",
       "      <td>D</td>\n",
       "      <td>Tottenham</td>\n",
       "      <td>Granit Xhaka</td>\n",
       "      <td>4-3-3</td>\n",
       "      <td>2020</td>\n",
       "      <td>Arsenal</td>\n",
       "      <td>0.076923</td>\n",
       "      <td>0.0</td>\n",
       "      <td>7.692308</td>\n",
       "      <td>0.0</td>\n",
       "      <td>1.325000</td>\n",
       "      <td>1.600000</td>\n",
       "      <td>58.0</td>\n",
       "      <td>14.500000</td>\n",
       "      <td>5.500000</td>\n",
       "      <td>17.425</td>\n",
       "      <td>0.250000</td>\n",
       "      <td>0.0</td>\n",
       "      <td>0.200</td>\n",
       "      <td>6</td>\n",
       "      <td>afternoon</td>\n",
       "      <td>8.0</td>\n",
       "    </tr>\n",
       "    <tr>\n",
       "      <th>4</th>\n",
       "      <td>2019-09-15</td>\n",
       "      <td>16:30</td>\n",
       "      <td>Away</td>\n",
       "      <td>D</td>\n",
       "      <td>Watford</td>\n",
       "      <td>Granit Xhaka</td>\n",
       "      <td>4-1-2-1-2</td>\n",
       "      <td>2020</td>\n",
       "      <td>Arsenal</td>\n",
       "      <td>0.000000</td>\n",
       "      <td>0.0</td>\n",
       "      <td>0.000000</td>\n",
       "      <td>0.0</td>\n",
       "      <td>1.220000</td>\n",
       "      <td>1.820000</td>\n",
       "      <td>56.0</td>\n",
       "      <td>13.000000</td>\n",
       "      <td>5.200000</td>\n",
       "      <td>18.100</td>\n",
       "      <td>0.200000</td>\n",
       "      <td>0.0</td>\n",
       "      <td>0.750</td>\n",
       "      <td>6</td>\n",
       "      <td>afternoon</td>\n",
       "      <td>14.0</td>\n",
       "    </tr>\n",
       "  </tbody>\n",
       "</table>\n",
       "</div>"
      ],
      "text/plain": [
       "        date   time venue result       opponent        captain  formation  \\\n",
       "0 2019-08-11  14:00  Away      W  Newcastle Utd   Granit Xhaka    4-2-3-1   \n",
       "1 2019-08-17  12:30  Home      W        Burnley  Nacho Monreal    4-2-3-1   \n",
       "2 2019-08-24  17:30  Away      L      Liverpool   Granit Xhaka    4-3-1-2   \n",
       "3 2019-09-01  16:30  Home      D      Tottenham   Granit Xhaka      4-3-3   \n",
       "4 2019-09-15  16:30  Away      D        Watford   Granit Xhaka  4-1-2-1-2   \n",
       "\n",
       "   season     team  fk_ratio  pk_per_shot  fk_percentage  \\\n",
       "0    2020  Arsenal  0.000000          0.0       0.000000   \n",
       "1    2020  Arsenal  0.000000          0.0       0.000000   \n",
       "2    2020  Arsenal  0.111111          0.0      11.111111   \n",
       "3    2020  Arsenal  0.076923          0.0       7.692308   \n",
       "4    2020  Arsenal  0.000000          0.0       0.000000   \n",
       "\n",
       "   pk_per_shot_percentage  rolling_xg  rolling_xga  rolling_poss  rolling_sh  \\\n",
       "0                     0.0    1.100000     0.400000          62.0    8.000000   \n",
       "1                     0.0    0.950000     0.950000          64.5   11.500000   \n",
       "2                     0.0    0.966667     1.466667          59.0   10.666667   \n",
       "3                     0.0    1.325000     1.600000          58.0   14.500000   \n",
       "4                     0.0    1.220000     1.820000          56.0   13.000000   \n",
       "\n",
       "   rolling_sot  rolling_dist      form  rolling_goal_diff  h2h_record  \\\n",
       "0     2.000000        13.900  1.000000                1.0       0.500   \n",
       "1     5.500000        16.300  1.000000                1.0       0.375   \n",
       "2     4.666667        17.200  0.333333                0.0      -0.200   \n",
       "3     5.500000        17.425  0.250000                0.0       0.200   \n",
       "4     5.200000        18.100  0.200000                0.0       0.750   \n",
       "\n",
       "   day_of_week time_condition  days_since_last_match  \n",
       "0            6      afternoon                    0.0  \n",
       "1            5      afternoon                    6.0  \n",
       "2            5        evening                    7.0  \n",
       "3            6      afternoon                    8.0  \n",
       "4            6      afternoon                   14.0  "
      ]
     },
     "execution_count": 28,
     "metadata": {},
     "output_type": "execute_result"
    }
   ],
   "source": [
    "df_sorted.head()"
   ]
  },
  {
   "cell_type": "code",
   "execution_count": 29,
   "metadata": {},
   "outputs": [
    {
     "data": {
      "text/plain": [
       "['fk_ratio',\n",
       " 'pk_per_shot',\n",
       " 'fk_percentage',\n",
       " 'pk_per_shot_percentage',\n",
       " 'rolling_xg',\n",
       " 'rolling_xga',\n",
       " 'rolling_poss',\n",
       " 'rolling_sh',\n",
       " 'rolling_sot',\n",
       " 'rolling_dist',\n",
       " 'form',\n",
       " 'rolling_goal_diff',\n",
       " 'h2h_record',\n",
       " 'day_of_week',\n",
       " 'days_since_last_match']"
      ]
     },
     "execution_count": 29,
     "metadata": {},
     "output_type": "execute_result"
    }
   ],
   "source": [
    "num_cols = df_sorted.select_dtypes(include=np.number).columns\n",
    "num_cols = num_cols.drop(['season']) \n",
    "num_cols = num_cols.tolist()\n",
    "num_cols"
   ]
  },
  {
   "cell_type": "code",
   "execution_count": 30,
   "metadata": {},
   "outputs": [
    {
     "data": {
      "text/plain": [
       "['time', 'venue', 'opponent', 'captain', 'formation', 'team', 'time_condition']"
      ]
     },
     "execution_count": 30,
     "metadata": {},
     "output_type": "execute_result"
    }
   ],
   "source": [
    "cat_cols = df_sorted.select_dtypes(include='object').columns\n",
    "cat_cols = cat_cols.drop(['result'])\n",
    "cat_cols = cat_cols.tolist()\n",
    "cat_cols"
   ]
  },
  {
   "cell_type": "code",
   "execution_count": 31,
   "metadata": {},
   "outputs": [
    {
     "data": {
      "text/plain": [
       "22"
      ]
     },
     "execution_count": 31,
     "metadata": {},
     "output_type": "execute_result"
    }
   ],
   "source": [
    "predictors = num_cols + cat_cols\n",
    "len(predictors)"
   ]
  },
  {
   "cell_type": "code",
   "execution_count": 32,
   "metadata": {},
   "outputs": [
    {
     "data": {
      "text/plain": [
       "['fk_ratio',\n",
       " 'pk_per_shot',\n",
       " 'fk_percentage',\n",
       " 'pk_per_shot_percentage',\n",
       " 'rolling_xg',\n",
       " 'rolling_xga',\n",
       " 'rolling_poss',\n",
       " 'rolling_sh',\n",
       " 'rolling_sot',\n",
       " 'rolling_dist',\n",
       " 'form',\n",
       " 'rolling_goal_diff',\n",
       " 'h2h_record',\n",
       " 'day_of_week',\n",
       " 'days_since_last_match',\n",
       " 'time',\n",
       " 'venue',\n",
       " 'opponent',\n",
       " 'captain',\n",
       " 'formation',\n",
       " 'team',\n",
       " 'time_condition']"
      ]
     },
     "execution_count": 32,
     "metadata": {},
     "output_type": "execute_result"
    }
   ],
   "source": [
    "predictors"
   ]
  },
  {
   "cell_type": "code",
   "execution_count": 33,
   "metadata": {},
   "outputs": [],
   "source": [
    "cat_pipeline = Pipeline(steps=[\n",
    "    ('onehot', OneHotEncoder(handle_unknown='ignore'))\n",
    "])\n",
    "\n",
    "num_pipeline = Pipeline(steps=[\n",
    "    ('scaler', StandardScaler())\n",
    "])\n",
    "\n",
    "\n",
    "preprocessor = ColumnTransformer(\n",
    "    transformers=[\n",
    "        ('num', num_pipeline, num_cols),\n",
    "        ('cat', cat_pipeline, cat_cols)\n",
    "    ])\n"
   ]
  },
  {
   "cell_type": "markdown",
   "metadata": {},
   "source": [
    "## Multiclass Classification (Win, Draw, Loss)"
   ]
  },
  {
   "cell_type": "code",
   "execution_count": 34,
   "metadata": {},
   "outputs": [],
   "source": [
    "train = df_sorted[df_sorted[\"season\"] <= 2023]\n",
    "test = df_sorted[df_sorted[\"season\"] > 2023]"
   ]
  },
  {
   "cell_type": "code",
   "execution_count": 35,
   "metadata": {},
   "outputs": [
    {
     "data": {
      "text/plain": [
       "((3039, 25), (760, 25))"
      ]
     },
     "execution_count": 35,
     "metadata": {},
     "output_type": "execute_result"
    }
   ],
   "source": [
    "train.shape, test.shape"
   ]
  },
  {
   "cell_type": "code",
   "execution_count": 36,
   "metadata": {},
   "outputs": [],
   "source": [
    "label_enc = LabelEncoder()\n",
    "train['result'] = label_enc.fit_transform(train['result'])\n",
    "test['result'] = label_enc.transform(test['result'])"
   ]
  },
  {
   "cell_type": "code",
   "execution_count": 37,
   "metadata": {},
   "outputs": [
    {
     "data": {
      "text/plain": [
       "result\n",
       "2    1170\n",
       "1    1170\n",
       "0     699\n",
       "Name: count, dtype: int64"
      ]
     },
     "execution_count": 37,
     "metadata": {},
     "output_type": "execute_result"
    }
   ],
   "source": [
    "train['result'].value_counts()"
   ]
  },
  {
   "cell_type": "code",
   "execution_count": 38,
   "metadata": {},
   "outputs": [
    {
     "name": "stdout",
     "output_type": "stream",
     "text": [
      "Accuracy: 65.13%\n"
     ]
    }
   ],
   "source": [
    "lr = Pipeline(steps=[\n",
    "    ('preprocessor', preprocessor),\n",
    "    ('classifier', LogisticRegression(C=0.1))\n",
    "])\n",
    "\n",
    "lr.fit(train[predictors], train['result'])\n",
    "preds_lr = lr.predict(test[predictors])\n",
    "acc = accuracy_score(test['result'], preds_lr)\n",
    "print(f'Accuracy: {acc * 100:.2f}%')"
   ]
  },
  {
   "cell_type": "code",
   "execution_count": 39,
   "metadata": {},
   "outputs": [
    {
     "data": {
      "image/png": "[encoded data removed]",
      "text/plain": [
       "<Figure size 640x480 with 1 Axes>"
      ]
     },
     "metadata": {},
     "output_type": "display_data"
    }
   ],
   "source": [
    "sns.heatmap(confusion_matrix(test['result'], preds_lr), annot=True, fmt='d', cmap='Blues', cbar=False)\n",
    "plt.xlabel('Predicted', fontsize=12, fontweight='bold')\n",
    "plt.ylabel('Actual', fontsize=12, fontweight='bold')\n",
    "plt.show()"
   ]
  },
  {
   "cell_type": "code",
   "execution_count": 40,
   "metadata": {},
   "outputs": [
    {
     "name": "stdout",
     "output_type": "stream",
     "text": [
      "              precision    recall  f1-score   support\n",
      "\n",
      "           0       0.34      0.10      0.15       164\n",
      "           1       0.68      0.82      0.74       298\n",
      "           2       0.66      0.79      0.72       298\n",
      "\n",
      "    accuracy                           0.65       760\n",
      "   macro avg       0.56      0.57      0.54       760\n",
      "weighted avg       0.60      0.65      0.61       760\n",
      "\n"
     ]
    }
   ],
   "source": [
    "\n",
    "print(classification_report(test['result'], preds_lr))"
   ]
  },
  {
   "cell_type": "code",
   "execution_count": 41,
   "metadata": {},
   "outputs": [],
   "source": [
    "def test_models(models, train, test, predictors, target):\n",
    "    models_df = pd.DataFrame(columns=['Model', 'Accuracy'])\n",
    "    for name, model in models.items():\n",
    "    \n",
    "        pipeline = Pipeline(steps=[\n",
    "            ('preprocessor', preprocessor),\n",
    "            ('classifier', model)\n",
    "        ])\n",
    "        \n",
    "        pipeline.fit(train[predictors], train[target])\n",
    "        \n",
    "        preds = pipeline.predict(test[predictors])\n",
    "        \n",
    "        acc = accuracy_score(test[target], preds)\n",
    "        models_df = pd.concat([models_df, pd.DataFrame({'Model': [name], 'Accuracy': [acc]})])\n",
    "    models_df = models_df.sort_values(by='Accuracy', ascending=False)\n",
    "    return models_df"
   ]
  },
  {
   "cell_type": "code",
   "execution_count": 42,
   "metadata": {},
   "outputs": [],
   "source": [
    "models = {\n",
    "    'GradientBoostingClassifier': GradientBoostingClassifier(),\n",
    "    'RandomForestClassifier': RandomForestClassifier(),\n",
    "    'AdaBoostClassifier': AdaBoostClassifier(),\n",
    "    'BaggingClassifier': BaggingClassifier(),\n",
    "    'ExtraTreesClassifier': ExtraTreesClassifier(),\n",
    "    'LogisticRegression': LogisticRegression(),\n",
    "    'LogisticRegressionL1': LogisticRegression(penalty='l1', solver='liblinear'),\n",
    "    'SGDClassifier': SGDClassifier(),\n",
    "    'RidgeClassifier': RidgeClassifier(),\n",
    "    'DecisionTreeClassifier': DecisionTreeClassifier(),\n",
    "    'KNeighborsClassifier': KNeighborsClassifier(),\n",
    "    'MLPClassifier': MLPClassifier(),\n",
    "    'SVC': SVC(),\n",
    "    'LGBMClassifier': lgb.LGBMClassifier(verbose=0),\n",
    "    'CatBoostClassifier': cb.CatBoostClassifier(silent=True),\n",
    "    'XGBClassifier': xgb.XGBClassifier()\n",
    "}\n"
   ]
  },
  {
   "cell_type": "code",
   "execution_count": 43,
   "metadata": {},
   "outputs": [
    {
     "name": "stderr",
     "output_type": "stream",
     "text": [
      "  File \"c:\\Users\\deel\\AppData\\Local\\Programs\\Python\\Python312\\Lib\\site-packages\\joblib\\externals\\loky\\backend\\context.py\", line 282, in _count_physical_cores\n",
      "    raise ValueError(f\"found {cpu_count_physical} physical cores < 1\")\n"
     ]
    },
    {
     "data": {
      "text/html": [
       "<div>\n",
       "<style scoped>\n",
       "    .dataframe tbody tr th:only-of-type {\n",
       "        vertical-align: middle;\n",
       "    }\n",
       "\n",
       "    .dataframe tbody tr th {\n",
       "        vertical-align: top;\n",
       "    }\n",
       "\n",
       "    .dataframe thead th {\n",
       "        text-align: right;\n",
       "    }\n",
       "</style>\n",
       "<table border=\"1\" class=\"dataframe\">\n",
       "  <thead>\n",
       "    <tr style=\"text-align: right;\">\n",
       "      <th></th>\n",
       "      <th>Model</th>\n",
       "      <th>Accuracy</th>\n",
       "    </tr>\n",
       "  </thead>\n",
       "  <tbody>\n",
       "    <tr>\n",
       "      <th>0</th>\n",
       "      <td>RidgeClassifier</td>\n",
       "      <td>0.660526</td>\n",
       "    </tr>\n",
       "    <tr>\n",
       "      <th>0</th>\n",
       "      <td>RandomForestClassifier</td>\n",
       "      <td>0.659211</td>\n",
       "    </tr>\n",
       "    <tr>\n",
       "      <th>0</th>\n",
       "      <td>LogisticRegressionL1</td>\n",
       "      <td>0.656579</td>\n",
       "    </tr>\n",
       "    <tr>\n",
       "      <th>0</th>\n",
       "      <td>SVC</td>\n",
       "      <td>0.656579</td>\n",
       "    </tr>\n",
       "    <tr>\n",
       "      <th>0</th>\n",
       "      <td>GradientBoostingClassifier</td>\n",
       "      <td>0.652632</td>\n",
       "    </tr>\n",
       "    <tr>\n",
       "      <th>0</th>\n",
       "      <td>ExtraTreesClassifier</td>\n",
       "      <td>0.647368</td>\n",
       "    </tr>\n",
       "    <tr>\n",
       "      <th>0</th>\n",
       "      <td>CatBoostClassifier</td>\n",
       "      <td>0.646053</td>\n",
       "    </tr>\n",
       "    <tr>\n",
       "      <th>0</th>\n",
       "      <td>LGBMClassifier</td>\n",
       "      <td>0.642105</td>\n",
       "    </tr>\n",
       "    <tr>\n",
       "      <th>0</th>\n",
       "      <td>SGDClassifier</td>\n",
       "      <td>0.638158</td>\n",
       "    </tr>\n",
       "    <tr>\n",
       "      <th>0</th>\n",
       "      <td>LogisticRegression</td>\n",
       "      <td>0.636842</td>\n",
       "    </tr>\n",
       "    <tr>\n",
       "      <th>0</th>\n",
       "      <td>XGBClassifier</td>\n",
       "      <td>0.632895</td>\n",
       "    </tr>\n",
       "    <tr>\n",
       "      <th>0</th>\n",
       "      <td>BaggingClassifier</td>\n",
       "      <td>0.613158</td>\n",
       "    </tr>\n",
       "    <tr>\n",
       "      <th>0</th>\n",
       "      <td>AdaBoostClassifier</td>\n",
       "      <td>0.610526</td>\n",
       "    </tr>\n",
       "    <tr>\n",
       "      <th>0</th>\n",
       "      <td>MLPClassifier</td>\n",
       "      <td>0.586842</td>\n",
       "    </tr>\n",
       "    <tr>\n",
       "      <th>0</th>\n",
       "      <td>KNeighborsClassifier</td>\n",
       "      <td>0.576316</td>\n",
       "    </tr>\n",
       "    <tr>\n",
       "      <th>0</th>\n",
       "      <td>DecisionTreeClassifier</td>\n",
       "      <td>0.568421</td>\n",
       "    </tr>\n",
       "  </tbody>\n",
       "</table>\n",
       "</div>"
      ],
      "text/plain": [
       "                        Model  Accuracy\n",
       "0             RidgeClassifier  0.660526\n",
       "0      RandomForestClassifier  0.659211\n",
       "0        LogisticRegressionL1  0.656579\n",
       "0                         SVC  0.656579\n",
       "0  GradientBoostingClassifier  0.652632\n",
       "0        ExtraTreesClassifier  0.647368\n",
       "0          CatBoostClassifier  0.646053\n",
       "0              LGBMClassifier  0.642105\n",
       "0               SGDClassifier  0.638158\n",
       "0          LogisticRegression  0.636842\n",
       "0               XGBClassifier  0.632895\n",
       "0           BaggingClassifier  0.613158\n",
       "0          AdaBoostClassifier  0.610526\n",
       "0               MLPClassifier  0.586842\n",
       "0        KNeighborsClassifier  0.576316\n",
       "0      DecisionTreeClassifier  0.568421"
      ]
     },
     "execution_count": 43,
     "metadata": {},
     "output_type": "execute_result"
    }
   ],
   "source": [
    "models_df = test_models(models, train, test, predictors, 'result')\n",
    "models_df"
   ]
  },
  {
   "cell_type": "markdown",
   "metadata": {},
   "source": [
    "## Binary Classification (Win, Loss)"
   ]
  },
  {
   "cell_type": "code",
   "execution_count": 44,
   "metadata": {},
   "outputs": [],
   "source": [
    "df_sorted_binary = df_sorted.copy()\n",
    "\n",
    "df_sorted_binary['result'] = df_sorted_binary['result'].apply(lambda x: 1 if x == 'W' else 0)"
   ]
  },
  {
   "cell_type": "code",
   "execution_count": 45,
   "metadata": {},
   "outputs": [],
   "source": [
    "for col in df_sorted_binary.select_dtypes(include='object').columns:\n",
    "    df_sorted_binary[col] = df_sorted_binary[col].astype('category')"
   ]
  },
  {
   "cell_type": "code",
   "execution_count": 46,
   "metadata": {},
   "outputs": [],
   "source": [
    "train_binary = df_sorted_binary[df_sorted_binary[\"season\"] <= 2023]\n",
    "test_binary = df_sorted_binary[df_sorted_binary[\"season\"] > 2023]"
   ]
  },
  {
   "cell_type": "code",
   "execution_count": 47,
   "metadata": {},
   "outputs": [
    {
     "data": {
      "text/plain": [
       "((3039, 25), (760, 25))"
      ]
     },
     "execution_count": 47,
     "metadata": {},
     "output_type": "execute_result"
    }
   ],
   "source": [
    "train_binary.shape, test_binary.shape"
   ]
  },
  {
   "cell_type": "code",
   "execution_count": 48,
   "metadata": {},
   "outputs": [
    {
     "name": "stdout",
     "output_type": "stream",
     "text": [
      "Accuracy: 78.55%\n"
     ]
    }
   ],
   "source": [
    "lr = Pipeline(steps=[\n",
    "    ('preprocessor', preprocessor),\n",
    "    ('classifier', LogisticRegression())\n",
    "])\n",
    "\n",
    "lr.fit(train_binary[predictors], train_binary['result'])\n",
    "preds_lr = lr.predict(test_binary[predictors])\n",
    "acc = accuracy_score(test_binary['result'], preds_lr)\n",
    "print(f'Accuracy: {acc * 100:.2f}%')"
   ]
  },
  {
   "cell_type": "code",
   "execution_count": 49,
   "metadata": {},
   "outputs": [
    {
     "data": {
      "image/png": "[encoded data removed]",
      "text/plain": [
       "<Figure size 640x480 with 1 Axes>"
      ]
     },
     "metadata": {},
     "output_type": "display_data"
    }
   ],
   "source": [
    "sns.heatmap(confusion_matrix(test_binary['result'], preds_lr), annot=True, fmt='d', cmap='Blues', cbar=False)\n",
    "plt.xlabel('Predicted', fontsize=12, fontweight='bold')\n",
    "plt.ylabel('Actual', fontsize=12, fontweight='bold')\n",
    "plt.show()"
   ]
  },
  {
   "cell_type": "code",
   "execution_count": 50,
   "metadata": {},
   "outputs": [
    {
     "name": "stdout",
     "output_type": "stream",
     "text": [
      "              precision    recall  f1-score   support\n",
      "\n",
      "           0       0.81      0.84      0.83       462\n",
      "           1       0.74      0.70      0.72       298\n",
      "\n",
      "    accuracy                           0.79       760\n",
      "   macro avg       0.78      0.77      0.77       760\n",
      "weighted avg       0.78      0.79      0.78       760\n",
      "\n"
     ]
    }
   ],
   "source": [
    "print(classification_report(test_binary['result'], preds_lr))"
   ]
  },
  {
   "cell_type": "code",
   "execution_count": 51,
   "metadata": {},
   "outputs": [
    {
     "data": {
      "image/png": "[encoded data removed]",
      "text/plain": [
       "<Figure size 640x480 with 1 Axes>"
      ]
     },
     "metadata": {},
     "output_type": "display_data"
    }
   ],
   "source": [
    "y_pred_prob = lr.predict_proba(test_binary.drop('result', axis=1))[:, 1]\n",
    "roc_auc = roc_auc_score(test_binary['result'], y_pred_prob)\n",
    "fpr, tpr, thresholds = roc_curve(test_binary['result'], y_pred_prob)\n",
    "\n",
    "plt.plot([0, 1], [0, 1], 'k--')\n",
    "plt.plot(fpr, tpr, label='Logistic Regression')\n",
    "plt.xlabel('False Positive Rate')\n",
    "plt.ylabel('True Positive Rate')\n",
    "plt.title('Logistic Regression ROC Curve')\n",
    "plt.show()"
   ]
  },
  {
   "cell_type": "code",
   "execution_count": 52,
   "metadata": {},
   "outputs": [],
   "source": [
    "# Access the logistic regression classifier from the pipeline\n",
    "classifier = lr.named_steps['classifier']\n",
    "\n",
    "# Get the coefficients (feature importance)\n",
    "feature_importance = classifier.coef_[0]\n",
    "\n",
    "# Get the feature names\n",
    "feature_names = train_binary[predictors].columns\n",
    "\n",
    "# Pair feature names with their importance\n",
    "features_importance_dict = dict(zip(feature_names, feature_importance))\n",
    "\n",
    "# Sort the features by their importance\n",
    "sorted_features = sorted(features_importance_dict.items(), key=lambda x: np.abs(x[1]), reverse=True)\n"
   ]
  },
  {
   "cell_type": "code",
   "execution_count": 53,
   "metadata": {},
   "outputs": [
    {
     "data": {
      "image/png": "[encoded data removed]",
      "text/plain": [
       "<Figure size 1000x800 with 1 Axes>"
      ]
     },
     "metadata": {},
     "output_type": "display_data"
    }
   ],
   "source": [
    "# Unzip the sorted features\n",
    "features, importance = zip(*sorted_features)\n",
    "\n",
    "# Plot\n",
    "plt.figure(figsize=(10, 8))\n",
    "plt.barh(features, importance, color='skyblue')\n",
    "plt.xlabel('Coefficient Value')\n",
    "plt.ylabel('Feature')\n",
    "plt.title('Feature Importance - Logistic Regression')\n",
    "plt.gca().invert_yaxis()  # Invert y-axis to have the most important feature at the top\n",
    "plt.show()\n"
   ]
  },
  {
   "cell_type": "code",
   "execution_count": 54,
   "metadata": {},
   "outputs": [
    {
     "name": "stdout",
     "output_type": "stream",
     "text": [
      "Accuracy: 78.95%\n"
     ]
    }
   ],
   "source": [
    "gb= Pipeline(steps=[\n",
    "    ('preprocessor', preprocessor),\n",
    "    ('classifier', GradientBoostingClassifier())\n",
    "])\n",
    "gb.fit(train_binary[predictors], train_binary['result'])\n",
    "preds_gb = gb.predict(test_binary[predictors])\n",
    "acc = accuracy_score(test_binary['result'], preds_gb)\n",
    "print(f'Accuracy: {acc * 100:.2f}%')"
   ]
  },
  {
   "cell_type": "code",
   "execution_count": 55,
   "metadata": {},
   "outputs": [
    {
     "data": {
      "image/png": "[encoded data removed]",
      "text/plain": [
       "<Figure size 640x480 with 1 Axes>"
      ]
     },
     "metadata": {},
     "output_type": "display_data"
    }
   ],
   "source": [
    "sns.heatmap(confusion_matrix(test_binary['result'], preds_gb), annot=True, fmt='d', cmap='Blues', cbar=False)\n",
    "plt.xlabel('Predicted', fontsize=12, fontweight='bold')\n",
    "plt.ylabel('Actual', fontsize=12, fontweight='bold')\n",
    "plt.show()"
   ]
  },
  {
   "cell_type": "code",
   "execution_count": 56,
   "metadata": {},
   "outputs": [
    {
     "name": "stdout",
     "output_type": "stream",
     "text": [
      "              precision    recall  f1-score   support\n",
      "\n",
      "           0       0.82      0.84      0.83       462\n",
      "           1       0.74      0.71      0.73       298\n",
      "\n",
      "    accuracy                           0.79       760\n",
      "   macro avg       0.78      0.78      0.78       760\n",
      "weighted avg       0.79      0.79      0.79       760\n",
      "\n"
     ]
    }
   ],
   "source": [
    "print(classification_report(test_binary['result'], preds_gb))"
   ]
  },
  {
   "cell_type": "code",
   "execution_count": 57,
   "metadata": {},
   "outputs": [
    {
     "data": {
      "image/png": "[encoded data removed]",
      "text/plain": [
       "<Figure size 640x480 with 1 Axes>"
      ]
     },
     "metadata": {},
     "output_type": "display_data"
    }
   ],
   "source": [
    "y_pred_prob = gb.predict_proba(test_binary.drop('result', axis=1))[:, 1]\n",
    "roc_auc = roc_auc_score(test_binary['result'], y_pred_prob)\n",
    "fpr, tpr, thresholds = roc_curve(test_binary['result'], y_pred_prob)\n",
    "\n",
    "plt.plot([0, 1], [0, 1], 'k--')\n",
    "plt.plot(fpr, tpr, label='Gradient Boosting')\n",
    "plt.xlabel('False Positive Rate')\n",
    "plt.ylabel('True Positive Rate')\n",
    "plt.title('Gradient Boosting ROC Curve')\n",
    "plt.show()"
   ]
  },
  {
   "cell_type": "code",
   "execution_count": 58,
   "metadata": {},
   "outputs": [
    {
     "data": {
      "image/png": "[encoded data removed]",
      "text/plain": [
       "<Figure size 1000x800 with 1 Axes>"
      ]
     },
     "metadata": {},
     "output_type": "display_data"
    }
   ],
   "source": [
    "feature_importance = gb.named_steps['classifier'].feature_importances_\n",
    "\n",
    "# Pair feature names with their importance\n",
    "features_importance_dict = dict(zip(feature_names, feature_importance))\n",
    "\n",
    "# Sort the features by their importance\n",
    "sorted_features = sorted(features_importance_dict.items(), key=lambda x: x[1], reverse=True)\n",
    "\n",
    "# Unzip the sorted features\n",
    "features, importance = zip(*sorted_features)\n",
    "\n",
    "# Plot\n",
    "plt.figure(figsize=(10, 8))\n",
    "plt.barh(features, importance, color='skyblue')\n",
    "plt.xlabel('Feature Importance')\n",
    "plt.ylabel('Feature')\n",
    "plt.title('Feature Importance - Gradient Boosting')\n",
    "plt.gca().invert_yaxis()  \n",
    "plt.show()"
   ]
  },
  {
   "cell_type": "code",
   "execution_count": 59,
   "metadata": {},
   "outputs": [],
   "source": [
    "models = {\n",
    "    'GradientBoostingClassifier': GradientBoostingClassifier(),\n",
    "    'RandomForestClassifier': RandomForestClassifier(),\n",
    "    'AdaBoostClassifier': AdaBoostClassifier(),\n",
    "    'BaggingClassifier': BaggingClassifier(),\n",
    "    'ExtraTreesClassifier': ExtraTreesClassifier(),\n",
    "    'LogisticRegression': LogisticRegression(),\n",
    "    'SGDClassifier': SGDClassifier(),\n",
    "    'RidgeClassifier': RidgeClassifier(),\n",
    "    'DecisionTreeClassifier': DecisionTreeClassifier(),\n",
    "    'KNeighborsClassifier': KNeighborsClassifier(),\n",
    "    'MLPClassifier': MLPClassifier(),\n",
    "    'SVC': SVC(),\n",
    "    'LGBMClassifier': lgb.LGBMClassifier(objective='binary', verbose=0), \n",
    "    'CatBoostClassifier': cb.CatBoostClassifier(silent=True),\n",
    "    'XGBClassifier': xgb.XGBClassifier()\n",
    "}"
   ]
  },
  {
   "cell_type": "code",
   "execution_count": 60,
   "metadata": {},
   "outputs": [
    {
     "data": {
      "text/html": [
       "<div>\n",
       "<style scoped>\n",
       "    .dataframe tbody tr th:only-of-type {\n",
       "        vertical-align: middle;\n",
       "    }\n",
       "\n",
       "    .dataframe tbody tr th {\n",
       "        vertical-align: top;\n",
       "    }\n",
       "\n",
       "    .dataframe thead th {\n",
       "        text-align: right;\n",
       "    }\n",
       "</style>\n",
       "<table border=\"1\" class=\"dataframe\">\n",
       "  <thead>\n",
       "    <tr style=\"text-align: right;\">\n",
       "      <th></th>\n",
       "      <th>Model</th>\n",
       "      <th>Accuracy</th>\n",
       "    </tr>\n",
       "  </thead>\n",
       "  <tbody>\n",
       "    <tr>\n",
       "      <th>0</th>\n",
       "      <td>GradientBoostingClassifier</td>\n",
       "      <td>0.789474</td>\n",
       "    </tr>\n",
       "    <tr>\n",
       "      <th>0</th>\n",
       "      <td>LogisticRegression</td>\n",
       "      <td>0.785526</td>\n",
       "    </tr>\n",
       "    <tr>\n",
       "      <th>0</th>\n",
       "      <td>CatBoostClassifier</td>\n",
       "      <td>0.784211</td>\n",
       "    </tr>\n",
       "    <tr>\n",
       "      <th>0</th>\n",
       "      <td>SVC</td>\n",
       "      <td>0.782895</td>\n",
       "    </tr>\n",
       "    <tr>\n",
       "      <th>0</th>\n",
       "      <td>RandomForestClassifier</td>\n",
       "      <td>0.781579</td>\n",
       "    </tr>\n",
       "    <tr>\n",
       "      <th>0</th>\n",
       "      <td>RidgeClassifier</td>\n",
       "      <td>0.778947</td>\n",
       "    </tr>\n",
       "    <tr>\n",
       "      <th>0</th>\n",
       "      <td>ExtraTreesClassifier</td>\n",
       "      <td>0.777632</td>\n",
       "    </tr>\n",
       "    <tr>\n",
       "      <th>0</th>\n",
       "      <td>AdaBoostClassifier</td>\n",
       "      <td>0.773684</td>\n",
       "    </tr>\n",
       "    <tr>\n",
       "      <th>0</th>\n",
       "      <td>BaggingClassifier</td>\n",
       "      <td>0.773684</td>\n",
       "    </tr>\n",
       "    <tr>\n",
       "      <th>0</th>\n",
       "      <td>LGBMClassifier</td>\n",
       "      <td>0.767105</td>\n",
       "    </tr>\n",
       "    <tr>\n",
       "      <th>0</th>\n",
       "      <td>XGBClassifier</td>\n",
       "      <td>0.759211</td>\n",
       "    </tr>\n",
       "    <tr>\n",
       "      <th>0</th>\n",
       "      <td>KNeighborsClassifier</td>\n",
       "      <td>0.757895</td>\n",
       "    </tr>\n",
       "    <tr>\n",
       "      <th>0</th>\n",
       "      <td>SGDClassifier</td>\n",
       "      <td>0.732895</td>\n",
       "    </tr>\n",
       "    <tr>\n",
       "      <th>0</th>\n",
       "      <td>MLPClassifier</td>\n",
       "      <td>0.725000</td>\n",
       "    </tr>\n",
       "    <tr>\n",
       "      <th>0</th>\n",
       "      <td>DecisionTreeClassifier</td>\n",
       "      <td>0.671053</td>\n",
       "    </tr>\n",
       "  </tbody>\n",
       "</table>\n",
       "</div>"
      ],
      "text/plain": [
       "                        Model  Accuracy\n",
       "0  GradientBoostingClassifier  0.789474\n",
       "0          LogisticRegression  0.785526\n",
       "0          CatBoostClassifier  0.784211\n",
       "0                         SVC  0.782895\n",
       "0      RandomForestClassifier  0.781579\n",
       "0             RidgeClassifier  0.778947\n",
       "0        ExtraTreesClassifier  0.777632\n",
       "0          AdaBoostClassifier  0.773684\n",
       "0           BaggingClassifier  0.773684\n",
       "0              LGBMClassifier  0.767105\n",
       "0               XGBClassifier  0.759211\n",
       "0        KNeighborsClassifier  0.757895\n",
       "0               SGDClassifier  0.732895\n",
       "0               MLPClassifier  0.725000\n",
       "0      DecisionTreeClassifier  0.671053"
      ]
     },
     "execution_count": 60,
     "metadata": {},
     "output_type": "execute_result"
    }
   ],
   "source": [
    "model_binary = test_models(models, train_binary, test_binary, predictors, 'result')\n",
    "model_binary"
   ]
  },
  {
   "cell_type": "code",
   "execution_count": 61,
   "metadata": {},
   "outputs": [
    {
     "name": "stdout",
     "output_type": "stream",
     "text": [
      "Accuracy: 78.95%\n"
     ]
    }
   ],
   "source": [
    "gb = Pipeline(steps=[\n",
    "    ('preprocessor', preprocessor),\n",
    "    ('classifier', GradientBoostingClassifier())\n",
    "])\n",
    "\n",
    "gb.fit(train_binary[predictors], train_binary['result'])\n",
    "preds_gb = gb.predict(test_binary[predictors])\n",
    "acc = accuracy_score(test_binary['result'], preds_gb)\n",
    "print(f'Accuracy: {acc * 100:.2f}%')"
   ]
  },
  {
   "cell_type": "code",
   "execution_count": 62,
   "metadata": {},
   "outputs": [],
   "source": [
    "import pickle\n",
    "with open('grad_boost.pkl', 'wb') as f:\n",
    "    pickle.dump(gb, f)"
   ]
  },
  {
   "cell_type": "code",
   "execution_count": 63,
   "metadata": {},
   "outputs": [
    {
     "name": "stdout",
     "output_type": "stream",
     "text": [
      "Accuracy: 78.42%\n"
     ]
    }
   ],
   "source": [
    "cat = Pipeline(steps=[\n",
    "    ('preprocessor', preprocessor),\n",
    "    ('classifier', cb.CatBoostClassifier(silent=True))\n",
    "])\n",
    "\n",
    "cat.fit(train_binary[predictors], train_binary['result'])\n",
    "preds_cat = cat.predict(test_binary[predictors])\n",
    "acc = accuracy_score(test_binary['result'], preds_cat)\n",
    "print(f'Accuracy: {acc * 100:.2f}%')"
   ]
  },
  {
   "cell_type": "code",
   "execution_count": 64,
   "metadata": {},
   "outputs": [
    {
     "name": "stdout",
     "output_type": "stream",
     "text": [
      "Accuracy: 78.82%\n"
     ]
    }
   ],
   "source": [
    "et = Pipeline(steps=[\n",
    "    ('preprocessor', preprocessor),\n",
    "    ('classifier', ExtraTreesClassifier(random_state=42))\n",
    "])\n",
    "\n",
    "et.fit(train_binary[predictors], train_binary['result'])\n",
    "preds_et = et.predict(test_binary[predictors])\n",
    "acc = accuracy_score(test_binary['result'], preds_et)\n",
    "print(f'Accuracy: {acc * 100:.2f}%')"
   ]
  },
  {
   "cell_type": "code",
   "execution_count": 65,
   "metadata": {},
   "outputs": [
    {
     "name": "stdout",
     "output_type": "stream",
     "text": [
      "Accuracy: 78.82%\n"
     ]
    }
   ],
   "source": [
    "svc = Pipeline(steps=[\n",
    "    ('preprocessor', preprocessor),\n",
    "    ('classifier', SVC(C=0.01, kernel='linear'))\n",
    "])\n",
    "\n",
    "svc.fit(train_binary[predictors], train_binary['result'])\n",
    "preds_svc = svc.predict(test_binary[predictors])\n",
    "acc = accuracy_score(test_binary['result'], preds_svc)\n",
    "print(f'Accuracy: {acc * 100:.2f}%')"
   ]
  },
  {
   "cell_type": "code",
   "execution_count": 66,
   "metadata": {},
   "outputs": [
    {
     "name": "stdout",
     "output_type": "stream",
     "text": [
      "Accuracy: 78.42%\n"
     ]
    }
   ],
   "source": [
    "st = StackingClassifier(estimators=[\n",
    "    ('svc', SVC(C=0.01, kernel='linear')),\n",
    "    ('lr', LogisticRegression()),\n",
    "    ('gb', GradientBoostingClassifier()),\n",
    "    ('et', ExtraTreesClassifier(random_state=42))\n",
    "], final_estimator=LogisticRegression())\n",
    "\n",
    "st_pipe = Pipeline(steps=[\n",
    "    ('preprocessor', preprocessor),\n",
    "    ('classifier', st)\n",
    "])\n",
    "\n",
    "st_pipe.fit(train_binary[predictors], train_binary['result'])\n",
    "preds_st = st_pipe.predict(test_binary[predictors])\n",
    "acc = accuracy_score(test_binary['result'], preds_st)\n",
    "print(f'Accuracy: {acc * 100:.2f}%')"
   ]
  },
  {
   "cell_type": "code",
   "execution_count": 67,
   "metadata": {},
   "outputs": [
    {
     "data": {
      "image/png": "[encoded data removed]",
      "text/plain": [
       "<Figure size 640x480 with 1 Axes>"
      ]
     },
     "metadata": {},
     "output_type": "display_data"
    }
   ],
   "source": [
    "sns.heatmap(confusion_matrix(test_binary['result'], preds_st), annot=True, fmt='d', cmap='Blues', cbar=False)\n",
    "\n",
    "plt.xlabel('Predicted', fontsize=12, fontweight='bold')\n",
    "plt.ylabel('Actual', fontsize=12, fontweight='bold')\n",
    "\n",
    "plt.show()"
   ]
  },
  {
   "cell_type": "code",
   "execution_count": 68,
   "metadata": {},
   "outputs": [
    {
     "name": "stdout",
     "output_type": "stream",
     "text": [
      "              precision    recall  f1-score   support\n",
      "\n",
      "           0       0.80      0.85      0.83       462\n",
      "           1       0.75      0.68      0.71       298\n",
      "\n",
      "    accuracy                           0.78       760\n",
      "   macro avg       0.78      0.77      0.77       760\n",
      "weighted avg       0.78      0.78      0.78       760\n",
      "\n"
     ]
    }
   ],
   "source": [
    "print(classification_report(test_binary['result'], preds_st))"
   ]
  },
  {
   "cell_type": "code",
   "execution_count": 69,
   "metadata": {},
   "outputs": [
    {
     "data": {
      "image/png": "[encoded data removed]",
      "text/plain": [
       "<Figure size 640x480 with 1 Axes>"
      ]
     },
     "metadata": {},
     "output_type": "display_data"
    }
   ],
   "source": [
    "y_pred_prob = st_pipe.predict_proba(test_binary.drop('result', axis=1))[:, 1]\n",
    "roc_auc = roc_auc_score(test_binary['result'], y_pred_prob)\n",
    "fpr, tpr, thresholds = roc_curve(test_binary['result'], y_pred_prob)\n",
    "\n",
    "plt.plot([0, 1], [0, 1], 'k--')\n",
    "plt.plot(fpr, tpr, label='Logistic Regression')\n",
    "plt.xlabel('False Positive Rate')\n",
    "plt.ylabel('True Positive Rate')\n",
    "plt.title('Logistic Regression ROC Curve')\n",
    "plt.show()"
   ]
  },
  {
   "cell_type": "markdown",
   "metadata": {},
   "source": [
    "## Neural Network model"
   ]
  },
  {
   "cell_type": "code",
   "execution_count": 70,
   "metadata": {},
   "outputs": [
    {
     "data": {
      "text/html": [
       "<pre style=\"white-space:pre;overflow-x:auto;line-height:normal;font-family:Menlo,'DejaVu Sans Mono',consolas,'Courier New',monospace\"><span style=\"font-weight: bold\">Model: \"sequential\"</span>\n",
       "</pre>\n"
      ],
      "text/plain": [
       "\u001b[1mModel: \"sequential\"\u001b[0m\n"
      ]
     },
     "metadata": {},
     "output_type": "display_data"
    },
    {
     "data": {
      "text/html": [
       "<pre style=\"white-space:pre;overflow-x:auto;line-height:normal;font-family:Menlo,'DejaVu Sans Mono',consolas,'Courier New',monospace\">┏━━━━━━━━━━━━━━━━━━━━━━━━━━━━━━━━━┳━━━━━━━━━━━━━━━━━━━━━━━━┳━━━━━━━━━━━━━━━┓\n",
       "┃<span style=\"font-weight: bold\"> Layer (type)                    </span>┃<span style=\"font-weight: bold\"> Output Shape           </span>┃<span style=\"font-weight: bold\">       Param # </span>┃\n",
       "┡━━━━━━━━━━━━━━━━━━━━━━━━━━━━━━━━━╇━━━━━━━━━━━━━━━━━━━━━━━━╇━━━━━━━━━━━━━━━┩\n",
       "│ dense (<span style=\"color: #0087ff; text-decoration-color: #0087ff\">Dense</span>)                   │ (<span style=\"color: #00d7ff; text-decoration-color: #00d7ff\">None</span>, <span style=\"color: #00af00; text-decoration-color: #00af00\">128</span>)            │        <span style=\"color: #00af00; text-decoration-color: #00af00\">32,512</span> │\n",
       "├─────────────────────────────────┼────────────────────────┼───────────────┤\n",
       "│ dropout (<span style=\"color: #0087ff; text-decoration-color: #0087ff\">Dropout</span>)               │ (<span style=\"color: #00d7ff; text-decoration-color: #00d7ff\">None</span>, <span style=\"color: #00af00; text-decoration-color: #00af00\">128</span>)            │             <span style=\"color: #00af00; text-decoration-color: #00af00\">0</span> │\n",
       "├─────────────────────────────────┼────────────────────────┼───────────────┤\n",
       "│ dense_1 (<span style=\"color: #0087ff; text-decoration-color: #0087ff\">Dense</span>)                 │ (<span style=\"color: #00d7ff; text-decoration-color: #00d7ff\">None</span>, <span style=\"color: #00af00; text-decoration-color: #00af00\">64</span>)             │         <span style=\"color: #00af00; text-decoration-color: #00af00\">8,256</span> │\n",
       "├─────────────────────────────────┼────────────────────────┼───────────────┤\n",
       "│ dropout_1 (<span style=\"color: #0087ff; text-decoration-color: #0087ff\">Dropout</span>)             │ (<span style=\"color: #00d7ff; text-decoration-color: #00d7ff\">None</span>, <span style=\"color: #00af00; text-decoration-color: #00af00\">64</span>)             │             <span style=\"color: #00af00; text-decoration-color: #00af00\">0</span> │\n",
       "├─────────────────────────────────┼────────────────────────┼───────────────┤\n",
       "│ dense_2 (<span style=\"color: #0087ff; text-decoration-color: #0087ff\">Dense</span>)                 │ (<span style=\"color: #00d7ff; text-decoration-color: #00d7ff\">None</span>, <span style=\"color: #00af00; text-decoration-color: #00af00\">32</span>)             │         <span style=\"color: #00af00; text-decoration-color: #00af00\">2,080</span> │\n",
       "├─────────────────────────────────┼────────────────────────┼───────────────┤\n",
       "│ dropout_2 (<span style=\"color: #0087ff; text-decoration-color: #0087ff\">Dropout</span>)             │ (<span style=\"color: #00d7ff; text-decoration-color: #00d7ff\">None</span>, <span style=\"color: #00af00; text-decoration-color: #00af00\">32</span>)             │             <span style=\"color: #00af00; text-decoration-color: #00af00\">0</span> │\n",
       "├─────────────────────────────────┼────────────────────────┼───────────────┤\n",
       "│ dense_3 (<span style=\"color: #0087ff; text-decoration-color: #0087ff\">Dense</span>)                 │ (<span style=\"color: #00d7ff; text-decoration-color: #00d7ff\">None</span>, <span style=\"color: #00af00; text-decoration-color: #00af00\">1</span>)              │            <span style=\"color: #00af00; text-decoration-color: #00af00\">33</span> │\n",
       "└─────────────────────────────────┴────────────────────────┴───────────────┘\n",
       "</pre>\n"
      ],
      "text/plain": [
       "┏━━━━━━━━━━━━━━━━━━━━━━━━━━━━━━━━━┳━━━━━━━━━━━━━━━━━━━━━━━━┳━━━━━━━━━━━━━━━┓\n",
       "┃\u001b[1m \u001b[0m\u001b[1mLayer (type)                   \u001b[0m\u001b[1m \u001b[0m┃\u001b[1m \u001b[0m\u001b[1mOutput Shape          \u001b[0m\u001b[1m \u001b[0m┃\u001b[1m \u001b[0m\u001b[1m      Param #\u001b[0m\u001b[1m \u001b[0m┃\n",
       "┡━━━━━━━━━━━━━━━━━━━━━━━━━━━━━━━━━╇━━━━━━━━━━━━━━━━━━━━━━━━╇━━━━━━━━━━━━━━━┩\n",
       "│ dense (\u001b[38;5;33mDense\u001b[0m)                   │ (\u001b[38;5;45mNone\u001b[0m, \u001b[38;5;34m128\u001b[0m)            │        \u001b[38;5;34m32,512\u001b[0m │\n",
       "├─────────────────────────────────┼────────────────────────┼───────────────┤\n",
       "│ dropout (\u001b[38;5;33mDropout\u001b[0m)               │ (\u001b[38;5;45mNone\u001b[0m, \u001b[38;5;34m128\u001b[0m)            │             \u001b[38;5;34m0\u001b[0m │\n",
       "├─────────────────────────────────┼────────────────────────┼───────────────┤\n",
       "│ dense_1 (\u001b[38;5;33mDense\u001b[0m)                 │ (\u001b[38;5;45mNone\u001b[0m, \u001b[38;5;34m64\u001b[0m)             │         \u001b[38;5;34m8,256\u001b[0m │\n",
       "├─────────────────────────────────┼────────────────────────┼───────────────┤\n",
       "│ dropout_1 (\u001b[38;5;33mDropout\u001b[0m)             │ (\u001b[38;5;45mNone\u001b[0m, \u001b[38;5;34m64\u001b[0m)             │             \u001b[38;5;34m0\u001b[0m │\n",
       "├─────────────────────────────────┼────────────────────────┼───────────────┤\n",
       "│ dense_2 (\u001b[38;5;33mDense\u001b[0m)                 │ (\u001b[38;5;45mNone\u001b[0m, \u001b[38;5;34m32\u001b[0m)             │         \u001b[38;5;34m2,080\u001b[0m │\n",
       "├─────────────────────────────────┼────────────────────────┼───────────────┤\n",
       "│ dropout_2 (\u001b[38;5;33mDropout\u001b[0m)             │ (\u001b[38;5;45mNone\u001b[0m, \u001b[38;5;34m32\u001b[0m)             │             \u001b[38;5;34m0\u001b[0m │\n",
       "├─────────────────────────────────┼────────────────────────┼───────────────┤\n",
       "│ dense_3 (\u001b[38;5;33mDense\u001b[0m)                 │ (\u001b[38;5;45mNone\u001b[0m, \u001b[38;5;34m1\u001b[0m)              │            \u001b[38;5;34m33\u001b[0m │\n",
       "└─────────────────────────────────┴────────────────────────┴───────────────┘\n"
      ]
     },
     "metadata": {},
     "output_type": "display_data"
    },
    {
     "data": {
      "text/html": [
       "<pre style=\"white-space:pre;overflow-x:auto;line-height:normal;font-family:Menlo,'DejaVu Sans Mono',consolas,'Courier New',monospace\"><span style=\"font-weight: bold\"> Total params: </span><span style=\"color: #00af00; text-decoration-color: #00af00\">42,881</span> (167.50 KB)\n",
       "</pre>\n"
      ],
      "text/plain": [
       "\u001b[1m Total params: \u001b[0m\u001b[38;5;34m42,881\u001b[0m (167.50 KB)\n"
      ]
     },
     "metadata": {},
     "output_type": "display_data"
    },
    {
     "data": {
      "text/html": [
       "<pre style=\"white-space:pre;overflow-x:auto;line-height:normal;font-family:Menlo,'DejaVu Sans Mono',consolas,'Courier New',monospace\"><span style=\"font-weight: bold\"> Trainable params: </span><span style=\"color: #00af00; text-decoration-color: #00af00\">42,881</span> (167.50 KB)\n",
       "</pre>\n"
      ],
      "text/plain": [
       "\u001b[1m Trainable params: \u001b[0m\u001b[38;5;34m42,881\u001b[0m (167.50 KB)\n"
      ]
     },
     "metadata": {},
     "output_type": "display_data"
    },
    {
     "data": {
      "text/html": [
       "<pre style=\"white-space:pre;overflow-x:auto;line-height:normal;font-family:Menlo,'DejaVu Sans Mono',consolas,'Courier New',monospace\"><span style=\"font-weight: bold\"> Non-trainable params: </span><span style=\"color: #00af00; text-decoration-color: #00af00\">0</span> (0.00 B)\n",
       "</pre>\n"
      ],
      "text/plain": [
       "\u001b[1m Non-trainable params: \u001b[0m\u001b[38;5;34m0\u001b[0m (0.00 B)\n"
      ]
     },
     "metadata": {},
     "output_type": "display_data"
    }
   ],
   "source": [
    "import keras\n",
    "from keras.models import Sequential\n",
    "from keras.layers import Dense, Dropout\n",
    "from keras.optimizers import Adam\n",
    "from keras.callbacks import EarlyStopping\n",
    "from keras.regularizers import l2\n",
    "from keras.callbacks import ReduceLROnPlateau\n",
    "    \n",
    "\n",
    "\n",
    "train_binary_preprocessed = preprocessor.fit_transform(train_binary[predictors]).toarray()\n",
    "test_binary_preprocessed = preprocessor.transform(test_binary[predictors]).toarray()\n",
    "\n",
    "model = Sequential()\n",
    "model.add(Dense(128, input_dim=train_binary_preprocessed.shape[1], activation='relu', kernel_regularizer=l2(0.001)))\n",
    "model.add(Dropout(0.3))\n",
    "model.add(Dense(64, activation='relu', kernel_regularizer=l2(0.001)))\n",
    "model.add(Dropout(0.3))\n",
    "model.add(Dense(32, activation='relu', kernel_regularizer=l2(0.001)))\n",
    "model.add(Dropout(0.3))\n",
    "model.add(Dense(1, activation='sigmoid'))\n",
    "\n",
    "# Compile model with a custom learning rate\n",
    "model.compile(loss='binary_crossentropy', optimizer=Adam(learning_rate=0.001), metrics=['accuracy'])\n",
    "\n",
    "# Callbacks for early stopping and learning rate reduction\n",
    "early_stopping = EarlyStopping(monitor='val_loss', patience=30, restore_best_weights=True)\n",
    "reduce_lr = ReduceLROnPlateau(monitor='val_loss', factor=0.5, patience=5, min_lr=0.00001)\n",
    "\n",
    "model.summary()"
   ]
  },
  {
   "cell_type": "code",
   "execution_count": 71,
   "metadata": {},
   "outputs": [
    {
     "name": "stdout",
     "output_type": "stream",
     "text": [
      "Epoch 1/100\n",
      "\u001b[1m76/76\u001b[0m \u001b[32m━━━━━━━━━━━━━━━━━━━━\u001b[0m\u001b[37m\u001b[0m \u001b[1m20s\u001b[0m 45ms/step - accuracy: 0.6718 - loss: 0.8700 - val_accuracy: 0.7352 - val_loss: 0.7233 - learning_rate: 0.0010\n",
      "Epoch 2/100\n",
      "\u001b[1m76/76\u001b[0m \u001b[32m━━━━━━━━━━━━━━━━━━━━\u001b[0m\u001b[37m\u001b[0m \u001b[1m3s\u001b[0m 32ms/step - accuracy: 0.7589 - loss: 0.7004 - val_accuracy: 0.7566 - val_loss: 0.6545 - learning_rate: 0.0010\n",
      "Epoch 3/100\n",
      "\u001b[1m76/76\u001b[0m \u001b[32m━━━━━━━━━━━━━━━━━━━━\u001b[0m\u001b[37m\u001b[0m \u001b[1m4s\u001b[0m 23ms/step - accuracy: 0.7756 - loss: 0.6265 - val_accuracy: 0.7533 - val_loss: 0.6387 - learning_rate: 0.0010\n",
      "Epoch 4/100\n",
      "\u001b[1m76/76\u001b[0m \u001b[32m━━━━━━━━━━━━━━━━━━━━\u001b[0m\u001b[37m\u001b[0m \u001b[1m2s\u001b[0m 20ms/step - accuracy: 0.7834 - loss: 0.6027 - val_accuracy: 0.7549 - val_loss: 0.6325 - learning_rate: 0.0010\n",
      "Epoch 5/100\n",
      "\u001b[1m76/76\u001b[0m \u001b[32m━━━━━━━━━━━━━━━━━━━━\u001b[0m\u001b[37m\u001b[0m \u001b[1m2s\u001b[0m 18ms/step - accuracy: 0.7959 - loss: 0.5890 - val_accuracy: 0.7615 - val_loss: 0.6208 - learning_rate: 0.0010\n",
      "Epoch 6/100\n",
      "\u001b[1m76/76\u001b[0m \u001b[32m━━━━━━━━━━━━━━━━━━━━\u001b[0m\u001b[37m\u001b[0m \u001b[1m3s\u001b[0m 20ms/step - accuracy: 0.8063 - loss: 0.5413 - val_accuracy: 0.7516 - val_loss: 0.6159 - learning_rate: 0.0010\n",
      "Epoch 7/100\n",
      "\u001b[1m76/76\u001b[0m \u001b[32m━━━━━━━━━━━━━━━━━━━━\u001b[0m\u001b[37m\u001b[0m \u001b[1m3s\u001b[0m 22ms/step - accuracy: 0.8138 - loss: 0.5351 - val_accuracy: 0.7533 - val_loss: 0.6031 - learning_rate: 0.0010\n",
      "Epoch 8/100\n",
      "\u001b[1m76/76\u001b[0m \u001b[32m━━━━━━━━━━━━━━━━━━━━\u001b[0m\u001b[37m\u001b[0m \u001b[1m2s\u001b[0m 21ms/step - accuracy: 0.8249 - loss: 0.5008 - val_accuracy: 0.7500 - val_loss: 0.6264 - learning_rate: 0.0010\n",
      "Epoch 9/100\n",
      "\u001b[1m76/76\u001b[0m \u001b[32m━━━━━━━━━━━━━━━━━━━━\u001b[0m\u001b[37m\u001b[0m \u001b[1m1s\u001b[0m 17ms/step - accuracy: 0.8284 - loss: 0.4897 - val_accuracy: 0.7467 - val_loss: 0.6071 - learning_rate: 0.0010\n",
      "Epoch 10/100\n",
      "\u001b[1m76/76\u001b[0m \u001b[32m━━━━━━━━━━━━━━━━━━━━\u001b[0m\u001b[37m\u001b[0m \u001b[1m2s\u001b[0m 21ms/step - accuracy: 0.8447 - loss: 0.4638 - val_accuracy: 0.7434 - val_loss: 0.6268 - learning_rate: 0.0010\n",
      "Epoch 11/100\n",
      "\u001b[1m76/76\u001b[0m \u001b[32m━━━━━━━━━━━━━━━━━━━━\u001b[0m\u001b[37m\u001b[0m \u001b[1m1s\u001b[0m 14ms/step - accuracy: 0.8409 - loss: 0.4561 - val_accuracy: 0.7467 - val_loss: 0.6435 - learning_rate: 0.0010\n",
      "Epoch 12/100\n",
      "\u001b[1m76/76\u001b[0m \u001b[32m━━━━━━━━━━━━━━━━━━━━\u001b[0m\u001b[37m\u001b[0m \u001b[1m1s\u001b[0m 15ms/step - accuracy: 0.8453 - loss: 0.4639 - val_accuracy: 0.7401 - val_loss: 0.6441 - learning_rate: 0.0010\n",
      "Epoch 13/100\n",
      "\u001b[1m76/76\u001b[0m \u001b[32m━━━━━━━━━━━━━━━━━━━━\u001b[0m\u001b[37m\u001b[0m \u001b[1m2s\u001b[0m 20ms/step - accuracy: 0.8512 - loss: 0.4466 - val_accuracy: 0.7533 - val_loss: 0.6456 - learning_rate: 5.0000e-04\n",
      "Epoch 14/100\n",
      "\u001b[1m76/76\u001b[0m \u001b[32m━━━━━━━━━━━━━━━━━━━━\u001b[0m\u001b[37m\u001b[0m \u001b[1m2s\u001b[0m 29ms/step - accuracy: 0.8676 - loss: 0.4191 - val_accuracy: 0.7516 - val_loss: 0.6514 - learning_rate: 5.0000e-04\n",
      "Epoch 15/100\n",
      "\u001b[1m76/76\u001b[0m \u001b[32m━━━━━━━━━━━━━━━━━━━━\u001b[0m\u001b[37m\u001b[0m \u001b[1m2s\u001b[0m 21ms/step - accuracy: 0.8568 - loss: 0.4242 - val_accuracy: 0.7467 - val_loss: 0.6753 - learning_rate: 5.0000e-04\n",
      "Epoch 16/100\n",
      "\u001b[1m76/76\u001b[0m \u001b[32m━━━━━━━━━━━━━━━━━━━━\u001b[0m\u001b[37m\u001b[0m \u001b[1m3s\u001b[0m 31ms/step - accuracy: 0.8738 - loss: 0.4023 - val_accuracy: 0.7418 - val_loss: 0.6674 - learning_rate: 5.0000e-04\n",
      "Epoch 17/100\n",
      "\u001b[1m76/76\u001b[0m \u001b[32m━━━━━━━━━━━━━━━━━━━━\u001b[0m\u001b[37m\u001b[0m \u001b[1m2s\u001b[0m 20ms/step - accuracy: 0.8741 - loss: 0.4100 - val_accuracy: 0.7467 - val_loss: 0.6759 - learning_rate: 5.0000e-04\n",
      "Epoch 18/100\n",
      "\u001b[1m76/76\u001b[0m \u001b[32m━━━━━━━━━━━━━━━━━━━━\u001b[0m\u001b[37m\u001b[0m \u001b[1m2s\u001b[0m 18ms/step - accuracy: 0.8818 - loss: 0.3630 - val_accuracy: 0.7484 - val_loss: 0.6896 - learning_rate: 2.5000e-04\n",
      "Epoch 19/100\n",
      "\u001b[1m76/76\u001b[0m \u001b[32m━━━━━━━━━━━━━━━━━━━━\u001b[0m\u001b[37m\u001b[0m \u001b[1m2s\u001b[0m 23ms/step - accuracy: 0.8863 - loss: 0.3692 - val_accuracy: 0.7467 - val_loss: 0.6971 - learning_rate: 2.5000e-04\n",
      "Epoch 20/100\n",
      "\u001b[1m76/76\u001b[0m \u001b[32m━━━━━━━━━━━━━━━━━━━━\u001b[0m\u001b[37m\u001b[0m \u001b[1m2s\u001b[0m 23ms/step - accuracy: 0.8988 - loss: 0.3532 - val_accuracy: 0.7434 - val_loss: 0.7111 - learning_rate: 2.5000e-04\n",
      "Epoch 21/100\n",
      "\u001b[1m76/76\u001b[0m \u001b[32m━━━━━━━━━━━━━━━━━━━━\u001b[0m\u001b[37m\u001b[0m \u001b[1m3s\u001b[0m 36ms/step - accuracy: 0.9041 - loss: 0.3431 - val_accuracy: 0.7418 - val_loss: 0.7146 - learning_rate: 2.5000e-04\n",
      "Epoch 22/100\n",
      "\u001b[1m76/76\u001b[0m \u001b[32m━━━━━━━━━━━━━━━━━━━━\u001b[0m\u001b[37m\u001b[0m \u001b[1m2s\u001b[0m 24ms/step - accuracy: 0.9037 - loss: 0.3407 - val_accuracy: 0.7303 - val_loss: 0.7347 - learning_rate: 2.5000e-04\n",
      "Epoch 23/100\n",
      "\u001b[1m76/76\u001b[0m \u001b[32m━━━━━━━━━━━━━━━━━━━━\u001b[0m\u001b[37m\u001b[0m \u001b[1m2s\u001b[0m 23ms/step - accuracy: 0.9106 - loss: 0.3381 - val_accuracy: 0.7270 - val_loss: 0.7421 - learning_rate: 1.2500e-04\n",
      "Epoch 24/100\n",
      "\u001b[1m76/76\u001b[0m \u001b[32m━━━━━━━━━━━━━━━━━━━━\u001b[0m\u001b[37m\u001b[0m \u001b[1m2s\u001b[0m 23ms/step - accuracy: 0.9149 - loss: 0.3192 - val_accuracy: 0.7237 - val_loss: 0.7441 - learning_rate: 1.2500e-04\n",
      "Epoch 25/100\n",
      "\u001b[1m76/76\u001b[0m \u001b[32m━━━━━━━━━━━━━━━━━━━━\u001b[0m\u001b[37m\u001b[0m \u001b[1m2s\u001b[0m 21ms/step - accuracy: 0.9214 - loss: 0.3141 - val_accuracy: 0.7303 - val_loss: 0.7398 - learning_rate: 1.2500e-04\n",
      "Epoch 26/100\n",
      "\u001b[1m76/76\u001b[0m \u001b[32m━━━━━━━━━━━━━━━━━━━━\u001b[0m\u001b[37m\u001b[0m \u001b[1m2s\u001b[0m 19ms/step - accuracy: 0.8984 - loss: 0.3367 - val_accuracy: 0.7286 - val_loss: 0.7508 - learning_rate: 1.2500e-04\n",
      "Epoch 27/100\n",
      "\u001b[1m76/76\u001b[0m \u001b[32m━━━━━━━━━━━━━━━━━━━━\u001b[0m\u001b[37m\u001b[0m \u001b[1m2s\u001b[0m 20ms/step - accuracy: 0.9144 - loss: 0.3130 - val_accuracy: 0.7352 - val_loss: 0.7603 - learning_rate: 1.2500e-04\n",
      "Epoch 28/100\n",
      "\u001b[1m76/76\u001b[0m \u001b[32m━━━━━━━━━━━━━━━━━━━━\u001b[0m\u001b[37m\u001b[0m \u001b[1m2s\u001b[0m 20ms/step - accuracy: 0.9123 - loss: 0.3091 - val_accuracy: 0.7253 - val_loss: 0.7666 - learning_rate: 6.2500e-05\n",
      "Epoch 29/100\n",
      "\u001b[1m76/76\u001b[0m \u001b[32m━━━━━━━━━━━━━━━━━━━━\u001b[0m\u001b[37m\u001b[0m \u001b[1m2s\u001b[0m 21ms/step - accuracy: 0.9180 - loss: 0.3038 - val_accuracy: 0.7368 - val_loss: 0.7623 - learning_rate: 6.2500e-05\n",
      "Epoch 30/100\n",
      "\u001b[1m76/76\u001b[0m \u001b[32m━━━━━━━━━━━━━━━━━━━━\u001b[0m\u001b[37m\u001b[0m \u001b[1m2s\u001b[0m 18ms/step - accuracy: 0.9203 - loss: 0.3011 - val_accuracy: 0.7336 - val_loss: 0.7647 - learning_rate: 6.2500e-05\n",
      "Epoch 31/100\n",
      "\u001b[1m76/76\u001b[0m \u001b[32m━━━━━━━━━━━━━━━━━━━━\u001b[0m\u001b[37m\u001b[0m \u001b[1m3s\u001b[0m 21ms/step - accuracy: 0.9088 - loss: 0.3226 - val_accuracy: 0.7352 - val_loss: 0.7665 - learning_rate: 6.2500e-05\n",
      "Epoch 32/100\n",
      "\u001b[1m76/76\u001b[0m \u001b[32m━━━━━━━━━━━━━━━━━━━━\u001b[0m\u001b[37m\u001b[0m \u001b[1m2s\u001b[0m 27ms/step - accuracy: 0.9167 - loss: 0.3007 - val_accuracy: 0.7319 - val_loss: 0.7721 - learning_rate: 6.2500e-05\n",
      "Epoch 33/100\n",
      "\u001b[1m76/76\u001b[0m \u001b[32m━━━━━━━━━━━━━━━━━━━━\u001b[0m\u001b[37m\u001b[0m \u001b[1m2s\u001b[0m 22ms/step - accuracy: 0.9183 - loss: 0.3061 - val_accuracy: 0.7286 - val_loss: 0.7731 - learning_rate: 3.1250e-05\n",
      "Epoch 34/100\n",
      "\u001b[1m76/76\u001b[0m \u001b[32m━━━━━━━━━━━━━━━━━━━━\u001b[0m\u001b[37m\u001b[0m \u001b[1m2s\u001b[0m 22ms/step - accuracy: 0.9052 - loss: 0.3345 - val_accuracy: 0.7303 - val_loss: 0.7719 - learning_rate: 3.1250e-05\n",
      "Epoch 35/100\n",
      "\u001b[1m76/76\u001b[0m \u001b[32m━━━━━━━━━━━━━━━━━━━━\u001b[0m\u001b[37m\u001b[0m \u001b[1m3s\u001b[0m 28ms/step - accuracy: 0.9186 - loss: 0.2996 - val_accuracy: 0.7270 - val_loss: 0.7759 - learning_rate: 3.1250e-05\n",
      "Epoch 36/100\n",
      "\u001b[1m76/76\u001b[0m \u001b[32m━━━━━━━━━━━━━━━━━━━━\u001b[0m\u001b[37m\u001b[0m \u001b[1m1s\u001b[0m 16ms/step - accuracy: 0.9081 - loss: 0.3166 - val_accuracy: 0.7270 - val_loss: 0.7785 - learning_rate: 3.1250e-05\n",
      "Epoch 37/100\n",
      "\u001b[1m76/76\u001b[0m \u001b[32m━━━━━━━━━━━━━━━━━━━━\u001b[0m\u001b[37m\u001b[0m \u001b[1m3s\u001b[0m 32ms/step - accuracy: 0.9117 - loss: 0.3147 - val_accuracy: 0.7336 - val_loss: 0.7770 - learning_rate: 3.1250e-05\n",
      "\u001b[1m24/24\u001b[0m \u001b[32m━━━━━━━━━━━━━━━━━━━━\u001b[0m\u001b[37m\u001b[0m \u001b[1m2s\u001b[0m 13ms/step - accuracy: 0.7861 - loss: 0.5504\n",
      "Accuracy: 78.82%\n"
     ]
    }
   ],
   "source": [
    "X_train, X_test, y_train, y_test = train_test_split(train_binary_preprocessed, train_binary['result'], test_size=0.2, random_state=42)\n",
    "\n",
    "model.fit(X_train, y_train, epochs=100, batch_size=32, validation_data=(X_test, y_test), callbacks=[early_stopping, reduce_lr])\n",
    "\n",
    "_, acc = model.evaluate(test_binary_preprocessed, test_binary['result'])"
   ]
  },
  {
   "cell_type": "code",
   "execution_count": 72,
   "metadata": {},
   "outputs": [
    {
     "name": "stdout",
     "output_type": "stream",
     "text": [
      "Accuracy: 78.82%\n"
     ]
    }
   ],
   "source": [
    "print(f'Accuracy: {acc * 100:.2f}%')"
   ]
  },
  {
   "cell_type": "markdown",
   "metadata": {},
   "source": [
    "Here we reached to the end of the notebook and the most accuarate model was **Gradient Boosting Classifier** with **78.95%** accuracy with binary classification (Win, Loss)."
   ]
  },
  {
   "cell_type": "markdown",
   "metadata": {},
   "source": [
    "<center>\n",
    "<br> <span style=\"font-family:Cambria; font-weight:bold;\">Thank you for your upvote.</span><br>\n",
    "<br> <span style=\"font-size:26px; font-family:Cambria; font-weight:bold;\">Mohamed Kardosha</span>\n",
    "</center>"
   ]
  }
 ],
 "metadata": {
  "kernelspec": {
   "display_name": "Python 3 (ipykernel)",
   "language": "python",
   "name": "python3"
  },
  "language_info": {
   "codemirror_mode": {
    "name": "ipython",
    "version": 3
   },
   "file_extension": ".py",
   "mimetype": "text/x-python",
   "name": "python",
   "nbconvert_exporter": "python",
   "pygments_lexer": "ipython3",
   "version": "3.12.5"
  }
 },
 "nbformat": 4,
 "nbformat_minor": 2
}
