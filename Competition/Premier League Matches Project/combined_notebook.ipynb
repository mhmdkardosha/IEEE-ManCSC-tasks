{
 "cells": [
  {
   "cell_type": "markdown",
   "id": "262eecd8",
   "metadata": {},
   "source": [
    "# Introduction"
   ]
  },
  {
   "cell_type": "markdown",
   "id": "f3b78d52",
   "metadata": {},
   "source": [
    "In this notebook I will walk you through our journey in IEEE ManCSC internal competition.\n",
    "- This notebooks will cover the following steps:\n",
    "    \n",
    "    > 1. [Scraping the data from the web.](#Scraping)\n",
    "    > 2. [Data cleaning and manipulation.](#Manipulation)\n",
    "    > 3. [Preprocessing and feature engineering.](#Preprocessing)\n",
    "    > 4. [Model building and evaluation.](#Modeling)"
   ]
  },
  {
   "cell_type": "markdown",
   "id": "c2aa0264",
   "metadata": {},
   "source": [
    "# Scraping"
   ]
  },
  {
   "cell_type": "code",
   "execution_count": 1,
   "id": "c6bfd871-93e9-4146-bb46-97b54a7190a2",
   "metadata": {},
   "outputs": [],
   "source": [
    "# Scraping step libraries\n",
    "import warnings\n",
    "warnings.filterwarnings('ignore') \n",
    "import pandas as pd \n",
    "from bs4 import BeautifulSoup \n",
    "import time \n",
    "import undetected_chromedriver as uc \n",
    "\n",
    "# Manipulating data step libraries\n",
    "import numpy as np\n",
    "import pandas as pd\n",
    "import matplotlib.pyplot as plt\n",
    "import seaborn as sns\n",
    "\n",
    "# Modeling step libraries\n",
    "from sklearn.metrics import accuracy_score, confusion_matrix, classification_report, roc_auc_score, roc_curve, auc\n",
    "from sklearn.preprocessing import StandardScaler, LabelEncoder, OneHotEncoder\n",
    "from sklearn.model_selection import train_test_split\n",
    "from sklearn.compose import ColumnTransformer\n",
    "from sklearn.pipeline import Pipeline\n",
    "\n",
    "from sklearn.ensemble import GradientBoostingClassifier, RandomForestClassifier, AdaBoostClassifier, BaggingClassifier, ExtraTreesClassifier, StackingClassifier\n",
    "from sklearn.linear_model import LogisticRegression, SGDClassifier, RidgeClassifier\n",
    "from sklearn.tree import DecisionTreeClassifier\n",
    "from sklearn.neighbors import KNeighborsClassifier\n",
    "from sklearn.neural_network import MLPClassifier\n",
    "from sklearn.svm import SVC\n",
    "import lightgbm as lgb\n",
    "import catboost as cb\n",
    "import xgboost as xgb\n"
   ]
  },
  {
   "cell_type": "code",
   "execution_count": 2,
   "id": "9cd91fcb-43bd-426a-bea0-8fbf5f0c1aa2",
   "metadata": {},
   "outputs": [],
   "source": [
    "standings_url = \"https://fbref.com/en/comps/9/2023-2024/2023-2024-Premier-League-Stats\""
   ]
  },
  {
   "cell_type": "code",
   "execution_count": 3,
   "id": "21ef1886",
   "metadata": {},
   "outputs": [],
   "source": [
    "driver = uc.Chrome()"
   ]
  },
  {
   "cell_type": "code",
   "execution_count": 4,
   "id": "478ca29a",
   "metadata": {},
   "outputs": [],
   "source": [
    "driver.get(standings_url)"
   ]
  },
  {
   "cell_type": "code",
   "execution_count": 5,
   "id": "09c1a016",
   "metadata": {},
   "outputs": [],
   "source": [
    "soup = BeautifulSoup(driver.page_source, 'html.parser')\n"
   ]
  },
  {
   "cell_type": "code",
   "execution_count": 6,
   "id": "8ff6d3f7-2fc0-40c5-98ee-687760f52810",
   "metadata": {},
   "outputs": [],
   "source": [
    "soup = BeautifulSoup(driver.page_source, 'html.parser')\n",
    "standings_table = soup.select('table.stats_table')[0]\n",
    "links = standings_table.find_all('a')\n",
    "links = [l.get(\"href\") for l in links]\n",
    "links = [l for l in links if '/squads/' in l]"
   ]
  },
  {
   "cell_type": "code",
   "execution_count": 7,
   "id": "0808052a",
   "metadata": {},
   "outputs": [
    {
     "data": {
      "text/plain": [
       "['/en/squads/b8fd03ef/2023-2024/Manchester-City-Stats',\n",
       " '/en/squads/18bb7c10/2023-2024/Arsenal-Stats',\n",
       " '/en/squads/822bd0ba/2023-2024/Liverpool-Stats',\n",
       " '/en/squads/8602292d/2023-2024/Aston-Villa-Stats',\n",
       " '/en/squads/361ca564/2023-2024/Tottenham-Hotspur-Stats',\n",
       " '/en/squads/cff3d9bb/2023-2024/Chelsea-Stats',\n",
       " '/en/squads/b2b47a98/2023-2024/Newcastle-United-Stats',\n",
       " '/en/squads/19538871/2023-2024/Manchester-United-Stats',\n",
       " '/en/squads/7c21e445/2023-2024/West-Ham-United-Stats',\n",
       " '/en/squads/47c64c55/2023-2024/Crystal-Palace-Stats',\n",
       " '/en/squads/d07537b9/2023-2024/Brighton-and-Hove-Albion-Stats',\n",
       " '/en/squads/4ba7cbea/2023-2024/Bournemouth-Stats',\n",
       " '/en/squads/fd962109/2023-2024/Fulham-Stats',\n",
       " '/en/squads/8cec06e1/2023-2024/Wolverhampton-Wanderers-Stats',\n",
       " '/en/squads/d3fd31cc/2023-2024/Everton-Stats',\n",
       " '/en/squads/cd051869/2023-2024/Brentford-Stats',\n",
       " '/en/squads/e4a775cb/2023-2024/Nottingham-Forest-Stats',\n",
       " '/en/squads/e297cd13/2023-2024/Luton-Town-Stats',\n",
       " '/en/squads/943e8050/2023-2024/Burnley-Stats',\n",
       " '/en/squads/1df6b87e/2023-2024/Sheffield-United-Stats']"
      ]
     },
     "execution_count": 7,
     "metadata": {},
     "output_type": "execute_result"
    }
   ],
   "source": [
    "links"
   ]
  },
  {
   "cell_type": "code",
   "execution_count": 8,
   "id": "a8f4cef8-4e0c-46ef-92be-8adfe5c9463a",
   "metadata": {},
   "outputs": [],
   "source": [
    "team_urls = [f\"https://fbref.com{l}\" for l in links]"
   ]
  },
  {
   "cell_type": "code",
   "execution_count": 9,
   "id": "b904d6a6-aa6d-4d0f-b42b-71a1a8e17a9c",
   "metadata": {},
   "outputs": [],
   "source": [
    "driver.get(team_urls[0])"
   ]
  },
  {
   "cell_type": "code",
   "execution_count": 10,
   "id": "b94ebf7c-e72c-4832-9b04-7bf7999814bb",
   "metadata": {},
   "outputs": [],
   "source": [
    "import pandas as pd\n",
    "matches = pd.read_html(driver.page_source, match=\"Scores & Fixtures\")[0]"
   ]
  },
  {
   "cell_type": "code",
   "execution_count": 11,
   "id": "ed0c2114",
   "metadata": {},
   "outputs": [
    {
     "data": {
      "text/html": [
       "<div>\n",
       "<style scoped>\n",
       "    .dataframe tbody tr th:only-of-type {\n",
       "        vertical-align: middle;\n",
       "    }\n",
       "\n",
       "    .dataframe tbody tr th {\n",
       "        vertical-align: top;\n",
       "    }\n",
       "\n",
       "    .dataframe thead th {\n",
       "        text-align: right;\n",
       "    }\n",
       "</style>\n",
       "<table border=\"1\" class=\"dataframe\">\n",
       "  <thead>\n",
       "    <tr style=\"text-align: right;\">\n",
       "      <th></th>\n",
       "      <th>Date</th>\n",
       "      <th>Time</th>\n",
       "      <th>Comp</th>\n",
       "      <th>Round</th>\n",
       "      <th>Day</th>\n",
       "      <th>Venue</th>\n",
       "      <th>Result</th>\n",
       "      <th>GF</th>\n",
       "      <th>GA</th>\n",
       "      <th>Opponent</th>\n",
       "      <th>xG</th>\n",
       "      <th>xGA</th>\n",
       "      <th>Poss</th>\n",
       "      <th>Attendance</th>\n",
       "      <th>Captain</th>\n",
       "      <th>Formation</th>\n",
       "      <th>Opp Formation</th>\n",
       "      <th>Referee</th>\n",
       "      <th>Match Report</th>\n",
       "      <th>Notes</th>\n",
       "    </tr>\n",
       "  </thead>\n",
       "  <tbody>\n",
       "    <tr>\n",
       "      <th>0</th>\n",
       "      <td>2023-08-06</td>\n",
       "      <td>16:00 (18:00)</td>\n",
       "      <td>Community Shield</td>\n",
       "      <td>FA Community Shield</td>\n",
       "      <td>Sun</td>\n",
       "      <td>Neutral</td>\n",
       "      <td>D</td>\n",
       "      <td>1 (1)</td>\n",
       "      <td>1 (4)</td>\n",
       "      <td>Arsenal</td>\n",
       "      <td>NaN</td>\n",
       "      <td>NaN</td>\n",
       "      <td>55</td>\n",
       "      <td>81145</td>\n",
       "      <td>Kyle Walker</td>\n",
       "      <td>4-2-3-1</td>\n",
       "      <td>4-3-3</td>\n",
       "      <td>Stuart Attwell</td>\n",
       "      <td>Match Report</td>\n",
       "      <td>Arsenal won on penalty kicks following normal ...</td>\n",
       "    </tr>\n",
       "    <tr>\n",
       "      <th>1</th>\n",
       "      <td>2023-08-11</td>\n",
       "      <td>20:00 (22:00)</td>\n",
       "      <td>Premier League</td>\n",
       "      <td>Matchweek 1</td>\n",
       "      <td>Fri</td>\n",
       "      <td>Away</td>\n",
       "      <td>W</td>\n",
       "      <td>3</td>\n",
       "      <td>0</td>\n",
       "      <td>Burnley</td>\n",
       "      <td>1.9</td>\n",
       "      <td>0.3</td>\n",
       "      <td>65</td>\n",
       "      <td>21572</td>\n",
       "      <td>Kevin De Bruyne</td>\n",
       "      <td>4-2-3-1</td>\n",
       "      <td>5-4-1</td>\n",
       "      <td>Craig Pawson</td>\n",
       "      <td>Match Report</td>\n",
       "      <td>NaN</td>\n",
       "    </tr>\n",
       "    <tr>\n",
       "      <th>2</th>\n",
       "      <td>2023-08-16</td>\n",
       "      <td>22:00</td>\n",
       "      <td>Super Cup</td>\n",
       "      <td>UEFA Super Cup</td>\n",
       "      <td>Wed</td>\n",
       "      <td>Home</td>\n",
       "      <td>D</td>\n",
       "      <td>1 (5)</td>\n",
       "      <td>1 (4)</td>\n",
       "      <td>es Sevilla</td>\n",
       "      <td>NaN</td>\n",
       "      <td>NaN</td>\n",
       "      <td>74</td>\n",
       "      <td>NaN</td>\n",
       "      <td>Kyle Walker</td>\n",
       "      <td>4-2-3-1</td>\n",
       "      <td>4-2-3-1</td>\n",
       "      <td>François Letexier</td>\n",
       "      <td>Match Report</td>\n",
       "      <td>NaN</td>\n",
       "    </tr>\n",
       "    <tr>\n",
       "      <th>3</th>\n",
       "      <td>2023-08-19</td>\n",
       "      <td>20:00 (22:00)</td>\n",
       "      <td>Premier League</td>\n",
       "      <td>Matchweek 2</td>\n",
       "      <td>Sat</td>\n",
       "      <td>Home</td>\n",
       "      <td>W</td>\n",
       "      <td>1</td>\n",
       "      <td>0</td>\n",
       "      <td>Newcastle Utd</td>\n",
       "      <td>1.0</td>\n",
       "      <td>0.3</td>\n",
       "      <td>59</td>\n",
       "      <td>53419</td>\n",
       "      <td>Kyle Walker</td>\n",
       "      <td>4-2-3-1</td>\n",
       "      <td>4-3-3</td>\n",
       "      <td>Robert Jones</td>\n",
       "      <td>Match Report</td>\n",
       "      <td>NaN</td>\n",
       "    </tr>\n",
       "    <tr>\n",
       "      <th>4</th>\n",
       "      <td>2023-08-27</td>\n",
       "      <td>14:00 (16:00)</td>\n",
       "      <td>Premier League</td>\n",
       "      <td>Matchweek 3</td>\n",
       "      <td>Sun</td>\n",
       "      <td>Away</td>\n",
       "      <td>W</td>\n",
       "      <td>2</td>\n",
       "      <td>1</td>\n",
       "      <td>Sheffield Utd</td>\n",
       "      <td>3.5</td>\n",
       "      <td>0.7</td>\n",
       "      <td>79</td>\n",
       "      <td>31336</td>\n",
       "      <td>Kyle Walker</td>\n",
       "      <td>4-2-3-1</td>\n",
       "      <td>3-5-2</td>\n",
       "      <td>Jarred Gillett</td>\n",
       "      <td>Match Report</td>\n",
       "      <td>NaN</td>\n",
       "    </tr>\n",
       "  </tbody>\n",
       "</table>\n",
       "</div>"
      ],
      "text/plain": [
       "         Date           Time              Comp                Round  Day  \\\n",
       "0  2023-08-06  16:00 (18:00)  Community Shield  FA Community Shield  Sun   \n",
       "1  2023-08-11  20:00 (22:00)    Premier League          Matchweek 1  Fri   \n",
       "2  2023-08-16          22:00         Super Cup       UEFA Super Cup  Wed   \n",
       "3  2023-08-19  20:00 (22:00)    Premier League          Matchweek 2  Sat   \n",
       "4  2023-08-27  14:00 (16:00)    Premier League          Matchweek 3  Sun   \n",
       "\n",
       "     Venue Result     GF     GA       Opponent   xG  xGA Poss Attendance  \\\n",
       "0  Neutral      D  1 (1)  1 (4)        Arsenal  NaN  NaN   55      81145   \n",
       "1     Away      W      3      0        Burnley  1.9  0.3   65      21572   \n",
       "2     Home      D  1 (5)  1 (4)     es Sevilla  NaN  NaN   74        NaN   \n",
       "3     Home      W      1      0  Newcastle Utd  1.0  0.3   59      53419   \n",
       "4     Away      W      2      1  Sheffield Utd  3.5  0.7   79      31336   \n",
       "\n",
       "           Captain Formation Opp Formation            Referee  Match Report  \\\n",
       "0      Kyle Walker   4-2-3-1         4-3-3     Stuart Attwell  Match Report   \n",
       "1  Kevin De Bruyne   4-2-3-1         5-4-1       Craig Pawson  Match Report   \n",
       "2      Kyle Walker   4-2-3-1       4-2-3-1  François Letexier  Match Report   \n",
       "3      Kyle Walker   4-2-3-1         4-3-3       Robert Jones  Match Report   \n",
       "4      Kyle Walker   4-2-3-1         3-5-2     Jarred Gillett  Match Report   \n",
       "\n",
       "                                               Notes  \n",
       "0  Arsenal won on penalty kicks following normal ...  \n",
       "1                                                NaN  \n",
       "2                                                NaN  \n",
       "3                                                NaN  \n",
       "4                                                NaN  "
      ]
     },
     "execution_count": 11,
     "metadata": {},
     "output_type": "execute_result"
    }
   ],
   "source": [
    "matches.head()"
   ]
  },
  {
   "cell_type": "code",
   "execution_count": 12,
   "id": "95f97469",
   "metadata": {},
   "outputs": [
    {
     "data": {
      "text/plain": [
       "(59, 20)"
      ]
     },
     "execution_count": 12,
     "metadata": {},
     "output_type": "execute_result"
    }
   ],
   "source": [
    "matches.shape"
   ]
  },
  {
   "cell_type": "code",
   "execution_count": 13,
   "id": "fa927a12-0362-4a45-8d3c-803c32b8a3e0",
   "metadata": {},
   "outputs": [],
   "source": [
    "soup = BeautifulSoup(driver.page_source, 'html.parser')\n",
    "links = soup.find_all('a')\n",
    "links = [l.get(\"href\") for l in links]\n",
    "links = [l for l in links if l and 'all_comps/shooting/' in l]"
   ]
  },
  {
   "cell_type": "code",
   "execution_count": 14,
   "id": "e09af8cb-3533-47f3-b4f8-22f36514eb72",
   "metadata": {},
   "outputs": [],
   "source": [
    "driver.get(f\"https://fbref.com{links[0]}\")"
   ]
  },
  {
   "cell_type": "code",
   "execution_count": 15,
   "id": "9ce95cd1-78e2-4411-a956-a74b43078262",
   "metadata": {},
   "outputs": [],
   "source": [
    "shooting = pd.read_html(driver.page_source, match=\"Shooting\")[0]"
   ]
  },
  {
   "cell_type": "code",
   "execution_count": 16,
   "id": "3a442054-0312-4e21-a662-0c8145f848d1",
   "metadata": {},
   "outputs": [
    {
     "data": {
      "text/html": [
       "<div>\n",
       "<style scoped>\n",
       "    .dataframe tbody tr th:only-of-type {\n",
       "        vertical-align: middle;\n",
       "    }\n",
       "\n",
       "    .dataframe tbody tr th {\n",
       "        vertical-align: top;\n",
       "    }\n",
       "\n",
       "    .dataframe thead tr th {\n",
       "        text-align: left;\n",
       "    }\n",
       "</style>\n",
       "<table border=\"1\" class=\"dataframe\">\n",
       "  <thead>\n",
       "    <tr>\n",
       "      <th></th>\n",
       "      <th colspan=\"10\" halign=\"left\">For Manchester City</th>\n",
       "      <th>...</th>\n",
       "      <th colspan=\"4\" halign=\"left\">Standard</th>\n",
       "      <th colspan=\"5\" halign=\"left\">Expected</th>\n",
       "      <th>Unnamed: 25_level_0</th>\n",
       "    </tr>\n",
       "    <tr>\n",
       "      <th></th>\n",
       "      <th>Date</th>\n",
       "      <th>Time</th>\n",
       "      <th>Comp</th>\n",
       "      <th>Round</th>\n",
       "      <th>Day</th>\n",
       "      <th>Venue</th>\n",
       "      <th>Result</th>\n",
       "      <th>GF</th>\n",
       "      <th>GA</th>\n",
       "      <th>Opponent</th>\n",
       "      <th>...</th>\n",
       "      <th>Dist</th>\n",
       "      <th>FK</th>\n",
       "      <th>PK</th>\n",
       "      <th>PKatt</th>\n",
       "      <th>xG</th>\n",
       "      <th>npxG</th>\n",
       "      <th>npxG/Sh</th>\n",
       "      <th>G-xG</th>\n",
       "      <th>np:G-xG</th>\n",
       "      <th>Match Report</th>\n",
       "    </tr>\n",
       "  </thead>\n",
       "  <tbody>\n",
       "    <tr>\n",
       "      <th>0</th>\n",
       "      <td>2023-08-06</td>\n",
       "      <td>16:00 (18:00)</td>\n",
       "      <td>Community Shield</td>\n",
       "      <td>FA Community Shield</td>\n",
       "      <td>Sun</td>\n",
       "      <td>Neutral</td>\n",
       "      <td>D</td>\n",
       "      <td>1 (1)</td>\n",
       "      <td>1 (4)</td>\n",
       "      <td>Arsenal</td>\n",
       "      <td>...</td>\n",
       "      <td>NaN</td>\n",
       "      <td>NaN</td>\n",
       "      <td>0</td>\n",
       "      <td>0</td>\n",
       "      <td>NaN</td>\n",
       "      <td>NaN</td>\n",
       "      <td>NaN</td>\n",
       "      <td>NaN</td>\n",
       "      <td>NaN</td>\n",
       "      <td>Match Report</td>\n",
       "    </tr>\n",
       "    <tr>\n",
       "      <th>1</th>\n",
       "      <td>2023-08-11</td>\n",
       "      <td>20:00 (22:00)</td>\n",
       "      <td>Premier League</td>\n",
       "      <td>Matchweek 1</td>\n",
       "      <td>Fri</td>\n",
       "      <td>Away</td>\n",
       "      <td>W</td>\n",
       "      <td>3</td>\n",
       "      <td>0</td>\n",
       "      <td>Burnley</td>\n",
       "      <td>...</td>\n",
       "      <td>13.9</td>\n",
       "      <td>0</td>\n",
       "      <td>0</td>\n",
       "      <td>0</td>\n",
       "      <td>1.9</td>\n",
       "      <td>1.9</td>\n",
       "      <td>0.12</td>\n",
       "      <td>+1.1</td>\n",
       "      <td>+1.1</td>\n",
       "      <td>Match Report</td>\n",
       "    </tr>\n",
       "    <tr>\n",
       "      <th>2</th>\n",
       "      <td>2023-08-16</td>\n",
       "      <td>22:00</td>\n",
       "      <td>Super Cup</td>\n",
       "      <td>UEFA Super Cup</td>\n",
       "      <td>Wed</td>\n",
       "      <td>Home</td>\n",
       "      <td>D</td>\n",
       "      <td>1 (5)</td>\n",
       "      <td>1 (4)</td>\n",
       "      <td>es Sevilla</td>\n",
       "      <td>...</td>\n",
       "      <td>NaN</td>\n",
       "      <td>NaN</td>\n",
       "      <td>0</td>\n",
       "      <td>0</td>\n",
       "      <td>NaN</td>\n",
       "      <td>NaN</td>\n",
       "      <td>NaN</td>\n",
       "      <td>NaN</td>\n",
       "      <td>NaN</td>\n",
       "      <td>Match Report</td>\n",
       "    </tr>\n",
       "    <tr>\n",
       "      <th>3</th>\n",
       "      <td>2023-08-19</td>\n",
       "      <td>20:00 (22:00)</td>\n",
       "      <td>Premier League</td>\n",
       "      <td>Matchweek 2</td>\n",
       "      <td>Sat</td>\n",
       "      <td>Home</td>\n",
       "      <td>W</td>\n",
       "      <td>1</td>\n",
       "      <td>0</td>\n",
       "      <td>Newcastle Utd</td>\n",
       "      <td>...</td>\n",
       "      <td>17.9</td>\n",
       "      <td>0</td>\n",
       "      <td>0</td>\n",
       "      <td>0</td>\n",
       "      <td>1.0</td>\n",
       "      <td>1.0</td>\n",
       "      <td>0.07</td>\n",
       "      <td>0.0</td>\n",
       "      <td>0.0</td>\n",
       "      <td>Match Report</td>\n",
       "    </tr>\n",
       "    <tr>\n",
       "      <th>4</th>\n",
       "      <td>2023-08-27</td>\n",
       "      <td>14:00 (16:00)</td>\n",
       "      <td>Premier League</td>\n",
       "      <td>Matchweek 3</td>\n",
       "      <td>Sun</td>\n",
       "      <td>Away</td>\n",
       "      <td>W</td>\n",
       "      <td>2</td>\n",
       "      <td>1</td>\n",
       "      <td>Sheffield Utd</td>\n",
       "      <td>...</td>\n",
       "      <td>17.3</td>\n",
       "      <td>2</td>\n",
       "      <td>0</td>\n",
       "      <td>1</td>\n",
       "      <td>3.5</td>\n",
       "      <td>2.8</td>\n",
       "      <td>0.10</td>\n",
       "      <td>-1.5</td>\n",
       "      <td>-0.8</td>\n",
       "      <td>Match Report</td>\n",
       "    </tr>\n",
       "  </tbody>\n",
       "</table>\n",
       "<p>5 rows × 26 columns</p>\n",
       "</div>"
      ],
      "text/plain": [
       "  For Manchester City                                                        \\\n",
       "                 Date           Time              Comp                Round   \n",
       "0          2023-08-06  16:00 (18:00)  Community Shield  FA Community Shield   \n",
       "1          2023-08-11  20:00 (22:00)    Premier League          Matchweek 1   \n",
       "2          2023-08-16          22:00         Super Cup       UEFA Super Cup   \n",
       "3          2023-08-19  20:00 (22:00)    Premier League          Matchweek 2   \n",
       "4          2023-08-27  14:00 (16:00)    Premier League          Matchweek 3   \n",
       "\n",
       "                                                     ... Standard          \\\n",
       "   Day    Venue Result     GF     GA       Opponent  ...     Dist   FK PK   \n",
       "0  Sun  Neutral      D  1 (1)  1 (4)        Arsenal  ...      NaN  NaN  0   \n",
       "1  Fri     Away      W      3      0        Burnley  ...     13.9    0  0   \n",
       "2  Wed     Home      D  1 (5)  1 (4)     es Sevilla  ...      NaN  NaN  0   \n",
       "3  Sat     Home      W      1      0  Newcastle Utd  ...     17.9    0  0   \n",
       "4  Sun     Away      W      2      1  Sheffield Utd  ...     17.3    2  0   \n",
       "\n",
       "        Expected                            Unnamed: 25_level_0  \n",
       "  PKatt       xG npxG npxG/Sh  G-xG np:G-xG        Match Report  \n",
       "0     0      NaN  NaN     NaN   NaN     NaN        Match Report  \n",
       "1     0      1.9  1.9    0.12  +1.1    +1.1        Match Report  \n",
       "2     0      NaN  NaN     NaN   NaN     NaN        Match Report  \n",
       "3     0      1.0  1.0    0.07   0.0     0.0        Match Report  \n",
       "4     1      3.5  2.8    0.10  -1.5    -0.8        Match Report  \n",
       "\n",
       "[5 rows x 26 columns]"
      ]
     },
     "execution_count": 16,
     "metadata": {},
     "output_type": "execute_result"
    }
   ],
   "source": [
    "shooting.head()"
   ]
  },
  {
   "cell_type": "code",
   "execution_count": 17,
   "id": "0b024f3a-a0b3-4b53-8dbd-b5649f1326ac",
   "metadata": {},
   "outputs": [],
   "source": [
    "shooting.columns = shooting.columns.droplevel()"
   ]
  },
  {
   "cell_type": "code",
   "execution_count": 18,
   "id": "ccac08ea-724c-4ea4-b4cb-615de33e167a",
   "metadata": {},
   "outputs": [],
   "source": [
    "team_data = matches.merge(shooting[[\"Date\", \"Sh\", \"SoT\", \"Dist\", \"FK\", \"PK\", \"PKatt\"]], on=\"Date\")"
   ]
  },
  {
   "cell_type": "code",
   "execution_count": 19,
   "id": "cb16fa23-bf93-40fc-a479-f9ae4114f2ac",
   "metadata": {},
   "outputs": [
    {
     "data": {
      "text/html": [
       "<div>\n",
       "<style scoped>\n",
       "    .dataframe tbody tr th:only-of-type {\n",
       "        vertical-align: middle;\n",
       "    }\n",
       "\n",
       "    .dataframe tbody tr th {\n",
       "        vertical-align: top;\n",
       "    }\n",
       "\n",
       "    .dataframe thead th {\n",
       "        text-align: right;\n",
       "    }\n",
       "</style>\n",
       "<table border=\"1\" class=\"dataframe\">\n",
       "  <thead>\n",
       "    <tr style=\"text-align: right;\">\n",
       "      <th></th>\n",
       "      <th>Date</th>\n",
       "      <th>Time</th>\n",
       "      <th>Comp</th>\n",
       "      <th>Round</th>\n",
       "      <th>Day</th>\n",
       "      <th>Venue</th>\n",
       "      <th>Result</th>\n",
       "      <th>GF</th>\n",
       "      <th>GA</th>\n",
       "      <th>Opponent</th>\n",
       "      <th>...</th>\n",
       "      <th>Opp Formation</th>\n",
       "      <th>Referee</th>\n",
       "      <th>Match Report</th>\n",
       "      <th>Notes</th>\n",
       "      <th>Sh</th>\n",
       "      <th>SoT</th>\n",
       "      <th>Dist</th>\n",
       "      <th>FK</th>\n",
       "      <th>PK</th>\n",
       "      <th>PKatt</th>\n",
       "    </tr>\n",
       "  </thead>\n",
       "  <tbody>\n",
       "    <tr>\n",
       "      <th>0</th>\n",
       "      <td>2023-08-06</td>\n",
       "      <td>16:00 (18:00)</td>\n",
       "      <td>Community Shield</td>\n",
       "      <td>FA Community Shield</td>\n",
       "      <td>Sun</td>\n",
       "      <td>Neutral</td>\n",
       "      <td>D</td>\n",
       "      <td>1 (1)</td>\n",
       "      <td>1 (4)</td>\n",
       "      <td>Arsenal</td>\n",
       "      <td>...</td>\n",
       "      <td>4-3-3</td>\n",
       "      <td>Stuart Attwell</td>\n",
       "      <td>Match Report</td>\n",
       "      <td>Arsenal won on penalty kicks following normal ...</td>\n",
       "      <td>8</td>\n",
       "      <td>4</td>\n",
       "      <td>NaN</td>\n",
       "      <td>NaN</td>\n",
       "      <td>0</td>\n",
       "      <td>0</td>\n",
       "    </tr>\n",
       "    <tr>\n",
       "      <th>1</th>\n",
       "      <td>2023-08-11</td>\n",
       "      <td>20:00 (22:00)</td>\n",
       "      <td>Premier League</td>\n",
       "      <td>Matchweek 1</td>\n",
       "      <td>Fri</td>\n",
       "      <td>Away</td>\n",
       "      <td>W</td>\n",
       "      <td>3</td>\n",
       "      <td>0</td>\n",
       "      <td>Burnley</td>\n",
       "      <td>...</td>\n",
       "      <td>5-4-1</td>\n",
       "      <td>Craig Pawson</td>\n",
       "      <td>Match Report</td>\n",
       "      <td>NaN</td>\n",
       "      <td>17</td>\n",
       "      <td>8</td>\n",
       "      <td>13.9</td>\n",
       "      <td>0</td>\n",
       "      <td>0</td>\n",
       "      <td>0</td>\n",
       "    </tr>\n",
       "    <tr>\n",
       "      <th>2</th>\n",
       "      <td>2023-08-16</td>\n",
       "      <td>22:00</td>\n",
       "      <td>Super Cup</td>\n",
       "      <td>UEFA Super Cup</td>\n",
       "      <td>Wed</td>\n",
       "      <td>Home</td>\n",
       "      <td>D</td>\n",
       "      <td>1 (5)</td>\n",
       "      <td>1 (4)</td>\n",
       "      <td>es Sevilla</td>\n",
       "      <td>...</td>\n",
       "      <td>4-2-3-1</td>\n",
       "      <td>François Letexier</td>\n",
       "      <td>Match Report</td>\n",
       "      <td>NaN</td>\n",
       "      <td>23</td>\n",
       "      <td>7</td>\n",
       "      <td>NaN</td>\n",
       "      <td>NaN</td>\n",
       "      <td>0</td>\n",
       "      <td>0</td>\n",
       "    </tr>\n",
       "    <tr>\n",
       "      <th>3</th>\n",
       "      <td>2023-08-19</td>\n",
       "      <td>20:00 (22:00)</td>\n",
       "      <td>Premier League</td>\n",
       "      <td>Matchweek 2</td>\n",
       "      <td>Sat</td>\n",
       "      <td>Home</td>\n",
       "      <td>W</td>\n",
       "      <td>1</td>\n",
       "      <td>0</td>\n",
       "      <td>Newcastle Utd</td>\n",
       "      <td>...</td>\n",
       "      <td>4-3-3</td>\n",
       "      <td>Robert Jones</td>\n",
       "      <td>Match Report</td>\n",
       "      <td>NaN</td>\n",
       "      <td>14</td>\n",
       "      <td>4</td>\n",
       "      <td>17.9</td>\n",
       "      <td>0</td>\n",
       "      <td>0</td>\n",
       "      <td>0</td>\n",
       "    </tr>\n",
       "    <tr>\n",
       "      <th>4</th>\n",
       "      <td>2023-08-27</td>\n",
       "      <td>14:00 (16:00)</td>\n",
       "      <td>Premier League</td>\n",
       "      <td>Matchweek 3</td>\n",
       "      <td>Sun</td>\n",
       "      <td>Away</td>\n",
       "      <td>W</td>\n",
       "      <td>2</td>\n",
       "      <td>1</td>\n",
       "      <td>Sheffield Utd</td>\n",
       "      <td>...</td>\n",
       "      <td>3-5-2</td>\n",
       "      <td>Jarred Gillett</td>\n",
       "      <td>Match Report</td>\n",
       "      <td>NaN</td>\n",
       "      <td>29</td>\n",
       "      <td>9</td>\n",
       "      <td>17.3</td>\n",
       "      <td>2</td>\n",
       "      <td>0</td>\n",
       "      <td>1</td>\n",
       "    </tr>\n",
       "  </tbody>\n",
       "</table>\n",
       "<p>5 rows × 26 columns</p>\n",
       "</div>"
      ],
      "text/plain": [
       "         Date           Time              Comp                Round  Day  \\\n",
       "0  2023-08-06  16:00 (18:00)  Community Shield  FA Community Shield  Sun   \n",
       "1  2023-08-11  20:00 (22:00)    Premier League          Matchweek 1  Fri   \n",
       "2  2023-08-16          22:00         Super Cup       UEFA Super Cup  Wed   \n",
       "3  2023-08-19  20:00 (22:00)    Premier League          Matchweek 2  Sat   \n",
       "4  2023-08-27  14:00 (16:00)    Premier League          Matchweek 3  Sun   \n",
       "\n",
       "     Venue Result     GF     GA       Opponent  ... Opp Formation  \\\n",
       "0  Neutral      D  1 (1)  1 (4)        Arsenal  ...         4-3-3   \n",
       "1     Away      W      3      0        Burnley  ...         5-4-1   \n",
       "2     Home      D  1 (5)  1 (4)     es Sevilla  ...       4-2-3-1   \n",
       "3     Home      W      1      0  Newcastle Utd  ...         4-3-3   \n",
       "4     Away      W      2      1  Sheffield Utd  ...         3-5-2   \n",
       "\n",
       "             Referee  Match Report  \\\n",
       "0     Stuart Attwell  Match Report   \n",
       "1       Craig Pawson  Match Report   \n",
       "2  François Letexier  Match Report   \n",
       "3       Robert Jones  Match Report   \n",
       "4     Jarred Gillett  Match Report   \n",
       "\n",
       "                                               Notes  Sh SoT  Dist   FK PK  \\\n",
       "0  Arsenal won on penalty kicks following normal ...   8   4   NaN  NaN  0   \n",
       "1                                                NaN  17   8  13.9    0  0   \n",
       "2                                                NaN  23   7   NaN  NaN  0   \n",
       "3                                                NaN  14   4  17.9    0  0   \n",
       "4                                                NaN  29   9  17.3    2  0   \n",
       "\n",
       "  PKatt  \n",
       "0     0  \n",
       "1     0  \n",
       "2     0  \n",
       "3     0  \n",
       "4     1  \n",
       "\n",
       "[5 rows x 26 columns]"
      ]
     },
     "execution_count": 19,
     "metadata": {},
     "output_type": "execute_result"
    }
   ],
   "source": [
    "team_data.head()"
   ]
  },
  {
   "cell_type": "code",
   "execution_count": 20,
   "id": "0515b73f-3fc4-4514-b66b-4ba68dbfa1fc",
   "metadata": {},
   "outputs": [],
   "source": [
    "years = list(range(2024, 2019, -1))\n",
    "all_matches = []"
   ]
  },
  {
   "cell_type": "code",
   "execution_count": 21,
   "id": "26cb0e4b",
   "metadata": {},
   "outputs": [
    {
     "data": {
      "text/plain": [
       "[2024, 2023, 2022, 2021, 2020]"
      ]
     },
     "execution_count": 21,
     "metadata": {},
     "output_type": "execute_result"
    }
   ],
   "source": [
    "years"
   ]
  },
  {
   "cell_type": "code",
   "execution_count": 22,
   "id": "8e0a4db9-54f0-48eb-a76f-5727f6404f14",
   "metadata": {},
   "outputs": [],
   "source": [
    "standings_url = \"https://fbref.com/en/comps/9/2023-2024/2023-2024-Premier-League-Stats\""
   ]
  },
  {
   "cell_type": "code",
   "execution_count": 23,
   "id": "ff072127-6a65-4b3e-933d-e84b92bf120c",
   "metadata": {},
   "outputs": [
    {
     "name": "stdout",
     "output_type": "stream",
     "text": [
      "Finished 2024\n",
      "Finished 2023\n",
      "Finished 2022\n",
      "Finished 2021\n",
      "Finished 2020\n"
     ]
    }
   ],
   "source": [
    "for year in years:\n",
    "    # Load the standings page\n",
    "    driver.get(standings_url)\n",
    "    time.sleep(2)  # Wait for the page to load\n",
    "\n",
    "    # Parse the page source with BeautifulSoup\n",
    "    soup = BeautifulSoup(driver.page_source, 'html.parser')\n",
    "    \n",
    "    # Select the standings table\n",
    "    standings_table = soup.select('table.stats_table')[0]\n",
    "\n",
    "    # Extract links to team pages\n",
    "    links = [l.get(\"href\") for l in standings_table.find_all('a')]\n",
    "    links = [l for l in links if '/squads/' in l]\n",
    "    team_urls = [f\"https://fbref.com{l}\" for l in links]\n",
    "\n",
    "    # Get the link for the previous season\n",
    "    previous_season = soup.select(\"a.prev\")[0].get(\"href\")\n",
    "    standings_url = f\"https://fbref.com{previous_season}\"\n",
    "\n",
    "    # Iterate over each team's URL\n",
    "    for team_url in team_urls:\n",
    "        # Extract and format the team name\n",
    "        team_name = team_url.split(\"/\")[-1].replace(\"-Stats\", \"\").replace(\"-\", \" \")\n",
    "\n",
    "        # Load the team page\n",
    "        driver.get(team_url)\n",
    "        time.sleep(1)  # Wait for the page to load\n",
    "\n",
    "        # Read the matches table into a DataFrame\n",
    "        matches = pd.read_html(driver.page_source, match=\"Scores & Fixtures\")[0]\n",
    "\n",
    "        # Parse the page source again for the shooting data link\n",
    "        soup = BeautifulSoup(driver.page_source, 'html.parser')\n",
    "        links = [l.get(\"href\") for l in soup.find_all('a')]\n",
    "        links = [l for l in links if l and 'all_comps/shooting/' in l]\n",
    "\n",
    "        # Load the shooting data page\n",
    "        driver.get(f\"https://fbref.com{links[0]}\")\n",
    "        time.sleep(1)  # Wait for the page to load\n",
    "\n",
    "        # Read the shooting data into a DataFrame\n",
    "        shooting = pd.read_html(driver.page_source, match=\"Shooting\")[0]\n",
    "        shooting.columns = shooting.columns.droplevel()  # Adjust columns\n",
    "\n",
    "        # Merge matches and shooting data on the 'Date' column\n",
    "        try:\n",
    "            team_data = matches.merge(shooting[[\"Date\", \"Sh\", \"SoT\", \"Dist\", \"FK\", \"PK\", \"PKatt\"]], on=\"Date\")\n",
    "        except ValueError:\n",
    "            continue  # Skip to the next team if there is a merge error\n",
    "\n",
    "        # Filter for Premier League matches only\n",
    "        team_data = team_data[team_data[\"Comp\"] == \"Premier League\"]\n",
    "\n",
    "        # Add season and team information to the data\n",
    "        team_data[\"Season\"] = year\n",
    "        team_data[\"Team\"] = team_name\n",
    "\n",
    "        # Append the team data to the all_matches list\n",
    "        all_matches.append(team_data)\n",
    "    \n",
    "    print(f\"Finished {year}\")"
   ]
  },
  {
   "cell_type": "code",
   "execution_count": 24,
   "id": "d64c2086-7aeb-45f4-a3c5-4f723eda98e9",
   "metadata": {},
   "outputs": [
    {
     "data": {
      "text/plain": [
       "100"
      ]
     },
     "execution_count": 24,
     "metadata": {},
     "output_type": "execute_result"
    }
   ],
   "source": [
    "len(all_matches)"
   ]
  },
  {
   "cell_type": "code",
   "execution_count": 25,
   "id": "5e43f577-f96a-49d3-8c28-3933617ef207",
   "metadata": {},
   "outputs": [],
   "source": [
    "match_df = pd.concat(all_matches)"
   ]
  },
  {
   "cell_type": "code",
   "execution_count": 26,
   "id": "68c50681-09db-4ff0-b7c6-9b36dd648442",
   "metadata": {},
   "outputs": [],
   "source": [
    "match_df.columns = [c.lower() for c in match_df.columns]"
   ]
  },
  {
   "cell_type": "code",
   "execution_count": 27,
   "id": "0915fcdf-6cdf-4acf-8ed4-5a847d95e229",
   "metadata": {},
   "outputs": [
    {
     "data": {
      "text/html": [
       "<div>\n",
       "<style scoped>\n",
       "    .dataframe tbody tr th:only-of-type {\n",
       "        vertical-align: middle;\n",
       "    }\n",
       "\n",
       "    .dataframe tbody tr th {\n",
       "        vertical-align: top;\n",
       "    }\n",
       "\n",
       "    .dataframe thead th {\n",
       "        text-align: right;\n",
       "    }\n",
       "</style>\n",
       "<table border=\"1\" class=\"dataframe\">\n",
       "  <thead>\n",
       "    <tr style=\"text-align: right;\">\n",
       "      <th></th>\n",
       "      <th>date</th>\n",
       "      <th>time</th>\n",
       "      <th>comp</th>\n",
       "      <th>round</th>\n",
       "      <th>day</th>\n",
       "      <th>venue</th>\n",
       "      <th>result</th>\n",
       "      <th>gf</th>\n",
       "      <th>ga</th>\n",
       "      <th>opponent</th>\n",
       "      <th>...</th>\n",
       "      <th>match report</th>\n",
       "      <th>notes</th>\n",
       "      <th>sh</th>\n",
       "      <th>sot</th>\n",
       "      <th>dist</th>\n",
       "      <th>fk</th>\n",
       "      <th>pk</th>\n",
       "      <th>pkatt</th>\n",
       "      <th>season</th>\n",
       "      <th>team</th>\n",
       "    </tr>\n",
       "  </thead>\n",
       "  <tbody>\n",
       "    <tr>\n",
       "      <th>1</th>\n",
       "      <td>2023-08-11</td>\n",
       "      <td>20:00 (22:00)</td>\n",
       "      <td>Premier League</td>\n",
       "      <td>Matchweek 1</td>\n",
       "      <td>Fri</td>\n",
       "      <td>Away</td>\n",
       "      <td>W</td>\n",
       "      <td>3</td>\n",
       "      <td>0</td>\n",
       "      <td>Burnley</td>\n",
       "      <td>...</td>\n",
       "      <td>Match Report</td>\n",
       "      <td>NaN</td>\n",
       "      <td>17</td>\n",
       "      <td>8</td>\n",
       "      <td>13.9</td>\n",
       "      <td>0</td>\n",
       "      <td>0</td>\n",
       "      <td>0</td>\n",
       "      <td>2024</td>\n",
       "      <td>Manchester City</td>\n",
       "    </tr>\n",
       "    <tr>\n",
       "      <th>3</th>\n",
       "      <td>2023-08-19</td>\n",
       "      <td>20:00 (22:00)</td>\n",
       "      <td>Premier League</td>\n",
       "      <td>Matchweek 2</td>\n",
       "      <td>Sat</td>\n",
       "      <td>Home</td>\n",
       "      <td>W</td>\n",
       "      <td>1</td>\n",
       "      <td>0</td>\n",
       "      <td>Newcastle Utd</td>\n",
       "      <td>...</td>\n",
       "      <td>Match Report</td>\n",
       "      <td>NaN</td>\n",
       "      <td>14</td>\n",
       "      <td>4</td>\n",
       "      <td>17.9</td>\n",
       "      <td>0</td>\n",
       "      <td>0</td>\n",
       "      <td>0</td>\n",
       "      <td>2024</td>\n",
       "      <td>Manchester City</td>\n",
       "    </tr>\n",
       "    <tr>\n",
       "      <th>4</th>\n",
       "      <td>2023-08-27</td>\n",
       "      <td>14:00 (16:00)</td>\n",
       "      <td>Premier League</td>\n",
       "      <td>Matchweek 3</td>\n",
       "      <td>Sun</td>\n",
       "      <td>Away</td>\n",
       "      <td>W</td>\n",
       "      <td>2</td>\n",
       "      <td>1</td>\n",
       "      <td>Sheffield Utd</td>\n",
       "      <td>...</td>\n",
       "      <td>Match Report</td>\n",
       "      <td>NaN</td>\n",
       "      <td>29</td>\n",
       "      <td>9</td>\n",
       "      <td>17.3</td>\n",
       "      <td>2</td>\n",
       "      <td>0</td>\n",
       "      <td>1</td>\n",
       "      <td>2024</td>\n",
       "      <td>Manchester City</td>\n",
       "    </tr>\n",
       "    <tr>\n",
       "      <th>5</th>\n",
       "      <td>2023-09-02</td>\n",
       "      <td>15:00 (17:00)</td>\n",
       "      <td>Premier League</td>\n",
       "      <td>Matchweek 4</td>\n",
       "      <td>Sat</td>\n",
       "      <td>Home</td>\n",
       "      <td>W</td>\n",
       "      <td>5</td>\n",
       "      <td>1</td>\n",
       "      <td>Fulham</td>\n",
       "      <td>...</td>\n",
       "      <td>Match Report</td>\n",
       "      <td>NaN</td>\n",
       "      <td>6</td>\n",
       "      <td>4</td>\n",
       "      <td>14.8</td>\n",
       "      <td>0</td>\n",
       "      <td>1</td>\n",
       "      <td>1</td>\n",
       "      <td>2024</td>\n",
       "      <td>Manchester City</td>\n",
       "    </tr>\n",
       "    <tr>\n",
       "      <th>6</th>\n",
       "      <td>2023-09-16</td>\n",
       "      <td>15:00 (17:00)</td>\n",
       "      <td>Premier League</td>\n",
       "      <td>Matchweek 5</td>\n",
       "      <td>Sat</td>\n",
       "      <td>Away</td>\n",
       "      <td>W</td>\n",
       "      <td>3</td>\n",
       "      <td>1</td>\n",
       "      <td>West Ham</td>\n",
       "      <td>...</td>\n",
       "      <td>Match Report</td>\n",
       "      <td>NaN</td>\n",
       "      <td>29</td>\n",
       "      <td>13</td>\n",
       "      <td>16.4</td>\n",
       "      <td>1</td>\n",
       "      <td>0</td>\n",
       "      <td>0</td>\n",
       "      <td>2024</td>\n",
       "      <td>Manchester City</td>\n",
       "    </tr>\n",
       "    <tr>\n",
       "      <th>...</th>\n",
       "      <td>...</td>\n",
       "      <td>...</td>\n",
       "      <td>...</td>\n",
       "      <td>...</td>\n",
       "      <td>...</td>\n",
       "      <td>...</td>\n",
       "      <td>...</td>\n",
       "      <td>...</td>\n",
       "      <td>...</td>\n",
       "      <td>...</td>\n",
       "      <td>...</td>\n",
       "      <td>...</td>\n",
       "      <td>...</td>\n",
       "      <td>...</td>\n",
       "      <td>...</td>\n",
       "      <td>...</td>\n",
       "      <td>...</td>\n",
       "      <td>...</td>\n",
       "      <td>...</td>\n",
       "      <td>...</td>\n",
       "      <td>...</td>\n",
       "    </tr>\n",
       "    <tr>\n",
       "      <th>39</th>\n",
       "      <td>2020-07-07</td>\n",
       "      <td>18:00 (19:00)</td>\n",
       "      <td>Premier League</td>\n",
       "      <td>Matchweek 34</td>\n",
       "      <td>Tue</td>\n",
       "      <td>Away</td>\n",
       "      <td>L</td>\n",
       "      <td>1</td>\n",
       "      <td>2</td>\n",
       "      <td>Watford</td>\n",
       "      <td>...</td>\n",
       "      <td>Match Report</td>\n",
       "      <td>NaN</td>\n",
       "      <td>12</td>\n",
       "      <td>3</td>\n",
       "      <td>16.9</td>\n",
       "      <td>1</td>\n",
       "      <td>0</td>\n",
       "      <td>0</td>\n",
       "      <td>2020</td>\n",
       "      <td>Norwich City</td>\n",
       "    </tr>\n",
       "    <tr>\n",
       "      <th>40</th>\n",
       "      <td>2020-07-11</td>\n",
       "      <td>12:30 (13:30)</td>\n",
       "      <td>Premier League</td>\n",
       "      <td>Matchweek 35</td>\n",
       "      <td>Sat</td>\n",
       "      <td>Home</td>\n",
       "      <td>L</td>\n",
       "      <td>0</td>\n",
       "      <td>4</td>\n",
       "      <td>West Ham</td>\n",
       "      <td>...</td>\n",
       "      <td>Match Report</td>\n",
       "      <td>NaN</td>\n",
       "      <td>11</td>\n",
       "      <td>2</td>\n",
       "      <td>19.8</td>\n",
       "      <td>1</td>\n",
       "      <td>0</td>\n",
       "      <td>0</td>\n",
       "      <td>2020</td>\n",
       "      <td>Norwich City</td>\n",
       "    </tr>\n",
       "    <tr>\n",
       "      <th>41</th>\n",
       "      <td>2020-07-14</td>\n",
       "      <td>20:15 (21:15)</td>\n",
       "      <td>Premier League</td>\n",
       "      <td>Matchweek 36</td>\n",
       "      <td>Tue</td>\n",
       "      <td>Away</td>\n",
       "      <td>L</td>\n",
       "      <td>0</td>\n",
       "      <td>1</td>\n",
       "      <td>Chelsea</td>\n",
       "      <td>...</td>\n",
       "      <td>Match Report</td>\n",
       "      <td>NaN</td>\n",
       "      <td>2</td>\n",
       "      <td>0</td>\n",
       "      <td>20.6</td>\n",
       "      <td>0</td>\n",
       "      <td>0</td>\n",
       "      <td>0</td>\n",
       "      <td>2020</td>\n",
       "      <td>Norwich City</td>\n",
       "    </tr>\n",
       "    <tr>\n",
       "      <th>42</th>\n",
       "      <td>2020-07-18</td>\n",
       "      <td>17:30 (18:30)</td>\n",
       "      <td>Premier League</td>\n",
       "      <td>Matchweek 37</td>\n",
       "      <td>Sat</td>\n",
       "      <td>Home</td>\n",
       "      <td>L</td>\n",
       "      <td>0</td>\n",
       "      <td>2</td>\n",
       "      <td>Burnley</td>\n",
       "      <td>...</td>\n",
       "      <td>Match Report</td>\n",
       "      <td>NaN</td>\n",
       "      <td>6</td>\n",
       "      <td>2</td>\n",
       "      <td>13.4</td>\n",
       "      <td>0</td>\n",
       "      <td>0</td>\n",
       "      <td>0</td>\n",
       "      <td>2020</td>\n",
       "      <td>Norwich City</td>\n",
       "    </tr>\n",
       "    <tr>\n",
       "      <th>43</th>\n",
       "      <td>2020-07-26</td>\n",
       "      <td>16:00 (17:00)</td>\n",
       "      <td>Premier League</td>\n",
       "      <td>Matchweek 38</td>\n",
       "      <td>Sun</td>\n",
       "      <td>Away</td>\n",
       "      <td>L</td>\n",
       "      <td>0</td>\n",
       "      <td>5</td>\n",
       "      <td>Manchester City</td>\n",
       "      <td>...</td>\n",
       "      <td>Match Report</td>\n",
       "      <td>NaN</td>\n",
       "      <td>5</td>\n",
       "      <td>4</td>\n",
       "      <td>19.8</td>\n",
       "      <td>0</td>\n",
       "      <td>0</td>\n",
       "      <td>0</td>\n",
       "      <td>2020</td>\n",
       "      <td>Norwich City</td>\n",
       "    </tr>\n",
       "  </tbody>\n",
       "</table>\n",
       "<p>3800 rows × 28 columns</p>\n",
       "</div>"
      ],
      "text/plain": [
       "          date           time            comp         round  day venue result  \\\n",
       "1   2023-08-11  20:00 (22:00)  Premier League   Matchweek 1  Fri  Away      W   \n",
       "3   2023-08-19  20:00 (22:00)  Premier League   Matchweek 2  Sat  Home      W   \n",
       "4   2023-08-27  14:00 (16:00)  Premier League   Matchweek 3  Sun  Away      W   \n",
       "5   2023-09-02  15:00 (17:00)  Premier League   Matchweek 4  Sat  Home      W   \n",
       "6   2023-09-16  15:00 (17:00)  Premier League   Matchweek 5  Sat  Away      W   \n",
       "..         ...            ...             ...           ...  ...   ...    ...   \n",
       "39  2020-07-07  18:00 (19:00)  Premier League  Matchweek 34  Tue  Away      L   \n",
       "40  2020-07-11  12:30 (13:30)  Premier League  Matchweek 35  Sat  Home      L   \n",
       "41  2020-07-14  20:15 (21:15)  Premier League  Matchweek 36  Tue  Away      L   \n",
       "42  2020-07-18  17:30 (18:30)  Premier League  Matchweek 37  Sat  Home      L   \n",
       "43  2020-07-26  16:00 (17:00)  Premier League  Matchweek 38  Sun  Away      L   \n",
       "\n",
       "   gf ga         opponent  ...  match report notes  sh sot  dist fk pk pkatt  \\\n",
       "1   3  0          Burnley  ...  Match Report   NaN  17   8  13.9  0  0     0   \n",
       "3   1  0    Newcastle Utd  ...  Match Report   NaN  14   4  17.9  0  0     0   \n",
       "4   2  1    Sheffield Utd  ...  Match Report   NaN  29   9  17.3  2  0     1   \n",
       "5   5  1           Fulham  ...  Match Report   NaN   6   4  14.8  0  1     1   \n",
       "6   3  1         West Ham  ...  Match Report   NaN  29  13  16.4  1  0     0   \n",
       ".. .. ..              ...  ...           ...   ...  ..  ..   ... .. ..   ...   \n",
       "39  1  2          Watford  ...  Match Report   NaN  12   3  16.9  1  0     0   \n",
       "40  0  4         West Ham  ...  Match Report   NaN  11   2  19.8  1  0     0   \n",
       "41  0  1          Chelsea  ...  Match Report   NaN   2   0  20.6  0  0     0   \n",
       "42  0  2          Burnley  ...  Match Report   NaN   6   2  13.4  0  0     0   \n",
       "43  0  5  Manchester City  ...  Match Report   NaN   5   4  19.8  0  0     0   \n",
       "\n",
       "   season             team  \n",
       "1    2024  Manchester City  \n",
       "3    2024  Manchester City  \n",
       "4    2024  Manchester City  \n",
       "5    2024  Manchester City  \n",
       "6    2024  Manchester City  \n",
       "..    ...              ...  \n",
       "39   2020     Norwich City  \n",
       "40   2020     Norwich City  \n",
       "41   2020     Norwich City  \n",
       "42   2020     Norwich City  \n",
       "43   2020     Norwich City  \n",
       "\n",
       "[3800 rows x 28 columns]"
      ]
     },
     "execution_count": 27,
     "metadata": {},
     "output_type": "execute_result"
    }
   ],
   "source": [
    "match_df"
   ]
  },
  {
   "cell_type": "code",
   "execution_count": 28,
   "id": "d495dd94",
   "metadata": {},
   "outputs": [
    {
     "name": "stdout",
     "output_type": "stream",
     "text": [
      "<class 'pandas.core.frame.DataFrame'>\n",
      "Index: 3800 entries, 1 to 43\n",
      "Data columns (total 28 columns):\n",
      " #   Column         Non-Null Count  Dtype \n",
      "---  ------         --------------  ----- \n",
      " 0   date           3800 non-null   object\n",
      " 1   time           3800 non-null   object\n",
      " 2   comp           3800 non-null   object\n",
      " 3   round          3800 non-null   object\n",
      " 4   day            3800 non-null   object\n",
      " 5   venue          3800 non-null   object\n",
      " 6   result         3800 non-null   object\n",
      " 7   gf             3800 non-null   object\n",
      " 8   ga             3800 non-null   object\n",
      " 9   opponent       3800 non-null   object\n",
      " 10  xg             3800 non-null   object\n",
      " 11  xga            3800 non-null   object\n",
      " 12  poss           3800 non-null   object\n",
      " 13  attendance     2918 non-null   object\n",
      " 14  captain        3800 non-null   object\n",
      " 15  formation      3800 non-null   object\n",
      " 16  opp formation  3800 non-null   object\n",
      " 17  referee        3800 non-null   object\n",
      " 18  match report   3800 non-null   object\n",
      " 19  notes          0 non-null      object\n",
      " 20  sh             3800 non-null   object\n",
      " 21  sot            3800 non-null   object\n",
      " 22  dist           3799 non-null   object\n",
      " 23  fk             3800 non-null   object\n",
      " 24  pk             3800 non-null   object\n",
      " 25  pkatt          3800 non-null   object\n",
      " 26  season         3800 non-null   int64 \n",
      " 27  team           3800 non-null   object\n",
      "dtypes: int64(1), object(27)\n",
      "memory usage: 860.9+ KB\n"
     ]
    }
   ],
   "source": [
    "match_df.info()"
   ]
  },
  {
   "cell_type": "markdown",
   "id": "78c9488b",
   "metadata": {},
   "source": [
    "# Manipulation"
   ]
  },
  {
   "cell_type": "code",
   "execution_count": 29,
   "id": "09617a64",
   "metadata": {},
   "outputs": [],
   "source": [
    "df = match_df"
   ]
  },
  {
   "cell_type": "code",
   "execution_count": 30,
   "id": "d7f09ef7",
   "metadata": {},
   "outputs": [
    {
     "name": "stdout",
     "output_type": "stream",
     "text": [
      "<class 'pandas.core.frame.DataFrame'>\n",
      "Index: 3800 entries, 1 to 43\n",
      "Data columns (total 28 columns):\n",
      " #   Column         Non-Null Count  Dtype \n",
      "---  ------         --------------  ----- \n",
      " 0   date           3800 non-null   object\n",
      " 1   time           3800 non-null   object\n",
      " 2   comp           3800 non-null   object\n",
      " 3   round          3800 non-null   object\n",
      " 4   day            3800 non-null   object\n",
      " 5   venue          3800 non-null   object\n",
      " 6   result         3800 non-null   object\n",
      " 7   gf             3800 non-null   object\n",
      " 8   ga             3800 non-null   object\n",
      " 9   opponent       3800 non-null   object\n",
      " 10  xg             3800 non-null   object\n",
      " 11  xga            3800 non-null   object\n",
      " 12  poss           3800 non-null   object\n",
      " 13  attendance     2918 non-null   object\n",
      " 14  captain        3800 non-null   object\n",
      " 15  formation      3800 non-null   object\n",
      " 16  opp formation  3800 non-null   object\n",
      " 17  referee        3800 non-null   object\n",
      " 18  match report   3800 non-null   object\n",
      " 19  notes          0 non-null      object\n",
      " 20  sh             3800 non-null   object\n",
      " 21  sot            3800 non-null   object\n",
      " 22  dist           3799 non-null   object\n",
      " 23  fk             3800 non-null   object\n",
      " 24  pk             3800 non-null   object\n",
      " 25  pkatt          3800 non-null   object\n",
      " 26  season         3800 non-null   int64 \n",
      " 27  team           3800 non-null   object\n",
      "dtypes: int64(1), object(27)\n",
      "memory usage: 860.9+ KB\n"
     ]
    }
   ],
   "source": [
    "df.info()"
   ]
  },
  {
   "cell_type": "code",
   "execution_count": 31,
   "id": "f64f8652",
   "metadata": {},
   "outputs": [
    {
     "data": {
      "text/html": [
       "<div>\n",
       "<style scoped>\n",
       "    .dataframe tbody tr th:only-of-type {\n",
       "        vertical-align: middle;\n",
       "    }\n",
       "\n",
       "    .dataframe tbody tr th {\n",
       "        vertical-align: top;\n",
       "    }\n",
       "\n",
       "    .dataframe thead th {\n",
       "        text-align: right;\n",
       "    }\n",
       "</style>\n",
       "<table border=\"1\" class=\"dataframe\">\n",
       "  <thead>\n",
       "    <tr style=\"text-align: right;\">\n",
       "      <th></th>\n",
       "      <th>date</th>\n",
       "      <th>time</th>\n",
       "      <th>comp</th>\n",
       "      <th>round</th>\n",
       "      <th>day</th>\n",
       "      <th>venue</th>\n",
       "      <th>result</th>\n",
       "      <th>gf</th>\n",
       "      <th>ga</th>\n",
       "      <th>opponent</th>\n",
       "      <th>...</th>\n",
       "      <th>match report</th>\n",
       "      <th>notes</th>\n",
       "      <th>sh</th>\n",
       "      <th>sot</th>\n",
       "      <th>dist</th>\n",
       "      <th>fk</th>\n",
       "      <th>pk</th>\n",
       "      <th>pkatt</th>\n",
       "      <th>season</th>\n",
       "      <th>team</th>\n",
       "    </tr>\n",
       "  </thead>\n",
       "  <tbody>\n",
       "    <tr>\n",
       "      <th>1</th>\n",
       "      <td>2023-08-11</td>\n",
       "      <td>20:00 (22:00)</td>\n",
       "      <td>Premier League</td>\n",
       "      <td>Matchweek 1</td>\n",
       "      <td>Fri</td>\n",
       "      <td>Away</td>\n",
       "      <td>W</td>\n",
       "      <td>3</td>\n",
       "      <td>0</td>\n",
       "      <td>Burnley</td>\n",
       "      <td>...</td>\n",
       "      <td>Match Report</td>\n",
       "      <td>NaN</td>\n",
       "      <td>17</td>\n",
       "      <td>8</td>\n",
       "      <td>13.9</td>\n",
       "      <td>0</td>\n",
       "      <td>0</td>\n",
       "      <td>0</td>\n",
       "      <td>2024</td>\n",
       "      <td>Manchester City</td>\n",
       "    </tr>\n",
       "    <tr>\n",
       "      <th>3</th>\n",
       "      <td>2023-08-19</td>\n",
       "      <td>20:00 (22:00)</td>\n",
       "      <td>Premier League</td>\n",
       "      <td>Matchweek 2</td>\n",
       "      <td>Sat</td>\n",
       "      <td>Home</td>\n",
       "      <td>W</td>\n",
       "      <td>1</td>\n",
       "      <td>0</td>\n",
       "      <td>Newcastle Utd</td>\n",
       "      <td>...</td>\n",
       "      <td>Match Report</td>\n",
       "      <td>NaN</td>\n",
       "      <td>14</td>\n",
       "      <td>4</td>\n",
       "      <td>17.9</td>\n",
       "      <td>0</td>\n",
       "      <td>0</td>\n",
       "      <td>0</td>\n",
       "      <td>2024</td>\n",
       "      <td>Manchester City</td>\n",
       "    </tr>\n",
       "    <tr>\n",
       "      <th>4</th>\n",
       "      <td>2023-08-27</td>\n",
       "      <td>14:00 (16:00)</td>\n",
       "      <td>Premier League</td>\n",
       "      <td>Matchweek 3</td>\n",
       "      <td>Sun</td>\n",
       "      <td>Away</td>\n",
       "      <td>W</td>\n",
       "      <td>2</td>\n",
       "      <td>1</td>\n",
       "      <td>Sheffield Utd</td>\n",
       "      <td>...</td>\n",
       "      <td>Match Report</td>\n",
       "      <td>NaN</td>\n",
       "      <td>29</td>\n",
       "      <td>9</td>\n",
       "      <td>17.3</td>\n",
       "      <td>2</td>\n",
       "      <td>0</td>\n",
       "      <td>1</td>\n",
       "      <td>2024</td>\n",
       "      <td>Manchester City</td>\n",
       "    </tr>\n",
       "    <tr>\n",
       "      <th>5</th>\n",
       "      <td>2023-09-02</td>\n",
       "      <td>15:00 (17:00)</td>\n",
       "      <td>Premier League</td>\n",
       "      <td>Matchweek 4</td>\n",
       "      <td>Sat</td>\n",
       "      <td>Home</td>\n",
       "      <td>W</td>\n",
       "      <td>5</td>\n",
       "      <td>1</td>\n",
       "      <td>Fulham</td>\n",
       "      <td>...</td>\n",
       "      <td>Match Report</td>\n",
       "      <td>NaN</td>\n",
       "      <td>6</td>\n",
       "      <td>4</td>\n",
       "      <td>14.8</td>\n",
       "      <td>0</td>\n",
       "      <td>1</td>\n",
       "      <td>1</td>\n",
       "      <td>2024</td>\n",
       "      <td>Manchester City</td>\n",
       "    </tr>\n",
       "    <tr>\n",
       "      <th>6</th>\n",
       "      <td>2023-09-16</td>\n",
       "      <td>15:00 (17:00)</td>\n",
       "      <td>Premier League</td>\n",
       "      <td>Matchweek 5</td>\n",
       "      <td>Sat</td>\n",
       "      <td>Away</td>\n",
       "      <td>W</td>\n",
       "      <td>3</td>\n",
       "      <td>1</td>\n",
       "      <td>West Ham</td>\n",
       "      <td>...</td>\n",
       "      <td>Match Report</td>\n",
       "      <td>NaN</td>\n",
       "      <td>29</td>\n",
       "      <td>13</td>\n",
       "      <td>16.4</td>\n",
       "      <td>1</td>\n",
       "      <td>0</td>\n",
       "      <td>0</td>\n",
       "      <td>2024</td>\n",
       "      <td>Manchester City</td>\n",
       "    </tr>\n",
       "  </tbody>\n",
       "</table>\n",
       "<p>5 rows × 28 columns</p>\n",
       "</div>"
      ],
      "text/plain": [
       "         date           time            comp        round  day venue result  \\\n",
       "1  2023-08-11  20:00 (22:00)  Premier League  Matchweek 1  Fri  Away      W   \n",
       "3  2023-08-19  20:00 (22:00)  Premier League  Matchweek 2  Sat  Home      W   \n",
       "4  2023-08-27  14:00 (16:00)  Premier League  Matchweek 3  Sun  Away      W   \n",
       "5  2023-09-02  15:00 (17:00)  Premier League  Matchweek 4  Sat  Home      W   \n",
       "6  2023-09-16  15:00 (17:00)  Premier League  Matchweek 5  Sat  Away      W   \n",
       "\n",
       "  gf ga       opponent  ...  match report notes  sh sot  dist fk pk pkatt  \\\n",
       "1  3  0        Burnley  ...  Match Report   NaN  17   8  13.9  0  0     0   \n",
       "3  1  0  Newcastle Utd  ...  Match Report   NaN  14   4  17.9  0  0     0   \n",
       "4  2  1  Sheffield Utd  ...  Match Report   NaN  29   9  17.3  2  0     1   \n",
       "5  5  1         Fulham  ...  Match Report   NaN   6   4  14.8  0  1     1   \n",
       "6  3  1       West Ham  ...  Match Report   NaN  29  13  16.4  1  0     0   \n",
       "\n",
       "  season             team  \n",
       "1   2024  Manchester City  \n",
       "3   2024  Manchester City  \n",
       "4   2024  Manchester City  \n",
       "5   2024  Manchester City  \n",
       "6   2024  Manchester City  \n",
       "\n",
       "[5 rows x 28 columns]"
      ]
     },
     "execution_count": 31,
     "metadata": {},
     "output_type": "execute_result"
    }
   ],
   "source": [
    "df.head()"
   ]
  },
  {
   "cell_type": "markdown",
   "id": "48f4973e",
   "metadata": {},
   "source": [
    "## Features description\n",
    "\n",
    "- **date** : the date of the game\n",
    "- **time** : the time of the game\n",
    "- **comp** : the competition of the game\n",
    "- **round** : the round of the game\n",
    "- **day** : the day of the week of the game\n",
    "- **venue** : the venue of the game\n",
    "- **result** : the result of the game\n",
    "- **gf** : the goals for the home team\n",
    "- **ga** : the goals for the away team\n",
    "- **opponent**: the opponent of the home team\n",
    "- **xg** : the expected goals for the home team\n",
    "- **xga** : the expected goals for the away team\n",
    "- **poss** : the possession of the home team\n",
    "- **captain** : the captain of the home team\n",
    "- **formation** : the formation of the home team\n",
    "- **referee** : the referee of the game\n",
    "- **sh** : the shots of the home team\n",
    "- **sot** : the shots on target of the home team\n",
    "- **dist** : the average distance of the shots of the home team\n",
    "- **fk** : the free kicks of the home team\n",
    "- **pk** : the penalty kicks of the home team\n",
    "- **pka** : the penalty kicks attempted of the home team\n",
    "- **season** : the season year of the match\n",
    "- **team**: the home team"
   ]
  },
  {
   "cell_type": "code",
   "execution_count": 32,
   "id": "39b6598f",
   "metadata": {},
   "outputs": [],
   "source": [
    "df.drop(columns=[\"comp\", \"round\", \"attendance\", \"match report\", \"notes\"], inplace=True)"
   ]
  },
  {
   "cell_type": "code",
   "execution_count": 33,
   "id": "44fca56c",
   "metadata": {},
   "outputs": [
    {
     "data": {
      "text/html": [
       "<div>\n",
       "<style scoped>\n",
       "    .dataframe tbody tr th:only-of-type {\n",
       "        vertical-align: middle;\n",
       "    }\n",
       "\n",
       "    .dataframe tbody tr th {\n",
       "        vertical-align: top;\n",
       "    }\n",
       "\n",
       "    .dataframe thead th {\n",
       "        text-align: right;\n",
       "    }\n",
       "</style>\n",
       "<table border=\"1\" class=\"dataframe\">\n",
       "  <thead>\n",
       "    <tr style=\"text-align: right;\">\n",
       "      <th></th>\n",
       "      <th>season</th>\n",
       "    </tr>\n",
       "  </thead>\n",
       "  <tbody>\n",
       "    <tr>\n",
       "      <th>count</th>\n",
       "      <td>3800.0000</td>\n",
       "    </tr>\n",
       "    <tr>\n",
       "      <th>mean</th>\n",
       "      <td>2022.0000</td>\n",
       "    </tr>\n",
       "    <tr>\n",
       "      <th>std</th>\n",
       "      <td>1.4144</td>\n",
       "    </tr>\n",
       "    <tr>\n",
       "      <th>min</th>\n",
       "      <td>2020.0000</td>\n",
       "    </tr>\n",
       "    <tr>\n",
       "      <th>25%</th>\n",
       "      <td>2021.0000</td>\n",
       "    </tr>\n",
       "    <tr>\n",
       "      <th>50%</th>\n",
       "      <td>2022.0000</td>\n",
       "    </tr>\n",
       "    <tr>\n",
       "      <th>75%</th>\n",
       "      <td>2023.0000</td>\n",
       "    </tr>\n",
       "    <tr>\n",
       "      <th>max</th>\n",
       "      <td>2024.0000</td>\n",
       "    </tr>\n",
       "  </tbody>\n",
       "</table>\n",
       "</div>"
      ],
      "text/plain": [
       "          season\n",
       "count  3800.0000\n",
       "mean   2022.0000\n",
       "std       1.4144\n",
       "min    2020.0000\n",
       "25%    2021.0000\n",
       "50%    2022.0000\n",
       "75%    2023.0000\n",
       "max    2024.0000"
      ]
     },
     "execution_count": 33,
     "metadata": {},
     "output_type": "execute_result"
    }
   ],
   "source": [
    "df.describe()"
   ]
  },
  {
   "cell_type": "code",
   "execution_count": 34,
   "id": "bcca989d",
   "metadata": {},
   "outputs": [
    {
     "data": {
      "text/html": [
       "<div>\n",
       "<style scoped>\n",
       "    .dataframe tbody tr th:only-of-type {\n",
       "        vertical-align: middle;\n",
       "    }\n",
       "\n",
       "    .dataframe tbody tr th {\n",
       "        vertical-align: top;\n",
       "    }\n",
       "\n",
       "    .dataframe thead th {\n",
       "        text-align: right;\n",
       "    }\n",
       "</style>\n",
       "<table border=\"1\" class=\"dataframe\">\n",
       "  <thead>\n",
       "    <tr style=\"text-align: right;\">\n",
       "      <th></th>\n",
       "      <th>date</th>\n",
       "      <th>time</th>\n",
       "      <th>day</th>\n",
       "      <th>venue</th>\n",
       "      <th>result</th>\n",
       "      <th>gf</th>\n",
       "      <th>ga</th>\n",
       "      <th>opponent</th>\n",
       "      <th>xg</th>\n",
       "      <th>xga</th>\n",
       "      <th>...</th>\n",
       "      <th>opp formation</th>\n",
       "      <th>referee</th>\n",
       "      <th>sh</th>\n",
       "      <th>sot</th>\n",
       "      <th>dist</th>\n",
       "      <th>fk</th>\n",
       "      <th>pk</th>\n",
       "      <th>pkatt</th>\n",
       "      <th>season</th>\n",
       "      <th>team</th>\n",
       "    </tr>\n",
       "  </thead>\n",
       "  <tbody>\n",
       "    <tr>\n",
       "      <th>1</th>\n",
       "      <td>2023-08-11</td>\n",
       "      <td>20:00 (22:00)</td>\n",
       "      <td>Fri</td>\n",
       "      <td>Away</td>\n",
       "      <td>W</td>\n",
       "      <td>3</td>\n",
       "      <td>0</td>\n",
       "      <td>Burnley</td>\n",
       "      <td>1.9</td>\n",
       "      <td>0.3</td>\n",
       "      <td>...</td>\n",
       "      <td>5-4-1</td>\n",
       "      <td>Craig Pawson</td>\n",
       "      <td>17</td>\n",
       "      <td>8</td>\n",
       "      <td>13.9</td>\n",
       "      <td>0</td>\n",
       "      <td>0</td>\n",
       "      <td>0</td>\n",
       "      <td>2024</td>\n",
       "      <td>Manchester City</td>\n",
       "    </tr>\n",
       "    <tr>\n",
       "      <th>3</th>\n",
       "      <td>2023-08-19</td>\n",
       "      <td>20:00 (22:00)</td>\n",
       "      <td>Sat</td>\n",
       "      <td>Home</td>\n",
       "      <td>W</td>\n",
       "      <td>1</td>\n",
       "      <td>0</td>\n",
       "      <td>Newcastle Utd</td>\n",
       "      <td>1.0</td>\n",
       "      <td>0.3</td>\n",
       "      <td>...</td>\n",
       "      <td>4-3-3</td>\n",
       "      <td>Robert Jones</td>\n",
       "      <td>14</td>\n",
       "      <td>4</td>\n",
       "      <td>17.9</td>\n",
       "      <td>0</td>\n",
       "      <td>0</td>\n",
       "      <td>0</td>\n",
       "      <td>2024</td>\n",
       "      <td>Manchester City</td>\n",
       "    </tr>\n",
       "    <tr>\n",
       "      <th>4</th>\n",
       "      <td>2023-08-27</td>\n",
       "      <td>14:00 (16:00)</td>\n",
       "      <td>Sun</td>\n",
       "      <td>Away</td>\n",
       "      <td>W</td>\n",
       "      <td>2</td>\n",
       "      <td>1</td>\n",
       "      <td>Sheffield Utd</td>\n",
       "      <td>3.5</td>\n",
       "      <td>0.7</td>\n",
       "      <td>...</td>\n",
       "      <td>3-5-2</td>\n",
       "      <td>Jarred Gillett</td>\n",
       "      <td>29</td>\n",
       "      <td>9</td>\n",
       "      <td>17.3</td>\n",
       "      <td>2</td>\n",
       "      <td>0</td>\n",
       "      <td>1</td>\n",
       "      <td>2024</td>\n",
       "      <td>Manchester City</td>\n",
       "    </tr>\n",
       "    <tr>\n",
       "      <th>5</th>\n",
       "      <td>2023-09-02</td>\n",
       "      <td>15:00 (17:00)</td>\n",
       "      <td>Sat</td>\n",
       "      <td>Home</td>\n",
       "      <td>W</td>\n",
       "      <td>5</td>\n",
       "      <td>1</td>\n",
       "      <td>Fulham</td>\n",
       "      <td>2.2</td>\n",
       "      <td>1.4</td>\n",
       "      <td>...</td>\n",
       "      <td>4-3-3</td>\n",
       "      <td>Michael Oliver</td>\n",
       "      <td>6</td>\n",
       "      <td>4</td>\n",
       "      <td>14.8</td>\n",
       "      <td>0</td>\n",
       "      <td>1</td>\n",
       "      <td>1</td>\n",
       "      <td>2024</td>\n",
       "      <td>Manchester City</td>\n",
       "    </tr>\n",
       "    <tr>\n",
       "      <th>6</th>\n",
       "      <td>2023-09-16</td>\n",
       "      <td>15:00 (17:00)</td>\n",
       "      <td>Sat</td>\n",
       "      <td>Away</td>\n",
       "      <td>W</td>\n",
       "      <td>3</td>\n",
       "      <td>1</td>\n",
       "      <td>West Ham</td>\n",
       "      <td>3.6</td>\n",
       "      <td>0.9</td>\n",
       "      <td>...</td>\n",
       "      <td>4-2-3-1</td>\n",
       "      <td>Andy Madley</td>\n",
       "      <td>29</td>\n",
       "      <td>13</td>\n",
       "      <td>16.4</td>\n",
       "      <td>1</td>\n",
       "      <td>0</td>\n",
       "      <td>0</td>\n",
       "      <td>2024</td>\n",
       "      <td>Manchester City</td>\n",
       "    </tr>\n",
       "  </tbody>\n",
       "</table>\n",
       "<p>5 rows × 23 columns</p>\n",
       "</div>"
      ],
      "text/plain": [
       "         date           time  day venue result gf ga       opponent   xg  xga  \\\n",
       "1  2023-08-11  20:00 (22:00)  Fri  Away      W  3  0        Burnley  1.9  0.3   \n",
       "3  2023-08-19  20:00 (22:00)  Sat  Home      W  1  0  Newcastle Utd  1.0  0.3   \n",
       "4  2023-08-27  14:00 (16:00)  Sun  Away      W  2  1  Sheffield Utd  3.5  0.7   \n",
       "5  2023-09-02  15:00 (17:00)  Sat  Home      W  5  1         Fulham  2.2  1.4   \n",
       "6  2023-09-16  15:00 (17:00)  Sat  Away      W  3  1       West Ham  3.6  0.9   \n",
       "\n",
       "   ... opp formation         referee  sh sot  dist fk pk pkatt season  \\\n",
       "1  ...         5-4-1    Craig Pawson  17   8  13.9  0  0     0   2024   \n",
       "3  ...         4-3-3    Robert Jones  14   4  17.9  0  0     0   2024   \n",
       "4  ...         3-5-2  Jarred Gillett  29   9  17.3  2  0     1   2024   \n",
       "5  ...         4-3-3  Michael Oliver   6   4  14.8  0  1     1   2024   \n",
       "6  ...       4-2-3-1     Andy Madley  29  13  16.4  1  0     0   2024   \n",
       "\n",
       "              team  \n",
       "1  Manchester City  \n",
       "3  Manchester City  \n",
       "4  Manchester City  \n",
       "5  Manchester City  \n",
       "6  Manchester City  \n",
       "\n",
       "[5 rows x 23 columns]"
      ]
     },
     "execution_count": 34,
     "metadata": {},
     "output_type": "execute_result"
    }
   ],
   "source": [
    "df.head()"
   ]
  },
  {
   "cell_type": "code",
   "execution_count": 35,
   "id": "5baa433f",
   "metadata": {},
   "outputs": [
    {
     "data": {
      "text/plain": [
       "date             object\n",
       "time             object\n",
       "day              object\n",
       "venue            object\n",
       "result           object\n",
       "gf               object\n",
       "ga               object\n",
       "opponent         object\n",
       "xg               object\n",
       "xga              object\n",
       "poss             object\n",
       "captain          object\n",
       "formation        object\n",
       "opp formation    object\n",
       "referee          object\n",
       "sh               object\n",
       "sot              object\n",
       "dist             object\n",
       "fk               object\n",
       "pk               object\n",
       "pkatt            object\n",
       "season            int64\n",
       "team             object\n",
       "dtype: object"
      ]
     },
     "execution_count": 35,
     "metadata": {},
     "output_type": "execute_result"
    }
   ],
   "source": [
    "df.dtypes"
   ]
  },
  {
   "cell_type": "code",
   "execution_count": 36,
   "id": "f6e5b4f9",
   "metadata": {},
   "outputs": [],
   "source": [
    "df[\"date\"] = pd.to_datetime(df[\"date\"])"
   ]
  },
  {
   "cell_type": "code",
   "execution_count": 37,
   "id": "cbed497b",
   "metadata": {},
   "outputs": [],
   "source": [
    "df['venue'] = df['venue'].astype('category')\n",
    "df['opponent'] = df['opponent'].astype('category')\n",
    "df['team'] = df['team'].astype('category')\n",
    "df['result'] = df['result'].astype('category')\n",
    "df['day'] = df['date'].dt.day_name()"
   ]
  },
  {
   "cell_type": "code",
   "execution_count": 38,
   "id": "618ab90e",
   "metadata": {},
   "outputs": [],
   "source": [
    "df[\"hour\"] = df[\"time\"].str.replace(\":.+\", \"\", regex=True).astype(\"int\")"
   ]
  },
  {
   "cell_type": "code",
   "execution_count": 39,
   "id": "88f13796",
   "metadata": {},
   "outputs": [],
   "source": [
    "df[\"day_code\"] = df[\"date\"].dt.dayofweek"
   ]
  },
  {
   "cell_type": "code",
   "execution_count": 40,
   "id": "b1ba3be2",
   "metadata": {},
   "outputs": [
    {
     "data": {
      "text/plain": [
       "0"
      ]
     },
     "execution_count": 40,
     "metadata": {},
     "output_type": "execute_result"
    }
   ],
   "source": [
    "df.duplicated().sum()"
   ]
  },
  {
   "cell_type": "code",
   "execution_count": 41,
   "id": "d5ad91ad",
   "metadata": {},
   "outputs": [],
   "source": [
    "df.dropna(inplace=True)"
   ]
  },
  {
   "cell_type": "code",
   "execution_count": 42,
   "id": "94948c6a",
   "metadata": {},
   "outputs": [
    {
     "data": {
      "text/plain": [
       "formation\n",
       "4-2-3-1       1108\n",
       "4-3-3          821\n",
       "4-4-2          454\n",
       "3-4-3          436\n",
       "3-5-2          225\n",
       "4-1-4-1        184\n",
       "4-4-1-1        116\n",
       "5-3-2           82\n",
       "5-4-1           78\n",
       "3-4-1-2         73\n",
       "4-5-1           48\n",
       "4-3-1-2         35\n",
       "4-1-2-1-2◆      28\n",
       "4-2-2-2         25\n",
       "3-2-4-1         21\n",
       "4-3-2-1         20\n",
       "3-1-4-2         16\n",
       "3-5-1-1         12\n",
       "3-3-3-1         12\n",
       "4-2-4-0          2\n",
       "3-4-3◆           2\n",
       "4-1-3-2          1\n",
       "Name: count, dtype: int64"
      ]
     },
     "execution_count": 42,
     "metadata": {},
     "output_type": "execute_result"
    }
   ],
   "source": [
    "df.formation.value_counts()"
   ]
  },
  {
   "cell_type": "code",
   "execution_count": 43,
   "id": "f7133a7a",
   "metadata": {},
   "outputs": [],
   "source": [
    "df.formation = df.formation.str.replace(\"◆\", \"\")\n",
    "df.formation = df.formation.str.replace(\"-0\", \"\")"
   ]
  },
  {
   "cell_type": "code",
   "execution_count": 44,
   "id": "7bfbf10b",
   "metadata": {},
   "outputs": [
    {
     "data": {
      "text/plain": [
       "formation\n",
       "4-2-3-1      1108\n",
       "4-3-3         821\n",
       "4-4-2         454\n",
       "3-4-3         438\n",
       "3-5-2         225\n",
       "4-1-4-1       184\n",
       "4-4-1-1       116\n",
       "5-3-2          82\n",
       "5-4-1          78\n",
       "3-4-1-2        73\n",
       "4-5-1          48\n",
       "4-3-1-2        35\n",
       "4-1-2-1-2      28\n",
       "4-2-2-2        25\n",
       "3-2-4-1        21\n",
       "4-3-2-1        20\n",
       "3-1-4-2        16\n",
       "3-5-1-1        12\n",
       "3-3-3-1        12\n",
       "4-2-4           2\n",
       "4-1-3-2         1\n",
       "Name: count, dtype: int64"
      ]
     },
     "execution_count": 44,
     "metadata": {},
     "output_type": "execute_result"
    }
   ],
   "source": [
    "df.formation.value_counts()"
   ]
  },
  {
   "cell_type": "code",
   "execution_count": 45,
   "id": "878ebadc",
   "metadata": {},
   "outputs": [
    {
     "data": {
      "text/plain": [
       "season\n",
       "2024    760\n",
       "2023    760\n",
       "2022    760\n",
       "2020    760\n",
       "2021    759\n",
       "Name: count, dtype: int64"
      ]
     },
     "execution_count": 45,
     "metadata": {},
     "output_type": "execute_result"
    }
   ],
   "source": [
    "df['season'].value_counts()"
   ]
  },
  {
   "cell_type": "code",
   "execution_count": 46,
   "id": "105aba69",
   "metadata": {},
   "outputs": [
    {
     "data": {
      "text/plain": [
       "0"
      ]
     },
     "execution_count": 46,
     "metadata": {},
     "output_type": "execute_result"
    }
   ],
   "source": [
    "df_cols = df.columns\n",
    "df_cols = df_cols.drop('season')\n",
    "\n",
    "df.duplicated(subset=df_cols).sum()"
   ]
  },
  {
   "cell_type": "code",
   "execution_count": 47,
   "id": "33e18ed7",
   "metadata": {},
   "outputs": [],
   "source": [
    "df.drop_duplicates(subset=df_cols, inplace=True)"
   ]
  },
  {
   "cell_type": "code",
   "execution_count": 48,
   "id": "b571a84e",
   "metadata": {},
   "outputs": [
    {
     "data": {
      "text/plain": [
       "0"
      ]
     },
     "execution_count": 48,
     "metadata": {},
     "output_type": "execute_result"
    }
   ],
   "source": [
    "df.duplicated(subset=df_cols).sum()"
   ]
  },
  {
   "cell_type": "code",
   "execution_count": 49,
   "id": "75829dbd",
   "metadata": {},
   "outputs": [],
   "source": [
    "def correct_seasons(df):\n",
    "    def get_correct_season(date):\n",
    "        if isinstance(date, str):\n",
    "            date = pd.to_datetime(date)\n",
    "        if date.month >= 8:\n",
    "            return date.year + 1\n",
    "        else:\n",
    "            return date.year\n",
    "\n",
    "    df['season'] = df['date'].apply(get_correct_season)\n",
    "    return df"
   ]
  },
  {
   "cell_type": "code",
   "execution_count": 50,
   "id": "e4b03111",
   "metadata": {},
   "outputs": [
    {
     "data": {
      "text/plain": [
       "season\n",
       "2024    760\n",
       "2023    760\n",
       "2022    760\n",
       "2020    760\n",
       "2021    759\n",
       "Name: count, dtype: int64"
      ]
     },
     "execution_count": 50,
     "metadata": {},
     "output_type": "execute_result"
    }
   ],
   "source": [
    "df = correct_seasons(df)\n",
    "df['season'].value_counts()"
   ]
  },
  {
   "cell_type": "code",
   "execution_count": 51,
   "id": "d5ef2edb",
   "metadata": {},
   "outputs": [],
   "source": [
    "df['points'] = df['result'].apply(lambda x: 3 if x == 'W' else 1 if x == 'D' else 0)"
   ]
  },
  {
   "cell_type": "code",
   "execution_count": 52,
   "id": "81da3df6",
   "metadata": {},
   "outputs": [],
   "source": [
    "df['points'] = df['points'].astype('int')"
   ]
  },
  {
   "cell_type": "code",
   "execution_count": 53,
   "id": "12c76937",
   "metadata": {},
   "outputs": [],
   "source": [
    "winners = df.groupby(['season', 'team'], observed=False)['points'].sum().reset_index() \\\n",
    "  .sort_values(['season', 'points'], ascending=[True, False]) \\\n",
    "  .groupby('season', observed=False).first()\n"
   ]
  },
  {
   "cell_type": "code",
   "execution_count": 54,
   "id": "e9f1980a",
   "metadata": {},
   "outputs": [
    {
     "data": {
      "text/html": [
       "<div>\n",
       "<style scoped>\n",
       "    .dataframe tbody tr th:only-of-type {\n",
       "        vertical-align: middle;\n",
       "    }\n",
       "\n",
       "    .dataframe tbody tr th {\n",
       "        vertical-align: top;\n",
       "    }\n",
       "\n",
       "    .dataframe thead th {\n",
       "        text-align: right;\n",
       "    }\n",
       "</style>\n",
       "<table border=\"1\" class=\"dataframe\">\n",
       "  <thead>\n",
       "    <tr style=\"text-align: right;\">\n",
       "      <th></th>\n",
       "      <th>team</th>\n",
       "      <th>points</th>\n",
       "    </tr>\n",
       "    <tr>\n",
       "      <th>season</th>\n",
       "      <th></th>\n",
       "      <th></th>\n",
       "    </tr>\n",
       "  </thead>\n",
       "  <tbody>\n",
       "    <tr>\n",
       "      <th>2020</th>\n",
       "      <td>Liverpool</td>\n",
       "      <td>99</td>\n",
       "    </tr>\n",
       "    <tr>\n",
       "      <th>2021</th>\n",
       "      <td>Manchester City</td>\n",
       "      <td>86</td>\n",
       "    </tr>\n",
       "    <tr>\n",
       "      <th>2022</th>\n",
       "      <td>Manchester City</td>\n",
       "      <td>93</td>\n",
       "    </tr>\n",
       "    <tr>\n",
       "      <th>2023</th>\n",
       "      <td>Manchester City</td>\n",
       "      <td>89</td>\n",
       "    </tr>\n",
       "    <tr>\n",
       "      <th>2024</th>\n",
       "      <td>Manchester City</td>\n",
       "      <td>91</td>\n",
       "    </tr>\n",
       "  </tbody>\n",
       "</table>\n",
       "</div>"
      ],
      "text/plain": [
       "                   team  points\n",
       "season                         \n",
       "2020          Liverpool      99\n",
       "2021    Manchester City      86\n",
       "2022    Manchester City      93\n",
       "2023    Manchester City      89\n",
       "2024    Manchester City      91"
      ]
     },
     "execution_count": 54,
     "metadata": {},
     "output_type": "execute_result"
    }
   ],
   "source": [
    "winners "
   ]
  },
  {
   "cell_type": "code",
   "execution_count": 55,
   "id": "1a756f9c",
   "metadata": {},
   "outputs": [],
   "source": [
    "df['season_winner'] = df['season'].map(winners['team'])"
   ]
  },
  {
   "cell_type": "code",
   "execution_count": 56,
   "id": "b67a8e47",
   "metadata": {},
   "outputs": [
    {
     "data": {
      "text/html": [
       "<div>\n",
       "<style scoped>\n",
       "    .dataframe tbody tr th:only-of-type {\n",
       "        vertical-align: middle;\n",
       "    }\n",
       "\n",
       "    .dataframe tbody tr th {\n",
       "        vertical-align: top;\n",
       "    }\n",
       "\n",
       "    .dataframe thead th {\n",
       "        text-align: right;\n",
       "    }\n",
       "</style>\n",
       "<table border=\"1\" class=\"dataframe\">\n",
       "  <thead>\n",
       "    <tr style=\"text-align: right;\">\n",
       "      <th></th>\n",
       "      <th>date</th>\n",
       "      <th>time</th>\n",
       "      <th>day</th>\n",
       "      <th>venue</th>\n",
       "      <th>result</th>\n",
       "      <th>gf</th>\n",
       "      <th>ga</th>\n",
       "      <th>opponent</th>\n",
       "      <th>xg</th>\n",
       "      <th>xga</th>\n",
       "      <th>...</th>\n",
       "      <th>dist</th>\n",
       "      <th>fk</th>\n",
       "      <th>pk</th>\n",
       "      <th>pkatt</th>\n",
       "      <th>season</th>\n",
       "      <th>team</th>\n",
       "      <th>hour</th>\n",
       "      <th>day_code</th>\n",
       "      <th>points</th>\n",
       "      <th>season_winner</th>\n",
       "    </tr>\n",
       "  </thead>\n",
       "  <tbody>\n",
       "    <tr>\n",
       "      <th>1</th>\n",
       "      <td>2023-08-11</td>\n",
       "      <td>20:00 (22:00)</td>\n",
       "      <td>Friday</td>\n",
       "      <td>Away</td>\n",
       "      <td>W</td>\n",
       "      <td>3</td>\n",
       "      <td>0</td>\n",
       "      <td>Burnley</td>\n",
       "      <td>1.9</td>\n",
       "      <td>0.3</td>\n",
       "      <td>...</td>\n",
       "      <td>13.9</td>\n",
       "      <td>0</td>\n",
       "      <td>0</td>\n",
       "      <td>0</td>\n",
       "      <td>2024</td>\n",
       "      <td>Manchester City</td>\n",
       "      <td>20</td>\n",
       "      <td>4</td>\n",
       "      <td>3</td>\n",
       "      <td>Manchester City</td>\n",
       "    </tr>\n",
       "    <tr>\n",
       "      <th>3</th>\n",
       "      <td>2023-08-19</td>\n",
       "      <td>20:00 (22:00)</td>\n",
       "      <td>Saturday</td>\n",
       "      <td>Home</td>\n",
       "      <td>W</td>\n",
       "      <td>1</td>\n",
       "      <td>0</td>\n",
       "      <td>Newcastle Utd</td>\n",
       "      <td>1.0</td>\n",
       "      <td>0.3</td>\n",
       "      <td>...</td>\n",
       "      <td>17.9</td>\n",
       "      <td>0</td>\n",
       "      <td>0</td>\n",
       "      <td>0</td>\n",
       "      <td>2024</td>\n",
       "      <td>Manchester City</td>\n",
       "      <td>20</td>\n",
       "      <td>5</td>\n",
       "      <td>3</td>\n",
       "      <td>Manchester City</td>\n",
       "    </tr>\n",
       "    <tr>\n",
       "      <th>4</th>\n",
       "      <td>2023-08-27</td>\n",
       "      <td>14:00 (16:00)</td>\n",
       "      <td>Sunday</td>\n",
       "      <td>Away</td>\n",
       "      <td>W</td>\n",
       "      <td>2</td>\n",
       "      <td>1</td>\n",
       "      <td>Sheffield Utd</td>\n",
       "      <td>3.5</td>\n",
       "      <td>0.7</td>\n",
       "      <td>...</td>\n",
       "      <td>17.3</td>\n",
       "      <td>2</td>\n",
       "      <td>0</td>\n",
       "      <td>1</td>\n",
       "      <td>2024</td>\n",
       "      <td>Manchester City</td>\n",
       "      <td>14</td>\n",
       "      <td>6</td>\n",
       "      <td>3</td>\n",
       "      <td>Manchester City</td>\n",
       "    </tr>\n",
       "    <tr>\n",
       "      <th>5</th>\n",
       "      <td>2023-09-02</td>\n",
       "      <td>15:00 (17:00)</td>\n",
       "      <td>Saturday</td>\n",
       "      <td>Home</td>\n",
       "      <td>W</td>\n",
       "      <td>5</td>\n",
       "      <td>1</td>\n",
       "      <td>Fulham</td>\n",
       "      <td>2.2</td>\n",
       "      <td>1.4</td>\n",
       "      <td>...</td>\n",
       "      <td>14.8</td>\n",
       "      <td>0</td>\n",
       "      <td>1</td>\n",
       "      <td>1</td>\n",
       "      <td>2024</td>\n",
       "      <td>Manchester City</td>\n",
       "      <td>15</td>\n",
       "      <td>5</td>\n",
       "      <td>3</td>\n",
       "      <td>Manchester City</td>\n",
       "    </tr>\n",
       "    <tr>\n",
       "      <th>6</th>\n",
       "      <td>2023-09-16</td>\n",
       "      <td>15:00 (17:00)</td>\n",
       "      <td>Saturday</td>\n",
       "      <td>Away</td>\n",
       "      <td>W</td>\n",
       "      <td>3</td>\n",
       "      <td>1</td>\n",
       "      <td>West Ham</td>\n",
       "      <td>3.6</td>\n",
       "      <td>0.9</td>\n",
       "      <td>...</td>\n",
       "      <td>16.4</td>\n",
       "      <td>1</td>\n",
       "      <td>0</td>\n",
       "      <td>0</td>\n",
       "      <td>2024</td>\n",
       "      <td>Manchester City</td>\n",
       "      <td>15</td>\n",
       "      <td>5</td>\n",
       "      <td>3</td>\n",
       "      <td>Manchester City</td>\n",
       "    </tr>\n",
       "  </tbody>\n",
       "</table>\n",
       "<p>5 rows × 27 columns</p>\n",
       "</div>"
      ],
      "text/plain": [
       "        date           time       day venue result gf ga       opponent   xg  \\\n",
       "1 2023-08-11  20:00 (22:00)    Friday  Away      W  3  0        Burnley  1.9   \n",
       "3 2023-08-19  20:00 (22:00)  Saturday  Home      W  1  0  Newcastle Utd  1.0   \n",
       "4 2023-08-27  14:00 (16:00)    Sunday  Away      W  2  1  Sheffield Utd  3.5   \n",
       "5 2023-09-02  15:00 (17:00)  Saturday  Home      W  5  1         Fulham  2.2   \n",
       "6 2023-09-16  15:00 (17:00)  Saturday  Away      W  3  1       West Ham  3.6   \n",
       "\n",
       "   xga  ...  dist fk pk pkatt season             team hour day_code points  \\\n",
       "1  0.3  ...  13.9  0  0     0   2024  Manchester City   20        4      3   \n",
       "3  0.3  ...  17.9  0  0     0   2024  Manchester City   20        5      3   \n",
       "4  0.7  ...  17.3  2  0     1   2024  Manchester City   14        6      3   \n",
       "5  1.4  ...  14.8  0  1     1   2024  Manchester City   15        5      3   \n",
       "6  0.9  ...  16.4  1  0     0   2024  Manchester City   15        5      3   \n",
       "\n",
       "     season_winner  \n",
       "1  Manchester City  \n",
       "3  Manchester City  \n",
       "4  Manchester City  \n",
       "5  Manchester City  \n",
       "6  Manchester City  \n",
       "\n",
       "[5 rows x 27 columns]"
      ]
     },
     "execution_count": 56,
     "metadata": {},
     "output_type": "execute_result"
    }
   ],
   "source": [
    "df.head()"
   ]
  },
  {
   "cell_type": "code",
   "execution_count": 57,
   "id": "ac14e2c8",
   "metadata": {},
   "outputs": [
    {
     "data": {
      "text/plain": [
       "(3799, 27)"
      ]
     },
     "execution_count": 57,
     "metadata": {},
     "output_type": "execute_result"
    }
   ],
   "source": [
    "df.shape"
   ]
  },
  {
   "cell_type": "code",
   "execution_count": 58,
   "id": "ac39fce9",
   "metadata": {},
   "outputs": [
    {
     "data": {
      "text/plain": [
       "season\n",
       "2024    760\n",
       "2023    760\n",
       "2022    760\n",
       "2020    760\n",
       "2021    759\n",
       "Name: count, dtype: int64"
      ]
     },
     "execution_count": 58,
     "metadata": {},
     "output_type": "execute_result"
    }
   ],
   "source": [
    "df['season'].value_counts()"
   ]
  },
  {
   "cell_type": "code",
   "execution_count": 59,
   "id": "2e5f019a",
   "metadata": {},
   "outputs": [],
   "source": [
    "def captains_func(data):\n",
    "    if data['count'] == 0:\n",
    "        data['count'] = np.nan\n",
    "    return data"
   ]
  },
  {
   "cell_type": "code",
   "execution_count": 60,
   "id": "e36e899e",
   "metadata": {},
   "outputs": [
    {
     "data": {
      "text/html": [
       "<div>\n",
       "<style scoped>\n",
       "    .dataframe tbody tr th:only-of-type {\n",
       "        vertical-align: middle;\n",
       "    }\n",
       "\n",
       "    .dataframe tbody tr th {\n",
       "        vertical-align: top;\n",
       "    }\n",
       "\n",
       "    .dataframe thead th {\n",
       "        text-align: right;\n",
       "    }\n",
       "</style>\n",
       "<table border=\"1\" class=\"dataframe\">\n",
       "  <thead>\n",
       "    <tr style=\"text-align: right;\">\n",
       "      <th></th>\n",
       "      <th>team</th>\n",
       "      <th>captain</th>\n",
       "    </tr>\n",
       "  </thead>\n",
       "  <tbody>\n",
       "    <tr>\n",
       "      <th>0</th>\n",
       "      <td>Arsenal</td>\n",
       "      <td>Martin Ødegaard</td>\n",
       "    </tr>\n",
       "    <tr>\n",
       "      <th>1</th>\n",
       "      <td>Arsenal</td>\n",
       "      <td>Pierre-Emerick Aubameyang</td>\n",
       "    </tr>\n",
       "    <tr>\n",
       "      <th>2</th>\n",
       "      <td>Arsenal</td>\n",
       "      <td>Alexandre Lacazette</td>\n",
       "    </tr>\n",
       "    <tr>\n",
       "      <th>3</th>\n",
       "      <td>Arsenal</td>\n",
       "      <td>Granit Xhaka</td>\n",
       "    </tr>\n",
       "    <tr>\n",
       "      <th>4</th>\n",
       "      <td>Arsenal</td>\n",
       "      <td>Héctor Bellerín</td>\n",
       "    </tr>\n",
       "    <tr>\n",
       "      <th>...</th>\n",
       "      <td>...</td>\n",
       "      <td>...</td>\n",
       "    </tr>\n",
       "    <tr>\n",
       "      <th>4450</th>\n",
       "      <td>Wolverhampton Wanderers</td>\n",
       "      <td>Conor Coady</td>\n",
       "    </tr>\n",
       "    <tr>\n",
       "      <th>4451</th>\n",
       "      <td>Wolverhampton Wanderers</td>\n",
       "      <td>Max Kilman</td>\n",
       "    </tr>\n",
       "    <tr>\n",
       "      <th>4452</th>\n",
       "      <td>Wolverhampton Wanderers</td>\n",
       "      <td>Rúben Neves</td>\n",
       "    </tr>\n",
       "    <tr>\n",
       "      <th>4453</th>\n",
       "      <td>Wolverhampton Wanderers</td>\n",
       "      <td>João Moutinho</td>\n",
       "    </tr>\n",
       "    <tr>\n",
       "      <th>4454</th>\n",
       "      <td>Wolverhampton Wanderers</td>\n",
       "      <td>José Sá</td>\n",
       "    </tr>\n",
       "  </tbody>\n",
       "</table>\n",
       "<p>186 rows × 2 columns</p>\n",
       "</div>"
      ],
      "text/plain": [
       "                         team                    captain\n",
       "0                     Arsenal            Martin Ødegaard\n",
       "1                     Arsenal  Pierre-Emerick Aubameyang\n",
       "2                     Arsenal        Alexandre Lacazette\n",
       "3                     Arsenal               Granit Xhaka\n",
       "4                     Arsenal            Héctor Bellerín\n",
       "...                       ...                        ...\n",
       "4450  Wolverhampton Wanderers                Conor Coady\n",
       "4451  Wolverhampton Wanderers                 Max Kilman\n",
       "4452  Wolverhampton Wanderers                Rúben Neves\n",
       "4453  Wolverhampton Wanderers              João Moutinho\n",
       "4454  Wolverhampton Wanderers                    José Sá\n",
       "\n",
       "[186 rows x 2 columns]"
      ]
     },
     "execution_count": 60,
     "metadata": {},
     "output_type": "execute_result"
    }
   ],
   "source": [
    "group = df.groupby('team', observed=False)['captain'].value_counts().reset_index(name='count')\n",
    "group = group.apply(captains_func, axis=1)\n",
    "group.dropna(inplace=True)\n",
    "group = group.drop(columns='count')\n",
    "group"
   ]
  },
  {
   "cell_type": "code",
   "execution_count": 61,
   "id": "985ee99a",
   "metadata": {},
   "outputs": [
    {
     "data": {
      "text/plain": [
       "team\n",
       "Chelsea                     12\n",
       "Everton                     11\n",
       "Arsenal                     10\n",
       "Sheffield United             9\n",
       "Crystal Palace               9\n",
       "Tottenham Hotspur            8\n",
       "Newcastle United             8\n",
       "Manchester United            8\n",
       "Manchester City              8\n",
       "West Ham United              8\n",
       "Watford                      8\n",
       "Fulham                       7\n",
       "Leicester City               7\n",
       "Liverpool                    7\n",
       "Aston Villa                  7\n",
       "Brighton and Hove Albion     7\n",
       "Nottingham Forest            7\n",
       "Burnley                      6\n",
       "Brentford                    6\n",
       "Norwich City                 6\n",
       "Bournemouth                  6\n",
       "Wolverhampton Wanderers      5\n",
       "Leeds United                 5\n",
       "West Bromwich Albion         4\n",
       "Luton Town                   4\n",
       "Southampton                  3\n",
       "Name: count, dtype: int64"
      ]
     },
     "execution_count": 61,
     "metadata": {},
     "output_type": "execute_result"
    }
   ],
   "source": [
    "group['team'].value_counts()    "
   ]
  },
  {
   "cell_type": "code",
   "execution_count": 62,
   "id": "89940d15",
   "metadata": {},
   "outputs": [
    {
     "data": {
      "text/html": [
       "<div>\n",
       "<style scoped>\n",
       "    .dataframe tbody tr th:only-of-type {\n",
       "        vertical-align: middle;\n",
       "    }\n",
       "\n",
       "    .dataframe tbody tr th {\n",
       "        vertical-align: top;\n",
       "    }\n",
       "\n",
       "    .dataframe thead th {\n",
       "        text-align: right;\n",
       "    }\n",
       "</style>\n",
       "<table border=\"1\" class=\"dataframe\">\n",
       "  <thead>\n",
       "    <tr style=\"text-align: right;\">\n",
       "      <th></th>\n",
       "      <th>team</th>\n",
       "      <th>captain</th>\n",
       "    </tr>\n",
       "  </thead>\n",
       "  <tbody>\n",
       "    <tr>\n",
       "      <th>2136</th>\n",
       "      <td>Liverpool</td>\n",
       "      <td>Jordan Henderson</td>\n",
       "    </tr>\n",
       "    <tr>\n",
       "      <th>2137</th>\n",
       "      <td>Liverpool</td>\n",
       "      <td>Virgil van Dijk</td>\n",
       "    </tr>\n",
       "    <tr>\n",
       "      <th>2138</th>\n",
       "      <td>Liverpool</td>\n",
       "      <td>James Milner</td>\n",
       "    </tr>\n",
       "    <tr>\n",
       "      <th>2139</th>\n",
       "      <td>Liverpool</td>\n",
       "      <td>Georginio Wijnaldum</td>\n",
       "    </tr>\n",
       "    <tr>\n",
       "      <th>2140</th>\n",
       "      <td>Liverpool</td>\n",
       "      <td>Andrew Robertson</td>\n",
       "    </tr>\n",
       "    <tr>\n",
       "      <th>2141</th>\n",
       "      <td>Liverpool</td>\n",
       "      <td>Roberto Firmino</td>\n",
       "    </tr>\n",
       "    <tr>\n",
       "      <th>2142</th>\n",
       "      <td>Liverpool</td>\n",
       "      <td>Trent Alexander-Arnold</td>\n",
       "    </tr>\n",
       "  </tbody>\n",
       "</table>\n",
       "</div>"
      ],
      "text/plain": [
       "           team                 captain\n",
       "2136  Liverpool        Jordan Henderson\n",
       "2137  Liverpool         Virgil van Dijk\n",
       "2138  Liverpool            James Milner\n",
       "2139  Liverpool     Georginio Wijnaldum\n",
       "2140  Liverpool        Andrew Robertson\n",
       "2141  Liverpool         Roberto Firmino\n",
       "2142  Liverpool  Trent Alexander-Arnold"
      ]
     },
     "execution_count": 62,
     "metadata": {},
     "output_type": "execute_result"
    }
   ],
   "source": [
    "group[group['team'] == 'Liverpool']"
   ]
  },
  {
   "cell_type": "code",
   "execution_count": 63,
   "id": "87f0464a",
   "metadata": {},
   "outputs": [],
   "source": [
    "group.to_csv('captains.csv', index=False)"
   ]
  },
  {
   "cell_type": "markdown",
   "id": "6694ec09",
   "metadata": {},
   "source": [
    "# Preprocessing"
   ]
  },
  {
   "cell_type": "code",
   "execution_count": 64,
   "id": "e6f30eb7",
   "metadata": {},
   "outputs": [
    {
     "data": {
      "text/html": [
       "<div>\n",
       "<style scoped>\n",
       "    .dataframe tbody tr th:only-of-type {\n",
       "        vertical-align: middle;\n",
       "    }\n",
       "\n",
       "    .dataframe tbody tr th {\n",
       "        vertical-align: top;\n",
       "    }\n",
       "\n",
       "    .dataframe thead th {\n",
       "        text-align: right;\n",
       "    }\n",
       "</style>\n",
       "<table border=\"1\" class=\"dataframe\">\n",
       "  <thead>\n",
       "    <tr style=\"text-align: right;\">\n",
       "      <th></th>\n",
       "      <th>date</th>\n",
       "      <th>time</th>\n",
       "      <th>day</th>\n",
       "      <th>venue</th>\n",
       "      <th>result</th>\n",
       "      <th>gf</th>\n",
       "      <th>ga</th>\n",
       "      <th>opponent</th>\n",
       "      <th>xg</th>\n",
       "      <th>xga</th>\n",
       "      <th>...</th>\n",
       "      <th>dist</th>\n",
       "      <th>fk</th>\n",
       "      <th>pk</th>\n",
       "      <th>pkatt</th>\n",
       "      <th>season</th>\n",
       "      <th>team</th>\n",
       "      <th>hour</th>\n",
       "      <th>day_code</th>\n",
       "      <th>points</th>\n",
       "      <th>season_winner</th>\n",
       "    </tr>\n",
       "  </thead>\n",
       "  <tbody>\n",
       "    <tr>\n",
       "      <th>1</th>\n",
       "      <td>2023-08-11</td>\n",
       "      <td>20:00 (22:00)</td>\n",
       "      <td>Friday</td>\n",
       "      <td>Away</td>\n",
       "      <td>W</td>\n",
       "      <td>3</td>\n",
       "      <td>0</td>\n",
       "      <td>Burnley</td>\n",
       "      <td>1.9</td>\n",
       "      <td>0.3</td>\n",
       "      <td>...</td>\n",
       "      <td>13.9</td>\n",
       "      <td>0</td>\n",
       "      <td>0</td>\n",
       "      <td>0</td>\n",
       "      <td>2024</td>\n",
       "      <td>Manchester City</td>\n",
       "      <td>20</td>\n",
       "      <td>4</td>\n",
       "      <td>3</td>\n",
       "      <td>Manchester City</td>\n",
       "    </tr>\n",
       "    <tr>\n",
       "      <th>3</th>\n",
       "      <td>2023-08-19</td>\n",
       "      <td>20:00 (22:00)</td>\n",
       "      <td>Saturday</td>\n",
       "      <td>Home</td>\n",
       "      <td>W</td>\n",
       "      <td>1</td>\n",
       "      <td>0</td>\n",
       "      <td>Newcastle Utd</td>\n",
       "      <td>1.0</td>\n",
       "      <td>0.3</td>\n",
       "      <td>...</td>\n",
       "      <td>17.9</td>\n",
       "      <td>0</td>\n",
       "      <td>0</td>\n",
       "      <td>0</td>\n",
       "      <td>2024</td>\n",
       "      <td>Manchester City</td>\n",
       "      <td>20</td>\n",
       "      <td>5</td>\n",
       "      <td>3</td>\n",
       "      <td>Manchester City</td>\n",
       "    </tr>\n",
       "    <tr>\n",
       "      <th>4</th>\n",
       "      <td>2023-08-27</td>\n",
       "      <td>14:00 (16:00)</td>\n",
       "      <td>Sunday</td>\n",
       "      <td>Away</td>\n",
       "      <td>W</td>\n",
       "      <td>2</td>\n",
       "      <td>1</td>\n",
       "      <td>Sheffield Utd</td>\n",
       "      <td>3.5</td>\n",
       "      <td>0.7</td>\n",
       "      <td>...</td>\n",
       "      <td>17.3</td>\n",
       "      <td>2</td>\n",
       "      <td>0</td>\n",
       "      <td>1</td>\n",
       "      <td>2024</td>\n",
       "      <td>Manchester City</td>\n",
       "      <td>14</td>\n",
       "      <td>6</td>\n",
       "      <td>3</td>\n",
       "      <td>Manchester City</td>\n",
       "    </tr>\n",
       "    <tr>\n",
       "      <th>5</th>\n",
       "      <td>2023-09-02</td>\n",
       "      <td>15:00 (17:00)</td>\n",
       "      <td>Saturday</td>\n",
       "      <td>Home</td>\n",
       "      <td>W</td>\n",
       "      <td>5</td>\n",
       "      <td>1</td>\n",
       "      <td>Fulham</td>\n",
       "      <td>2.2</td>\n",
       "      <td>1.4</td>\n",
       "      <td>...</td>\n",
       "      <td>14.8</td>\n",
       "      <td>0</td>\n",
       "      <td>1</td>\n",
       "      <td>1</td>\n",
       "      <td>2024</td>\n",
       "      <td>Manchester City</td>\n",
       "      <td>15</td>\n",
       "      <td>5</td>\n",
       "      <td>3</td>\n",
       "      <td>Manchester City</td>\n",
       "    </tr>\n",
       "    <tr>\n",
       "      <th>6</th>\n",
       "      <td>2023-09-16</td>\n",
       "      <td>15:00 (17:00)</td>\n",
       "      <td>Saturday</td>\n",
       "      <td>Away</td>\n",
       "      <td>W</td>\n",
       "      <td>3</td>\n",
       "      <td>1</td>\n",
       "      <td>West Ham</td>\n",
       "      <td>3.6</td>\n",
       "      <td>0.9</td>\n",
       "      <td>...</td>\n",
       "      <td>16.4</td>\n",
       "      <td>1</td>\n",
       "      <td>0</td>\n",
       "      <td>0</td>\n",
       "      <td>2024</td>\n",
       "      <td>Manchester City</td>\n",
       "      <td>15</td>\n",
       "      <td>5</td>\n",
       "      <td>3</td>\n",
       "      <td>Manchester City</td>\n",
       "    </tr>\n",
       "  </tbody>\n",
       "</table>\n",
       "<p>5 rows × 27 columns</p>\n",
       "</div>"
      ],
      "text/plain": [
       "        date           time       day venue result gf ga       opponent   xg  \\\n",
       "1 2023-08-11  20:00 (22:00)    Friday  Away      W  3  0        Burnley  1.9   \n",
       "3 2023-08-19  20:00 (22:00)  Saturday  Home      W  1  0  Newcastle Utd  1.0   \n",
       "4 2023-08-27  14:00 (16:00)    Sunday  Away      W  2  1  Sheffield Utd  3.5   \n",
       "5 2023-09-02  15:00 (17:00)  Saturday  Home      W  5  1         Fulham  2.2   \n",
       "6 2023-09-16  15:00 (17:00)  Saturday  Away      W  3  1       West Ham  3.6   \n",
       "\n",
       "   xga  ...  dist fk pk pkatt season             team hour day_code points  \\\n",
       "1  0.3  ...  13.9  0  0     0   2024  Manchester City   20        4      3   \n",
       "3  0.3  ...  17.9  0  0     0   2024  Manchester City   20        5      3   \n",
       "4  0.7  ...  17.3  2  0     1   2024  Manchester City   14        6      3   \n",
       "5  1.4  ...  14.8  0  1     1   2024  Manchester City   15        5      3   \n",
       "6  0.9  ...  16.4  1  0     0   2024  Manchester City   15        5      3   \n",
       "\n",
       "     season_winner  \n",
       "1  Manchester City  \n",
       "3  Manchester City  \n",
       "4  Manchester City  \n",
       "5  Manchester City  \n",
       "6  Manchester City  \n",
       "\n",
       "[5 rows x 27 columns]"
      ]
     },
     "execution_count": 64,
     "metadata": {},
     "output_type": "execute_result"
    }
   ],
   "source": [
    "df.head()"
   ]
  },
  {
   "cell_type": "code",
   "execution_count": 65,
   "id": "f87b3f2c",
   "metadata": {},
   "outputs": [
    {
     "data": {
      "text/plain": [
       "date             0\n",
       "time             0\n",
       "day              0\n",
       "venue            0\n",
       "result           0\n",
       "gf               0\n",
       "ga               0\n",
       "opponent         0\n",
       "xg               0\n",
       "xga              0\n",
       "poss             0\n",
       "captain          0\n",
       "formation        0\n",
       "opp formation    0\n",
       "referee          0\n",
       "sh               0\n",
       "sot              0\n",
       "dist             0\n",
       "fk               0\n",
       "pk               0\n",
       "pkatt            0\n",
       "season           0\n",
       "team             0\n",
       "hour             0\n",
       "day_code         0\n",
       "points           0\n",
       "season_winner    0\n",
       "dtype: int64"
      ]
     },
     "execution_count": 65,
     "metadata": {},
     "output_type": "execute_result"
    }
   ],
   "source": [
    "df.isna().sum()"
   ]
  },
  {
   "cell_type": "code",
   "execution_count": 66,
   "id": "e2bf2b4b",
   "metadata": {},
   "outputs": [
    {
     "name": "stdout",
     "output_type": "stream",
     "text": [
      "<class 'pandas.core.frame.DataFrame'>\n",
      "Index: 3799 entries, 1 to 43\n",
      "Data columns (total 27 columns):\n",
      " #   Column         Non-Null Count  Dtype         \n",
      "---  ------         --------------  -----         \n",
      " 0   date           3799 non-null   datetime64[ns]\n",
      " 1   time           3799 non-null   object        \n",
      " 2   day            3799 non-null   object        \n",
      " 3   venue          3799 non-null   category      \n",
      " 4   result         3799 non-null   category      \n",
      " 5   gf             3799 non-null   object        \n",
      " 6   ga             3799 non-null   object        \n",
      " 7   opponent       3799 non-null   category      \n",
      " 8   xg             3799 non-null   object        \n",
      " 9   xga            3799 non-null   object        \n",
      " 10  poss           3799 non-null   object        \n",
      " 11  captain        3799 non-null   object        \n",
      " 12  formation      3799 non-null   object        \n",
      " 13  opp formation  3799 non-null   object        \n",
      " 14  referee        3799 non-null   object        \n",
      " 15  sh             3799 non-null   object        \n",
      " 16  sot            3799 non-null   object        \n",
      " 17  dist           3799 non-null   object        \n",
      " 18  fk             3799 non-null   object        \n",
      " 19  pk             3799 non-null   object        \n",
      " 20  pkatt          3799 non-null   object        \n",
      " 21  season         3799 non-null   int64         \n",
      " 22  team           3799 non-null   category      \n",
      " 23  hour           3799 non-null   int32         \n",
      " 24  day_code       3799 non-null   int32         \n",
      " 25  points         3799 non-null   int32         \n",
      " 26  season_winner  3799 non-null   category      \n",
      "dtypes: category(5), datetime64[ns](1), int32(3), int64(1), object(17)\n",
      "memory usage: 660.7+ KB\n"
     ]
    }
   ],
   "source": [
    "df.info()"
   ]
  },
  {
   "cell_type": "code",
   "execution_count": 67,
   "id": "8382d8bb",
   "metadata": {},
   "outputs": [
    {
     "data": {
      "text/plain": [
       "Index(['date', 'time', 'day', 'venue', 'result', 'gf', 'ga', 'opponent', 'xg',\n",
       "       'xga', 'poss', 'captain', 'formation', 'opp formation', 'referee', 'sh',\n",
       "       'sot', 'dist', 'fk', 'pk', 'pkatt', 'season', 'team', 'hour',\n",
       "       'day_code', 'points', 'season_winner'],\n",
       "      dtype='object')"
      ]
     },
     "execution_count": 67,
     "metadata": {},
     "output_type": "execute_result"
    }
   ],
   "source": [
    "df.columns"
   ]
  },
  {
   "cell_type": "code",
   "execution_count": 68,
   "id": "8bed9230",
   "metadata": {},
   "outputs": [
    {
     "name": "stdout",
     "output_type": "stream",
     "text": [
      "Data is correctly sorted by date for each team.\n"
     ]
    }
   ],
   "source": [
    "df['date'] = pd.to_datetime(df['date'])\n",
    "\n",
    "# Sort the DataFrame by team and date\n",
    "df_sorted = df.sort_values(['team', 'date'])\n",
    "\n",
    "# Reset the index to reflect the new order\n",
    "df_sorted = df_sorted.reset_index(drop=True)\n",
    "\n",
    "# Verify the sorting\n",
    "def verify_sorting(data):\n",
    "    # Check if dates are in ascending order for each team\n",
    "    is_sorted = data.groupby('team')['date'].is_monotonic_increasing.all()\n",
    "    \n",
    "    if is_sorted:\n",
    "        print(\"Data is correctly sorted by date for each team.\")\n",
    "    else:\n",
    "        print(\"WARNING: Data is not correctly sorted. Please check for inconsistencies.\")\n",
    "\n",
    "# Run the verification\n",
    "verify_sorting(df_sorted)"
   ]
  },
  {
   "cell_type": "code",
   "execution_count": 69,
   "id": "9397596c",
   "metadata": {},
   "outputs": [],
   "source": [
    "num_cols = ['sh', 'sot', 'dist', 'fk', 'pk', 'pkatt', 'xga', 'xg', 'gf', 'ga']\n",
    "for col in num_cols:\n",
    "    df_sorted[col] = pd.to_numeric(df_sorted[col])"
   ]
  },
  {
   "cell_type": "code",
   "execution_count": 70,
   "id": "b1edee2f",
   "metadata": {},
   "outputs": [],
   "source": [
    "def calculate_fk_pk_ratios(data):\n",
    "    \"\"\"\n",
    "    Calculate ratios and percentages for free kicks and penalties.\n",
    "    \n",
    "    Parameters:\n",
    "    data (DataFrame): The input DataFrame containing 'fk', 'pk', 'pkatt', and 'sh' columns\n",
    "    \n",
    "    Returns:\n",
    "    DataFrame: The input DataFrame with additional columns for FK and PK ratios\n",
    "    \"\"\"\n",
    "    # Free Kick Ratio: Free Kicks / Total Shots\n",
    "    data['fk_ratio'] = data['fk'] / data['sh']\n",
    "    \n",
    "    # Penalty Conversion Rate: Penalties Scored / Penalties Attempted\n",
    "    data['pk_conversion_rate'] = data['pk'] / data['pkatt']\n",
    "    \n",
    "    # Penalties per Shot: Penalties Attempted / Total Shots\n",
    "    data['pk_per_shot'] = data['pkatt'] / data['sh']\n",
    "    \n",
    "    # Handle division by zero\n",
    "    data['fk_ratio'] = data['fk_ratio'].replace([np.inf, -np.inf], np.nan)\n",
    "    data['pk_conversion_rate'] = data['pk_conversion_rate'].replace([np.inf, -np.inf], np.nan)\n",
    "    data['pk_per_shot'] = data['pk_per_shot'].replace([np.inf, -np.inf], np.nan)\n",
    "    \n",
    "    # Convert to percentages\n",
    "    data['fk_percentage'] = data['fk_ratio'] * 100\n",
    "    data['pk_conversion_percentage'] = data['pk_conversion_rate'] * 100\n",
    "    data['pk_per_shot_percentage'] = data['pk_per_shot'] * 100\n",
    "    \n",
    "    return data"
   ]
  },
  {
   "cell_type": "code",
   "execution_count": 71,
   "id": "9ca3c078",
   "metadata": {},
   "outputs": [],
   "source": [
    "df_sorted = calculate_fk_pk_ratios(df_sorted)"
   ]
  },
  {
   "cell_type": "code",
   "execution_count": 72,
   "id": "7fe5f7d2",
   "metadata": {},
   "outputs": [],
   "source": [
    "df_sorted.drop(['pk_conversion_rate', 'pk_conversion_percentage'], axis=1, inplace=True)"
   ]
  },
  {
   "cell_type": "code",
   "execution_count": 73,
   "id": "67e1ea55",
   "metadata": {},
   "outputs": [
    {
     "data": {
      "image/png": "[encoded data removed]",
      "text/plain": [
       "<Figure size 1200x600 with 4 Axes>"
      ]
     },
     "metadata": {},
     "output_type": "display_data"
    }
   ],
   "source": [
    "fig, axs = plt.subplots(2, 2, figsize=(12, 6))\n",
    "i = 0\n",
    "for col in ['fk_ratio', 'pk_per_shot', 'fk_percentage', 'pk_per_shot_percentage']:\n",
    "    sns.histplot(df_sorted[col], kde=True, ax=axs.flatten()[i])\n",
    "    axs.flatten()[i].set_title('Distribution of ' + col)\n",
    "    i += 1\n",
    "\n",
    "plt.tight_layout()\n",
    "plt.show()"
   ]
  },
  {
   "cell_type": "code",
   "execution_count": 74,
   "id": "2eec48a9",
   "metadata": {},
   "outputs": [
    {
     "data": {
      "image/png": "[encoded data removed]",
      "text/plain": [
       "<Figure size 1200x600 with 4 Axes>"
      ]
     },
     "metadata": {},
     "output_type": "display_data"
    }
   ],
   "source": [
    "fig, axs = plt.subplots(2, 2, figsize=(12, 6))\n",
    "i = 0\n",
    "for col in ['fk_ratio', 'pk_per_shot', 'fk_percentage', 'pk_per_shot_percentage']:\n",
    "    sns.boxenplot(df_sorted[col], ax=axs.flatten()[i])\n",
    "    axs.flatten()[i].set_title('Distribution of ' + col)\n",
    "    i += 1\n",
    "\n",
    "plt.tight_layout()\n",
    "plt.show()"
   ]
  },
  {
   "cell_type": "code",
   "execution_count": 75,
   "id": "104114ac",
   "metadata": {},
   "outputs": [
    {
     "data": {
      "text/html": [
       "<div>\n",
       "<style scoped>\n",
       "    .dataframe tbody tr th:only-of-type {\n",
       "        vertical-align: middle;\n",
       "    }\n",
       "\n",
       "    .dataframe tbody tr th {\n",
       "        vertical-align: top;\n",
       "    }\n",
       "\n",
       "    .dataframe thead th {\n",
       "        text-align: right;\n",
       "    }\n",
       "</style>\n",
       "<table border=\"1\" class=\"dataframe\">\n",
       "  <thead>\n",
       "    <tr style=\"text-align: right;\">\n",
       "      <th></th>\n",
       "      <th>date</th>\n",
       "      <th>time</th>\n",
       "      <th>day</th>\n",
       "      <th>venue</th>\n",
       "      <th>result</th>\n",
       "      <th>gf</th>\n",
       "      <th>ga</th>\n",
       "      <th>opponent</th>\n",
       "      <th>xg</th>\n",
       "      <th>xga</th>\n",
       "      <th>...</th>\n",
       "      <th>season</th>\n",
       "      <th>team</th>\n",
       "      <th>hour</th>\n",
       "      <th>day_code</th>\n",
       "      <th>points</th>\n",
       "      <th>season_winner</th>\n",
       "      <th>fk_ratio</th>\n",
       "      <th>pk_per_shot</th>\n",
       "      <th>fk_percentage</th>\n",
       "      <th>pk_per_shot_percentage</th>\n",
       "    </tr>\n",
       "  </thead>\n",
       "  <tbody>\n",
       "    <tr>\n",
       "      <th>0</th>\n",
       "      <td>2019-08-11</td>\n",
       "      <td>14:00 (15:00)</td>\n",
       "      <td>Sunday</td>\n",
       "      <td>Away</td>\n",
       "      <td>W</td>\n",
       "      <td>1</td>\n",
       "      <td>0</td>\n",
       "      <td>Newcastle Utd</td>\n",
       "      <td>1.1</td>\n",
       "      <td>0.4</td>\n",
       "      <td>...</td>\n",
       "      <td>2020</td>\n",
       "      <td>Arsenal</td>\n",
       "      <td>14</td>\n",
       "      <td>6</td>\n",
       "      <td>3</td>\n",
       "      <td>Liverpool</td>\n",
       "      <td>0.000000</td>\n",
       "      <td>0.0</td>\n",
       "      <td>0.000000</td>\n",
       "      <td>0.0</td>\n",
       "    </tr>\n",
       "    <tr>\n",
       "      <th>1</th>\n",
       "      <td>2019-08-17</td>\n",
       "      <td>12:30 (13:30)</td>\n",
       "      <td>Saturday</td>\n",
       "      <td>Home</td>\n",
       "      <td>W</td>\n",
       "      <td>2</td>\n",
       "      <td>1</td>\n",
       "      <td>Burnley</td>\n",
       "      <td>0.8</td>\n",
       "      <td>1.5</td>\n",
       "      <td>...</td>\n",
       "      <td>2020</td>\n",
       "      <td>Arsenal</td>\n",
       "      <td>12</td>\n",
       "      <td>5</td>\n",
       "      <td>3</td>\n",
       "      <td>Liverpool</td>\n",
       "      <td>0.000000</td>\n",
       "      <td>0.0</td>\n",
       "      <td>0.000000</td>\n",
       "      <td>0.0</td>\n",
       "    </tr>\n",
       "    <tr>\n",
       "      <th>2</th>\n",
       "      <td>2019-08-24</td>\n",
       "      <td>17:30 (18:30)</td>\n",
       "      <td>Saturday</td>\n",
       "      <td>Away</td>\n",
       "      <td>L</td>\n",
       "      <td>1</td>\n",
       "      <td>3</td>\n",
       "      <td>Liverpool</td>\n",
       "      <td>1.0</td>\n",
       "      <td>2.5</td>\n",
       "      <td>...</td>\n",
       "      <td>2020</td>\n",
       "      <td>Arsenal</td>\n",
       "      <td>17</td>\n",
       "      <td>5</td>\n",
       "      <td>0</td>\n",
       "      <td>Liverpool</td>\n",
       "      <td>0.111111</td>\n",
       "      <td>0.0</td>\n",
       "      <td>11.111111</td>\n",
       "      <td>0.0</td>\n",
       "    </tr>\n",
       "    <tr>\n",
       "      <th>3</th>\n",
       "      <td>2019-09-01</td>\n",
       "      <td>16:30 (17:30)</td>\n",
       "      <td>Sunday</td>\n",
       "      <td>Home</td>\n",
       "      <td>D</td>\n",
       "      <td>2</td>\n",
       "      <td>2</td>\n",
       "      <td>Tottenham</td>\n",
       "      <td>2.4</td>\n",
       "      <td>2.0</td>\n",
       "      <td>...</td>\n",
       "      <td>2020</td>\n",
       "      <td>Arsenal</td>\n",
       "      <td>16</td>\n",
       "      <td>6</td>\n",
       "      <td>1</td>\n",
       "      <td>Liverpool</td>\n",
       "      <td>0.076923</td>\n",
       "      <td>0.0</td>\n",
       "      <td>7.692308</td>\n",
       "      <td>0.0</td>\n",
       "    </tr>\n",
       "    <tr>\n",
       "      <th>4</th>\n",
       "      <td>2019-09-15</td>\n",
       "      <td>16:30 (17:30)</td>\n",
       "      <td>Sunday</td>\n",
       "      <td>Away</td>\n",
       "      <td>D</td>\n",
       "      <td>2</td>\n",
       "      <td>2</td>\n",
       "      <td>Watford</td>\n",
       "      <td>0.8</td>\n",
       "      <td>2.7</td>\n",
       "      <td>...</td>\n",
       "      <td>2020</td>\n",
       "      <td>Arsenal</td>\n",
       "      <td>16</td>\n",
       "      <td>6</td>\n",
       "      <td>1</td>\n",
       "      <td>Liverpool</td>\n",
       "      <td>0.000000</td>\n",
       "      <td>0.0</td>\n",
       "      <td>0.000000</td>\n",
       "      <td>0.0</td>\n",
       "    </tr>\n",
       "  </tbody>\n",
       "</table>\n",
       "<p>5 rows × 31 columns</p>\n",
       "</div>"
      ],
      "text/plain": [
       "        date           time       day venue result  gf  ga       opponent  \\\n",
       "0 2019-08-11  14:00 (15:00)    Sunday  Away      W   1   0  Newcastle Utd   \n",
       "1 2019-08-17  12:30 (13:30)  Saturday  Home      W   2   1        Burnley   \n",
       "2 2019-08-24  17:30 (18:30)  Saturday  Away      L   1   3      Liverpool   \n",
       "3 2019-09-01  16:30 (17:30)    Sunday  Home      D   2   2      Tottenham   \n",
       "4 2019-09-15  16:30 (17:30)    Sunday  Away      D   2   2        Watford   \n",
       "\n",
       "    xg  xga  ... season     team hour day_code points  season_winner  \\\n",
       "0  1.1  0.4  ...   2020  Arsenal   14        6      3      Liverpool   \n",
       "1  0.8  1.5  ...   2020  Arsenal   12        5      3      Liverpool   \n",
       "2  1.0  2.5  ...   2020  Arsenal   17        5      0      Liverpool   \n",
       "3  2.4  2.0  ...   2020  Arsenal   16        6      1      Liverpool   \n",
       "4  0.8  2.7  ...   2020  Arsenal   16        6      1      Liverpool   \n",
       "\n",
       "   fk_ratio  pk_per_shot  fk_percentage  pk_per_shot_percentage  \n",
       "0  0.000000          0.0       0.000000                     0.0  \n",
       "1  0.000000          0.0       0.000000                     0.0  \n",
       "2  0.111111          0.0      11.111111                     0.0  \n",
       "3  0.076923          0.0       7.692308                     0.0  \n",
       "4  0.000000          0.0       0.000000                     0.0  \n",
       "\n",
       "[5 rows x 31 columns]"
      ]
     },
     "execution_count": 75,
     "metadata": {},
     "output_type": "execute_result"
    }
   ],
   "source": [
    "df_sorted.head()"
   ]
  },
  {
   "cell_type": "code",
   "execution_count": 76,
   "id": "08e46473",
   "metadata": {},
   "outputs": [],
   "source": [
    "def calculate_rolling_average(data, column, window=5):\n",
    "    \"\"\"\n",
    "    Calculate the rolling average of a column for each team.\n",
    "    \n",
    "    Parameters:\n",
    "    data (DataFrame): The input DataFrame\n",
    "    column (str): The column to calculate the rolling average for\n",
    "    window (int): The number of games to include in the rolling average\n",
    "    \n",
    "    Returns:\n",
    "    Series: The rolling average\n",
    "    \"\"\"\n",
    "    return data.groupby('team')[column].transform(\n",
    "        lambda x: x.rolling(window=window, min_periods=1).mean()\n",
    "    )"
   ]
  },
  {
   "cell_type": "code",
   "execution_count": 77,
   "id": "64c0d9bf",
   "metadata": {},
   "outputs": [],
   "source": [
    "df_sorted['rolling_xg'] = calculate_rolling_average(df_sorted, 'xg')\n",
    "df_sorted['rolling_xga'] = calculate_rolling_average(df_sorted, 'xga')\n",
    "df_sorted['rolling_poss'] = calculate_rolling_average(df_sorted, 'poss')\n",
    "df_sorted['rolling_sh'] = calculate_rolling_average(df_sorted, 'sh')\n",
    "df_sorted['rolling_sot'] = calculate_rolling_average(df_sorted, 'sot')\n",
    "df_sorted['rolling_dist'] = calculate_rolling_average(df_sorted, 'dist')"
   ]
  },
  {
   "cell_type": "code",
   "execution_count": 78,
   "id": "1e07c6e2",
   "metadata": {},
   "outputs": [],
   "source": [
    "df_sorted['result_encoded'] = pd.to_numeric(df_sorted['result'].map({'W': 1, 'D': 0, 'L': -1}))\n",
    "df_sorted['form'] = calculate_rolling_average(df_sorted, 'result_encoded')"
   ]
  },
  {
   "cell_type": "code",
   "execution_count": 79,
   "id": "cf7cebf8",
   "metadata": {},
   "outputs": [],
   "source": [
    "df_sorted['goal_diff'] = df_sorted['gf'] - df_sorted['ga']\n",
    "df_sorted['rolling_goal_diff'] = calculate_rolling_average(df_sorted, 'goal_diff')"
   ]
  },
  {
   "cell_type": "code",
   "execution_count": 80,
   "id": "5afaf74c",
   "metadata": {},
   "outputs": [],
   "source": [
    "def get_head_to_head(data):\n",
    "    \"\"\"\n",
    "    Calculate the head-to-head record against each opponent.\n",
    "    \n",
    "    Returns:\n",
    "    DataFrame: The original dataframe with an additional column for head-to-head record\n",
    "    \"\"\"\n",
    "    # Calculate the mean result for each team-opponent pair\n",
    "    h2h = data.groupby(['team', 'opponent'])['result_encoded'].mean().reset_index()\n",
    "    \n",
    "    # Rename the mean column\n",
    "    h2h = h2h.rename(columns={'result_encoded': 'h2h_record'})\n",
    "    \n",
    "    # Merge the h2h data back to the original dataframe\n",
    "    result = pd.merge(data, h2h, on=['team', 'opponent'], how='left')\n",
    "    \n",
    "    return result"
   ]
  },
  {
   "cell_type": "code",
   "execution_count": 81,
   "id": "4b3a7d3f",
   "metadata": {},
   "outputs": [],
   "source": [
    "df_sorted = get_head_to_head(df_sorted)\n",
    "\n",
    "# Convert date to day of week\n",
    "df_sorted['day_of_week'] = pd.to_datetime(df_sorted['date']).dt.dayofweek\n"
   ]
  },
  {
   "cell_type": "code",
   "execution_count": 82,
   "id": "f9a32e20",
   "metadata": {},
   "outputs": [],
   "source": [
    "def categorize_time(time):\n",
    "    hour = pd.to_datetime(time).hour\n",
    "    if hour < 12:\n",
    "        return 'early'\n",
    "    elif hour < 17:\n",
    "        return 'afternoon'\n",
    "    else:\n",
    "        return 'evening'"
   ]
  },
  {
   "cell_type": "code",
   "execution_count": 83,
   "id": "7687df44",
   "metadata": {},
   "outputs": [],
   "source": [
    "df_sorted['time'] = df_sorted['time'].apply(lambda x: x.split(' ')[0])\n",
    "df_sorted['time_condition'] = df_sorted['time'].apply(categorize_time)"
   ]
  },
  {
   "cell_type": "code",
   "execution_count": 84,
   "id": "249ff848",
   "metadata": {},
   "outputs": [
    {
     "data": {
      "text/plain": [
       "time_condition\n",
       "afternoon    2337\n",
       "evening      1462\n",
       "Name: count, dtype: int64"
      ]
     },
     "execution_count": 84,
     "metadata": {},
     "output_type": "execute_result"
    }
   ],
   "source": [
    "df_sorted['time_condition'].value_counts()"
   ]
  },
  {
   "cell_type": "code",
   "execution_count": 85,
   "id": "a50d65cb",
   "metadata": {},
   "outputs": [
    {
     "data": {
      "text/plain": [
       "team\n",
       "Arsenal                     190\n",
       "Liverpool                   190\n",
       "West Ham United             190\n",
       "Tottenham Hotspur           190\n",
       "Newcastle United            190\n",
       "Manchester United           190\n",
       "Manchester City             190\n",
       "Aston Villa                 190\n",
       "Wolverhampton Wanderers     190\n",
       "Everton                     190\n",
       "Chelsea                     190\n",
       "Brighton and Hove Albion    190\n",
       "Crystal Palace              189\n",
       "Leicester City              152\n",
       "Burnley                     152\n",
       "Southampton                 152\n",
       "Fulham                      114\n",
       "Leeds United                114\n",
       "Bournemouth                 114\n",
       "Sheffield United            114\n",
       "Brentford                   114\n",
       "Watford                      76\n",
       "Norwich City                 76\n",
       "Nottingham Forest            76\n",
       "West Bromwich Albion         38\n",
       "Luton Town                   38\n",
       "Name: date, dtype: int64"
      ]
     },
     "execution_count": 85,
     "metadata": {},
     "output_type": "execute_result"
    }
   ],
   "source": [
    "df_sorted.groupby('team')['date'].count().sort_values(ascending=False)"
   ]
  },
  {
   "cell_type": "code",
   "execution_count": 86,
   "id": "33794ec7",
   "metadata": {},
   "outputs": [],
   "source": [
    "df_sorted['days_since_last_match'] = df_sorted.groupby('team')['date'].diff().dt.days"
   ]
  },
  {
   "cell_type": "code",
   "execution_count": 87,
   "id": "c160e2e1",
   "metadata": {},
   "outputs": [],
   "source": [
    "df_sorted['days_since_last_match'].fillna(0, inplace=True)"
   ]
  },
  {
   "cell_type": "code",
   "execution_count": 88,
   "id": "40aed716",
   "metadata": {},
   "outputs": [],
   "source": [
    "df_sorted.to_csv('matches_final.csv', index=False)"
   ]
  },
  {
   "cell_type": "markdown",
   "id": "e77375fd",
   "metadata": {},
   "source": [
    "# Modeling"
   ]
  },
  {
   "cell_type": "code",
   "execution_count": 89,
   "id": "d3e51273",
   "metadata": {},
   "outputs": [],
   "source": [
    "columns_to_drop = ['gf', 'ga', 'xg', 'xga', 'poss', 'sh', 'sot', \n",
    "                   'goal_diff', 'day', 'pk', 'pkatt', 'fk', \n",
    "                   'referee', 'dist','points', 'season_winner', 'hour', 'result_encoded', 'day_code']\n",
    "df_sorted = df_sorted.drop(columns=columns_to_drop)"
   ]
  },
  {
   "cell_type": "code",
   "execution_count": 90,
   "id": "6a2b3a71",
   "metadata": {},
   "outputs": [
    {
     "data": {
      "text/html": [
       "<div>\n",
       "<style scoped>\n",
       "    .dataframe tbody tr th:only-of-type {\n",
       "        vertical-align: middle;\n",
       "    }\n",
       "\n",
       "    .dataframe tbody tr th {\n",
       "        vertical-align: top;\n",
       "    }\n",
       "\n",
       "    .dataframe thead th {\n",
       "        text-align: right;\n",
       "    }\n",
       "</style>\n",
       "<table border=\"1\" class=\"dataframe\">\n",
       "  <thead>\n",
       "    <tr style=\"text-align: right;\">\n",
       "      <th></th>\n",
       "      <th>date</th>\n",
       "      <th>time</th>\n",
       "      <th>venue</th>\n",
       "      <th>result</th>\n",
       "      <th>opponent</th>\n",
       "      <th>captain</th>\n",
       "      <th>formation</th>\n",
       "      <th>opp formation</th>\n",
       "      <th>season</th>\n",
       "      <th>team</th>\n",
       "      <th>...</th>\n",
       "      <th>rolling_poss</th>\n",
       "      <th>rolling_sh</th>\n",
       "      <th>rolling_sot</th>\n",
       "      <th>rolling_dist</th>\n",
       "      <th>form</th>\n",
       "      <th>rolling_goal_diff</th>\n",
       "      <th>h2h_record</th>\n",
       "      <th>day_of_week</th>\n",
       "      <th>time_condition</th>\n",
       "      <th>days_since_last_match</th>\n",
       "    </tr>\n",
       "  </thead>\n",
       "  <tbody>\n",
       "    <tr>\n",
       "      <th>0</th>\n",
       "      <td>2019-08-11</td>\n",
       "      <td>14:00</td>\n",
       "      <td>Away</td>\n",
       "      <td>W</td>\n",
       "      <td>Newcastle Utd</td>\n",
       "      <td>Granit Xhaka</td>\n",
       "      <td>4-2-3-1</td>\n",
       "      <td>3-5-2</td>\n",
       "      <td>2020</td>\n",
       "      <td>Arsenal</td>\n",
       "      <td>...</td>\n",
       "      <td>62.0</td>\n",
       "      <td>8.000000</td>\n",
       "      <td>2.000000</td>\n",
       "      <td>13.900</td>\n",
       "      <td>1.000000</td>\n",
       "      <td>1.0</td>\n",
       "      <td>0.500</td>\n",
       "      <td>6</td>\n",
       "      <td>afternoon</td>\n",
       "      <td>0.0</td>\n",
       "    </tr>\n",
       "    <tr>\n",
       "      <th>1</th>\n",
       "      <td>2019-08-17</td>\n",
       "      <td>12:30</td>\n",
       "      <td>Home</td>\n",
       "      <td>W</td>\n",
       "      <td>Burnley</td>\n",
       "      <td>Nacho Monreal</td>\n",
       "      <td>4-2-3-1</td>\n",
       "      <td>4-4-2</td>\n",
       "      <td>2020</td>\n",
       "      <td>Arsenal</td>\n",
       "      <td>...</td>\n",
       "      <td>64.5</td>\n",
       "      <td>11.500000</td>\n",
       "      <td>5.500000</td>\n",
       "      <td>16.300</td>\n",
       "      <td>1.000000</td>\n",
       "      <td>1.0</td>\n",
       "      <td>0.375</td>\n",
       "      <td>5</td>\n",
       "      <td>afternoon</td>\n",
       "      <td>6.0</td>\n",
       "    </tr>\n",
       "    <tr>\n",
       "      <th>2</th>\n",
       "      <td>2019-08-24</td>\n",
       "      <td>17:30</td>\n",
       "      <td>Away</td>\n",
       "      <td>L</td>\n",
       "      <td>Liverpool</td>\n",
       "      <td>Granit Xhaka</td>\n",
       "      <td>4-3-1-2</td>\n",
       "      <td>4-3-3</td>\n",
       "      <td>2020</td>\n",
       "      <td>Arsenal</td>\n",
       "      <td>...</td>\n",
       "      <td>59.0</td>\n",
       "      <td>10.666667</td>\n",
       "      <td>4.666667</td>\n",
       "      <td>17.200</td>\n",
       "      <td>0.333333</td>\n",
       "      <td>0.0</td>\n",
       "      <td>-0.200</td>\n",
       "      <td>5</td>\n",
       "      <td>evening</td>\n",
       "      <td>7.0</td>\n",
       "    </tr>\n",
       "    <tr>\n",
       "      <th>3</th>\n",
       "      <td>2019-09-01</td>\n",
       "      <td>16:30</td>\n",
       "      <td>Home</td>\n",
       "      <td>D</td>\n",
       "      <td>Tottenham</td>\n",
       "      <td>Granit Xhaka</td>\n",
       "      <td>4-3-3</td>\n",
       "      <td>4-2-2-2</td>\n",
       "      <td>2020</td>\n",
       "      <td>Arsenal</td>\n",
       "      <td>...</td>\n",
       "      <td>58.0</td>\n",
       "      <td>14.500000</td>\n",
       "      <td>5.500000</td>\n",
       "      <td>17.425</td>\n",
       "      <td>0.250000</td>\n",
       "      <td>0.0</td>\n",
       "      <td>0.200</td>\n",
       "      <td>6</td>\n",
       "      <td>afternoon</td>\n",
       "      <td>8.0</td>\n",
       "    </tr>\n",
       "    <tr>\n",
       "      <th>4</th>\n",
       "      <td>2019-09-15</td>\n",
       "      <td>16:30</td>\n",
       "      <td>Away</td>\n",
       "      <td>D</td>\n",
       "      <td>Watford</td>\n",
       "      <td>Granit Xhaka</td>\n",
       "      <td>4-1-2-1-2</td>\n",
       "      <td>4-2-3-1</td>\n",
       "      <td>2020</td>\n",
       "      <td>Arsenal</td>\n",
       "      <td>...</td>\n",
       "      <td>56.0</td>\n",
       "      <td>13.000000</td>\n",
       "      <td>5.200000</td>\n",
       "      <td>18.100</td>\n",
       "      <td>0.200000</td>\n",
       "      <td>0.0</td>\n",
       "      <td>0.750</td>\n",
       "      <td>6</td>\n",
       "      <td>afternoon</td>\n",
       "      <td>14.0</td>\n",
       "    </tr>\n",
       "  </tbody>\n",
       "</table>\n",
       "<p>5 rows × 26 columns</p>\n",
       "</div>"
      ],
      "text/plain": [
       "        date   time venue result       opponent        captain  formation  \\\n",
       "0 2019-08-11  14:00  Away      W  Newcastle Utd   Granit Xhaka    4-2-3-1   \n",
       "1 2019-08-17  12:30  Home      W        Burnley  Nacho Monreal    4-2-3-1   \n",
       "2 2019-08-24  17:30  Away      L      Liverpool   Granit Xhaka    4-3-1-2   \n",
       "3 2019-09-01  16:30  Home      D      Tottenham   Granit Xhaka      4-3-3   \n",
       "4 2019-09-15  16:30  Away      D        Watford   Granit Xhaka  4-1-2-1-2   \n",
       "\n",
       "  opp formation  season     team  ...  rolling_poss  rolling_sh  rolling_sot  \\\n",
       "0         3-5-2    2020  Arsenal  ...          62.0    8.000000     2.000000   \n",
       "1         4-4-2    2020  Arsenal  ...          64.5   11.500000     5.500000   \n",
       "2         4-3-3    2020  Arsenal  ...          59.0   10.666667     4.666667   \n",
       "3       4-2-2-2    2020  Arsenal  ...          58.0   14.500000     5.500000   \n",
       "4       4-2-3-1    2020  Arsenal  ...          56.0   13.000000     5.200000   \n",
       "\n",
       "   rolling_dist      form  rolling_goal_diff  h2h_record  day_of_week  \\\n",
       "0        13.900  1.000000                1.0       0.500            6   \n",
       "1        16.300  1.000000                1.0       0.375            5   \n",
       "2        17.200  0.333333                0.0      -0.200            5   \n",
       "3        17.425  0.250000                0.0       0.200            6   \n",
       "4        18.100  0.200000                0.0       0.750            6   \n",
       "\n",
       "   time_condition  days_since_last_match  \n",
       "0       afternoon                    0.0  \n",
       "1       afternoon                    6.0  \n",
       "2         evening                    7.0  \n",
       "3       afternoon                    8.0  \n",
       "4       afternoon                   14.0  \n",
       "\n",
       "[5 rows x 26 columns]"
      ]
     },
     "execution_count": 90,
     "metadata": {},
     "output_type": "execute_result"
    }
   ],
   "source": [
    "df_sorted.head()"
   ]
  },
  {
   "cell_type": "code",
   "execution_count": 91,
   "id": "a10d6b26",
   "metadata": {},
   "outputs": [
    {
     "data": {
      "text/plain": [
       "['fk_ratio',\n",
       " 'pk_per_shot',\n",
       " 'fk_percentage',\n",
       " 'pk_per_shot_percentage',\n",
       " 'rolling_xg',\n",
       " 'rolling_xga',\n",
       " 'rolling_poss',\n",
       " 'rolling_sh',\n",
       " 'rolling_sot',\n",
       " 'rolling_dist',\n",
       " 'form',\n",
       " 'rolling_goal_diff',\n",
       " 'h2h_record',\n",
       " 'day_of_week',\n",
       " 'days_since_last_match']"
      ]
     },
     "execution_count": 91,
     "metadata": {},
     "output_type": "execute_result"
    }
   ],
   "source": [
    "num_cols = df_sorted.select_dtypes(include=np.number).columns\n",
    "num_cols = num_cols.drop(['season']) \n",
    "num_cols = num_cols.tolist()\n",
    "num_cols"
   ]
  },
  {
   "cell_type": "code",
   "execution_count": 99,
   "id": "c6b2094c",
   "metadata": {},
   "outputs": [
    {
     "data": {
      "text/plain": [
       "['time',\n",
       " 'venue',\n",
       " 'opponent',\n",
       " 'captain',\n",
       " 'formation',\n",
       " 'opp formation',\n",
       " 'team',\n",
       " 'time_condition']"
      ]
     },
     "execution_count": 99,
     "metadata": {},
     "output_type": "execute_result"
    }
   ],
   "source": [
    "cat_cols = df_sorted.select_dtypes(exclude=np.number).columns\n",
    "cat_cols = cat_cols.drop(['result', 'date'])\n",
    "cat_cols = cat_cols.tolist()\n",
    "cat_cols"
   ]
  },
  {
   "cell_type": "code",
   "execution_count": 100,
   "id": "ff841f9a",
   "metadata": {},
   "outputs": [
    {
     "data": {
      "text/plain": [
       "23"
      ]
     },
     "execution_count": 100,
     "metadata": {},
     "output_type": "execute_result"
    }
   ],
   "source": [
    "predictors = num_cols + cat_cols\n",
    "len(predictors)"
   ]
  },
  {
   "cell_type": "code",
   "execution_count": 101,
   "id": "a8efdc6e",
   "metadata": {},
   "outputs": [
    {
     "data": {
      "text/plain": [
       "['fk_ratio',\n",
       " 'pk_per_shot',\n",
       " 'fk_percentage',\n",
       " 'pk_per_shot_percentage',\n",
       " 'rolling_xg',\n",
       " 'rolling_xga',\n",
       " 'rolling_poss',\n",
       " 'rolling_sh',\n",
       " 'rolling_sot',\n",
       " 'rolling_dist',\n",
       " 'form',\n",
       " 'rolling_goal_diff',\n",
       " 'h2h_record',\n",
       " 'day_of_week',\n",
       " 'days_since_last_match',\n",
       " 'time',\n",
       " 'venue',\n",
       " 'opponent',\n",
       " 'captain',\n",
       " 'formation',\n",
       " 'opp formation',\n",
       " 'team',\n",
       " 'time_condition']"
      ]
     },
     "execution_count": 101,
     "metadata": {},
     "output_type": "execute_result"
    }
   ],
   "source": [
    "predictors"
   ]
  },
  {
   "cell_type": "code",
   "execution_count": 102,
   "id": "6770af87",
   "metadata": {},
   "outputs": [],
   "source": [
    "cat_pipeline = Pipeline(steps=[\n",
    "    ('onehot', OneHotEncoder(handle_unknown='ignore'))\n",
    "])\n",
    "\n",
    "num_pipeline = Pipeline(steps=[\n",
    "    ('scaler', StandardScaler())\n",
    "])\n",
    "\n",
    "\n",
    "preprocessor = ColumnTransformer(\n",
    "    transformers=[\n",
    "        ('num', num_pipeline, num_cols),\n",
    "        ('cat', cat_pipeline, cat_cols)\n",
    "    ])\n"
   ]
  },
  {
   "cell_type": "markdown",
   "id": "11c46e64",
   "metadata": {},
   "source": [
    "## Multiclass Classification (Win, Draw, Loss)"
   ]
  },
  {
   "cell_type": "code",
   "execution_count": 103,
   "id": "c89ae69a",
   "metadata": {},
   "outputs": [],
   "source": [
    "train = df_sorted[df_sorted[\"season\"] <= 2023]\n",
    "test = df_sorted[df_sorted[\"season\"] > 2023]"
   ]
  },
  {
   "cell_type": "code",
   "execution_count": 104,
   "id": "68df9c88",
   "metadata": {},
   "outputs": [
    {
     "data": {
      "text/plain": [
       "((3039, 26), (760, 26))"
      ]
     },
     "execution_count": 104,
     "metadata": {},
     "output_type": "execute_result"
    }
   ],
   "source": [
    "train.shape, test.shape"
   ]
  },
  {
   "cell_type": "code",
   "execution_count": 105,
   "id": "cdaa931f",
   "metadata": {},
   "outputs": [],
   "source": [
    "label_enc = LabelEncoder()\n",
    "train['result'] = label_enc.fit_transform(train['result'])\n",
    "test['result'] = label_enc.transform(test['result'])"
   ]
  },
  {
   "cell_type": "code",
   "execution_count": 106,
   "id": "9015c20a",
   "metadata": {},
   "outputs": [
    {
     "data": {
      "text/plain": [
       "result\n",
       "2    1170\n",
       "1    1170\n",
       "0     699\n",
       "Name: count, dtype: int64"
      ]
     },
     "execution_count": 106,
     "metadata": {},
     "output_type": "execute_result"
    }
   ],
   "source": [
    "train['result'].value_counts()"
   ]
  },
  {
   "cell_type": "code",
   "execution_count": 107,
   "id": "06590dce",
   "metadata": {},
   "outputs": [
    {
     "name": "stdout",
     "output_type": "stream",
     "text": [
      "Accuracy: 65.26%\n"
     ]
    }
   ],
   "source": [
    "lr = Pipeline(steps=[\n",
    "    ('preprocessor', preprocessor),\n",
    "    ('classifier', LogisticRegression(C=0.1))\n",
    "])\n",
    "\n",
    "lr.fit(train[predictors], train['result'])\n",
    "preds_lr = lr.predict(test[predictors])\n",
    "acc = accuracy_score(test['result'], preds_lr)\n",
    "print(f'Accuracy: {acc * 100:.2f}%')"
   ]
  },
  {
   "cell_type": "code",
   "execution_count": 108,
   "id": "bc972827",
   "metadata": {},
   "outputs": [
    {
     "data": {
      "image/png": "[encoded data removed]",
      "text/plain": [
       "<Figure size 640x480 with 1 Axes>"
      ]
     },
     "metadata": {},
     "output_type": "display_data"
    }
   ],
   "source": [
    "sns.heatmap(confusion_matrix(test['result'], preds_lr), annot=True, fmt='d', cmap='Blues', cbar=False)\n",
    "plt.xlabel('Predicted', fontsize=12, fontweight='bold')\n",
    "plt.ylabel('Actual', fontsize=12, fontweight='bold')\n",
    "plt.show()"
   ]
  },
  {
   "cell_type": "code",
   "execution_count": 109,
   "id": "642daac6",
   "metadata": {},
   "outputs": [
    {
     "name": "stdout",
     "output_type": "stream",
     "text": [
      "              precision    recall  f1-score   support\n",
      "\n",
      "           0       0.35      0.09      0.14       164\n",
      "           1       0.68      0.82      0.74       298\n",
      "           2       0.66      0.80      0.72       298\n",
      "\n",
      "    accuracy                           0.65       760\n",
      "   macro avg       0.56      0.57      0.54       760\n",
      "weighted avg       0.60      0.65      0.61       760\n",
      "\n"
     ]
    }
   ],
   "source": [
    "\n",
    "print(classification_report(test['result'], preds_lr))"
   ]
  },
  {
   "cell_type": "code",
   "execution_count": 110,
   "id": "e2e06268",
   "metadata": {},
   "outputs": [],
   "source": [
    "def test_models(models, train, test, predictors, target):\n",
    "    models_df = pd.DataFrame(columns=['Model', 'Accuracy'])\n",
    "    for name, model in models.items():\n",
    "    \n",
    "        pipeline = Pipeline(steps=[\n",
    "            ('preprocessor', preprocessor),\n",
    "            ('classifier', model)\n",
    "        ])\n",
    "        \n",
    "        pipeline.fit(train[predictors], train[target])\n",
    "        \n",
    "        preds = pipeline.predict(test[predictors])\n",
    "        \n",
    "        acc = accuracy_score(test[target], preds)\n",
    "        models_df = pd.concat([models_df, pd.DataFrame({'Model': [name], 'Accuracy': [acc]})])\n",
    "    models_df = models_df.sort_values(by='Accuracy', ascending=False)\n",
    "    return models_df"
   ]
  },
  {
   "cell_type": "code",
   "execution_count": 111,
   "id": "a786b7f3",
   "metadata": {},
   "outputs": [],
   "source": [
    "models = {\n",
    "    'GradientBoostingClassifier': GradientBoostingClassifier(),\n",
    "    'RandomForestClassifier': RandomForestClassifier(n_jobs=1),\n",
    "    'AdaBoostClassifier': AdaBoostClassifier(),\n",
    "    'BaggingClassifier': BaggingClassifier(n_jobs=1),\n",
    "    'ExtraTreesClassifier': ExtraTreesClassifier(n_jobs=1),\n",
    "    'LogisticRegression': LogisticRegression(),\n",
    "    'LogisticRegressionL1': LogisticRegression(penalty='l1', solver='liblinear'),\n",
    "    'SGDClassifier': SGDClassifier(),\n",
    "    'RidgeClassifier': RidgeClassifier(),\n",
    "    'DecisionTreeClassifier': DecisionTreeClassifier(),\n",
    "    'KNeighborsClassifier': KNeighborsClassifier(),\n",
    "    'MLPClassifier': MLPClassifier(),\n",
    "    'SVC': SVC(),\n",
    "    'LGBMClassifier': lgb.LGBMClassifier(verbose=0, n_jobs=1),\n",
    "    'CatBoostClassifier': cb.CatBoostClassifier(silent=True),\n",
    "    'XGBClassifier': xgb.XGBClassifier(n_jobs=1)\n",
    "}\n"
   ]
  },
  {
   "cell_type": "code",
   "execution_count": 112,
   "id": "190cabe2",
   "metadata": {},
   "outputs": [
    {
     "data": {
      "text/html": [
       "<div>\n",
       "<style scoped>\n",
       "    .dataframe tbody tr th:only-of-type {\n",
       "        vertical-align: middle;\n",
       "    }\n",
       "\n",
       "    .dataframe tbody tr th {\n",
       "        vertical-align: top;\n",
       "    }\n",
       "\n",
       "    .dataframe thead th {\n",
       "        text-align: right;\n",
       "    }\n",
       "</style>\n",
       "<table border=\"1\" class=\"dataframe\">\n",
       "  <thead>\n",
       "    <tr style=\"text-align: right;\">\n",
       "      <th></th>\n",
       "      <th>Model</th>\n",
       "      <th>Accuracy</th>\n",
       "    </tr>\n",
       "  </thead>\n",
       "  <tbody>\n",
       "    <tr>\n",
       "      <th>0</th>\n",
       "      <td>ExtraTreesClassifier</td>\n",
       "      <td>0.665789</td>\n",
       "    </tr>\n",
       "    <tr>\n",
       "      <th>0</th>\n",
       "      <td>RidgeClassifier</td>\n",
       "      <td>0.657895</td>\n",
       "    </tr>\n",
       "    <tr>\n",
       "      <th>0</th>\n",
       "      <td>SVC</td>\n",
       "      <td>0.657895</td>\n",
       "    </tr>\n",
       "    <tr>\n",
       "      <th>0</th>\n",
       "      <td>LogisticRegressionL1</td>\n",
       "      <td>0.655263</td>\n",
       "    </tr>\n",
       "    <tr>\n",
       "      <th>0</th>\n",
       "      <td>RandomForestClassifier</td>\n",
       "      <td>0.651316</td>\n",
       "    </tr>\n",
       "    <tr>\n",
       "      <th>0</th>\n",
       "      <td>LGBMClassifier</td>\n",
       "      <td>0.646053</td>\n",
       "    </tr>\n",
       "    <tr>\n",
       "      <th>0</th>\n",
       "      <td>GradientBoostingClassifier</td>\n",
       "      <td>0.644737</td>\n",
       "    </tr>\n",
       "    <tr>\n",
       "      <th>0</th>\n",
       "      <td>CatBoostClassifier</td>\n",
       "      <td>0.643421</td>\n",
       "    </tr>\n",
       "    <tr>\n",
       "      <th>0</th>\n",
       "      <td>LogisticRegression</td>\n",
       "      <td>0.639474</td>\n",
       "    </tr>\n",
       "    <tr>\n",
       "      <th>0</th>\n",
       "      <td>SGDClassifier</td>\n",
       "      <td>0.632895</td>\n",
       "    </tr>\n",
       "    <tr>\n",
       "      <th>0</th>\n",
       "      <td>XGBClassifier</td>\n",
       "      <td>0.631579</td>\n",
       "    </tr>\n",
       "    <tr>\n",
       "      <th>0</th>\n",
       "      <td>AdaBoostClassifier</td>\n",
       "      <td>0.626316</td>\n",
       "    </tr>\n",
       "    <tr>\n",
       "      <th>0</th>\n",
       "      <td>BaggingClassifier</td>\n",
       "      <td>0.598684</td>\n",
       "    </tr>\n",
       "    <tr>\n",
       "      <th>0</th>\n",
       "      <td>KNeighborsClassifier</td>\n",
       "      <td>0.581579</td>\n",
       "    </tr>\n",
       "    <tr>\n",
       "      <th>0</th>\n",
       "      <td>MLPClassifier</td>\n",
       "      <td>0.578947</td>\n",
       "    </tr>\n",
       "    <tr>\n",
       "      <th>0</th>\n",
       "      <td>DecisionTreeClassifier</td>\n",
       "      <td>0.559211</td>\n",
       "    </tr>\n",
       "  </tbody>\n",
       "</table>\n",
       "</div>"
      ],
      "text/plain": [
       "                        Model  Accuracy\n",
       "0        ExtraTreesClassifier  0.665789\n",
       "0             RidgeClassifier  0.657895\n",
       "0                         SVC  0.657895\n",
       "0        LogisticRegressionL1  0.655263\n",
       "0      RandomForestClassifier  0.651316\n",
       "0              LGBMClassifier  0.646053\n",
       "0  GradientBoostingClassifier  0.644737\n",
       "0          CatBoostClassifier  0.643421\n",
       "0          LogisticRegression  0.639474\n",
       "0               SGDClassifier  0.632895\n",
       "0               XGBClassifier  0.631579\n",
       "0          AdaBoostClassifier  0.626316\n",
       "0           BaggingClassifier  0.598684\n",
       "0        KNeighborsClassifier  0.581579\n",
       "0               MLPClassifier  0.578947\n",
       "0      DecisionTreeClassifier  0.559211"
      ]
     },
     "execution_count": 112,
     "metadata": {},
     "output_type": "execute_result"
    }
   ],
   "source": [
    "models_df = test_models(models, train, test, predictors, 'result')\n",
    "models_df"
   ]
  },
  {
   "cell_type": "markdown",
   "id": "3b0307a0",
   "metadata": {},
   "source": [
    "## Binary Classification (Win, Loss)"
   ]
  },
  {
   "cell_type": "code",
   "execution_count": 113,
   "id": "a71b6ff6",
   "metadata": {},
   "outputs": [],
   "source": [
    "df_sorted_binary = df_sorted.copy()\n",
    "\n",
    "df_sorted_binary['result'] = df_sorted_binary['result'].apply(lambda x: 1 if x == 'W' else 0)"
   ]
  },
  {
   "cell_type": "code",
   "execution_count": 114,
   "id": "00c1ffb6",
   "metadata": {},
   "outputs": [],
   "source": [
    "for col in df_sorted_binary.select_dtypes(include='object').columns:\n",
    "    df_sorted_binary[col] = df_sorted_binary[col].astype('category')"
   ]
  },
  {
   "cell_type": "code",
   "execution_count": 115,
   "id": "ffd8dbe4",
   "metadata": {},
   "outputs": [],
   "source": [
    "train_binary = df_sorted_binary[df_sorted_binary[\"season\"] <= 2023]\n",
    "test_binary = df_sorted_binary[df_sorted_binary[\"season\"] > 2023]"
   ]
  },
  {
   "cell_type": "code",
   "execution_count": 116,
   "id": "a1298ac8",
   "metadata": {},
   "outputs": [
    {
     "data": {
      "text/plain": [
       "((3039, 26), (760, 26))"
      ]
     },
     "execution_count": 116,
     "metadata": {},
     "output_type": "execute_result"
    }
   ],
   "source": [
    "train_binary.shape, test_binary.shape"
   ]
  },
  {
   "cell_type": "code",
   "execution_count": 117,
   "id": "e3b62627",
   "metadata": {},
   "outputs": [
    {
     "name": "stdout",
     "output_type": "stream",
     "text": [
      "Accuracy: 77.89%\n"
     ]
    }
   ],
   "source": [
    "lr = Pipeline(steps=[\n",
    "    ('preprocessor', preprocessor),\n",
    "    ('classifier', LogisticRegression())\n",
    "])\n",
    "\n",
    "lr.fit(train_binary[predictors], train_binary['result'])\n",
    "preds_lr = lr.predict(test_binary[predictors])\n",
    "acc = accuracy_score(test_binary['result'], preds_lr)\n",
    "print(f'Accuracy: {acc * 100:.2f}%')"
   ]
  },
  {
   "cell_type": "code",
   "execution_count": 118,
   "id": "c37fb414",
   "metadata": {},
   "outputs": [
    {
     "data": {
      "image/png": "[encoded data removed]",
      "text/plain": [
       "<Figure size 640x480 with 1 Axes>"
      ]
     },
     "metadata": {},
     "output_type": "display_data"
    }
   ],
   "source": [
    "sns.heatmap(confusion_matrix(test_binary['result'], preds_lr), annot=True, fmt='d', cmap='Blues', cbar=False)\n",
    "plt.xlabel('Predicted', fontsize=12, fontweight='bold')\n",
    "plt.ylabel('Actual', fontsize=12, fontweight='bold')\n",
    "plt.show()"
   ]
  },
  {
   "cell_type": "code",
   "execution_count": 119,
   "id": "6f5f924d",
   "metadata": {},
   "outputs": [
    {
     "name": "stdout",
     "output_type": "stream",
     "text": [
      "              precision    recall  f1-score   support\n",
      "\n",
      "           0       0.81      0.83      0.82       462\n",
      "           1       0.73      0.70      0.71       298\n",
      "\n",
      "    accuracy                           0.78       760\n",
      "   macro avg       0.77      0.76      0.77       760\n",
      "weighted avg       0.78      0.78      0.78       760\n",
      "\n"
     ]
    }
   ],
   "source": [
    "print(classification_report(test_binary['result'], preds_lr))"
   ]
  },
  {
   "cell_type": "code",
   "execution_count": 120,
   "id": "58f63b32",
   "metadata": {},
   "outputs": [
    {
     "data": {
      "image/png": "[encoded data removed]",
      "text/plain": [
       "<Figure size 640x480 with 1 Axes>"
      ]
     },
     "metadata": {},
     "output_type": "display_data"
    }
   ],
   "source": [
    "y_pred_prob = lr.predict_proba(test_binary.drop('result', axis=1))[:, 1]\n",
    "roc_auc = roc_auc_score(test_binary['result'], y_pred_prob)\n",
    "fpr, tpr, thresholds = roc_curve(test_binary['result'], y_pred_prob)\n",
    "\n",
    "plt.plot([0, 1], [0, 1], 'k--')\n",
    "plt.plot(fpr, tpr, label='Logistic Regression')\n",
    "plt.xlabel('False Positive Rate')\n",
    "plt.ylabel('True Positive Rate')\n",
    "plt.title('Logistic Regression ROC Curve')\n",
    "plt.show()"
   ]
  },
  {
   "cell_type": "code",
   "execution_count": 121,
   "id": "1c1aedff",
   "metadata": {},
   "outputs": [],
   "source": [
    "# Access the logistic regression classifier from the pipeline\n",
    "classifier = lr.named_steps['classifier']\n",
    "\n",
    "# Get the coefficients (feature importance)\n",
    "feature_importance = classifier.coef_[0]\n",
    "\n",
    "# Get the feature names\n",
    "feature_names = train_binary[predictors].columns\n",
    "\n",
    "# Pair feature names with their importance\n",
    "features_importance_dict = dict(zip(feature_names, feature_importance))\n",
    "\n",
    "# Sort the features by their importance\n",
    "sorted_features = sorted(features_importance_dict.items(), key=lambda x: np.abs(x[1]), reverse=True)\n"
   ]
  },
  {
   "cell_type": "code",
   "execution_count": 122,
   "id": "6230de33",
   "metadata": {},
   "outputs": [
    {
     "data": {
      "image/png": "[encoded data removed]",
      "text/plain": [
       "<Figure size 1000x800 with 1 Axes>"
      ]
     },
     "metadata": {},
     "output_type": "display_data"
    }
   ],
   "source": [
    "# Unzip the sorted features\n",
    "features, importance = zip(*sorted_features)\n",
    "\n",
    "# Plot\n",
    "plt.figure(figsize=(10, 8))\n",
    "plt.barh(features, importance, color='skyblue')\n",
    "plt.xlabel('Coefficient Value')\n",
    "plt.ylabel('Feature')\n",
    "plt.title('Feature Importance - Logistic Regression')\n",
    "plt.gca().invert_yaxis()  # Invert y-axis to have the most important feature at the top\n",
    "plt.show()\n"
   ]
  },
  {
   "cell_type": "code",
   "execution_count": 123,
   "id": "cfdd3eb3",
   "metadata": {},
   "outputs": [
    {
     "name": "stdout",
     "output_type": "stream",
     "text": [
      "Accuracy: 78.68%\n"
     ]
    }
   ],
   "source": [
    "gb= Pipeline(steps=[\n",
    "    ('preprocessor', preprocessor),\n",
    "    ('classifier', GradientBoostingClassifier())\n",
    "])\n",
    "gb.fit(train_binary[predictors], train_binary['result'])\n",
    "preds_gb = gb.predict(test_binary[predictors])\n",
    "acc = accuracy_score(test_binary['result'], preds_gb)\n",
    "print(f'Accuracy: {acc * 100:.2f}%')"
   ]
  },
  {
   "cell_type": "code",
   "execution_count": 124,
   "id": "2643e0d1",
   "metadata": {},
   "outputs": [
    {
     "data": {
      "image/png": "[encoded data removed]",
      "text/plain": [
       "<Figure size 640x480 with 1 Axes>"
      ]
     },
     "metadata": {},
     "output_type": "display_data"
    }
   ],
   "source": [
    "sns.heatmap(confusion_matrix(test_binary['result'], preds_gb), annot=True, fmt='d', cmap='Blues', cbar=False)\n",
    "plt.xlabel('Predicted', fontsize=12, fontweight='bold')\n",
    "plt.ylabel('Actual', fontsize=12, fontweight='bold')\n",
    "plt.show()"
   ]
  },
  {
   "cell_type": "code",
   "execution_count": 125,
   "id": "e4e698b9",
   "metadata": {},
   "outputs": [
    {
     "name": "stdout",
     "output_type": "stream",
     "text": [
      "              precision    recall  f1-score   support\n",
      "\n",
      "           0       0.82      0.84      0.83       462\n",
      "           1       0.74      0.71      0.72       298\n",
      "\n",
      "    accuracy                           0.79       760\n",
      "   macro avg       0.78      0.77      0.78       760\n",
      "weighted avg       0.79      0.79      0.79       760\n",
      "\n"
     ]
    }
   ],
   "source": [
    "print(classification_report(test_binary['result'], preds_gb))"
   ]
  },
  {
   "cell_type": "code",
   "execution_count": 126,
   "id": "c920a7c2",
   "metadata": {},
   "outputs": [
    {
     "data": {
      "image/png": "[encoded data removed]",
      "text/plain": [
       "<Figure size 640x480 with 1 Axes>"
      ]
     },
     "metadata": {},
     "output_type": "display_data"
    }
   ],
   "source": [
    "y_pred_prob = gb.predict_proba(test_binary.drop('result', axis=1))[:, 1]\n",
    "roc_auc = roc_auc_score(test_binary['result'], y_pred_prob)\n",
    "fpr, tpr, thresholds = roc_curve(test_binary['result'], y_pred_prob)\n",
    "\n",
    "plt.plot([0, 1], [0, 1], 'k--')\n",
    "plt.plot(fpr, tpr, label='Gradient Boosting')\n",
    "plt.xlabel('False Positive Rate')\n",
    "plt.ylabel('True Positive Rate')\n",
    "plt.title('Gradient Boosting ROC Curve')\n",
    "plt.show()"
   ]
  },
  {
   "cell_type": "code",
   "execution_count": 127,
   "id": "a6d919d1",
   "metadata": {},
   "outputs": [
    {
     "data": {
      "image/png": "[encoded data removed]",
      "text/plain": [
       "<Figure size 1000x800 with 1 Axes>"
      ]
     },
     "metadata": {},
     "output_type": "display_data"
    }
   ],
   "source": [
    "feature_importance = gb.named_steps['classifier'].feature_importances_\n",
    "\n",
    "# Pair feature names with their importance\n",
    "features_importance_dict = dict(zip(feature_names, feature_importance))\n",
    "\n",
    "# Sort the features by their importance\n",
    "sorted_features = sorted(features_importance_dict.items(), key=lambda x: x[1], reverse=True)\n",
    "\n",
    "# Unzip the sorted features\n",
    "features, importance = zip(*sorted_features)\n",
    "\n",
    "# Plot\n",
    "plt.figure(figsize=(10, 8))\n",
    "plt.barh(features, importance, color='skyblue')\n",
    "plt.xlabel('Feature Importance')\n",
    "plt.ylabel('Feature')\n",
    "plt.title('Feature Importance - Gradient Boosting')\n",
    "plt.gca().invert_yaxis()  \n",
    "plt.show()"
   ]
  },
  {
   "cell_type": "code",
   "execution_count": 142,
   "id": "8450e3c8",
   "metadata": {},
   "outputs": [],
   "source": [
    "models = {\n",
    "    'GradientBoostingClassifier': GradientBoostingClassifier(),\n",
    "    'RandomForestClassifier': RandomForestClassifier(n_jobs=1),\n",
    "    'AdaBoostClassifier': AdaBoostClassifier(),\n",
    "    'BaggingClassifier': BaggingClassifier(n_jobs=1),\n",
    "    'ExtraTreesClassifier': ExtraTreesClassifier(n_jobs=1),\n",
    "    'LogisticRegression': LogisticRegression(),\n",
    "    'LogisticRegressionL1': LogisticRegression(penalty='l1', solver='liblinear'),\n",
    "    'SGDClassifier': SGDClassifier(),\n",
    "    'RidgeClassifier': RidgeClassifier(),\n",
    "    'DecisionTreeClassifier': DecisionTreeClassifier(),\n",
    "    'KNeighborsClassifier': KNeighborsClassifier(),\n",
    "    'MLPClassifier': MLPClassifier(),\n",
    "    'SVC': SVC(),\n",
    "    'LGBMClassifier': lgb.LGBMClassifier(verbose=0, n_jobs=1),\n",
    "    'CatBoostClassifier': cb.CatBoostClassifier(silent=True),\n",
    "    'XGBClassifier': xgb.XGBClassifier(n_jobs=1)\n",
    "}\n"
   ]
  },
  {
   "cell_type": "code",
   "execution_count": 143,
   "id": "bc31e799",
   "metadata": {},
   "outputs": [],
   "source": [
    "model_binary = test_models(models, train_binary, test_binary, predictors, 'result')\n",
    "model_binary"
   ]
  },
  {
   "cell_type": "code",
   "execution_count": 130,
   "id": "1fa6829a",
   "metadata": {},
   "outputs": [
    {
     "name": "stdout",
     "output_type": "stream",
     "text": [
      "Accuracy: 78.82%\n"
     ]
    }
   ],
   "source": [
    "gb = Pipeline(steps=[\n",
    "    ('preprocessor', preprocessor),\n",
    "    ('classifier', GradientBoostingClassifier())\n",
    "])\n",
    "\n",
    "gb.fit(train_binary[predictors], train_binary['result'])\n",
    "preds_gb = gb.predict(test_binary[predictors])\n",
    "acc = accuracy_score(test_binary['result'], preds_gb)\n",
    "print(f'Accuracy: {acc * 100:.2f}%')"
   ]
  },
  {
   "cell_type": "code",
   "execution_count": 131,
   "id": "e5869d0a",
   "metadata": {},
   "outputs": [],
   "source": [
    "import pickle\n",
    "with open('grad_boost.pkl', 'wb') as f:\n",
    "    pickle.dump(gb, f)"
   ]
  },
  {
   "cell_type": "code",
   "execution_count": 132,
   "id": "72a0db4d",
   "metadata": {},
   "outputs": [
    {
     "name": "stdout",
     "output_type": "stream",
     "text": [
      "Accuracy: 78.16%\n"
     ]
    }
   ],
   "source": [
    "cat = Pipeline(steps=[\n",
    "    ('preprocessor', preprocessor),\n",
    "    ('classifier', cb.CatBoostClassifier(silent=True))\n",
    "])\n",
    "\n",
    "cat.fit(train_binary[predictors], train_binary['result'])\n",
    "preds_cat = cat.predict(test_binary[predictors])\n",
    "acc = accuracy_score(test_binary['result'], preds_cat)\n",
    "print(f'Accuracy: {acc * 100:.2f}%')"
   ]
  },
  {
   "cell_type": "code",
   "execution_count": 133,
   "id": "5f16309c",
   "metadata": {},
   "outputs": [
    {
     "name": "stdout",
     "output_type": "stream",
     "text": [
      "Accuracy: 76.32%\n"
     ]
    }
   ],
   "source": [
    "et = Pipeline(steps=[\n",
    "    ('preprocessor', preprocessor),\n",
    "    ('classifier', ExtraTreesClassifier(random_state=42))\n",
    "])\n",
    "\n",
    "et.fit(train_binary[predictors], train_binary['result'])\n",
    "preds_et = et.predict(test_binary[predictors])\n",
    "acc = accuracy_score(test_binary['result'], preds_et)\n",
    "print(f'Accuracy: {acc * 100:.2f}%')"
   ]
  },
  {
   "cell_type": "code",
   "execution_count": 134,
   "id": "14593a42",
   "metadata": {},
   "outputs": [
    {
     "name": "stdout",
     "output_type": "stream",
     "text": [
      "Accuracy: 78.95%\n"
     ]
    }
   ],
   "source": [
    "svc = Pipeline(steps=[\n",
    "    ('preprocessor', preprocessor),\n",
    "    ('classifier', SVC(C=0.01, kernel='linear'))\n",
    "])\n",
    "\n",
    "svc.fit(train_binary[predictors], train_binary['result'])\n",
    "preds_svc = svc.predict(test_binary[predictors])\n",
    "acc = accuracy_score(test_binary['result'], preds_svc)\n",
    "print(f'Accuracy: {acc * 100:.2f}%')"
   ]
  },
  {
   "cell_type": "code",
   "execution_count": 135,
   "id": "d011d828",
   "metadata": {},
   "outputs": [
    {
     "name": "stdout",
     "output_type": "stream",
     "text": [
      "Accuracy: 79.08%\n"
     ]
    }
   ],
   "source": [
    "st = StackingClassifier(estimators=[\n",
    "    ('svc', SVC(C=0.01, kernel='linear')),\n",
    "    ('lr', LogisticRegression()),\n",
    "    ('gb', GradientBoostingClassifier()),\n",
    "    ('et', ExtraTreesClassifier(random_state=42))\n",
    "], final_estimator=LogisticRegression())\n",
    "\n",
    "st_pipe = Pipeline(steps=[\n",
    "    ('preprocessor', preprocessor),\n",
    "    ('classifier', st)\n",
    "])\n",
    "\n",
    "st_pipe.fit(train_binary[predictors], train_binary['result'])\n",
    "preds_st = st_pipe.predict(test_binary[predictors])\n",
    "acc = accuracy_score(test_binary['result'], preds_st)\n",
    "print(f'Accuracy: {acc * 100:.2f}%')"
   ]
  },
  {
   "cell_type": "code",
   "execution_count": 136,
   "id": "c25bfc93",
   "metadata": {},
   "outputs": [
    {
     "data": {
      "image/png": "[encoded data removed]",
      "text/plain": [
       "<Figure size 640x480 with 1 Axes>"
      ]
     },
     "metadata": {},
     "output_type": "display_data"
    }
   ],
   "source": [
    "sns.heatmap(confusion_matrix(test_binary['result'], preds_st), annot=True, fmt='d', cmap='Blues', cbar=False)\n",
    "\n",
    "plt.xlabel('Predicted', fontsize=12, fontweight='bold')\n",
    "plt.ylabel('Actual', fontsize=12, fontweight='bold')\n",
    "\n",
    "plt.show()"
   ]
  },
  {
   "cell_type": "code",
   "execution_count": 137,
   "id": "02aa24b2",
   "metadata": {},
   "outputs": [
    {
     "name": "stdout",
     "output_type": "stream",
     "text": [
      "              precision    recall  f1-score   support\n",
      "\n",
      "           0       0.81      0.86      0.83       462\n",
      "           1       0.76      0.68      0.72       298\n",
      "\n",
      "    accuracy                           0.79       760\n",
      "   macro avg       0.78      0.77      0.78       760\n",
      "weighted avg       0.79      0.79      0.79       760\n",
      "\n"
     ]
    }
   ],
   "source": [
    "print(classification_report(test_binary['result'], preds_st))"
   ]
  },
  {
   "cell_type": "code",
   "execution_count": 138,
   "id": "2abdce38",
   "metadata": {},
   "outputs": [
    {
     "data": {
      "image/png": "[encoded data removed]",
      "text/plain": [
       "<Figure size 640x480 with 1 Axes>"
      ]
     },
     "metadata": {},
     "output_type": "display_data"
    }
   ],
   "source": [
    "y_pred_prob = st_pipe.predict_proba(test_binary.drop('result', axis=1))[:, 1]\n",
    "roc_auc = roc_auc_score(test_binary['result'], y_pred_prob)\n",
    "fpr, tpr, thresholds = roc_curve(test_binary['result'], y_pred_prob)\n",
    "\n",
    "plt.plot([0, 1], [0, 1], 'k--')\n",
    "plt.plot(fpr, tpr, label='Logistic Regression')\n",
    "plt.xlabel('False Positive Rate')\n",
    "plt.ylabel('True Positive Rate')\n",
    "plt.title('Logistic Regression ROC Curve')\n",
    "plt.show()"
   ]
  },
  {
   "cell_type": "markdown",
   "id": "57394602",
   "metadata": {},
   "source": [
    "## Neural Network model"
   ]
  },
  {
   "cell_type": "code",
   "execution_count": 139,
   "id": "4c063165",
   "metadata": {},
   "outputs": [
    {
     "data": {
      "text/html": [
       "<pre style=\"white-space:pre;overflow-x:auto;line-height:normal;font-family:Menlo,'DejaVu Sans Mono',consolas,'Courier New',monospace\"><span style=\"font-weight: bold\">Model: \"sequential\"</span>\n",
       "</pre>\n"
      ],
      "text/plain": [
       "\u001b[1mModel: \"sequential\"\u001b[0m\n"
      ]
     },
     "metadata": {},
     "output_type": "display_data"
    },
    {
     "data": {
      "text/html": [
       "<pre style=\"white-space:pre;overflow-x:auto;line-height:normal;font-family:Menlo,'DejaVu Sans Mono',consolas,'Courier New',monospace\">┏━━━━━━━━━━━━━━━━━━━━━━━━━━━━━━━━━┳━━━━━━━━━━━━━━━━━━━━━━━━┳━━━━━━━━━━━━━━━┓\n",
       "┃<span style=\"font-weight: bold\"> Layer (type)                    </span>┃<span style=\"font-weight: bold\"> Output Shape           </span>┃<span style=\"font-weight: bold\">       Param # </span>┃\n",
       "┡━━━━━━━━━━━━━━━━━━━━━━━━━━━━━━━━━╇━━━━━━━━━━━━━━━━━━━━━━━━╇━━━━━━━━━━━━━━━┩\n",
       "│ dense (<span style=\"color: #0087ff; text-decoration-color: #0087ff\">Dense</span>)                   │ (<span style=\"color: #00d7ff; text-decoration-color: #00d7ff\">None</span>, <span style=\"color: #00af00; text-decoration-color: #00af00\">128</span>)            │        <span style=\"color: #00af00; text-decoration-color: #00af00\">35,072</span> │\n",
       "├─────────────────────────────────┼────────────────────────┼───────────────┤\n",
       "│ dropout (<span style=\"color: #0087ff; text-decoration-color: #0087ff\">Dropout</span>)               │ (<span style=\"color: #00d7ff; text-decoration-color: #00d7ff\">None</span>, <span style=\"color: #00af00; text-decoration-color: #00af00\">128</span>)            │             <span style=\"color: #00af00; text-decoration-color: #00af00\">0</span> │\n",
       "├─────────────────────────────────┼────────────────────────┼───────────────┤\n",
       "│ dense_1 (<span style=\"color: #0087ff; text-decoration-color: #0087ff\">Dense</span>)                 │ (<span style=\"color: #00d7ff; text-decoration-color: #00d7ff\">None</span>, <span style=\"color: #00af00; text-decoration-color: #00af00\">64</span>)             │         <span style=\"color: #00af00; text-decoration-color: #00af00\">8,256</span> │\n",
       "├─────────────────────────────────┼────────────────────────┼───────────────┤\n",
       "│ dropout_1 (<span style=\"color: #0087ff; text-decoration-color: #0087ff\">Dropout</span>)             │ (<span style=\"color: #00d7ff; text-decoration-color: #00d7ff\">None</span>, <span style=\"color: #00af00; text-decoration-color: #00af00\">64</span>)             │             <span style=\"color: #00af00; text-decoration-color: #00af00\">0</span> │\n",
       "├─────────────────────────────────┼────────────────────────┼───────────────┤\n",
       "│ dense_2 (<span style=\"color: #0087ff; text-decoration-color: #0087ff\">Dense</span>)                 │ (<span style=\"color: #00d7ff; text-decoration-color: #00d7ff\">None</span>, <span style=\"color: #00af00; text-decoration-color: #00af00\">32</span>)             │         <span style=\"color: #00af00; text-decoration-color: #00af00\">2,080</span> │\n",
       "├─────────────────────────────────┼────────────────────────┼───────────────┤\n",
       "│ dropout_2 (<span style=\"color: #0087ff; text-decoration-color: #0087ff\">Dropout</span>)             │ (<span style=\"color: #00d7ff; text-decoration-color: #00d7ff\">None</span>, <span style=\"color: #00af00; text-decoration-color: #00af00\">32</span>)             │             <span style=\"color: #00af00; text-decoration-color: #00af00\">0</span> │\n",
       "├─────────────────────────────────┼────────────────────────┼───────────────┤\n",
       "│ dense_3 (<span style=\"color: #0087ff; text-decoration-color: #0087ff\">Dense</span>)                 │ (<span style=\"color: #00d7ff; text-decoration-color: #00d7ff\">None</span>, <span style=\"color: #00af00; text-decoration-color: #00af00\">1</span>)              │            <span style=\"color: #00af00; text-decoration-color: #00af00\">33</span> │\n",
       "└─────────────────────────────────┴────────────────────────┴───────────────┘\n",
       "</pre>\n"
      ],
      "text/plain": [
       "┏━━━━━━━━━━━━━━━━━━━━━━━━━━━━━━━━━┳━━━━━━━━━━━━━━━━━━━━━━━━┳━━━━━━━━━━━━━━━┓\n",
       "┃\u001b[1m \u001b[0m\u001b[1mLayer (type)                   \u001b[0m\u001b[1m \u001b[0m┃\u001b[1m \u001b[0m\u001b[1mOutput Shape          \u001b[0m\u001b[1m \u001b[0m┃\u001b[1m \u001b[0m\u001b[1m      Param #\u001b[0m\u001b[1m \u001b[0m┃\n",
       "┡━━━━━━━━━━━━━━━━━━━━━━━━━━━━━━━━━╇━━━━━━━━━━━━━━━━━━━━━━━━╇━━━━━━━━━━━━━━━┩\n",
       "│ dense (\u001b[38;5;33mDense\u001b[0m)                   │ (\u001b[38;5;45mNone\u001b[0m, \u001b[38;5;34m128\u001b[0m)            │        \u001b[38;5;34m35,072\u001b[0m │\n",
       "├─────────────────────────────────┼────────────────────────┼───────────────┤\n",
       "│ dropout (\u001b[38;5;33mDropout\u001b[0m)               │ (\u001b[38;5;45mNone\u001b[0m, \u001b[38;5;34m128\u001b[0m)            │             \u001b[38;5;34m0\u001b[0m │\n",
       "├─────────────────────────────────┼────────────────────────┼───────────────┤\n",
       "│ dense_1 (\u001b[38;5;33mDense\u001b[0m)                 │ (\u001b[38;5;45mNone\u001b[0m, \u001b[38;5;34m64\u001b[0m)             │         \u001b[38;5;34m8,256\u001b[0m │\n",
       "├─────────────────────────────────┼────────────────────────┼───────────────┤\n",
       "│ dropout_1 (\u001b[38;5;33mDropout\u001b[0m)             │ (\u001b[38;5;45mNone\u001b[0m, \u001b[38;5;34m64\u001b[0m)             │             \u001b[38;5;34m0\u001b[0m │\n",
       "├─────────────────────────────────┼────────────────────────┼───────────────┤\n",
       "│ dense_2 (\u001b[38;5;33mDense\u001b[0m)                 │ (\u001b[38;5;45mNone\u001b[0m, \u001b[38;5;34m32\u001b[0m)             │         \u001b[38;5;34m2,080\u001b[0m │\n",
       "├─────────────────────────────────┼────────────────────────┼───────────────┤\n",
       "│ dropout_2 (\u001b[38;5;33mDropout\u001b[0m)             │ (\u001b[38;5;45mNone\u001b[0m, \u001b[38;5;34m32\u001b[0m)             │             \u001b[38;5;34m0\u001b[0m │\n",
       "├─────────────────────────────────┼────────────────────────┼───────────────┤\n",
       "│ dense_3 (\u001b[38;5;33mDense\u001b[0m)                 │ (\u001b[38;5;45mNone\u001b[0m, \u001b[38;5;34m1\u001b[0m)              │            \u001b[38;5;34m33\u001b[0m │\n",
       "└─────────────────────────────────┴────────────────────────┴───────────────┘\n"
      ]
     },
     "metadata": {},
     "output_type": "display_data"
    },
    {
     "data": {
      "text/html": [
       "<pre style=\"white-space:pre;overflow-x:auto;line-height:normal;font-family:Menlo,'DejaVu Sans Mono',consolas,'Courier New',monospace\"><span style=\"font-weight: bold\"> Total params: </span><span style=\"color: #00af00; text-decoration-color: #00af00\">45,441</span> (177.50 KB)\n",
       "</pre>\n"
      ],
      "text/plain": [
       "\u001b[1m Total params: \u001b[0m\u001b[38;5;34m45,441\u001b[0m (177.50 KB)\n"
      ]
     },
     "metadata": {},
     "output_type": "display_data"
    },
    {
     "data": {
      "text/html": [
       "<pre style=\"white-space:pre;overflow-x:auto;line-height:normal;font-family:Menlo,'DejaVu Sans Mono',consolas,'Courier New',monospace\"><span style=\"font-weight: bold\"> Trainable params: </span><span style=\"color: #00af00; text-decoration-color: #00af00\">45,441</span> (177.50 KB)\n",
       "</pre>\n"
      ],
      "text/plain": [
       "\u001b[1m Trainable params: \u001b[0m\u001b[38;5;34m45,441\u001b[0m (177.50 KB)\n"
      ]
     },
     "metadata": {},
     "output_type": "display_data"
    },
    {
     "data": {
      "text/html": [
       "<pre style=\"white-space:pre;overflow-x:auto;line-height:normal;font-family:Menlo,'DejaVu Sans Mono',consolas,'Courier New',monospace\"><span style=\"font-weight: bold\"> Non-trainable params: </span><span style=\"color: #00af00; text-decoration-color: #00af00\">0</span> (0.00 B)\n",
       "</pre>\n"
      ],
      "text/plain": [
       "\u001b[1m Non-trainable params: \u001b[0m\u001b[38;5;34m0\u001b[0m (0.00 B)\n"
      ]
     },
     "metadata": {},
     "output_type": "display_data"
    }
   ],
   "source": [
    "import keras\n",
    "from keras.models import Sequential\n",
    "from keras.layers import Dense, Dropout\n",
    "from keras.optimizers import Adam\n",
    "from keras.callbacks import EarlyStopping\n",
    "from keras.regularizers import l2\n",
    "from keras.callbacks import ReduceLROnPlateau\n",
    "    \n",
    "\n",
    "\n",
    "train_binary_preprocessed = preprocessor.fit_transform(train_binary[predictors]).toarray()\n",
    "test_binary_preprocessed = preprocessor.transform(test_binary[predictors]).toarray()\n",
    "\n",
    "model = Sequential()\n",
    "model.add(Dense(128, input_dim=train_binary_preprocessed.shape[1], activation='relu', kernel_regularizer=l2(0.001)))\n",
    "model.add(Dropout(0.3))\n",
    "model.add(Dense(64, activation='relu', kernel_regularizer=l2(0.001)))\n",
    "model.add(Dropout(0.3))\n",
    "model.add(Dense(32, activation='relu', kernel_regularizer=l2(0.001)))\n",
    "model.add(Dropout(0.3))\n",
    "model.add(Dense(1, activation='sigmoid'))\n",
    "\n",
    "# Compile model with a custom learning rate\n",
    "model.compile(loss='binary_crossentropy', optimizer=Adam(learning_rate=0.001), metrics=['accuracy'])\n",
    "\n",
    "# Callbacks for early stopping and learning rate reduction\n",
    "early_stopping = EarlyStopping(monitor='val_loss', patience=30, restore_best_weights=True)\n",
    "reduce_lr = ReduceLROnPlateau(monitor='val_loss', factor=0.5, patience=5, min_lr=0.00001)\n",
    "\n",
    "model.summary()"
   ]
  },
  {
   "cell_type": "code",
   "execution_count": 140,
   "id": "bbe0c210",
   "metadata": {},
   "outputs": [
    {
     "name": "stdout",
     "output_type": "stream",
     "text": [
      "Epoch 1/100\n",
      "\u001b[1m76/76\u001b[0m \u001b[32m━━━━━━━━━━━━━━━━━━━━\u001b[0m\u001b[37m\u001b[0m \u001b[1m3s\u001b[0m 7ms/step - accuracy: 0.6616 - loss: 0.8840 - val_accuracy: 0.7516 - val_loss: 0.7132 - learning_rate: 0.0010\n",
      "Epoch 2/100\n",
      "\u001b[1m76/76\u001b[0m \u001b[32m━━━━━━━━━━━━━━━━━━━━\u001b[0m\u001b[37m\u001b[0m \u001b[1m0s\u001b[0m 4ms/step - accuracy: 0.7624 - loss: 0.6995 - val_accuracy: 0.7401 - val_loss: 0.6646 - learning_rate: 0.0010\n",
      "Epoch 3/100\n",
      "\u001b[1m76/76\u001b[0m \u001b[32m━━━━━━━━━━━━━━━━━━━━\u001b[0m\u001b[37m\u001b[0m \u001b[1m0s\u001b[0m 4ms/step - accuracy: 0.8044 - loss: 0.6210 - val_accuracy: 0.7434 - val_loss: 0.6436 - learning_rate: 0.0010\n",
      "Epoch 4/100\n",
      "\u001b[1m76/76\u001b[0m \u001b[32m━━━━━━━━━━━━━━━━━━━━\u001b[0m\u001b[37m\u001b[0m \u001b[1m1s\u001b[0m 4ms/step - accuracy: 0.7964 - loss: 0.5884 - val_accuracy: 0.7467 - val_loss: 0.6354 - learning_rate: 0.0010\n",
      "Epoch 5/100\n",
      "\u001b[1m76/76\u001b[0m \u001b[32m━━━━━━━━━━━━━━━━━━━━\u001b[0m\u001b[37m\u001b[0m \u001b[1m0s\u001b[0m 4ms/step - accuracy: 0.8072 - loss: 0.5625 - val_accuracy: 0.7434 - val_loss: 0.6239 - learning_rate: 0.0010\n",
      "Epoch 6/100\n",
      "\u001b[1m76/76\u001b[0m \u001b[32m━━━━━━━━━━━━━━━━━━━━\u001b[0m\u001b[37m\u001b[0m \u001b[1m0s\u001b[0m 3ms/step - accuracy: 0.8188 - loss: 0.5221 - val_accuracy: 0.7401 - val_loss: 0.6285 - learning_rate: 0.0010\n",
      "Epoch 7/100\n",
      "\u001b[1m76/76\u001b[0m \u001b[32m━━━━━━━━━━━━━━━━━━━━\u001b[0m\u001b[37m\u001b[0m \u001b[1m0s\u001b[0m 3ms/step - accuracy: 0.8263 - loss: 0.5154 - val_accuracy: 0.7484 - val_loss: 0.6287 - learning_rate: 0.0010\n",
      "Epoch 8/100\n",
      "\u001b[1m76/76\u001b[0m \u001b[32m━━━━━━━━━━━━━━━━━━━━\u001b[0m\u001b[37m\u001b[0m \u001b[1m1s\u001b[0m 11ms/step - accuracy: 0.8274 - loss: 0.5018 - val_accuracy: 0.7484 - val_loss: 0.6297 - learning_rate: 0.0010\n",
      "Epoch 9/100\n",
      "\u001b[1m76/76\u001b[0m \u001b[32m━━━━━━━━━━━━━━━━━━━━\u001b[0m\u001b[37m\u001b[0m \u001b[1m2s\u001b[0m 21ms/step - accuracy: 0.8321 - loss: 0.4793 - val_accuracy: 0.7467 - val_loss: 0.6571 - learning_rate: 0.0010\n",
      "Epoch 10/100\n",
      "\u001b[1m76/76\u001b[0m \u001b[32m━━━━━━━━━━━━━━━━━━━━\u001b[0m\u001b[37m\u001b[0m \u001b[1m2s\u001b[0m 24ms/step - accuracy: 0.8472 - loss: 0.4692 - val_accuracy: 0.7336 - val_loss: 0.6335 - learning_rate: 0.0010\n",
      "Epoch 11/100\n",
      "\u001b[1m76/76\u001b[0m \u001b[32m━━━━━━━━━━━━━━━━━━━━\u001b[0m\u001b[37m\u001b[0m \u001b[1m2s\u001b[0m 21ms/step - accuracy: 0.8532 - loss: 0.4500 - val_accuracy: 0.7467 - val_loss: 0.6583 - learning_rate: 5.0000e-04\n",
      "Epoch 12/100\n",
      "\u001b[1m76/76\u001b[0m \u001b[32m━━━━━━━━━━━━━━━━━━━━\u001b[0m\u001b[37m\u001b[0m \u001b[1m2s\u001b[0m 16ms/step - accuracy: 0.8637 - loss: 0.4239 - val_accuracy: 0.7418 - val_loss: 0.6635 - learning_rate: 5.0000e-04\n",
      "Epoch 13/100\n",
      "\u001b[1m76/76\u001b[0m \u001b[32m━━━━━━━━━━━━━━━━━━━━\u001b[0m\u001b[37m\u001b[0m \u001b[1m2s\u001b[0m 19ms/step - accuracy: 0.8720 - loss: 0.4181 - val_accuracy: 0.7385 - val_loss: 0.6733 - learning_rate: 5.0000e-04\n",
      "Epoch 14/100\n",
      "\u001b[1m76/76\u001b[0m \u001b[32m━━━━━━━━━━━━━━━━━━━━\u001b[0m\u001b[37m\u001b[0m \u001b[1m2s\u001b[0m 20ms/step - accuracy: 0.8753 - loss: 0.4027 - val_accuracy: 0.7319 - val_loss: 0.7097 - learning_rate: 5.0000e-04\n",
      "Epoch 15/100\n",
      "\u001b[1m76/76\u001b[0m \u001b[32m━━━━━━━━━━━━━━━━━━━━\u001b[0m\u001b[37m\u001b[0m \u001b[1m2s\u001b[0m 19ms/step - accuracy: 0.8833 - loss: 0.3778 - val_accuracy: 0.7303 - val_loss: 0.7046 - learning_rate: 5.0000e-04\n",
      "Epoch 16/100\n",
      "\u001b[1m76/76\u001b[0m \u001b[32m━━━━━━━━━━━━━━━━━━━━\u001b[0m\u001b[37m\u001b[0m \u001b[1m2s\u001b[0m 20ms/step - accuracy: 0.8780 - loss: 0.3900 - val_accuracy: 0.7270 - val_loss: 0.7162 - learning_rate: 2.5000e-04\n",
      "Epoch 17/100\n",
      "\u001b[1m76/76\u001b[0m \u001b[32m━━━━━━━━━━━━━━━━━━━━\u001b[0m\u001b[37m\u001b[0m \u001b[1m2s\u001b[0m 18ms/step - accuracy: 0.9059 - loss: 0.3371 - val_accuracy: 0.7237 - val_loss: 0.7256 - learning_rate: 2.5000e-04\n",
      "Epoch 18/100\n",
      "\u001b[1m76/76\u001b[0m \u001b[32m━━━━━━━━━━━━━━━━━━━━\u001b[0m\u001b[37m\u001b[0m \u001b[1m2s\u001b[0m 20ms/step - accuracy: 0.8958 - loss: 0.3664 - val_accuracy: 0.7270 - val_loss: 0.7354 - learning_rate: 2.5000e-04\n",
      "Epoch 19/100\n",
      "\u001b[1m76/76\u001b[0m \u001b[32m━━━━━━━━━━━━━━━━━━━━\u001b[0m\u001b[37m\u001b[0m \u001b[1m2s\u001b[0m 18ms/step - accuracy: 0.8949 - loss: 0.3548 - val_accuracy: 0.7253 - val_loss: 0.7432 - learning_rate: 2.5000e-04\n",
      "Epoch 20/100\n",
      "\u001b[1m76/76\u001b[0m \u001b[32m━━━━━━━━━━━━━━━━━━━━\u001b[0m\u001b[37m\u001b[0m \u001b[1m2s\u001b[0m 20ms/step - accuracy: 0.9141 - loss: 0.3262 - val_accuracy: 0.7155 - val_loss: 0.7745 - learning_rate: 2.5000e-04\n",
      "Epoch 21/100\n",
      "\u001b[1m76/76\u001b[0m \u001b[32m━━━━━━━━━━━━━━━━━━━━\u001b[0m\u001b[37m\u001b[0m \u001b[1m2s\u001b[0m 26ms/step - accuracy: 0.9127 - loss: 0.3444 - val_accuracy: 0.7122 - val_loss: 0.7697 - learning_rate: 1.2500e-04\n",
      "Epoch 22/100\n",
      "\u001b[1m76/76\u001b[0m \u001b[32m━━━━━━━━━━━━━━━━━━━━\u001b[0m\u001b[37m\u001b[0m \u001b[1m2s\u001b[0m 20ms/step - accuracy: 0.9149 - loss: 0.3294 - val_accuracy: 0.7188 - val_loss: 0.7728 - learning_rate: 1.2500e-04\n",
      "Epoch 23/100\n",
      "\u001b[1m76/76\u001b[0m \u001b[32m━━━━━━━━━━━━━━━━━━━━\u001b[0m\u001b[37m\u001b[0m \u001b[1m2s\u001b[0m 17ms/step - accuracy: 0.9162 - loss: 0.3194 - val_accuracy: 0.7122 - val_loss: 0.7945 - learning_rate: 1.2500e-04\n",
      "Epoch 24/100\n",
      "\u001b[1m76/76\u001b[0m \u001b[32m━━━━━━━━━━━━━━━━━━━━\u001b[0m\u001b[37m\u001b[0m \u001b[1m2s\u001b[0m 21ms/step - accuracy: 0.9158 - loss: 0.3181 - val_accuracy: 0.7138 - val_loss: 0.8030 - learning_rate: 1.2500e-04\n",
      "Epoch 25/100\n",
      "\u001b[1m76/76\u001b[0m \u001b[32m━━━━━━━━━━━━━━━━━━━━\u001b[0m\u001b[37m\u001b[0m \u001b[1m2s\u001b[0m 23ms/step - accuracy: 0.9217 - loss: 0.3141 - val_accuracy: 0.7089 - val_loss: 0.8065 - learning_rate: 1.2500e-04\n",
      "Epoch 26/100\n",
      "\u001b[1m76/76\u001b[0m \u001b[32m━━━━━━━━━━━━━━━━━━━━\u001b[0m\u001b[37m\u001b[0m \u001b[1m2s\u001b[0m 19ms/step - accuracy: 0.9175 - loss: 0.3116 - val_accuracy: 0.7105 - val_loss: 0.8117 - learning_rate: 6.2500e-05\n",
      "Epoch 27/100\n",
      "\u001b[1m76/76\u001b[0m \u001b[32m━━━━━━━━━━━━━━━━━━━━\u001b[0m\u001b[37m\u001b[0m \u001b[1m2s\u001b[0m 18ms/step - accuracy: 0.9317 - loss: 0.2963 - val_accuracy: 0.7089 - val_loss: 0.8185 - learning_rate: 6.2500e-05\n",
      "Epoch 28/100\n",
      "\u001b[1m76/76\u001b[0m \u001b[32m━━━━━━━━━━━━━━━━━━━━\u001b[0m\u001b[37m\u001b[0m \u001b[1m2s\u001b[0m 18ms/step - accuracy: 0.9219 - loss: 0.2930 - val_accuracy: 0.7138 - val_loss: 0.8211 - learning_rate: 6.2500e-05\n",
      "Epoch 29/100\n",
      "\u001b[1m76/76\u001b[0m \u001b[32m━━━━━━━━━━━━━━━━━━━━\u001b[0m\u001b[37m\u001b[0m \u001b[1m2s\u001b[0m 18ms/step - accuracy: 0.9349 - loss: 0.2847 - val_accuracy: 0.7105 - val_loss: 0.8252 - learning_rate: 6.2500e-05\n",
      "Epoch 30/100\n",
      "\u001b[1m76/76\u001b[0m \u001b[32m━━━━━━━━━━━━━━━━━━━━\u001b[0m\u001b[37m\u001b[0m \u001b[1m2s\u001b[0m 12ms/step - accuracy: 0.9160 - loss: 0.3072 - val_accuracy: 0.7122 - val_loss: 0.8279 - learning_rate: 6.2500e-05\n",
      "Epoch 31/100\n",
      "\u001b[1m76/76\u001b[0m \u001b[32m━━━━━━━━━━━━━━━━━━━━\u001b[0m\u001b[37m\u001b[0m \u001b[1m2s\u001b[0m 15ms/step - accuracy: 0.9221 - loss: 0.3080 - val_accuracy: 0.7089 - val_loss: 0.8302 - learning_rate: 3.1250e-05\n",
      "Epoch 32/100\n",
      "\u001b[1m76/76\u001b[0m \u001b[32m━━━━━━━━━━━━━━━━━━━━\u001b[0m\u001b[37m\u001b[0m \u001b[1m2s\u001b[0m 19ms/step - accuracy: 0.9091 - loss: 0.3154 - val_accuracy: 0.7089 - val_loss: 0.8275 - learning_rate: 3.1250e-05\n",
      "Epoch 33/100\n",
      "\u001b[1m76/76\u001b[0m \u001b[32m━━━━━━━━━━━━━━━━━━━━\u001b[0m\u001b[37m\u001b[0m \u001b[1m2s\u001b[0m 19ms/step - accuracy: 0.9300 - loss: 0.2952 - val_accuracy: 0.7089 - val_loss: 0.8309 - learning_rate: 3.1250e-05\n",
      "Epoch 34/100\n",
      "\u001b[1m76/76\u001b[0m \u001b[32m━━━━━━━━━━━━━━━━━━━━\u001b[0m\u001b[37m\u001b[0m \u001b[1m2s\u001b[0m 19ms/step - accuracy: 0.9131 - loss: 0.3229 - val_accuracy: 0.7089 - val_loss: 0.8288 - learning_rate: 3.1250e-05\n",
      "Epoch 35/100\n",
      "\u001b[1m76/76\u001b[0m \u001b[32m━━━━━━━━━━━━━━━━━━━━\u001b[0m\u001b[37m\u001b[0m \u001b[1m1s\u001b[0m 17ms/step - accuracy: 0.9318 - loss: 0.2825 - val_accuracy: 0.7056 - val_loss: 0.8320 - learning_rate: 3.1250e-05\n",
      "\u001b[1m24/24\u001b[0m \u001b[32m━━━━━━━━━━━━━━━━━━━━\u001b[0m\u001b[37m\u001b[0m \u001b[1m1s\u001b[0m 7ms/step - accuracy: 0.7715 - loss: 0.5734\n"
     ]
    }
   ],
   "source": [
    "X_train, X_test, y_train, y_test = train_test_split(train_binary_preprocessed, train_binary['result'], test_size=0.2, random_state=42)\n",
    "\n",
    "model.fit(X_train, y_train, epochs=100, batch_size=32, validation_data=(X_test, y_test), callbacks=[early_stopping, reduce_lr])\n",
    "\n",
    "_, acc = model.evaluate(test_binary_preprocessed, test_binary['result'])"
   ]
  },
  {
   "cell_type": "code",
   "execution_count": 141,
   "id": "603389e5",
   "metadata": {},
   "outputs": [
    {
     "name": "stdout",
     "output_type": "stream",
     "text": [
      "Accuracy: 77.24%\n"
     ]
    }
   ],
   "source": [
    "print(f'Accuracy: {acc * 100:.2f}%')"
   ]
  },
  {
   "cell_type": "markdown",
   "id": "4100c1a8",
   "metadata": {},
   "source": [
    "Here we reached to the end of the notebook and the most accuarate model was **Stacking Classifier model** with **79.08%** accuracy with binary classification (Win, Loss)."
   ]
  },
  {
   "cell_type": "markdown",
   "id": "7ad95a97",
   "metadata": {},
   "source": [
    "<center>\n",
    "<br> <span style=\"font-family:Cambria; font-weight:bold;\">Thank you for your upvote.</span><br>\n",
    "<br> <span style=\"font-size:26px; font-family:Cambria; font-weight:bold;\">Mohamed Kardosha</span>\n",
    "</center>"
   ]
  }
 ],
 "metadata": {
  "kernelspec": {
   "display_name": "Python 3",
   "language": "python",
   "name": "python3"
  },
  "language_info": {
   "codemirror_mode": {
    "name": "ipython",
    "version": 3
   },
   "file_extension": ".py",
   "mimetype": "text/x-python",
   "name": "python",
   "nbconvert_exporter": "python",
   "pygments_lexer": "ipython3",
   "version": "3.12.5"
  }
 },
 "nbformat": 4,
 "nbformat_minor": 5
}
