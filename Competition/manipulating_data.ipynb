{
 "cells": [
  {
   "cell_type": "code",
   "execution_count": 96,
   "metadata": {},
   "outputs": [],
   "source": [
    "import pandas as pd\n",
    "import numpy as np\n",
    "import matplotlib.pyplot as plt\n",
    "import seaborn as sns\n",
    "import pygwalker as pyg"
   ]
  },
  {
   "cell_type": "code",
   "execution_count": 97,
   "metadata": {},
   "outputs": [],
   "source": [
    "df = pd.read_csv('udemy_courses_v3.csv')"
   ]
  },
  {
   "cell_type": "code",
   "execution_count": 98,
   "metadata": {},
   "outputs": [
    {
     "name": "stdout",
     "output_type": "stream",
     "text": [
      "<class 'pandas.core.frame.DataFrame'>\n",
      "RangeIndex: 2760 entries, 0 to 2759\n",
      "Data columns (total 10 columns):\n",
      " #   Column          Non-Null Count  Dtype  \n",
      "---  ------          --------------  -----  \n",
      " 0   Name            2760 non-null   object \n",
      " 1   Lecturer        2630 non-null   object \n",
      " 2   Rating          2613 non-null   float64\n",
      " 3   Reviews         2613 non-null   object \n",
      " 4   Hours           2760 non-null   float64\n",
      " 5   Lectures        2760 non-null   int64  \n",
      " 6   Level           2760 non-null   object \n",
      " 7   Base Price      0 non-null      float64\n",
      " 8   Original Price  2394 non-null   object \n",
      " 9   Discount Price  2394 non-null   object \n",
      "dtypes: float64(3), int64(1), object(6)\n",
      "memory usage: 215.8+ KB\n"
     ]
    }
   ],
   "source": [
    "df.info()"
   ]
  },
  {
   "cell_type": "code",
   "execution_count": 99,
   "metadata": {},
   "outputs": [],
   "source": [
    "df.drop('Base Price', axis=1, inplace=True)"
   ]
  },
  {
   "cell_type": "code",
   "execution_count": 100,
   "metadata": {},
   "outputs": [
    {
     "name": "stdout",
     "output_type": "stream",
     "text": [
      "Name 2376\n",
      "Lecturer 1219\n",
      "Rating 30\n",
      "Reviews 869\n",
      "Hours 121\n",
      "Lectures 313\n",
      "Level 4\n",
      "Original Price 29\n",
      "Discount Price 23\n"
     ]
    }
   ],
   "source": [
    "for col in df.columns:\n",
    "    print(col, df[col].nunique())"
   ]
  },
  {
   "cell_type": "code",
   "execution_count": 101,
   "metadata": {},
   "outputs": [
    {
     "data": {
      "text/plain": [
       "Name                0\n",
       "Lecturer          130\n",
       "Rating            147\n",
       "Reviews           147\n",
       "Hours               0\n",
       "Lectures            0\n",
       "Level               0\n",
       "Original Price    366\n",
       "Discount Price    366\n",
       "dtype: int64"
      ]
     },
     "execution_count": 101,
     "metadata": {},
     "output_type": "execute_result"
    }
   ],
   "source": [
    "df.isnull().sum()"
   ]
  },
  {
   "cell_type": "code",
   "execution_count": 102,
   "metadata": {},
   "outputs": [
    {
     "name": "stdout",
     "output_type": "stream",
     "text": [
      "Name 384\n",
      "Lecturer 1540\n",
      "Rating 2729\n",
      "Reviews 1890\n",
      "Hours 2639\n",
      "Lectures 2447\n",
      "Level 2756\n",
      "Original Price 2730\n",
      "Discount Price 2736\n"
     ]
    }
   ],
   "source": [
    "for col in df.columns:\n",
    "    print(col, df[col].duplicated().sum())"
   ]
  },
  {
   "cell_type": "code",
   "execution_count": 103,
   "metadata": {},
   "outputs": [],
   "source": [
    "df.drop_duplicates(subset='Name', keep='first', inplace=True)"
   ]
  },
  {
   "cell_type": "code",
   "execution_count": 104,
   "metadata": {},
   "outputs": [
    {
     "data": {
      "text/plain": [
       "Name                0\n",
       "Lecturer            0\n",
       "Rating             17\n",
       "Reviews            17\n",
       "Hours               0\n",
       "Lectures            0\n",
       "Level               0\n",
       "Original Price    223\n",
       "Discount Price    223\n",
       "dtype: int64"
      ]
     },
     "execution_count": 104,
     "metadata": {},
     "output_type": "execute_result"
    }
   ],
   "source": [
    "df.isna().sum()"
   ]
  },
  {
   "cell_type": "code",
   "execution_count": 105,
   "metadata": {},
   "outputs": [
    {
     "data": {
      "text/plain": [
       "Name              0.000000\n",
       "Lecturer          0.000000\n",
       "Rating            0.715488\n",
       "Reviews           0.715488\n",
       "Hours             0.000000\n",
       "Lectures          0.000000\n",
       "Level             0.000000\n",
       "Original Price    9.385522\n",
       "Discount Price    9.385522\n",
       "dtype: float64"
      ]
     },
     "execution_count": 105,
     "metadata": {},
     "output_type": "execute_result"
    }
   ],
   "source": [
    "df.isna().sum() / len(df) * 100"
   ]
  },
  {
   "cell_type": "markdown",
   "metadata": {},
   "source": [
    "## Price and Original Price columns"
   ]
  },
  {
   "cell_type": "code",
   "execution_count": 106,
   "metadata": {},
   "outputs": [
    {
     "data": {
      "text/plain": [
       "E£399.99      1380\n",
       "Free           171\n",
       "E£799.99        98\n",
       "E£899.99        68\n",
       "E£999.99        66\n",
       "E£1,099.99      64\n",
       "E£699.99        56\n",
       "E£1,399.99      28\n",
       "E£649.99        26\n",
       "E£599.99        25\n",
       "E£499.99        22\n",
       "E£449.99        21\n",
       "E£1,199.99      19\n",
       "E£549.99        18\n",
       "E£1,299.99      15\n",
       "E£1,699.99      10\n",
       "E£1,499.99       9\n",
       "E£1,599.99       9\n",
       "E£3,099.99       7\n",
       "E£2,299.99       7\n",
       "E£2,499.99       5\n",
       "E£2,399.99       5\n",
       "E£2,199.99       5\n",
       "E£2,599.99       4\n",
       "E£2,099.99       4\n",
       "E£1,799.99       4\n",
       "E£1,999.99       3\n",
       "E£2,799.99       2\n",
       "E£1,899.99       2\n",
       "Name: Original Price, dtype: int64"
      ]
     },
     "execution_count": 106,
     "metadata": {},
     "output_type": "execute_result"
    }
   ],
   "source": [
    "df['Original Price'].value_counts()"
   ]
  },
  {
   "cell_type": "code",
   "execution_count": 107,
   "metadata": {},
   "outputs": [],
   "source": [
    "def manipulate_price(col, data):\n",
    "   data[col] = data[col].apply(lambda x: float(x.replace('Free', '0').replace('£', '').replace(',', '').replace('E', '')) if not pd.isna(x)  else x)\n",
    "   data[col] = data[col].apply(lambda x: x if pd.isna(x) or not x else x + 0.01)\n",
    "   return data"
   ]
  },
  {
   "cell_type": "code",
   "execution_count": 108,
   "metadata": {},
   "outputs": [],
   "source": [
    "df = manipulate_price('Original Price', df)"
   ]
  },
  {
   "cell_type": "code",
   "execution_count": 109,
   "metadata": {},
   "outputs": [],
   "source": [
    "df = manipulate_price('Discount Price', df)"
   ]
  },
  {
   "cell_type": "code",
   "execution_count": 110,
   "metadata": {},
   "outputs": [
    {
     "data": {
      "text/plain": [
       "400.0     1380\n",
       "NaN        223\n",
       "0.0        171\n",
       "800.0       98\n",
       "900.0       68\n",
       "1000.0      66\n",
       "1100.0      64\n",
       "700.0       56\n",
       "1400.0      28\n",
       "650.0       26\n",
       "600.0       25\n",
       "500.0       22\n",
       "450.0       21\n",
       "1200.0      19\n",
       "550.0       18\n",
       "1300.0      15\n",
       "1700.0      10\n",
       "1500.0       9\n",
       "1600.0       9\n",
       "3100.0       7\n",
       "2300.0       7\n",
       "2500.0       5\n",
       "2400.0       5\n",
       "2200.0       5\n",
       "2100.0       4\n",
       "1800.0       4\n",
       "2600.0       4\n",
       "2000.0       3\n",
       "1900.0       2\n",
       "2800.0       2\n",
       "Name: Original Price, dtype: int64"
      ]
     },
     "execution_count": 110,
     "metadata": {},
     "output_type": "execute_result"
    }
   ],
   "source": [
    "df['Original Price'].value_counts(dropna=False)"
   ]
  },
  {
   "cell_type": "code",
   "execution_count": 111,
   "metadata": {},
   "outputs": [
    {
     "data": {
      "text/plain": [
       "250.0     1865\n",
       "NaN        223\n",
       "0.0        171\n",
       "300.0       25\n",
       "400.0       20\n",
       "450.0       15\n",
       "500.0       13\n",
       "350.0       10\n",
       "3100.0       7\n",
       "700.0        5\n",
       "1700.0       3\n",
       "550.0        3\n",
       "1600.0       3\n",
       "1400.0       2\n",
       "1200.0       2\n",
       "1300.0       1\n",
       "2800.0       1\n",
       "600.0        1\n",
       "2300.0       1\n",
       "2600.0       1\n",
       "2100.0       1\n",
       "2500.0       1\n",
       "1800.0       1\n",
       "900.0        1\n",
       "Name: Discount Price, dtype: int64"
      ]
     },
     "execution_count": 111,
     "metadata": {},
     "output_type": "execute_result"
    }
   ],
   "source": [
    "df['Discount Price'].value_counts(dropna=False)"
   ]
  },
  {
   "cell_type": "markdown",
   "metadata": {},
   "source": [
    "## Reviews column"
   ]
  },
  {
   "cell_type": "code",
   "execution_count": 112,
   "metadata": {},
   "outputs": [
    {
     "data": {
      "text/plain": [
       "5         39\n",
       "7         35\n",
       "12        34\n",
       "13        31\n",
       "2         31\n",
       "          ..\n",
       "1,437      1\n",
       "4,700      1\n",
       "16,162     1\n",
       "8,161      1\n",
       "162        1\n",
       "Name: Reviews, Length: 869, dtype: int64"
      ]
     },
     "execution_count": 112,
     "metadata": {},
     "output_type": "execute_result"
    }
   ],
   "source": [
    "df['Reviews'].value_counts(dropna=False)"
   ]
  },
  {
   "cell_type": "code",
   "execution_count": 113,
   "metadata": {},
   "outputs": [],
   "source": [
    "df['Reviews'] = df['Reviews'].apply(lambda x: int(x.replace(',', '')) if not pd.isna(x) else x)"
   ]
  },
  {
   "cell_type": "code",
   "execution_count": 114,
   "metadata": {},
   "outputs": [
    {
     "data": {
      "text/plain": [
       "5.0        39\n",
       "7.0        35\n",
       "12.0       34\n",
       "13.0       31\n",
       "2.0        31\n",
       "           ..\n",
       "1437.0      1\n",
       "4700.0      1\n",
       "16162.0     1\n",
       "8161.0      1\n",
       "162.0       1\n",
       "Name: Reviews, Length: 869, dtype: int64"
      ]
     },
     "execution_count": 114,
     "metadata": {},
     "output_type": "execute_result"
    }
   ],
   "source": [
    "df['Reviews'].value_counts(dropna=False)\n"
   ]
  },
  {
   "cell_type": "code",
   "execution_count": 115,
   "metadata": {},
   "outputs": [],
   "source": [
    "df.dropna(subset=['Reviews'], inplace=True)"
   ]
  },
  {
   "cell_type": "code",
   "execution_count": 116,
   "metadata": {},
   "outputs": [
    {
     "data": {
      "text/plain": [
       "0"
      ]
     },
     "execution_count": 116,
     "metadata": {},
     "output_type": "execute_result"
    }
   ],
   "source": [
    "df['Reviews'].isna().sum()"
   ]
  },
  {
   "cell_type": "markdown",
   "metadata": {},
   "source": [
    "## Ratings"
   ]
  },
  {
   "cell_type": "code",
   "execution_count": 117,
   "metadata": {},
   "outputs": [
    {
     "data": {
      "text/plain": [
       "4.6    295\n",
       "4.5    273\n",
       "4.4    253\n",
       "4.3    244\n",
       "4.7    185\n",
       "4.2    165\n",
       "4.1    147\n",
       "4.0    128\n",
       "3.8     91\n",
       "3.9     89\n",
       "4.8     70\n",
       "5.0     65\n",
       "3.7     63\n",
       "4.9     56\n",
       "3.5     53\n",
       "3.6     43\n",
       "3.4     38\n",
       "3.2     28\n",
       "3.3     19\n",
       "3.1     14\n",
       "3.0     11\n",
       "2.9     10\n",
       "2.8      5\n",
       "2.6      4\n",
       "2.7      4\n",
       "2.5      2\n",
       "1.7      1\n",
       "2.0      1\n",
       "2.4      1\n",
       "1.4      1\n",
       "Name: Rating, dtype: int64"
      ]
     },
     "execution_count": 117,
     "metadata": {},
     "output_type": "execute_result"
    }
   ],
   "source": [
    "df['Rating'].value_counts(dropna=False)"
   ]
  },
  {
   "cell_type": "code",
   "execution_count": 118,
   "metadata": {},
   "outputs": [],
   "source": [
    "df.dropna(subset=['Rating'], inplace=True)"
   ]
  },
  {
   "cell_type": "code",
   "execution_count": 119,
   "metadata": {},
   "outputs": [
    {
     "data": {
      "text/plain": [
       "0"
      ]
     },
     "execution_count": 119,
     "metadata": {},
     "output_type": "execute_result"
    }
   ],
   "source": [
    "df['Rating'].isna().sum()"
   ]
  },
  {
   "cell_type": "markdown",
   "metadata": {},
   "source": [
    "## Hours columns"
   ]
  },
  {
   "cell_type": "code",
   "execution_count": 120,
   "metadata": {},
   "outputs": [
    {
     "data": {
      "text/plain": [
       "1.0      147\n",
       "1.5      157\n",
       "2.0      182\n",
       "2.5      128\n",
       "3.0      122\n",
       "        ... \n",
       "99.0       1\n",
       "102.5      1\n",
       "105.5      2\n",
       "115.5      1\n",
       "132.5      2\n",
       "Name: Hours, Length: 121, dtype: int64"
      ]
     },
     "execution_count": 120,
     "metadata": {},
     "output_type": "execute_result"
    }
   ],
   "source": [
    "df['Hours'].value_counts(dropna=False).sort_index()"
   ]
  },
  {
   "cell_type": "code",
   "execution_count": 121,
   "metadata": {},
   "outputs": [],
   "source": [
    "df.dropna(subset=['Hours'], inplace=True)"
   ]
  },
  {
   "cell_type": "code",
   "execution_count": 122,
   "metadata": {},
   "outputs": [
    {
     "data": {
      "text/plain": [
       "0"
      ]
     },
     "execution_count": 122,
     "metadata": {},
     "output_type": "execute_result"
    }
   ],
   "source": [
    "df['Hours'].isna().sum()"
   ]
  },
  {
   "cell_type": "markdown",
   "metadata": {},
   "source": [
    "## Lectures column"
   ]
  },
  {
   "cell_type": "code",
   "execution_count": 123,
   "metadata": {},
   "outputs": [
    {
     "data": {
      "text/plain": [
       "4       1\n",
       "5      23\n",
       "6      17\n",
       "7      31\n",
       "8      32\n",
       "       ..\n",
       "735     1\n",
       "769     1\n",
       "778     1\n",
       "795     1\n",
       "800     1\n",
       "Name: Lectures, Length: 312, dtype: int64"
      ]
     },
     "execution_count": 123,
     "metadata": {},
     "output_type": "execute_result"
    }
   ],
   "source": [
    "df['Lectures'].value_counts(dropna=False).sort_index()"
   ]
  },
  {
   "cell_type": "code",
   "execution_count": 124,
   "metadata": {},
   "outputs": [],
   "source": [
    "df['Lectures'] = df['Lectures'].astype('Int64')"
   ]
  },
  {
   "cell_type": "markdown",
   "metadata": {},
   "source": [
    "## Level column"
   ]
  },
  {
   "cell_type": "code",
   "execution_count": 125,
   "metadata": {},
   "outputs": [
    {
     "data": {
      "text/plain": [
       "All Levels      1258\n",
       "Beginner         782\n",
       "Intermediate     288\n",
       "Expert            31\n",
       "Name: Level, dtype: int64"
      ]
     },
     "execution_count": 125,
     "metadata": {},
     "output_type": "execute_result"
    }
   ],
   "source": [
    "df[\"Level\"].value_counts(dropna=False)"
   ]
  },
  {
   "cell_type": "code",
   "execution_count": 126,
   "metadata": {},
   "outputs": [
    {
     "data": {
      "text/plain": [
       "0"
      ]
     },
     "execution_count": 126,
     "metadata": {},
     "output_type": "execute_result"
    }
   ],
   "source": [
    "df['Level'].isna().sum()"
   ]
  },
  {
   "cell_type": "markdown",
   "metadata": {},
   "source": [
    "## Lecturer column"
   ]
  },
  {
   "cell_type": "code",
   "execution_count": 127,
   "metadata": {},
   "outputs": [
    {
     "data": {
      "text/plain": [
       "1201"
      ]
     },
     "execution_count": 127,
     "metadata": {},
     "output_type": "execute_result"
    }
   ],
   "source": [
    "df['Lecturer'].nunique()"
   ]
  },
  {
   "cell_type": "code",
   "execution_count": 128,
   "metadata": {},
   "outputs": [
    {
     "data": {
      "text/plain": [
       "Packt Publishing                  69\n",
       "Minerva Singh                     33\n",
       "Bluelime Learning Solutions       29\n",
       "Mammoth Interactive, John Bura    27\n",
       "365 Careers                       23\n",
       "                                  ..\n",
       "EC Analytics                       1\n",
       "Kenneth F. Owusu Adubobi           1\n",
       "Your Data HQ                       1\n",
       "Mathew Basenth Thomas              1\n",
       "Dan Evan Hall                      1\n",
       "Name: Lecturer, Length: 1201, dtype: int64"
      ]
     },
     "execution_count": 128,
     "metadata": {},
     "output_type": "execute_result"
    }
   ],
   "source": [
    "df['Lecturer'].value_counts()"
   ]
  },
  {
   "cell_type": "code",
   "execution_count": 129,
   "metadata": {},
   "outputs": [],
   "source": [
    "def get_lecturer_name(x):\n",
    "    if pd.isna(x):\n",
    "        return x\n",
    "    return list(str(x).split(', '))"
   ]
  },
  {
   "cell_type": "code",
   "execution_count": 130,
   "metadata": {},
   "outputs": [],
   "source": [
    "df[\"Lecturer\"] = df['Lecturer'].apply(get_lecturer_name)"
   ]
  },
  {
   "cell_type": "code",
   "execution_count": 131,
   "metadata": {},
   "outputs": [
    {
     "data": {
      "text/plain": [
       "['Clara Granell', 'PhD']"
      ]
     },
     "execution_count": 131,
     "metadata": {},
     "output_type": "execute_result"
    }
   ],
   "source": [
    "df['Lecturer'][70]"
   ]
  },
  {
   "cell_type": "code",
   "execution_count": 132,
   "metadata": {},
   "outputs": [],
   "source": [
    "df_exploaded = df.explode('Lecturer')"
   ]
  },
  {
   "cell_type": "code",
   "execution_count": 133,
   "metadata": {},
   "outputs": [
    {
     "data": {
      "text/plain": [
       "1344"
      ]
     },
     "execution_count": 133,
     "metadata": {},
     "output_type": "execute_result"
    }
   ],
   "source": [
    "df_exploaded['Lecturer'].nunique()"
   ]
  },
  {
   "cell_type": "code",
   "execution_count": 134,
   "metadata": {},
   "outputs": [
    {
     "data": {
      "text/plain": [
       "Packt Publishing         69\n",
       "SuperDataScience Team    51\n",
       "Ligency Team             51\n",
       "Ph.D.                    41\n",
       "Minerva Singh            35\n",
       "                         ..\n",
       "Mathew Basenth Thomas     1\n",
       "Michael Murr              1\n",
       "Data Crunch Training      1\n",
       "Long Marlon               1\n",
       "Dan Evan Hall             1\n",
       "Name: Lecturer, Length: 1344, dtype: int64"
      ]
     },
     "execution_count": 134,
     "metadata": {},
     "output_type": "execute_result"
    }
   ],
   "source": [
    "df_exploaded['Lecturer'].value_counts()"
   ]
  },
  {
   "cell_type": "code",
   "execution_count": 135,
   "metadata": {},
   "outputs": [
    {
     "name": "stdout",
     "output_type": "stream",
     "text": [
      "<class 'pandas.core.frame.DataFrame'>\n",
      "Int64Index: 2359 entries, 0 to 2758\n",
      "Data columns (total 9 columns):\n",
      " #   Column          Non-Null Count  Dtype  \n",
      "---  ------          --------------  -----  \n",
      " 0   Name            2359 non-null   object \n",
      " 1   Lecturer        2359 non-null   object \n",
      " 2   Rating          2359 non-null   float64\n",
      " 3   Reviews         2359 non-null   float64\n",
      " 4   Hours           2359 non-null   float64\n",
      " 5   Lectures        2359 non-null   Int64  \n",
      " 6   Level           2359 non-null   object \n",
      " 7   Original Price  2137 non-null   float64\n",
      " 8   Discount Price  2137 non-null   float64\n",
      "dtypes: Int64(1), float64(5), object(3)\n",
      "memory usage: 251.1+ KB\n"
     ]
    }
   ],
   "source": [
    "df.info()"
   ]
  },
  {
   "cell_type": "code",
   "execution_count": 136,
   "metadata": {},
   "outputs": [
    {
     "data": {
      "text/html": [
       "<div>\n",
       "<style scoped>\n",
       "    .dataframe tbody tr th:only-of-type {\n",
       "        vertical-align: middle;\n",
       "    }\n",
       "\n",
       "    .dataframe tbody tr th {\n",
       "        vertical-align: top;\n",
       "    }\n",
       "\n",
       "    .dataframe thead th {\n",
       "        text-align: right;\n",
       "    }\n",
       "</style>\n",
       "<table border=\"1\" class=\"dataframe\">\n",
       "  <thead>\n",
       "    <tr style=\"text-align: right;\">\n",
       "      <th></th>\n",
       "      <th>Rating</th>\n",
       "      <th>Reviews</th>\n",
       "      <th>Hours</th>\n",
       "      <th>Lectures</th>\n",
       "      <th>Original Price</th>\n",
       "      <th>Discount Price</th>\n",
       "    </tr>\n",
       "  </thead>\n",
       "  <tbody>\n",
       "    <tr>\n",
       "      <th>count</th>\n",
       "      <td>2359.000000</td>\n",
       "      <td>2359.000000</td>\n",
       "      <td>2359.000000</td>\n",
       "      <td>2359.0</td>\n",
       "      <td>2137.000000</td>\n",
       "      <td>2137.000000</td>\n",
       "    </tr>\n",
       "    <tr>\n",
       "      <th>mean</th>\n",
       "      <td>4.265112</td>\n",
       "      <td>1958.135651</td>\n",
       "      <td>9.757312</td>\n",
       "      <td>74.392539</td>\n",
       "      <td>544.759008</td>\n",
       "      <td>258.937763</td>\n",
       "    </tr>\n",
       "    <tr>\n",
       "      <th>std</th>\n",
       "      <td>0.449087</td>\n",
       "      <td>14983.966066</td>\n",
       "      <td>12.367634</td>\n",
       "      <td>89.520612</td>\n",
       "      <td>415.517874</td>\n",
       "      <td>232.706443</td>\n",
       "    </tr>\n",
       "    <tr>\n",
       "      <th>min</th>\n",
       "      <td>1.400000</td>\n",
       "      <td>1.000000</td>\n",
       "      <td>1.000000</td>\n",
       "      <td>4.0</td>\n",
       "      <td>0.000000</td>\n",
       "      <td>0.000000</td>\n",
       "    </tr>\n",
       "    <tr>\n",
       "      <th>25%</th>\n",
       "      <td>4.000000</td>\n",
       "      <td>25.000000</td>\n",
       "      <td>2.500000</td>\n",
       "      <td>24.0</td>\n",
       "      <td>400.000000</td>\n",
       "      <td>250.000000</td>\n",
       "    </tr>\n",
       "    <tr>\n",
       "      <th>50%</th>\n",
       "      <td>4.400000</td>\n",
       "      <td>88.000000</td>\n",
       "      <td>5.500000</td>\n",
       "      <td>47.0</td>\n",
       "      <td>400.000000</td>\n",
       "      <td>250.000000</td>\n",
       "    </tr>\n",
       "    <tr>\n",
       "      <th>75%</th>\n",
       "      <td>4.600000</td>\n",
       "      <td>416.500000</td>\n",
       "      <td>11.000000</td>\n",
       "      <td>88.0</td>\n",
       "      <td>600.000000</td>\n",
       "      <td>250.000000</td>\n",
       "    </tr>\n",
       "    <tr>\n",
       "      <th>max</th>\n",
       "      <td>5.000000</td>\n",
       "      <td>512887.000000</td>\n",
       "      <td>132.500000</td>\n",
       "      <td>800.0</td>\n",
       "      <td>3100.000000</td>\n",
       "      <td>3100.000000</td>\n",
       "    </tr>\n",
       "  </tbody>\n",
       "</table>\n",
       "</div>"
      ],
      "text/plain": [
       "            Rating        Reviews        Hours   Lectures  Original Price  \\\n",
       "count  2359.000000    2359.000000  2359.000000     2359.0     2137.000000   \n",
       "mean      4.265112    1958.135651     9.757312  74.392539      544.759008   \n",
       "std       0.449087   14983.966066    12.367634  89.520612      415.517874   \n",
       "min       1.400000       1.000000     1.000000        4.0        0.000000   \n",
       "25%       4.000000      25.000000     2.500000       24.0      400.000000   \n",
       "50%       4.400000      88.000000     5.500000       47.0      400.000000   \n",
       "75%       4.600000     416.500000    11.000000       88.0      600.000000   \n",
       "max       5.000000  512887.000000   132.500000      800.0     3100.000000   \n",
       "\n",
       "       Discount Price  \n",
       "count     2137.000000  \n",
       "mean       258.937763  \n",
       "std        232.706443  \n",
       "min          0.000000  \n",
       "25%        250.000000  \n",
       "50%        250.000000  \n",
       "75%        250.000000  \n",
       "max       3100.000000  "
      ]
     },
     "execution_count": 136,
     "metadata": {},
     "output_type": "execute_result"
    }
   ],
   "source": [
    "df.describe()"
   ]
  },
  {
   "cell_type": "code",
   "execution_count": 137,
   "metadata": {},
   "outputs": [
    {
     "data": {
      "text/plain": [
       "<Axes: xlabel='Discount Price'>"
      ]
     },
     "execution_count": 137,
     "metadata": {},
     "output_type": "execute_result"
    },
    {
     "data": {
      "image/png": "[encoded data removed]",
      "text/plain": [
       "<Figure size 640x480 with 1 Axes>"
      ]
     },
     "metadata": {},
     "output_type": "display_data"
    }
   ],
   "source": [
    "sns.boxplot(x='Discount Price', data=df)"
   ]
  },
  {
   "cell_type": "code",
   "execution_count": 138,
   "metadata": {},
   "outputs": [
    {
     "data": {
      "text/plain": [
       "<Axes: xlabel='Original Price'>"
      ]
     },
     "execution_count": 138,
     "metadata": {},
     "output_type": "execute_result"
    },
    {
     "data": {
      "image/png": "[encoded data removed]",
      "text/plain": [
       "<Figure size 640x480 with 1 Axes>"
      ]
     },
     "metadata": {},
     "output_type": "display_data"
    }
   ],
   "source": [
    "sns.boxplot(x='Original Price', data=df)"
   ]
  },
  {
   "cell_type": "code",
   "execution_count": 139,
   "metadata": {},
   "outputs": [],
   "source": [
    "def count_outliers(col, data):\n",
    "    Q1 = data[col].quantile(0.25)\n",
    "    Q3 = data[col].quantile(0.75)\n",
    "    IQR = Q3 - Q1\n",
    "    lower_bound = Q1 - 1.5 * IQR\n",
    "    upper_bound = Q3 + 1.5 * IQR\n",
    "    return len(data[(data[col] < lower_bound) | (data[col] > upper_bound)])"
   ]
  },
  {
   "cell_type": "code",
   "execution_count": 140,
   "metadata": {},
   "outputs": [
    {
     "data": {
      "text/plain": [
       "Name                0\n",
       "Lecturer            0\n",
       "Rating              0\n",
       "Reviews             0\n",
       "Hours               0\n",
       "Lectures            0\n",
       "Level               0\n",
       "Original Price    222\n",
       "Discount Price    222\n",
       "dtype: int64"
      ]
     },
     "execution_count": 140,
     "metadata": {},
     "output_type": "execute_result"
    }
   ],
   "source": [
    "df.isna().sum()"
   ]
  },
  {
   "cell_type": "code",
   "execution_count": 141,
   "metadata": {},
   "outputs": [],
   "source": [
    "df.dropna(inplace=True)"
   ]
  },
  {
   "cell_type": "code",
   "execution_count": 142,
   "metadata": {},
   "outputs": [
    {
     "data": {
      "text/plain": [
       "<Axes: xlabel='Discount Price'>"
      ]
     },
     "execution_count": 142,
     "metadata": {},
     "output_type": "execute_result"
    },
    {
     "data": {
      "image/png": "[encoded data removed]",
      "text/plain": [
       "<Figure size 640x480 with 1 Axes>"
      ]
     },
     "metadata": {},
     "output_type": "display_data"
    }
   ],
   "source": [
    "sns.boxplot(x='Discount Price', data=df)"
   ]
  },
  {
   "cell_type": "code",
   "execution_count": 143,
   "metadata": {},
   "outputs": [
    {
     "name": "stdout",
     "output_type": "stream",
     "text": [
      "<class 'pandas.core.frame.DataFrame'>\n",
      "Int64Index: 2137 entries, 23 to 2758\n",
      "Data columns (total 9 columns):\n",
      " #   Column          Non-Null Count  Dtype  \n",
      "---  ------          --------------  -----  \n",
      " 0   Name            2137 non-null   object \n",
      " 1   Lecturer        2137 non-null   object \n",
      " 2   Rating          2137 non-null   float64\n",
      " 3   Reviews         2137 non-null   float64\n",
      " 4   Hours           2137 non-null   float64\n",
      " 5   Lectures        2137 non-null   Int64  \n",
      " 6   Level           2137 non-null   object \n",
      " 7   Original Price  2137 non-null   float64\n",
      " 8   Discount Price  2137 non-null   float64\n",
      "dtypes: Int64(1), float64(5), object(3)\n",
      "memory usage: 169.0+ KB\n"
     ]
    }
   ],
   "source": [
    "df.info()"
   ]
  },
  {
   "cell_type": "code",
   "execution_count": 144,
   "metadata": {},
   "outputs": [
    {
     "name": "stdout",
     "output_type": "stream",
     "text": [
      "Rating 50\n",
      "Reviews 331\n",
      "Hours 205\n",
      "Lectures 151\n",
      "Original Price 439\n",
      "Discount Price 288\n"
     ]
    }
   ],
   "source": [
    "for col in df.select_dtypes(include=np.number).columns:\n",
    "    print(col, count_outliers(col, df))"
   ]
  },
  {
   "cell_type": "code",
   "execution_count": 145,
   "metadata": {},
   "outputs": [],
   "source": [
    "def remove_outliers(col, data):\n",
    "    Q1 = data[col].quantile(0.25)\n",
    "    Q3 = data[col].quantile(0.75)\n",
    "    IQR = Q3 - Q1\n",
    "    lower_bound = Q1 - 1.5 * IQR\n",
    "    upper_bound = Q3 + 1.5 * IQR\n",
    "    return data[(data[col] >= lower_bound) & (data[col] <= upper_bound)]"
   ]
  },
  {
   "cell_type": "code",
   "execution_count": 146,
   "metadata": {},
   "outputs": [],
   "source": [
    "df_dropped = df.copy()\n",
    "for col in df.select_dtypes(include=np.number).columns:\n",
    "    df_dropped = remove_outliers(col, df_dropped)"
   ]
  },
  {
   "cell_type": "code",
   "execution_count": 147,
   "metadata": {},
   "outputs": [
    {
     "data": {
      "text/plain": [
       "(1105, 9)"
      ]
     },
     "execution_count": 147,
     "metadata": {},
     "output_type": "execute_result"
    }
   ],
   "source": [
    "df_dropped.shape"
   ]
  },
  {
   "cell_type": "code",
   "execution_count": 148,
   "metadata": {},
   "outputs": [
    {
     "name": "stdout",
     "output_type": "stream",
     "text": [
      "Rating 0\n",
      "Reviews 115\n",
      "Hours 43\n",
      "Lectures 22\n",
      "Original Price 0\n",
      "Discount Price 0\n"
     ]
    }
   ],
   "source": [
    "for col in df_dropped.select_dtypes(include=np.number).columns:\n",
    "    print(col, count_outliers(col, df_dropped))"
   ]
  },
  {
   "cell_type": "code",
   "execution_count": 149,
   "metadata": {},
   "outputs": [],
   "source": [
    "def handle_outliers(data, col):\n",
    "    data[col] = np.log1p(data[col])\n",
    "    return data"
   ]
  },
  {
   "cell_type": "code",
   "execution_count": 150,
   "metadata": {},
   "outputs": [
    {
     "data": {
      "text/plain": [
       "['Rating', 'Reviews', 'Hours', 'Lectures', 'Original Price', 'Discount Price']"
      ]
     },
     "execution_count": 150,
     "metadata": {},
     "output_type": "execute_result"
    }
   ],
   "source": [
    "list(df_good.select_dtypes(include=np.number).columns)"
   ]
  },
  {
   "cell_type": "code",
   "execution_count": 151,
   "metadata": {},
   "outputs": [
    {
     "data": {
      "text/html": [
       "<div>\n",
       "<style scoped>\n",
       "    .dataframe tbody tr th:only-of-type {\n",
       "        vertical-align: middle;\n",
       "    }\n",
       "\n",
       "    .dataframe tbody tr th {\n",
       "        vertical-align: top;\n",
       "    }\n",
       "\n",
       "    .dataframe thead th {\n",
       "        text-align: right;\n",
       "    }\n",
       "</style>\n",
       "<table border=\"1\" class=\"dataframe\">\n",
       "  <thead>\n",
       "    <tr style=\"text-align: right;\">\n",
       "      <th></th>\n",
       "      <th>Rating</th>\n",
       "      <th>Reviews</th>\n",
       "      <th>Hours</th>\n",
       "      <th>Lectures</th>\n",
       "      <th>Original Price</th>\n",
       "      <th>Discount Price</th>\n",
       "    </tr>\n",
       "  </thead>\n",
       "  <tbody>\n",
       "    <tr>\n",
       "      <th>count</th>\n",
       "      <td>2137.000000</td>\n",
       "      <td>2137.000000</td>\n",
       "      <td>2137.000000</td>\n",
       "      <td>2137.0</td>\n",
       "      <td>2137.000000</td>\n",
       "      <td>2137.000000</td>\n",
       "    </tr>\n",
       "    <tr>\n",
       "      <th>mean</th>\n",
       "      <td>4.261675</td>\n",
       "      <td>1484.985494</td>\n",
       "      <td>9.565980</td>\n",
       "      <td>71.607861</td>\n",
       "      <td>544.759008</td>\n",
       "      <td>258.937763</td>\n",
       "    </tr>\n",
       "    <tr>\n",
       "      <th>std</th>\n",
       "      <td>0.448526</td>\n",
       "      <td>12505.556073</td>\n",
       "      <td>12.011566</td>\n",
       "      <td>83.977228</td>\n",
       "      <td>415.517874</td>\n",
       "      <td>232.706443</td>\n",
       "    </tr>\n",
       "    <tr>\n",
       "      <th>min</th>\n",
       "      <td>1.400000</td>\n",
       "      <td>1.000000</td>\n",
       "      <td>1.000000</td>\n",
       "      <td>4.0</td>\n",
       "      <td>0.000000</td>\n",
       "      <td>0.000000</td>\n",
       "    </tr>\n",
       "    <tr>\n",
       "      <th>25%</th>\n",
       "      <td>4.000000</td>\n",
       "      <td>24.000000</td>\n",
       "      <td>2.500000</td>\n",
       "      <td>24.0</td>\n",
       "      <td>400.000000</td>\n",
       "      <td>250.000000</td>\n",
       "    </tr>\n",
       "    <tr>\n",
       "      <th>50%</th>\n",
       "      <td>4.400000</td>\n",
       "      <td>83.000000</td>\n",
       "      <td>5.500000</td>\n",
       "      <td>46.0</td>\n",
       "      <td>400.000000</td>\n",
       "      <td>250.000000</td>\n",
       "    </tr>\n",
       "    <tr>\n",
       "      <th>75%</th>\n",
       "      <td>4.600000</td>\n",
       "      <td>371.000000</td>\n",
       "      <td>11.000000</td>\n",
       "      <td>87.0</td>\n",
       "      <td>600.000000</td>\n",
       "      <td>250.000000</td>\n",
       "    </tr>\n",
       "    <tr>\n",
       "      <th>max</th>\n",
       "      <td>5.000000</td>\n",
       "      <td>512887.000000</td>\n",
       "      <td>132.500000</td>\n",
       "      <td>795.0</td>\n",
       "      <td>3100.000000</td>\n",
       "      <td>3100.000000</td>\n",
       "    </tr>\n",
       "  </tbody>\n",
       "</table>\n",
       "</div>"
      ],
      "text/plain": [
       "            Rating        Reviews        Hours   Lectures  Original Price  \\\n",
       "count  2137.000000    2137.000000  2137.000000     2137.0     2137.000000   \n",
       "mean      4.261675    1484.985494     9.565980  71.607861      544.759008   \n",
       "std       0.448526   12505.556073    12.011566  83.977228      415.517874   \n",
       "min       1.400000       1.000000     1.000000        4.0        0.000000   \n",
       "25%       4.000000      24.000000     2.500000       24.0      400.000000   \n",
       "50%       4.400000      83.000000     5.500000       46.0      400.000000   \n",
       "75%       4.600000     371.000000    11.000000       87.0      600.000000   \n",
       "max       5.000000  512887.000000   132.500000      795.0     3100.000000   \n",
       "\n",
       "       Discount Price  \n",
       "count     2137.000000  \n",
       "mean       258.937763  \n",
       "std        232.706443  \n",
       "min          0.000000  \n",
       "25%        250.000000  \n",
       "50%        250.000000  \n",
       "75%        250.000000  \n",
       "max       3100.000000  "
      ]
     },
     "execution_count": 151,
     "metadata": {},
     "output_type": "execute_result"
    }
   ],
   "source": [
    "df_good.describe()"
   ]
  },
  {
   "cell_type": "code",
   "execution_count": 152,
   "metadata": {},
   "outputs": [
    {
     "name": "stdout",
     "output_type": "stream",
     "text": [
      "Rating 50\n",
      "Reviews 331\n",
      "Hours 205\n",
      "Lectures 151\n",
      "Original Price 439\n",
      "Discount Price 288\n"
     ]
    }
   ],
   "source": [
    "for col in df_good.select_dtypes(include=np.number).columns:\n",
    "    print(col, count_outliers(col, df_good))"
   ]
  },
  {
   "cell_type": "code",
   "execution_count": 153,
   "metadata": {},
   "outputs": [
    {
     "data": {
      "text/plain": [
       "<Axes: xlabel='Lectures'>"
      ]
     },
     "execution_count": 153,
     "metadata": {},
     "output_type": "execute_result"
    },
    {
     "data": {
      "image/png": "[encoded data removed]",
      "text/plain": [
       "<Figure size 640x480 with 1 Axes>"
      ]
     },
     "metadata": {},
     "output_type": "display_data"
    }
   ],
   "source": [
    "sns.boxplot(x='Lectures', data=df_good)"
   ]
  },
  {
   "cell_type": "code",
   "execution_count": 154,
   "metadata": {},
   "outputs": [
    {
     "data": {
      "text/plain": [
       "<Figure size 2000x2000 with 0 Axes>"
      ]
     },
     "metadata": {},
     "output_type": "display_data"
    },
    {
     "data": {
      "image/png": "[encoded data removed]",
      "text/plain": [
       "<Figure size 2000x2000 with 6 Axes>"
      ]
     },
     "metadata": {},
     "output_type": "display_data"
    }
   ],
   "source": [
    "# let's create a subplot with boxplots for each numerical column\n",
    "plt.figure(figsize=(20, 20))\n",
    "fig, axes = plt.subplots(3, 2, figsize=(20, 20))\n",
    "for i, col in enumerate(df_dropped.select_dtypes(include=np.number).columns):\n",
    "    sns.boxplot(x=col, data=df_dropped, ax=axes[i//2, i%2])\n",
    "\n",
    "plt.show()"
   ]
  },
  {
   "cell_type": "code",
   "execution_count": 155,
   "metadata": {},
   "outputs": [
    {
     "data": {
      "text/plain": [
       "<Figure size 2000x2000 with 0 Axes>"
      ]
     },
     "metadata": {},
     "output_type": "display_data"
    },
    {
     "data": {
      "image/png": "[encoded data removed]",
      "text/plain": [
       "<Figure size 2000x2000 with 6 Axes>"
      ]
     },
     "metadata": {},
     "output_type": "display_data"
    }
   ],
   "source": [
    "# let's create a subplot with boxplots for each numerical column\n",
    "plt.figure(figsize=(20, 20))\n",
    "fig, axes = plt.subplots(3, 2, figsize=(20, 20))\n",
    "for i, col in enumerate(df.select_dtypes(include=np.number).columns):\n",
    "    sns.boxplot(x=col, data=df, ax=axes[i//2, i%2])\n",
    "\n",
    "plt.show()"
   ]
  },
  {
   "cell_type": "code",
   "execution_count": 156,
   "metadata": {},
   "outputs": [
    {
     "data": {
      "text/plain": [
       "<Figure size 2000x2000 with 0 Axes>"
      ]
     },
     "metadata": {},
     "output_type": "display_data"
    },
    {
     "data": {
      "image/png": "[encoded data removed]",
      "text/plain": [
       "<Figure size 2000x2000 with 6 Axes>"
      ]
     },
     "metadata": {},
     "output_type": "display_data"
    }
   ],
   "source": [
    "# let's create a subplot with boxplots for each numerical column\n",
    "plt.figure(figsize=(20, 20))\n",
    "fig, axes = plt.subplots(3, 2, figsize=(20, 20))\n",
    "for i, col in enumerate(df_good.select_dtypes(include=np.number).columns):\n",
    "    sns.boxplot(x=col, data=df_good, ax=axes[i//2, i%2])\n",
    "\n",
    "plt.show()"
   ]
  },
  {
   "cell_type": "code",
   "execution_count": 157,
   "metadata": {},
   "outputs": [
    {
     "data": {
      "text/plain": [
       "<Axes: xlabel='Reviews', ylabel='Density'>"
      ]
     },
     "execution_count": 157,
     "metadata": {},
     "output_type": "execute_result"
    },
    {
     "data": {
      "image/png": "[encoded data removed]",
      "text/plain": [
       "<Figure size 640x480 with 1 Axes>"
      ]
     },
     "metadata": {},
     "output_type": "display_data"
    }
   ],
   "source": [
    "sns.kdeplot(data=df_good_2, x='Reviews', hue='Level', fill=True)"
   ]
  },
  {
   "cell_type": "code",
   "execution_count": 158,
   "metadata": {},
   "outputs": [
    {
     "data": {
      "application/vnd.jupyter.widget-view+json": {
       "model_id": "ebb4b7e11aad4e2b853b7de69ecbfe21",
       "version_major": 2,
       "version_minor": 0
      },
      "text/plain": [
       "Box(children=(HTML(value='\\n<div id=\"ifr-pyg-00061ea547bd93beKJ8RrPAMn2buyYkU\" style=\"height: auto\">\\n    <hea…"
      ]
     },
     "metadata": {},
     "output_type": "display_data"
    },
    {
     "data": {
      "text/html": [],
      "text/plain": [
       "<IPython.core.display.HTML object>"
      ]
     },
     "metadata": {},
     "output_type": "display_data"
    },
    {
     "data": {
      "text/plain": [
       "<pygwalker.api.pygwalker.PygWalker at 0x2454c40acd0>"
      ]
     },
     "execution_count": 158,
     "metadata": {},
     "output_type": "execute_result"
    }
   ],
   "source": [
    "pyg.walk(df)"
   ]
  },
  {
   "cell_type": "code",
   "execution_count": 159,
   "metadata": {},
   "outputs": [
    {
     "name": "stdout",
     "output_type": "stream",
     "text": [
      "<class 'pandas.core.frame.DataFrame'>\n",
      "Int64Index: 2137 entries, 23 to 2758\n",
      "Data columns (total 9 columns):\n",
      " #   Column          Non-Null Count  Dtype  \n",
      "---  ------          --------------  -----  \n",
      " 0   Name            2137 non-null   object \n",
      " 1   Lecturer        2137 non-null   object \n",
      " 2   Rating          2137 non-null   float64\n",
      " 3   Reviews         2137 non-null   float64\n",
      " 4   Hours           2137 non-null   float64\n",
      " 5   Lectures        2137 non-null   Int64  \n",
      " 6   Level           2137 non-null   object \n",
      " 7   Original Price  2137 non-null   float64\n",
      " 8   Discount Price  2137 non-null   float64\n",
      "dtypes: Int64(1), float64(5), object(3)\n",
      "memory usage: 233.6+ KB\n"
     ]
    }
   ],
   "source": [
    "df_good.info()"
   ]
  },
  {
   "cell_type": "code",
   "execution_count": 163,
   "metadata": {},
   "outputs": [],
   "source": [
    "df_exploaded.dropna(inplace=True)"
   ]
  },
  {
   "cell_type": "code",
   "execution_count": 164,
   "metadata": {},
   "outputs": [
    {
     "data": {
      "text/plain": [
       "Name              0\n",
       "Lecturer          0\n",
       "Rating            0\n",
       "Reviews           0\n",
       "Hours             0\n",
       "Lectures          0\n",
       "Level             0\n",
       "Original Price    0\n",
       "Discount Price    0\n",
       "dtype: int64"
      ]
     },
     "execution_count": 164,
     "metadata": {},
     "output_type": "execute_result"
    }
   ],
   "source": [
    "df_exploaded.isna().sum()"
   ]
  },
  {
   "cell_type": "code",
   "execution_count": null,
   "metadata": {},
   "outputs": [],
   "source": []
  }
 ],
 "metadata": {
  "kernelspec": {
   "display_name": "base",
   "language": "python",
   "name": "python3"
  },
  "language_info": {
   "codemirror_mode": {
    "name": "ipython",
    "version": 3
   },
   "file_extension": ".py",
   "mimetype": "text/x-python",
   "name": "python",
   "nbconvert_exporter": "python",
   "pygments_lexer": "ipython3",
   "version": "3.11.4"
  }
 },
 "nbformat": 4,
 "nbformat_minor": 2
}
