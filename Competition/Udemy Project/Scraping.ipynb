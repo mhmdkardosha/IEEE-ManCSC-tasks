{
 "cells": [
  {
   "cell_type": "code",
   "execution_count": 1,
   "metadata": {},
   "outputs": [],
   "source": [
    "import warnings\n",
    "warnings.filterwarnings('ignore') # to ignore warnings\n",
    "import pandas as pd # to work with dataframes\n",
    "import requests # to send http requests\n",
    "from bs4 import BeautifulSoup # to parse html\n",
    "from selenium import webdriver # to interact with javascript\n",
    "from selenium.webdriver.common.keys import Keys # to interact with javascript\n",
    "import time # to pause the code\n",
    "import undetected_chromedriver as uc # to avoid bot detection\n",
    "from selenium.webdriver.common.by import By"
   ]
  },
  {
   "cell_type": "code",
   "execution_count": 3,
   "metadata": {},
   "outputs": [],
   "source": [
    "driver = uc.Chrome()"
   ]
  },
  {
   "cell_type": "code",
   "execution_count": 97,
   "metadata": {},
   "outputs": [],
   "source": [
    "driver.get('https://www.udemy.com/courses/search/?src=ukw&q=data+science')\n"
   ]
  },
  {
   "cell_type": "code",
   "execution_count": 98,
   "metadata": {},
   "outputs": [],
   "source": [
    "time.sleep(5)"
   ]
  },
  {
   "cell_type": "code",
   "execution_count": 99,
   "metadata": {},
   "outputs": [
    {
     "data": {
      "text/plain": [
       "<undetected_chromedriver.webelement.WebElement (session=\"18ce8c274bdccd29c8a0ac8bd232f82e\", element=\"f.82213619AD6B857944133527E40B804D.d.78AE04A87203A911F560094DE88B3C88.e.388\")>"
      ]
     },
     "execution_count": 99,
     "metadata": {},
     "output_type": "execute_result"
    }
   ],
   "source": [
    "driver.find_element(By.CLASS_NAME, 'course-list--container--HY2ry')"
   ]
  },
  {
   "cell_type": "code",
   "execution_count": 100,
   "metadata": {},
   "outputs": [],
   "source": [
    "soup = BeautifulSoup(driver.page_source, 'html.parser')"
   ]
  },
  {
   "cell_type": "code",
   "execution_count": 101,
   "metadata": {},
   "outputs": [],
   "source": [
    "courses = soup.find('div', class_='course-list--container--HY2ry')"
   ]
  },
  {
   "cell_type": "code",
   "execution_count": 102,
   "metadata": {},
   "outputs": [
    {
     "data": {
      "text/plain": [
       "23"
      ]
     },
     "execution_count": 102,
     "metadata": {},
     "output_type": "execute_result"
    }
   ],
   "source": [
    "len(courses)"
   ]
  },
  {
   "cell_type": "code",
   "execution_count": 103,
   "metadata": {},
   "outputs": [],
   "source": [
    "course_title_tag = courses.find('div', class_='course-card-title-module--title--W49Ap').find('h3').find('a')\n",
    "\n",
    "course_title = ''.join(str(item) for item in course_title_tag.contents if item.name != 'span' and item.name != 'div').strip()"
   ]
  },
  {
   "cell_type": "code",
   "execution_count": 104,
   "metadata": {},
   "outputs": [
    {
     "data": {
      "text/plain": [
       "'The Data Science Course: Complete Data Science Bootcamp 2024'"
      ]
     },
     "execution_count": 104,
     "metadata": {},
     "output_type": "execute_result"
    }
   ],
   "source": [
    "course_title"
   ]
  },
  {
   "cell_type": "code",
   "execution_count": 105,
   "metadata": {},
   "outputs": [
    {
     "name": "stdout",
     "output_type": "stream",
     "text": [
      "The Data Science Course: Complete Data Science Bootcamp 2024\n",
      "100 Days of Code: The Complete Python Pro Bootcamp\n",
      "Complete A.I. & Machine Learning, Data Science Bootcamp\n",
      "Data Science: Supervised Machine Learning in Python\n",
      "Python for Data Science and Machine Learning Bootcamp\n",
      "Machine Learning A-Z: AI, Python & R + ChatGPT Prize [2024]\n",
      "Data Science & Machine Learning(Theory+Projects)A-Z 90 HOURS\n",
      "Data Science & Machine Learning Study Bootcamp: From A to Z.\n",
      "Python for Machine Learning & Data Science Masterclass\n",
      "Statistics for Data Science and Business Analysis\n",
      "Data Science A-Z: Hands-On Exercises & ChatGPT Prize [2024]\n",
      "Machine Learning, Data Science and Generative AI with Python\n",
      "Data Science : Complete Data Science & Machine Learning\n",
      "Python Data Science: Data Prep & EDA with Python\n",
      "Data Science for Business | 6 Real-world Case Studies\n",
      "Math for Data Science Masterclass\n",
      "Tableau 2024 A-Z: Hands-On Tableau Training for Data Science\n",
      "R Programming A-Z™: R For Data Science With Real Exercises!\n",
      "Python Data Science with Pandas: Master 12 Advanced Projects\n",
      "Python A-Z™: Python For Data Science With Real Exercises!\n",
      "Intro to Data Science: QuickStart Guide + AI & ChatGPT Prize\n",
      "Statistics & Mathematics for Data Science & Data Analytics\n"
     ]
    }
   ],
   "source": [
    "for course in courses:\n",
    "    exist = course.find('div', class_='course-card-title-module--title--W49Ap')\n",
    "    if exist is None:\n",
    "        continue\n",
    "    course_title_tag = exist.find('h3').find('a')\n",
    "    course_title = ''.join(str(item) for item in course_title_tag.contents if item.name != 'span' and item.name != 'div').strip()\n",
    "    print(course_title)"
   ]
  },
  {
   "cell_type": "code",
   "execution_count": 106,
   "metadata": {},
   "outputs": [
    {
     "data": {
      "text/plain": [
       "'365 Careers'"
      ]
     },
     "execution_count": 106,
     "metadata": {},
     "output_type": "execute_result"
    }
   ],
   "source": [
    "courses.find('div', class_ = 'ud-text-xs').find('div').text"
   ]
  },
  {
   "cell_type": "code",
   "execution_count": 107,
   "metadata": {},
   "outputs": [
    {
     "name": "stdout",
     "output_type": "stream",
     "text": [
      "365 Careers\n",
      "Dr. Angela Yu, Developer and Lead Instructor\n",
      "Andrei Neagoie, Daniel Bourke\n",
      "Lazy Programmer Team, Lazy Programmer Inc.\n",
      "Jose Portilla, Pierian Training\n",
      "Kirill Eremenko, Hadelin de Ponteves, SuperDataScience Team, Ligency Team\n",
      "AI Sciences, AI Sciences Team\n",
      "Temotec Learning Academy\n",
      "Jose Portilla, Pierian Training\n",
      "365 Careers\n",
      "Kirill Eremenko, SuperDataScience Team, Ligency Team\n",
      "Sundog Education by Frank Kane, Frank Kane, Sundog Education Team\n",
      "Jitesh Khurkhuriya, Python, Data Science & Machine Learning A-Z Team\n",
      "Maven Analytics, Alice Zhao\n",
      "Dr. Ryan Ahmed, Ph.D., MBA, SuperDataScience Team, Mitchell Bouchard, Stemplicity Q&A Support, Ligency Team\n",
      "Jose Portilla, Krista King, Pierian Training\n",
      "Kirill Eremenko, SuperDataScience Team, Ligency Team\n",
      "Kirill Eremenko, SuperDataScience Team, Ligency Team\n",
      "Alexander Hagmann\n",
      "Kirill Eremenko, SuperDataScience Team, Ligency Team\n",
      "Kirill Eremenko, Hadelin de Ponteves, SuperDataScience Team, Ligency Team\n",
      "Nikolai Schuler\n"
     ]
    }
   ],
   "source": [
    "for course in courses:\n",
    "    exist = course.find('div', class_='ud-text-xs')\n",
    "    if exist is None:\n",
    "        continue\n",
    "    course_author = exist.find('div').text\n",
    "    print(course_author)"
   ]
  },
  {
   "cell_type": "code",
   "execution_count": 108,
   "metadata": {},
   "outputs": [
    {
     "data": {
      "text/plain": [
       "'4.6'"
      ]
     },
     "execution_count": 108,
     "metadata": {},
     "output_type": "execute_result"
    }
   ],
   "source": [
    "courses.find('div', class_='course-card-ratings-module--row--Lnvpa').find('span').find('span', class_='ud-heading-sm star-rating-module--rating-number--2-qA2').text"
   ]
  },
  {
   "cell_type": "code",
   "execution_count": 109,
   "metadata": {},
   "outputs": [
    {
     "name": "stdout",
     "output_type": "stream",
     "text": [
      "4.6\n",
      "4.7\n",
      "4.6\n",
      "4.6\n",
      "4.6\n",
      "4.5\n",
      "4.4\n",
      "5.0\n",
      "4.6\n",
      "4.6\n",
      "4.5\n",
      "4.6\n",
      "4.6\n",
      "4.6\n",
      "4.6\n",
      "4.7\n",
      "4.6\n",
      "4.6\n",
      "4.6\n",
      "4.6\n",
      "4.5\n",
      "4.4\n"
     ]
    }
   ],
   "source": [
    "for course in courses:\n",
    "    exist = course.find('div', class_='course-card-ratings-module--row--Lnvpa')\n",
    "    if exist is None:\n",
    "        continue\n",
    "    course_rating = exist.find('span').find('span', class_='ud-heading-sm star-rating-module--rating-number--2-qA2').text\n",
    "    print(course_rating)"
   ]
  },
  {
   "cell_type": "code",
   "execution_count": 110,
   "metadata": {},
   "outputs": [
    {
     "data": {
      "text/plain": [
       "'142,660'"
      ]
     },
     "execution_count": 110,
     "metadata": {},
     "output_type": "execute_result"
    }
   ],
   "source": [
    "courses.find('div', class_='course-card-ratings-module--row--Lnvpa').find('span', class_='ud-text-xs course-card-ratings-module--reviews-text--1z0l4').text.removeprefix('(').removesuffix(')')\n"
   ]
  },
  {
   "cell_type": "code",
   "execution_count": 111,
   "metadata": {},
   "outputs": [
    {
     "name": "stdout",
     "output_type": "stream",
     "text": [
      "142,660\n",
      "312,786\n",
      "23,174\n",
      "3,271\n",
      "144,598\n",
      "188,151\n",
      "761\n",
      "19\n",
      "15,747\n",
      "44,493\n",
      "34,075\n",
      "32,469\n",
      "3,178\n",
      "844\n",
      "1,513\n",
      "1,120\n",
      "100,039\n",
      "54,232\n",
      "949\n",
      "28,625\n",
      "6,991\n",
      "1,932\n"
     ]
    }
   ],
   "source": [
    "for course in courses:\n",
    "    exist = course.find('div', class_='course-card-ratings-module--row--Lnvpa')\n",
    "    if exist is None:\n",
    "        continue\n",
    "    course_reviews = exist.find('span', class_='ud-text-xs course-card-ratings-module--reviews-text--1z0l4').text.removeprefix('(').removesuffix(')')\n",
    "    print(course_reviews)"
   ]
  },
  {
   "cell_type": "code",
   "execution_count": 112,
   "metadata": {},
   "outputs": [],
   "source": [
    "details = courses.find('div', class_='course-card-details-module--row--jw-lD').find_all('span', class_='course-card-details-module--row--jw-lD')"
   ]
  },
  {
   "cell_type": "code",
   "execution_count": 113,
   "metadata": {},
   "outputs": [
    {
     "data": {
      "text/plain": [
       "[<span class=\"course-card-details-module--row--jw-lD\">32 total hours</span>,\n",
       " <span class=\"course-card-details-module--row--jw-lD\">520 lectures</span>,\n",
       " <span class=\"course-card-details-module--row--jw-lD\">All Levels</span>]"
      ]
     },
     "execution_count": 113,
     "metadata": {},
     "output_type": "execute_result"
    }
   ],
   "source": [
    "details"
   ]
  },
  {
   "cell_type": "code",
   "execution_count": 114,
   "metadata": {},
   "outputs": [
    {
     "data": {
      "text/plain": [
       "True"
      ]
     },
     "execution_count": 114,
     "metadata": {},
     "output_type": "execute_result"
    }
   ],
   "source": [
    "details[0].text.split()[0].isnumeric()"
   ]
  },
  {
   "cell_type": "code",
   "execution_count": 115,
   "metadata": {},
   "outputs": [
    {
     "data": {
      "text/plain": [
       "3"
      ]
     },
     "execution_count": 115,
     "metadata": {},
     "output_type": "execute_result"
    }
   ],
   "source": [
    "len(details)"
   ]
  },
  {
   "cell_type": "code",
   "execution_count": 116,
   "metadata": {},
   "outputs": [
    {
     "data": {
      "text/plain": [
       "'32'"
      ]
     },
     "execution_count": 116,
     "metadata": {},
     "output_type": "execute_result"
    }
   ],
   "source": [
    "details[0].text.split()[0]"
   ]
  },
  {
   "cell_type": "code",
   "execution_count": 117,
   "metadata": {},
   "outputs": [
    {
     "name": "stdout",
     "output_type": "stream",
     "text": [
      "32\n",
      "58.5\n",
      "44\n",
      "25\n",
      "43\n",
      "94\n",
      "14\n",
      "44\n",
      "5\n",
      "21\n",
      "20.5\n",
      "26\n",
      "8.5\n",
      "11.5\n",
      "16\n",
      "8.5\n",
      "10.5\n",
      "17.5\n",
      "11\n",
      "5.5\n",
      "11.5\n"
     ]
    }
   ],
   "source": [
    "for course in courses:\n",
    "    exist = course.find('div', class_='course-card-details-module--row--jw-lD')\n",
    "    if exist is None:\n",
    "        continue\n",
    "    course_students = exist.find_all('span', class_='course-card-details-module--row--jw-lD')[0].text.split()[0]\n",
    "    print(course_students)"
   ]
  },
  {
   "cell_type": "code",
   "execution_count": 118,
   "metadata": {},
   "outputs": [
    {
     "data": {
      "text/plain": [
       "'520'"
      ]
     },
     "execution_count": 118,
     "metadata": {},
     "output_type": "execute_result"
    }
   ],
   "source": [
    "details[1].text.split()[0]"
   ]
  },
  {
   "cell_type": "code",
   "execution_count": 119,
   "metadata": {},
   "outputs": [
    {
     "name": "stdout",
     "output_type": "stream",
     "text": [
      "520\n",
      "640\n",
      "384\n",
      "165\n",
      "386\n",
      "735\n",
      "130\n",
      "231\n",
      "92\n",
      "217\n",
      "147\n",
      "281\n",
      "180\n",
      "75\n",
      "68\n",
      "82\n",
      "80\n",
      "214\n",
      "73\n",
      "43\n",
      "91\n"
     ]
    }
   ],
   "source": [
    "for course in courses:\n",
    "    exist = course.find('div', class_='course-card-details-module--row--jw-lD')\n",
    "    if exist is None:\n",
    "        continue\n",
    "    course_lectures = exist.find_all('span', class_='course-card-details-module--row--jw-lD')[1].text.split()[0]\n",
    "    print(course_lectures)"
   ]
  },
  {
   "cell_type": "code",
   "execution_count": 120,
   "metadata": {},
   "outputs": [
    {
     "data": {
      "text/plain": [
       "'All Levels'"
      ]
     },
     "execution_count": 120,
     "metadata": {},
     "output_type": "execute_result"
    }
   ],
   "source": [
    "details[2].text"
   ]
  },
  {
   "cell_type": "code",
   "execution_count": 121,
   "metadata": {},
   "outputs": [
    {
     "name": "stdout",
     "output_type": "stream",
     "text": [
      "All Levels\n",
      "All Levels\n",
      "All Levels\n",
      "All Levels\n",
      "All Levels\n",
      "All Levels\n",
      "All Levels\n",
      "All Levels\n",
      "All Levels\n",
      "All Levels\n",
      "Beginner\n",
      "All Levels\n",
      "All Levels\n",
      "Intermediate\n",
      "All Levels\n",
      "All Levels\n",
      "All Levels\n",
      "Intermediate\n",
      "All Levels\n",
      "Beginner\n",
      "Beginner\n",
      "\n",
      "All Levels\n",
      "All Levels\n",
      "All Levels\n",
      "All Levels\n",
      "All Levels\n",
      "All Levels\n",
      "All Levels\n",
      "All Levels\n",
      "All Levels\n",
      "Beginner\n",
      "All Levels\n",
      "All Levels\n",
      "Intermediate\n",
      "All Levels\n",
      "All Levels\n",
      "All Levels\n",
      "Intermediate\n",
      "All Levels\n",
      "Beginner\n",
      "Beginner\n"
     ]
    }
   ],
   "source": [
    "for course in courses:\n",
    "    exist = course.find('div', class_='course-card-details-module--row--jw-lD')\n",
    "    if exist is None:\n",
    "        continue\n",
    "    course_duration = exist.find_all('span', class_='course-card-details-module--row--jw-lD')[2].text\n",
    "    print(course_duration)"
   ]
  },
  {
   "cell_type": "code",
   "execution_count": 122,
   "metadata": {},
   "outputs": [
    {
     "data": {
      "text/plain": [
       "'E£299.99'"
      ]
     },
     "execution_count": 122,
     "metadata": {},
     "output_type": "execute_result"
    }
   ],
   "source": [
    "courses.find('div', class_='base-price-text-module--price-part---xQlz course-card-module--price-text-base-price-text-component-discount-price--Xztnd ud-heading-md').text.removeprefix('Current price').strip()\n"
   ]
  },
  {
   "cell_type": "code",
   "execution_count": 123,
   "metadata": {},
   "outputs": [
    {
     "data": {
      "text/plain": [
       "'E£299.99'"
      ]
     },
     "execution_count": 123,
     "metadata": {},
     "output_type": "execute_result"
    }
   ],
   "source": [
    "courses.find('div', class_='base-price-text-module--price-part---xQlz course-card-module--price-text-base-price-text-component-discount-price--Xztnd ud-heading-md').find_all('span')[1].text"
   ]
  },
  {
   "cell_type": "code",
   "execution_count": 124,
   "metadata": {},
   "outputs": [
    {
     "name": "stdout",
     "output_type": "stream",
     "text": [
      "E£299.99\n",
      "E£399.99\n",
      "E£299.99\n",
      "E£499.99\n",
      "E£399.99\n",
      "E£299.99\n",
      "E£249.99\n",
      "E£249.99\n",
      "E£399.99\n",
      "E£249.99\n",
      "E£399.99\n",
      "E£349.99\n",
      "E£449.99\n",
      "E£249.99\n",
      "E£249.99\n",
      "E£249.99\n",
      "E£449.99\n",
      "E£449.99\n",
      "E£249.99\n",
      "E£349.99\n",
      "E£249.99\n",
      "E£249.99\n"
     ]
    }
   ],
   "source": [
    "for course in courses:\n",
    "    exist = course.find('div', class_='base-price-text-module--price-part---xQlz course-card-module--price-text-base-price-text-component-discount-price--Xztnd ud-heading-md')\n",
    "    if exist is None:\n",
    "        continue\n",
    "    course_price = exist.find_all('span')[1].text\n",
    "    print(course_price)"
   ]
  },
  {
   "cell_type": "code",
   "execution_count": 129,
   "metadata": {},
   "outputs": [
    {
     "data": {
      "text/plain": [
       "['E£299.99', 'E£1,599.99']"
      ]
     },
     "execution_count": 129,
     "metadata": {},
     "output_type": "execute_result"
    }
   ],
   "source": [
    "courses.find('div', class_=\"course-card-module--price-text-container--2TRvR\").text.replace('Current price','').replace('Original Price',' ').strip().split()"
   ]
  },
  {
   "cell_type": "code",
   "execution_count": 33,
   "metadata": {},
   "outputs": [
    {
     "data": {
      "text/plain": [
       "'E£1,599.99'"
      ]
     },
     "execution_count": 33,
     "metadata": {},
     "output_type": "execute_result"
    }
   ],
   "source": [
    "courses.find('div', class_='base-price-text-module--price-part---xQlz base-price-text-module--original-price--C6BJt course-card-module--price-text-base-price-text-component-list-price--eL9tp ud-text-sm').find_all('span')[1].text"
   ]
  },
  {
   "cell_type": "code",
   "execution_count": 34,
   "metadata": {},
   "outputs": [
    {
     "name": "stdout",
     "output_type": "stream",
     "text": [
      "E£1,599.99\n",
      "E£2,299.99\n",
      "E£1,699.99\n",
      "E£2,299.99\n",
      "E£1,699.99\n",
      "E£1,299.99\n",
      "E£799.99\n",
      "E£2,199.99\n",
      "E£1,399.99\n",
      "E£2,299.99\n",
      "E£1,899.99\n",
      "E£2,499.99\n",
      "E£1,099.99\n",
      "E£899.99\n",
      "E£1,099.99\n",
      "E£2,499.99\n",
      "E£2,499.99\n",
      "E£1,399.99\n",
      "E£1,899.99\n",
      "E£399.99\n",
      "E£1,599.99\n"
     ]
    }
   ],
   "source": [
    "for course in courses:\n",
    "    exist = course.find('div', class_='base-price-text-module--price-part---xQlz base-price-text-module--original-price--C6BJt course-card-module--price-text-base-price-text-component-list-price--eL9tp ud-text-sm')\n",
    "    if exist is None:\n",
    "        continue\n",
    "    course_original_price = exist.find_all('span')[1].text\n",
    "    print(course_original_price)"
   ]
  },
  {
   "cell_type": "code",
   "execution_count": 35,
   "metadata": {},
   "outputs": [
    {
     "data": {
      "text/plain": [
       "500"
      ]
     },
     "execution_count": 35,
     "metadata": {},
     "output_type": "execute_result"
    }
   ],
   "source": [
    "int(soup.find('div', class_='course-directory--container--gQnE1').find('span', class_='ud-heading-sm pagination-module--page--tnM1S').text)"
   ]
  },
  {
   "cell_type": "code",
   "execution_count": 138,
   "metadata": {},
   "outputs": [],
   "source": [
    "driver.get(\"https://www.udemy.com/courses/search/?src=ukw&q=data+science\")\n",
    "\n",
    "time.sleep(3)\n",
    "\n",
    "driver.find_element(By.CLASS_NAME, 'course-list--container--HY2ry')\n",
    "\n",
    "soup = BeautifulSoup(driver.page_source, 'html.parser')\n",
    "\n",
    "maxi = int(soup.find('div', class_='course-directory--container--gQnE1').find('span', class_='ud-heading-sm pagination-module--page--tnM1S').text) + 1"
   ]
  },
  {
   "cell_type": "code",
   "execution_count": 139,
   "metadata": {},
   "outputs": [
    {
     "data": {
      "text/plain": [
       "501"
      ]
     },
     "execution_count": 139,
     "metadata": {},
     "output_type": "execute_result"
    }
   ],
   "source": [
    "maxi"
   ]
  },
  {
   "cell_type": "code",
   "execution_count": 5,
   "metadata": {},
   "outputs": [
    {
     "name": "stdout",
     "output_type": "stream",
     "text": [
      "Page 10 is done\n",
      "Page 20 is done\n",
      "Page 30 is done\n",
      "Page 40 is done\n",
      "Page 50 is done\n",
      "Page 60 is done\n",
      "Page 70 is done\n",
      "Page 80 is done\n",
      "Page 90 is done\n",
      "Page 100 is done\n",
      "Page 110 is done\n",
      "Page 120 is done\n"
     ]
    },
    {
     "ename": "KeyboardInterrupt",
     "evalue": "",
     "output_type": "error",
     "traceback": [
      "\u001b[1;31m---------------------------------------------------------------------------\u001b[0m",
      "\u001b[1;31mKeyboardInterrupt\u001b[0m                         Traceback (most recent call last)",
      "\u001b[1;32m~\\AppData\\Local\\Temp\\ipykernel_4912\\1411345622.py\u001b[0m in \u001b[0;36m<module>\u001b[1;34m\u001b[0m\n\u001b[0;32m     10\u001b[0m     \u001b[0mtime\u001b[0m\u001b[1;33m.\u001b[0m\u001b[0msleep\u001b[0m\u001b[1;33m(\u001b[0m\u001b[1;36m4\u001b[0m\u001b[1;33m)\u001b[0m\u001b[1;33m\u001b[0m\u001b[1;33m\u001b[0m\u001b[0m\n\u001b[0;32m     11\u001b[0m \u001b[1;33m\u001b[0m\u001b[0m\n\u001b[1;32m---> 12\u001b[1;33m     \u001b[0mdriver\u001b[0m\u001b[1;33m.\u001b[0m\u001b[0mfind_element\u001b[0m\u001b[1;33m(\u001b[0m\u001b[0mBy\u001b[0m\u001b[1;33m.\u001b[0m\u001b[0mCLASS_NAME\u001b[0m\u001b[1;33m,\u001b[0m \u001b[1;34m'course-list--container--HY2ry'\u001b[0m\u001b[1;33m)\u001b[0m\u001b[1;33m\u001b[0m\u001b[1;33m\u001b[0m\u001b[0m\n\u001b[0m\u001b[0;32m     13\u001b[0m \u001b[1;33m\u001b[0m\u001b[0m\n\u001b[0;32m     14\u001b[0m     \u001b[0msoup\u001b[0m \u001b[1;33m=\u001b[0m \u001b[0mBeautifulSoup\u001b[0m\u001b[1;33m(\u001b[0m\u001b[0mdriver\u001b[0m\u001b[1;33m.\u001b[0m\u001b[0mpage_source\u001b[0m\u001b[1;33m,\u001b[0m \u001b[1;34m'html.parser'\u001b[0m\u001b[1;33m)\u001b[0m\u001b[1;33m\u001b[0m\u001b[1;33m\u001b[0m\u001b[0m\n",
      "\u001b[1;32m~\\AppData\\Roaming\\Python\\Python39\\site-packages\\selenium\\webdriver\\remote\\webdriver.py\u001b[0m in \u001b[0;36mfind_element\u001b[1;34m(self, by, value)\u001b[0m\n\u001b[0;32m    746\u001b[0m             \u001b[0mvalue\u001b[0m \u001b[1;33m=\u001b[0m \u001b[1;34mf'[name=\"{value}\"]'\u001b[0m\u001b[1;33m\u001b[0m\u001b[1;33m\u001b[0m\u001b[0m\n\u001b[0;32m    747\u001b[0m \u001b[1;33m\u001b[0m\u001b[0m\n\u001b[1;32m--> 748\u001b[1;33m         \u001b[1;32mreturn\u001b[0m \u001b[0mself\u001b[0m\u001b[1;33m.\u001b[0m\u001b[0mexecute\u001b[0m\u001b[1;33m(\u001b[0m\u001b[0mCommand\u001b[0m\u001b[1;33m.\u001b[0m\u001b[0mFIND_ELEMENT\u001b[0m\u001b[1;33m,\u001b[0m \u001b[1;33m{\u001b[0m\u001b[1;34m\"using\"\u001b[0m\u001b[1;33m:\u001b[0m \u001b[0mby\u001b[0m\u001b[1;33m,\u001b[0m \u001b[1;34m\"value\"\u001b[0m\u001b[1;33m:\u001b[0m \u001b[0mvalue\u001b[0m\u001b[1;33m}\u001b[0m\u001b[1;33m)\u001b[0m\u001b[1;33m[\u001b[0m\u001b[1;34m\"value\"\u001b[0m\u001b[1;33m]\u001b[0m\u001b[1;33m\u001b[0m\u001b[1;33m\u001b[0m\u001b[0m\n\u001b[0m\u001b[0;32m    749\u001b[0m \u001b[1;33m\u001b[0m\u001b[0m\n\u001b[0;32m    750\u001b[0m     \u001b[1;32mdef\u001b[0m \u001b[0mfind_elements\u001b[0m\u001b[1;33m(\u001b[0m\u001b[0mself\u001b[0m\u001b[1;33m,\u001b[0m \u001b[0mby\u001b[0m\u001b[1;33m=\u001b[0m\u001b[0mBy\u001b[0m\u001b[1;33m.\u001b[0m\u001b[0mID\u001b[0m\u001b[1;33m,\u001b[0m \u001b[0mvalue\u001b[0m\u001b[1;33m:\u001b[0m \u001b[0mOptional\u001b[0m\u001b[1;33m[\u001b[0m\u001b[0mstr\u001b[0m\u001b[1;33m]\u001b[0m \u001b[1;33m=\u001b[0m \u001b[1;32mNone\u001b[0m\u001b[1;33m)\u001b[0m \u001b[1;33m->\u001b[0m \u001b[0mList\u001b[0m\u001b[1;33m[\u001b[0m\u001b[0mWebElement\u001b[0m\u001b[1;33m]\u001b[0m\u001b[1;33m:\u001b[0m\u001b[1;33m\u001b[0m\u001b[1;33m\u001b[0m\u001b[0m\n",
      "\u001b[1;32m~\\AppData\\Roaming\\Python\\Python39\\site-packages\\selenium\\webdriver\\remote\\webdriver.py\u001b[0m in \u001b[0;36mexecute\u001b[1;34m(self, driver_command, params)\u001b[0m\n\u001b[0;32m    350\u001b[0m                 \u001b[0mparams\u001b[0m\u001b[1;33m[\u001b[0m\u001b[1;34m\"sessionId\"\u001b[0m\u001b[1;33m]\u001b[0m \u001b[1;33m=\u001b[0m \u001b[0mself\u001b[0m\u001b[1;33m.\u001b[0m\u001b[0msession_id\u001b[0m\u001b[1;33m\u001b[0m\u001b[1;33m\u001b[0m\u001b[0m\n\u001b[0;32m    351\u001b[0m \u001b[1;33m\u001b[0m\u001b[0m\n\u001b[1;32m--> 352\u001b[1;33m         \u001b[0mresponse\u001b[0m \u001b[1;33m=\u001b[0m \u001b[0mself\u001b[0m\u001b[1;33m.\u001b[0m\u001b[0mcommand_executor\u001b[0m\u001b[1;33m.\u001b[0m\u001b[0mexecute\u001b[0m\u001b[1;33m(\u001b[0m\u001b[0mdriver_command\u001b[0m\u001b[1;33m,\u001b[0m \u001b[0mparams\u001b[0m\u001b[1;33m)\u001b[0m\u001b[1;33m\u001b[0m\u001b[1;33m\u001b[0m\u001b[0m\n\u001b[0m\u001b[0;32m    353\u001b[0m         \u001b[1;32mif\u001b[0m \u001b[0mresponse\u001b[0m\u001b[1;33m:\u001b[0m\u001b[1;33m\u001b[0m\u001b[1;33m\u001b[0m\u001b[0m\n\u001b[0;32m    354\u001b[0m             \u001b[0mself\u001b[0m\u001b[1;33m.\u001b[0m\u001b[0merror_handler\u001b[0m\u001b[1;33m.\u001b[0m\u001b[0mcheck_response\u001b[0m\u001b[1;33m(\u001b[0m\u001b[0mresponse\u001b[0m\u001b[1;33m)\u001b[0m\u001b[1;33m\u001b[0m\u001b[1;33m\u001b[0m\u001b[0m\n",
      "\u001b[1;32m~\\AppData\\Roaming\\Python\\Python39\\site-packages\\selenium\\webdriver\\remote\\remote_connection.py\u001b[0m in \u001b[0;36mexecute\u001b[1;34m(self, command, params)\u001b[0m\n\u001b[0;32m    300\u001b[0m         \u001b[0mtrimmed\u001b[0m \u001b[1;33m=\u001b[0m \u001b[0mself\u001b[0m\u001b[1;33m.\u001b[0m\u001b[0m_trim_large_entries\u001b[0m\u001b[1;33m(\u001b[0m\u001b[0mparams\u001b[0m\u001b[1;33m)\u001b[0m\u001b[1;33m\u001b[0m\u001b[1;33m\u001b[0m\u001b[0m\n\u001b[0;32m    301\u001b[0m         \u001b[0mLOGGER\u001b[0m\u001b[1;33m.\u001b[0m\u001b[0mdebug\u001b[0m\u001b[1;33m(\u001b[0m\u001b[1;34m\"%s %s %s\"\u001b[0m\u001b[1;33m,\u001b[0m \u001b[0mcommand_info\u001b[0m\u001b[1;33m[\u001b[0m\u001b[1;36m0\u001b[0m\u001b[1;33m]\u001b[0m\u001b[1;33m,\u001b[0m \u001b[0murl\u001b[0m\u001b[1;33m,\u001b[0m \u001b[0mstr\u001b[0m\u001b[1;33m(\u001b[0m\u001b[0mtrimmed\u001b[0m\u001b[1;33m)\u001b[0m\u001b[1;33m)\u001b[0m\u001b[1;33m\u001b[0m\u001b[1;33m\u001b[0m\u001b[0m\n\u001b[1;32m--> 302\u001b[1;33m         \u001b[1;32mreturn\u001b[0m \u001b[0mself\u001b[0m\u001b[1;33m.\u001b[0m\u001b[0m_request\u001b[0m\u001b[1;33m(\u001b[0m\u001b[0mcommand_info\u001b[0m\u001b[1;33m[\u001b[0m\u001b[1;36m0\u001b[0m\u001b[1;33m]\u001b[0m\u001b[1;33m,\u001b[0m \u001b[0murl\u001b[0m\u001b[1;33m,\u001b[0m \u001b[0mbody\u001b[0m\u001b[1;33m=\u001b[0m\u001b[0mdata\u001b[0m\u001b[1;33m)\u001b[0m\u001b[1;33m\u001b[0m\u001b[1;33m\u001b[0m\u001b[0m\n\u001b[0m\u001b[0;32m    303\u001b[0m \u001b[1;33m\u001b[0m\u001b[0m\n\u001b[0;32m    304\u001b[0m     \u001b[1;32mdef\u001b[0m \u001b[0m_request\u001b[0m\u001b[1;33m(\u001b[0m\u001b[0mself\u001b[0m\u001b[1;33m,\u001b[0m \u001b[0mmethod\u001b[0m\u001b[1;33m,\u001b[0m \u001b[0murl\u001b[0m\u001b[1;33m,\u001b[0m \u001b[0mbody\u001b[0m\u001b[1;33m=\u001b[0m\u001b[1;32mNone\u001b[0m\u001b[1;33m)\u001b[0m\u001b[1;33m:\u001b[0m\u001b[1;33m\u001b[0m\u001b[1;33m\u001b[0m\u001b[0m\n",
      "\u001b[1;32m~\\AppData\\Roaming\\Python\\Python39\\site-packages\\selenium\\webdriver\\remote\\remote_connection.py\u001b[0m in \u001b[0;36m_request\u001b[1;34m(self, method, url, body)\u001b[0m\n\u001b[0;32m    320\u001b[0m \u001b[1;33m\u001b[0m\u001b[0m\n\u001b[0;32m    321\u001b[0m         \u001b[1;32mif\u001b[0m \u001b[0mself\u001b[0m\u001b[1;33m.\u001b[0m\u001b[0mkeep_alive\u001b[0m\u001b[1;33m:\u001b[0m\u001b[1;33m\u001b[0m\u001b[1;33m\u001b[0m\u001b[0m\n\u001b[1;32m--> 322\u001b[1;33m             \u001b[0mresponse\u001b[0m \u001b[1;33m=\u001b[0m \u001b[0mself\u001b[0m\u001b[1;33m.\u001b[0m\u001b[0m_conn\u001b[0m\u001b[1;33m.\u001b[0m\u001b[0mrequest\u001b[0m\u001b[1;33m(\u001b[0m\u001b[0mmethod\u001b[0m\u001b[1;33m,\u001b[0m \u001b[0murl\u001b[0m\u001b[1;33m,\u001b[0m \u001b[0mbody\u001b[0m\u001b[1;33m=\u001b[0m\u001b[0mbody\u001b[0m\u001b[1;33m,\u001b[0m \u001b[0mheaders\u001b[0m\u001b[1;33m=\u001b[0m\u001b[0mheaders\u001b[0m\u001b[1;33m)\u001b[0m\u001b[1;33m\u001b[0m\u001b[1;33m\u001b[0m\u001b[0m\n\u001b[0m\u001b[0;32m    323\u001b[0m             \u001b[0mstatuscode\u001b[0m \u001b[1;33m=\u001b[0m \u001b[0mresponse\u001b[0m\u001b[1;33m.\u001b[0m\u001b[0mstatus\u001b[0m\u001b[1;33m\u001b[0m\u001b[1;33m\u001b[0m\u001b[0m\n\u001b[0;32m    324\u001b[0m         \u001b[1;32melse\u001b[0m\u001b[1;33m:\u001b[0m\u001b[1;33m\u001b[0m\u001b[1;33m\u001b[0m\u001b[0m\n",
      "\u001b[1;32mc:\\ProgramData\\Anaconda3\\lib\\site-packages\\urllib3\\request.py\u001b[0m in \u001b[0;36mrequest\u001b[1;34m(self, method, url, fields, headers, **urlopen_kw)\u001b[0m\n\u001b[0;32m     76\u001b[0m             )\n\u001b[0;32m     77\u001b[0m         \u001b[1;32melse\u001b[0m\u001b[1;33m:\u001b[0m\u001b[1;33m\u001b[0m\u001b[1;33m\u001b[0m\u001b[0m\n\u001b[1;32m---> 78\u001b[1;33m             return self.request_encode_body(\n\u001b[0m\u001b[0;32m     79\u001b[0m                 \u001b[0mmethod\u001b[0m\u001b[1;33m,\u001b[0m \u001b[0murl\u001b[0m\u001b[1;33m,\u001b[0m \u001b[0mfields\u001b[0m\u001b[1;33m=\u001b[0m\u001b[0mfields\u001b[0m\u001b[1;33m,\u001b[0m \u001b[0mheaders\u001b[0m\u001b[1;33m=\u001b[0m\u001b[0mheaders\u001b[0m\u001b[1;33m,\u001b[0m \u001b[1;33m**\u001b[0m\u001b[0murlopen_kw\u001b[0m\u001b[1;33m\u001b[0m\u001b[1;33m\u001b[0m\u001b[0m\n\u001b[0;32m     80\u001b[0m             )\n",
      "\u001b[1;32mc:\\ProgramData\\Anaconda3\\lib\\site-packages\\urllib3\\request.py\u001b[0m in \u001b[0;36mrequest_encode_body\u001b[1;34m(self, method, url, fields, headers, encode_multipart, multipart_boundary, **urlopen_kw)\u001b[0m\n\u001b[0;32m    168\u001b[0m         \u001b[0mextra_kw\u001b[0m\u001b[1;33m.\u001b[0m\u001b[0mupdate\u001b[0m\u001b[1;33m(\u001b[0m\u001b[0murlopen_kw\u001b[0m\u001b[1;33m)\u001b[0m\u001b[1;33m\u001b[0m\u001b[1;33m\u001b[0m\u001b[0m\n\u001b[0;32m    169\u001b[0m \u001b[1;33m\u001b[0m\u001b[0m\n\u001b[1;32m--> 170\u001b[1;33m         \u001b[1;32mreturn\u001b[0m \u001b[0mself\u001b[0m\u001b[1;33m.\u001b[0m\u001b[0murlopen\u001b[0m\u001b[1;33m(\u001b[0m\u001b[0mmethod\u001b[0m\u001b[1;33m,\u001b[0m \u001b[0murl\u001b[0m\u001b[1;33m,\u001b[0m \u001b[1;33m**\u001b[0m\u001b[0mextra_kw\u001b[0m\u001b[1;33m)\u001b[0m\u001b[1;33m\u001b[0m\u001b[1;33m\u001b[0m\u001b[0m\n\u001b[0m",
      "\u001b[1;32mc:\\ProgramData\\Anaconda3\\lib\\site-packages\\urllib3\\poolmanager.py\u001b[0m in \u001b[0;36murlopen\u001b[1;34m(self, method, url, redirect, **kw)\u001b[0m\n\u001b[0;32m    374\u001b[0m             \u001b[0mresponse\u001b[0m \u001b[1;33m=\u001b[0m \u001b[0mconn\u001b[0m\u001b[1;33m.\u001b[0m\u001b[0murlopen\u001b[0m\u001b[1;33m(\u001b[0m\u001b[0mmethod\u001b[0m\u001b[1;33m,\u001b[0m \u001b[0murl\u001b[0m\u001b[1;33m,\u001b[0m \u001b[1;33m**\u001b[0m\u001b[0mkw\u001b[0m\u001b[1;33m)\u001b[0m\u001b[1;33m\u001b[0m\u001b[1;33m\u001b[0m\u001b[0m\n\u001b[0;32m    375\u001b[0m         \u001b[1;32melse\u001b[0m\u001b[1;33m:\u001b[0m\u001b[1;33m\u001b[0m\u001b[1;33m\u001b[0m\u001b[0m\n\u001b[1;32m--> 376\u001b[1;33m             \u001b[0mresponse\u001b[0m \u001b[1;33m=\u001b[0m \u001b[0mconn\u001b[0m\u001b[1;33m.\u001b[0m\u001b[0murlopen\u001b[0m\u001b[1;33m(\u001b[0m\u001b[0mmethod\u001b[0m\u001b[1;33m,\u001b[0m \u001b[0mu\u001b[0m\u001b[1;33m.\u001b[0m\u001b[0mrequest_uri\u001b[0m\u001b[1;33m,\u001b[0m \u001b[1;33m**\u001b[0m\u001b[0mkw\u001b[0m\u001b[1;33m)\u001b[0m\u001b[1;33m\u001b[0m\u001b[1;33m\u001b[0m\u001b[0m\n\u001b[0m\u001b[0;32m    377\u001b[0m \u001b[1;33m\u001b[0m\u001b[0m\n\u001b[0;32m    378\u001b[0m         \u001b[0mredirect_location\u001b[0m \u001b[1;33m=\u001b[0m \u001b[0mredirect\u001b[0m \u001b[1;32mand\u001b[0m \u001b[0mresponse\u001b[0m\u001b[1;33m.\u001b[0m\u001b[0mget_redirect_location\u001b[0m\u001b[1;33m(\u001b[0m\u001b[1;33m)\u001b[0m\u001b[1;33m\u001b[0m\u001b[1;33m\u001b[0m\u001b[0m\n",
      "\u001b[1;32mc:\\ProgramData\\Anaconda3\\lib\\site-packages\\urllib3\\connectionpool.py\u001b[0m in \u001b[0;36murlopen\u001b[1;34m(self, method, url, body, headers, retries, redirect, assert_same_host, timeout, pool_timeout, release_conn, chunked, body_pos, **response_kw)\u001b[0m\n\u001b[0;32m    701\u001b[0m \u001b[1;33m\u001b[0m\u001b[0m\n\u001b[0;32m    702\u001b[0m             \u001b[1;31m# Make the request on the httplib connection object.\u001b[0m\u001b[1;33m\u001b[0m\u001b[1;33m\u001b[0m\u001b[0m\n\u001b[1;32m--> 703\u001b[1;33m             httplib_response = self._make_request(\n\u001b[0m\u001b[0;32m    704\u001b[0m                 \u001b[0mconn\u001b[0m\u001b[1;33m,\u001b[0m\u001b[1;33m\u001b[0m\u001b[1;33m\u001b[0m\u001b[0m\n\u001b[0;32m    705\u001b[0m                 \u001b[0mmethod\u001b[0m\u001b[1;33m,\u001b[0m\u001b[1;33m\u001b[0m\u001b[1;33m\u001b[0m\u001b[0m\n",
      "\u001b[1;32mc:\\ProgramData\\Anaconda3\\lib\\site-packages\\urllib3\\connectionpool.py\u001b[0m in \u001b[0;36m_make_request\u001b[1;34m(self, conn, method, url, timeout, chunked, **httplib_request_kw)\u001b[0m\n\u001b[0;32m    447\u001b[0m                     \u001b[1;31m# Python 3 (including for exceptions like SystemExit).\u001b[0m\u001b[1;33m\u001b[0m\u001b[1;33m\u001b[0m\u001b[0m\n\u001b[0;32m    448\u001b[0m                     \u001b[1;31m# Otherwise it looks like a bug in the code.\u001b[0m\u001b[1;33m\u001b[0m\u001b[1;33m\u001b[0m\u001b[0m\n\u001b[1;32m--> 449\u001b[1;33m                     \u001b[0msix\u001b[0m\u001b[1;33m.\u001b[0m\u001b[0mraise_from\u001b[0m\u001b[1;33m(\u001b[0m\u001b[0me\u001b[0m\u001b[1;33m,\u001b[0m \u001b[1;32mNone\u001b[0m\u001b[1;33m)\u001b[0m\u001b[1;33m\u001b[0m\u001b[1;33m\u001b[0m\u001b[0m\n\u001b[0m\u001b[0;32m    450\u001b[0m         \u001b[1;32mexcept\u001b[0m \u001b[1;33m(\u001b[0m\u001b[0mSocketTimeout\u001b[0m\u001b[1;33m,\u001b[0m \u001b[0mBaseSSLError\u001b[0m\u001b[1;33m,\u001b[0m \u001b[0mSocketError\u001b[0m\u001b[1;33m)\u001b[0m \u001b[1;32mas\u001b[0m \u001b[0me\u001b[0m\u001b[1;33m:\u001b[0m\u001b[1;33m\u001b[0m\u001b[1;33m\u001b[0m\u001b[0m\n\u001b[0;32m    451\u001b[0m             \u001b[0mself\u001b[0m\u001b[1;33m.\u001b[0m\u001b[0m_raise_timeout\u001b[0m\u001b[1;33m(\u001b[0m\u001b[0merr\u001b[0m\u001b[1;33m=\u001b[0m\u001b[0me\u001b[0m\u001b[1;33m,\u001b[0m \u001b[0murl\u001b[0m\u001b[1;33m=\u001b[0m\u001b[0murl\u001b[0m\u001b[1;33m,\u001b[0m \u001b[0mtimeout_value\u001b[0m\u001b[1;33m=\u001b[0m\u001b[0mread_timeout\u001b[0m\u001b[1;33m)\u001b[0m\u001b[1;33m\u001b[0m\u001b[1;33m\u001b[0m\u001b[0m\n",
      "\u001b[1;32mc:\\ProgramData\\Anaconda3\\lib\\site-packages\\urllib3\\packages\\six.py\u001b[0m in \u001b[0;36mraise_from\u001b[1;34m(value, from_value)\u001b[0m\n",
      "\u001b[1;32mc:\\ProgramData\\Anaconda3\\lib\\site-packages\\urllib3\\connectionpool.py\u001b[0m in \u001b[0;36m_make_request\u001b[1;34m(self, conn, method, url, timeout, chunked, **httplib_request_kw)\u001b[0m\n\u001b[0;32m    442\u001b[0m                 \u001b[1;31m# Python 3\u001b[0m\u001b[1;33m\u001b[0m\u001b[1;33m\u001b[0m\u001b[0m\n\u001b[0;32m    443\u001b[0m                 \u001b[1;32mtry\u001b[0m\u001b[1;33m:\u001b[0m\u001b[1;33m\u001b[0m\u001b[1;33m\u001b[0m\u001b[0m\n\u001b[1;32m--> 444\u001b[1;33m                     \u001b[0mhttplib_response\u001b[0m \u001b[1;33m=\u001b[0m \u001b[0mconn\u001b[0m\u001b[1;33m.\u001b[0m\u001b[0mgetresponse\u001b[0m\u001b[1;33m(\u001b[0m\u001b[1;33m)\u001b[0m\u001b[1;33m\u001b[0m\u001b[1;33m\u001b[0m\u001b[0m\n\u001b[0m\u001b[0;32m    445\u001b[0m                 \u001b[1;32mexcept\u001b[0m \u001b[0mBaseException\u001b[0m \u001b[1;32mas\u001b[0m \u001b[0me\u001b[0m\u001b[1;33m:\u001b[0m\u001b[1;33m\u001b[0m\u001b[1;33m\u001b[0m\u001b[0m\n\u001b[0;32m    446\u001b[0m                     \u001b[1;31m# Remove the TypeError from the exception chain in\u001b[0m\u001b[1;33m\u001b[0m\u001b[1;33m\u001b[0m\u001b[0m\n",
      "\u001b[1;32mc:\\ProgramData\\Anaconda3\\lib\\http\\client.py\u001b[0m in \u001b[0;36mgetresponse\u001b[1;34m(self)\u001b[0m\n\u001b[0;32m   1375\u001b[0m         \u001b[1;32mtry\u001b[0m\u001b[1;33m:\u001b[0m\u001b[1;33m\u001b[0m\u001b[1;33m\u001b[0m\u001b[0m\n\u001b[0;32m   1376\u001b[0m             \u001b[1;32mtry\u001b[0m\u001b[1;33m:\u001b[0m\u001b[1;33m\u001b[0m\u001b[1;33m\u001b[0m\u001b[0m\n\u001b[1;32m-> 1377\u001b[1;33m                 \u001b[0mresponse\u001b[0m\u001b[1;33m.\u001b[0m\u001b[0mbegin\u001b[0m\u001b[1;33m(\u001b[0m\u001b[1;33m)\u001b[0m\u001b[1;33m\u001b[0m\u001b[1;33m\u001b[0m\u001b[0m\n\u001b[0m\u001b[0;32m   1378\u001b[0m             \u001b[1;32mexcept\u001b[0m \u001b[0mConnectionError\u001b[0m\u001b[1;33m:\u001b[0m\u001b[1;33m\u001b[0m\u001b[1;33m\u001b[0m\u001b[0m\n\u001b[0;32m   1379\u001b[0m                 \u001b[0mself\u001b[0m\u001b[1;33m.\u001b[0m\u001b[0mclose\u001b[0m\u001b[1;33m(\u001b[0m\u001b[1;33m)\u001b[0m\u001b[1;33m\u001b[0m\u001b[1;33m\u001b[0m\u001b[0m\n",
      "\u001b[1;32mc:\\ProgramData\\Anaconda3\\lib\\http\\client.py\u001b[0m in \u001b[0;36mbegin\u001b[1;34m(self)\u001b[0m\n\u001b[0;32m    318\u001b[0m         \u001b[1;31m# read until we get a non-100 response\u001b[0m\u001b[1;33m\u001b[0m\u001b[1;33m\u001b[0m\u001b[0m\n\u001b[0;32m    319\u001b[0m         \u001b[1;32mwhile\u001b[0m \u001b[1;32mTrue\u001b[0m\u001b[1;33m:\u001b[0m\u001b[1;33m\u001b[0m\u001b[1;33m\u001b[0m\u001b[0m\n\u001b[1;32m--> 320\u001b[1;33m             \u001b[0mversion\u001b[0m\u001b[1;33m,\u001b[0m \u001b[0mstatus\u001b[0m\u001b[1;33m,\u001b[0m \u001b[0mreason\u001b[0m \u001b[1;33m=\u001b[0m \u001b[0mself\u001b[0m\u001b[1;33m.\u001b[0m\u001b[0m_read_status\u001b[0m\u001b[1;33m(\u001b[0m\u001b[1;33m)\u001b[0m\u001b[1;33m\u001b[0m\u001b[1;33m\u001b[0m\u001b[0m\n\u001b[0m\u001b[0;32m    321\u001b[0m             \u001b[1;32mif\u001b[0m \u001b[0mstatus\u001b[0m \u001b[1;33m!=\u001b[0m \u001b[0mCONTINUE\u001b[0m\u001b[1;33m:\u001b[0m\u001b[1;33m\u001b[0m\u001b[1;33m\u001b[0m\u001b[0m\n\u001b[0;32m    322\u001b[0m                 \u001b[1;32mbreak\u001b[0m\u001b[1;33m\u001b[0m\u001b[1;33m\u001b[0m\u001b[0m\n",
      "\u001b[1;32mc:\\ProgramData\\Anaconda3\\lib\\http\\client.py\u001b[0m in \u001b[0;36m_read_status\u001b[1;34m(self)\u001b[0m\n\u001b[0;32m    279\u001b[0m \u001b[1;33m\u001b[0m\u001b[0m\n\u001b[0;32m    280\u001b[0m     \u001b[1;32mdef\u001b[0m \u001b[0m_read_status\u001b[0m\u001b[1;33m(\u001b[0m\u001b[0mself\u001b[0m\u001b[1;33m)\u001b[0m\u001b[1;33m:\u001b[0m\u001b[1;33m\u001b[0m\u001b[1;33m\u001b[0m\u001b[0m\n\u001b[1;32m--> 281\u001b[1;33m         \u001b[0mline\u001b[0m \u001b[1;33m=\u001b[0m \u001b[0mstr\u001b[0m\u001b[1;33m(\u001b[0m\u001b[0mself\u001b[0m\u001b[1;33m.\u001b[0m\u001b[0mfp\u001b[0m\u001b[1;33m.\u001b[0m\u001b[0mreadline\u001b[0m\u001b[1;33m(\u001b[0m\u001b[0m_MAXLINE\u001b[0m \u001b[1;33m+\u001b[0m \u001b[1;36m1\u001b[0m\u001b[1;33m)\u001b[0m\u001b[1;33m,\u001b[0m \u001b[1;34m\"iso-8859-1\"\u001b[0m\u001b[1;33m)\u001b[0m\u001b[1;33m\u001b[0m\u001b[1;33m\u001b[0m\u001b[0m\n\u001b[0m\u001b[0;32m    282\u001b[0m         \u001b[1;32mif\u001b[0m \u001b[0mlen\u001b[0m\u001b[1;33m(\u001b[0m\u001b[0mline\u001b[0m\u001b[1;33m)\u001b[0m \u001b[1;33m>\u001b[0m \u001b[0m_MAXLINE\u001b[0m\u001b[1;33m:\u001b[0m\u001b[1;33m\u001b[0m\u001b[1;33m\u001b[0m\u001b[0m\n\u001b[0;32m    283\u001b[0m             \u001b[1;32mraise\u001b[0m \u001b[0mLineTooLong\u001b[0m\u001b[1;33m(\u001b[0m\u001b[1;34m\"status line\"\u001b[0m\u001b[1;33m)\u001b[0m\u001b[1;33m\u001b[0m\u001b[1;33m\u001b[0m\u001b[0m\n",
      "\u001b[1;32mc:\\ProgramData\\Anaconda3\\lib\\socket.py\u001b[0m in \u001b[0;36mreadinto\u001b[1;34m(self, b)\u001b[0m\n\u001b[0;32m    702\u001b[0m         \u001b[1;32mwhile\u001b[0m \u001b[1;32mTrue\u001b[0m\u001b[1;33m:\u001b[0m\u001b[1;33m\u001b[0m\u001b[1;33m\u001b[0m\u001b[0m\n\u001b[0;32m    703\u001b[0m             \u001b[1;32mtry\u001b[0m\u001b[1;33m:\u001b[0m\u001b[1;33m\u001b[0m\u001b[1;33m\u001b[0m\u001b[0m\n\u001b[1;32m--> 704\u001b[1;33m                 \u001b[1;32mreturn\u001b[0m \u001b[0mself\u001b[0m\u001b[1;33m.\u001b[0m\u001b[0m_sock\u001b[0m\u001b[1;33m.\u001b[0m\u001b[0mrecv_into\u001b[0m\u001b[1;33m(\u001b[0m\u001b[0mb\u001b[0m\u001b[1;33m)\u001b[0m\u001b[1;33m\u001b[0m\u001b[1;33m\u001b[0m\u001b[0m\n\u001b[0m\u001b[0;32m    705\u001b[0m             \u001b[1;32mexcept\u001b[0m \u001b[0mtimeout\u001b[0m\u001b[1;33m:\u001b[0m\u001b[1;33m\u001b[0m\u001b[1;33m\u001b[0m\u001b[0m\n\u001b[0;32m    706\u001b[0m                 \u001b[0mself\u001b[0m\u001b[1;33m.\u001b[0m\u001b[0m_timeout_occurred\u001b[0m \u001b[1;33m=\u001b[0m \u001b[1;32mTrue\u001b[0m\u001b[1;33m\u001b[0m\u001b[1;33m\u001b[0m\u001b[0m\n",
      "\u001b[1;31mKeyboardInterrupt\u001b[0m: "
     ]
    }
   ],
   "source": [
    "udemy_courses = pd.DataFrame(columns=['Name', 'Lecturer', 'Rating', 'Reviews', 'Hours', 'Lectures', 'Level', 'Base Price', 'Original Price'])\n",
    "page = 0\n",
    "\n",
    "driver.get(\"https://www.udemy.com/courses/search/?src=ukw&q=data+science\")\n",
    "\n",
    "for i in range(1, 101):\n",
    "    if i > 1:\n",
    "        driver.get(f'https://www.udemy.com/courses/search/?kw=data+sc&p={i}&q=data+science&src=sac')\n",
    "\n",
    "    time.sleep(4)\n",
    "\n",
    "    driver.find_element(By.CLASS_NAME, 'course-list--container--HY2ry')\n",
    "\n",
    "    soup = BeautifulSoup(driver.page_source, 'html.parser')\n",
    "    courses = soup.find('div', class_='course-list--container--HY2ry')\n",
    "\n",
    "    page += 1\n",
    "\n",
    "    for course in courses:\n",
    "        course_title_tag = course.find('div', class_='course-card-title-module--title--W49Ap')\n",
    "        if course_title_tag is not None:\n",
    "            course_title_tag = course_title_tag.find('h3').find('a')\n",
    "            course_title = ''.join(str(item) for item in course_title_tag.contents if item.name != 'span' and item.name != 'div').strip()\n",
    "        course_author = course.find('div', class_='ud-text-xs')\n",
    "        if course_author is not None:\n",
    "            course_author = course_author.find('div').text\n",
    "        course_rating = course.find('div', class_='course-card-ratings-module--row--Lnvpa')\n",
    "        if course_rating is not None:\n",
    "            course_rating = course_rating.find('span').find('span', class_='ud-heading-sm star-rating-module--rating-number--2-qA2').text\n",
    "        course_reviews = course.find('div', class_='course-card-ratings-module--row--Lnvpa')\n",
    "        if course_reviews is not None:\n",
    "            course_reviews = course_reviews.find('span', class_='ud-text-xs course-card-ratings-module--reviews-text--1z0l4').text.removeprefix('(').removesuffix(')')\n",
    "        \n",
    "        ## for details of the course like hours, lectures, level\n",
    "        details = course.find('div', class_='course-card-details-module--row--jw-lD')\n",
    "        if details is not None:\n",
    "            details = details.find_all('span', class_='course-card-details-module--row--jw-lD')\n",
    "            if len(details) == 3:\n",
    "                course_hours = details[0].text.split()[0]\n",
    "                course_lectures = details[1].text.split()[0]\n",
    "                course_level = details[2].text\n",
    "            elif len(details) == 2:\n",
    "                first = details[0].text\n",
    "                second = details[1].text\n",
    "                if first.split()[0].isnumeric():\n",
    "                    if first.find('hours') != -1:\n",
    "                        course_hours = first.split()[0]\n",
    "                    else:\n",
    "                        course_lectures = first.split()[0]\n",
    "                    course_level = second\n",
    "                else:\n",
    "                    course_level = first\n",
    "                    if second.split()[0].isnumeric():\n",
    "                        if second.find('hours') != -1:\n",
    "                            course_hours = second.split()[0]\n",
    "                        else:\n",
    "                            course_lectures = second.split()[0]\n",
    "            elif len(details) == 1:\n",
    "                if details[0].text.split()[0].isnumeric():\n",
    "                    if details[0].text.find('hours') != -1:\n",
    "                        course_hours = details[0].text.split()[0]\n",
    "                    else:\n",
    "                        course_lectures = details[0].text.split()[0]\n",
    "                else:\n",
    "                    course_level = details[0].text\n",
    "            else:\n",
    "                course_hours = None\n",
    "                course_lectures = None\n",
    "                course_level = None\n",
    "        \n",
    "        prices = course.find('div', class_=\"course-card-module--price-text-container--2TRvR\")\n",
    "        if prices is not None:\n",
    "            prices = prices.text.replace('Current price','').replace('Original Price',' ').strip().split()\n",
    "            if len(prices) == 1:\n",
    "                course_discount_price = prices[0]\n",
    "                course_original_price = prices[0]\n",
    "            elif len(prices) == 2:\n",
    "                course_discount_price = prices[0]\n",
    "                course_original_price = prices[1]\n",
    "        else:\n",
    "            course_discount_price = None\n",
    "            course_original_price = None\n",
    "\n",
    "        course_data = {\n",
    "            'Name': course_title,\n",
    "            'Lecturer': course_author,\n",
    "            'Rating': course_rating,\n",
    "            'Reviews': course_reviews,\n",
    "            'Hours': course_hours,\n",
    "            'Lectures': course_lectures,\n",
    "            'Level': course_level,\n",
    "            'Discount Price': course_discount_price,\n",
    "            'Original Price': course_original_price\n",
    "        }\n",
    "        udemy_courses = udemy_courses.append(course_data, ignore_index=True)\n",
    "\n",
    "    if page % 10 == 0:\n",
    "        print(f'Page {page} is done')"
   ]
  },
  {
   "cell_type": "code",
   "execution_count": 6,
   "metadata": {},
   "outputs": [
    {
     "data": {
      "text/html": [
       "<div>\n",
       "<style scoped>\n",
       "    .dataframe tbody tr th:only-of-type {\n",
       "        vertical-align: middle;\n",
       "    }\n",
       "\n",
       "    .dataframe tbody tr th {\n",
       "        vertical-align: top;\n",
       "    }\n",
       "\n",
       "    .dataframe thead th {\n",
       "        text-align: right;\n",
       "    }\n",
       "</style>\n",
       "<table border=\"1\" class=\"dataframe\">\n",
       "  <thead>\n",
       "    <tr style=\"text-align: right;\">\n",
       "      <th></th>\n",
       "      <th>Name</th>\n",
       "      <th>Lecturer</th>\n",
       "      <th>Rating</th>\n",
       "      <th>Reviews</th>\n",
       "      <th>Hours</th>\n",
       "      <th>Lectures</th>\n",
       "      <th>Level</th>\n",
       "      <th>Base Price</th>\n",
       "      <th>Original Price</th>\n",
       "      <th>Discount Price</th>\n",
       "    </tr>\n",
       "  </thead>\n",
       "  <tbody>\n",
       "    <tr>\n",
       "      <th>0</th>\n",
       "      <td>The Data Science Course: Complete Data Science...</td>\n",
       "      <td>365 Careers</td>\n",
       "      <td>4.6</td>\n",
       "      <td>142,660</td>\n",
       "      <td>32</td>\n",
       "      <td>520</td>\n",
       "      <td>All Levels</td>\n",
       "      <td>NaN</td>\n",
       "      <td>None</td>\n",
       "      <td>None</td>\n",
       "    </tr>\n",
       "    <tr>\n",
       "      <th>1</th>\n",
       "      <td>100 Days of Code: The Complete Python Pro Boot...</td>\n",
       "      <td>Dr. Angela Yu, Developer and Lead Instructor</td>\n",
       "      <td>4.7</td>\n",
       "      <td>312,786</td>\n",
       "      <td>58.5</td>\n",
       "      <td>640</td>\n",
       "      <td>All Levels</td>\n",
       "      <td>NaN</td>\n",
       "      <td>None</td>\n",
       "      <td>None</td>\n",
       "    </tr>\n",
       "    <tr>\n",
       "      <th>2</th>\n",
       "      <td>Complete A.I. &amp; Machine Learning, Data Science...</td>\n",
       "      <td>Andrei Neagoie, Daniel Bourke</td>\n",
       "      <td>4.6</td>\n",
       "      <td>23,174</td>\n",
       "      <td>44</td>\n",
       "      <td>384</td>\n",
       "      <td>All Levels</td>\n",
       "      <td>NaN</td>\n",
       "      <td>None</td>\n",
       "      <td>None</td>\n",
       "    </tr>\n",
       "    <tr>\n",
       "      <th>3</th>\n",
       "      <td>Data Science: Supervised Machine Learning in P...</td>\n",
       "      <td>Lazy Programmer Team, Lazy Programmer Inc.</td>\n",
       "      <td>4.6</td>\n",
       "      <td>3,271</td>\n",
       "      <td>44</td>\n",
       "      <td>384</td>\n",
       "      <td>All Levels</td>\n",
       "      <td>NaN</td>\n",
       "      <td>None</td>\n",
       "      <td>None</td>\n",
       "    </tr>\n",
       "    <tr>\n",
       "      <th>4</th>\n",
       "      <td>Python for Data Science and Machine Learning B...</td>\n",
       "      <td>Jose Portilla, Pierian Training</td>\n",
       "      <td>4.6</td>\n",
       "      <td>144,598</td>\n",
       "      <td>25</td>\n",
       "      <td>165</td>\n",
       "      <td>All Levels</td>\n",
       "      <td>NaN</td>\n",
       "      <td>None</td>\n",
       "      <td>None</td>\n",
       "    </tr>\n",
       "    <tr>\n",
       "      <th>...</th>\n",
       "      <td>...</td>\n",
       "      <td>...</td>\n",
       "      <td>...</td>\n",
       "      <td>...</td>\n",
       "      <td>...</td>\n",
       "      <td>...</td>\n",
       "      <td>...</td>\n",
       "      <td>...</td>\n",
       "      <td>...</td>\n",
       "      <td>...</td>\n",
       "    </tr>\n",
       "    <tr>\n",
       "      <th>2755</th>\n",
       "      <td>Keras: Deep Learning in Python</td>\n",
       "      <td>Francisco Juretig</td>\n",
       "      <td>3.7</td>\n",
       "      <td>157</td>\n",
       "      <td>10</td>\n",
       "      <td>39</td>\n",
       "      <td>All Levels</td>\n",
       "      <td>NaN</td>\n",
       "      <td>E£399.99</td>\n",
       "      <td>E£249.99</td>\n",
       "    </tr>\n",
       "    <tr>\n",
       "      <th>2756</th>\n",
       "      <td>Data Visualization for Beginners</td>\n",
       "      <td>Lecture Factory</td>\n",
       "      <td>None</td>\n",
       "      <td>None</td>\n",
       "      <td>1</td>\n",
       "      <td>7</td>\n",
       "      <td>All Levels</td>\n",
       "      <td>NaN</td>\n",
       "      <td>E£399.99</td>\n",
       "      <td>E£249.99</td>\n",
       "    </tr>\n",
       "    <tr>\n",
       "      <th>2757</th>\n",
       "      <td>The Ultimate Beginners Guide to Python Recomme...</td>\n",
       "      <td>Jones Granatyr, AI Expert Academy</td>\n",
       "      <td>4.4</td>\n",
       "      <td>162</td>\n",
       "      <td>4</td>\n",
       "      <td>30</td>\n",
       "      <td>Beginner</td>\n",
       "      <td>NaN</td>\n",
       "      <td>E£449.99</td>\n",
       "      <td>E£249.99</td>\n",
       "    </tr>\n",
       "    <tr>\n",
       "      <th>2758</th>\n",
       "      <td>Learning Path: TensorFlow: Machine &amp; Deep Lear...</td>\n",
       "      <td>Packt Publishing</td>\n",
       "      <td>3.0</td>\n",
       "      <td>6</td>\n",
       "      <td>5.5</td>\n",
       "      <td>85</td>\n",
       "      <td>Beginner</td>\n",
       "      <td>NaN</td>\n",
       "      <td>E£399.99</td>\n",
       "      <td>E£249.99</td>\n",
       "    </tr>\n",
       "    <tr>\n",
       "      <th>2759</th>\n",
       "      <td>Learning Path: TensorFlow: Machine &amp; Deep Lear...</td>\n",
       "      <td>None</td>\n",
       "      <td>None</td>\n",
       "      <td>None</td>\n",
       "      <td>5.5</td>\n",
       "      <td>85</td>\n",
       "      <td>Beginner</td>\n",
       "      <td>NaN</td>\n",
       "      <td>None</td>\n",
       "      <td>None</td>\n",
       "    </tr>\n",
       "  </tbody>\n",
       "</table>\n",
       "<p>2760 rows × 10 columns</p>\n",
       "</div>"
      ],
      "text/plain": [
       "                                                   Name  \\\n",
       "0     The Data Science Course: Complete Data Science...   \n",
       "1     100 Days of Code: The Complete Python Pro Boot...   \n",
       "2     Complete A.I. & Machine Learning, Data Science...   \n",
       "3     Data Science: Supervised Machine Learning in P...   \n",
       "4     Python for Data Science and Machine Learning B...   \n",
       "...                                                 ...   \n",
       "2755                     Keras: Deep Learning in Python   \n",
       "2756                   Data Visualization for Beginners   \n",
       "2757  The Ultimate Beginners Guide to Python Recomme...   \n",
       "2758  Learning Path: TensorFlow: Machine & Deep Lear...   \n",
       "2759  Learning Path: TensorFlow: Machine & Deep Lear...   \n",
       "\n",
       "                                          Lecturer Rating  Reviews Hours  \\\n",
       "0                                      365 Careers    4.6  142,660    32   \n",
       "1     Dr. Angela Yu, Developer and Lead Instructor    4.7  312,786  58.5   \n",
       "2                    Andrei Neagoie, Daniel Bourke    4.6   23,174    44   \n",
       "3       Lazy Programmer Team, Lazy Programmer Inc.    4.6    3,271    44   \n",
       "4                  Jose Portilla, Pierian Training    4.6  144,598    25   \n",
       "...                                            ...    ...      ...   ...   \n",
       "2755                             Francisco Juretig    3.7      157    10   \n",
       "2756                               Lecture Factory   None     None     1   \n",
       "2757             Jones Granatyr, AI Expert Academy    4.4      162     4   \n",
       "2758                              Packt Publishing    3.0        6   5.5   \n",
       "2759                                          None   None     None   5.5   \n",
       "\n",
       "     Lectures       Level Base Price Original Price Discount Price  \n",
       "0         520  All Levels        NaN           None           None  \n",
       "1         640  All Levels        NaN           None           None  \n",
       "2         384  All Levels        NaN           None           None  \n",
       "3         384  All Levels        NaN           None           None  \n",
       "4         165  All Levels        NaN           None           None  \n",
       "...       ...         ...        ...            ...            ...  \n",
       "2755       39  All Levels        NaN       E£399.99       E£249.99  \n",
       "2756        7  All Levels        NaN       E£399.99       E£249.99  \n",
       "2757       30    Beginner        NaN       E£449.99       E£249.99  \n",
       "2758       85    Beginner        NaN       E£399.99       E£249.99  \n",
       "2759       85    Beginner        NaN           None           None  \n",
       "\n",
       "[2760 rows x 10 columns]"
      ]
     },
     "execution_count": 6,
     "metadata": {},
     "output_type": "execute_result"
    }
   ],
   "source": [
    "udemy_courses"
   ]
  },
  {
   "cell_type": "code",
   "execution_count": 7,
   "metadata": {},
   "outputs": [
    {
     "data": {
      "text/plain": [
       "Name                 0\n",
       "Lecturer           130\n",
       "Rating             147\n",
       "Reviews            147\n",
       "Hours                0\n",
       "Lectures             0\n",
       "Level                0\n",
       "Base Price        2760\n",
       "Original Price     366\n",
       "Discount Price     366\n",
       "dtype: int64"
      ]
     },
     "execution_count": 7,
     "metadata": {},
     "output_type": "execute_result"
    }
   ],
   "source": [
    "udemy_courses.isnull().sum()"
   ]
  },
  {
   "cell_type": "code",
   "execution_count": 8,
   "metadata": {},
   "outputs": [
    {
     "data": {
      "text/html": [
       "<div>\n",
       "<style scoped>\n",
       "    .dataframe tbody tr th:only-of-type {\n",
       "        vertical-align: middle;\n",
       "    }\n",
       "\n",
       "    .dataframe tbody tr th {\n",
       "        vertical-align: top;\n",
       "    }\n",
       "\n",
       "    .dataframe thead th {\n",
       "        text-align: right;\n",
       "    }\n",
       "</style>\n",
       "<table border=\"1\" class=\"dataframe\">\n",
       "  <thead>\n",
       "    <tr style=\"text-align: right;\">\n",
       "      <th></th>\n",
       "      <th>Name</th>\n",
       "      <th>Lecturer</th>\n",
       "      <th>Rating</th>\n",
       "      <th>Reviews</th>\n",
       "      <th>Hours</th>\n",
       "      <th>Lectures</th>\n",
       "      <th>Level</th>\n",
       "      <th>Base Price</th>\n",
       "      <th>Original Price</th>\n",
       "      <th>Discount Price</th>\n",
       "    </tr>\n",
       "  </thead>\n",
       "  <tbody>\n",
       "    <tr>\n",
       "      <th>0</th>\n",
       "      <td>The Data Science Course: Complete Data Science...</td>\n",
       "      <td>365 Careers</td>\n",
       "      <td>4.6</td>\n",
       "      <td>142,660</td>\n",
       "      <td>32</td>\n",
       "      <td>520</td>\n",
       "      <td>All Levels</td>\n",
       "      <td>NaN</td>\n",
       "      <td>None</td>\n",
       "      <td>None</td>\n",
       "    </tr>\n",
       "    <tr>\n",
       "      <th>1</th>\n",
       "      <td>100 Days of Code: The Complete Python Pro Boot...</td>\n",
       "      <td>Dr. Angela Yu, Developer and Lead Instructor</td>\n",
       "      <td>4.7</td>\n",
       "      <td>312,786</td>\n",
       "      <td>58.5</td>\n",
       "      <td>640</td>\n",
       "      <td>All Levels</td>\n",
       "      <td>NaN</td>\n",
       "      <td>None</td>\n",
       "      <td>None</td>\n",
       "    </tr>\n",
       "    <tr>\n",
       "      <th>2</th>\n",
       "      <td>Complete A.I. &amp; Machine Learning, Data Science...</td>\n",
       "      <td>Andrei Neagoie, Daniel Bourke</td>\n",
       "      <td>4.6</td>\n",
       "      <td>23,174</td>\n",
       "      <td>44</td>\n",
       "      <td>384</td>\n",
       "      <td>All Levels</td>\n",
       "      <td>NaN</td>\n",
       "      <td>None</td>\n",
       "      <td>None</td>\n",
       "    </tr>\n",
       "    <tr>\n",
       "      <th>3</th>\n",
       "      <td>Data Science: Supervised Machine Learning in P...</td>\n",
       "      <td>Lazy Programmer Team, Lazy Programmer Inc.</td>\n",
       "      <td>4.6</td>\n",
       "      <td>3,271</td>\n",
       "      <td>44</td>\n",
       "      <td>384</td>\n",
       "      <td>All Levels</td>\n",
       "      <td>NaN</td>\n",
       "      <td>None</td>\n",
       "      <td>None</td>\n",
       "    </tr>\n",
       "    <tr>\n",
       "      <th>4</th>\n",
       "      <td>Python for Data Science and Machine Learning B...</td>\n",
       "      <td>Jose Portilla, Pierian Training</td>\n",
       "      <td>4.6</td>\n",
       "      <td>144,598</td>\n",
       "      <td>25</td>\n",
       "      <td>165</td>\n",
       "      <td>All Levels</td>\n",
       "      <td>NaN</td>\n",
       "      <td>None</td>\n",
       "      <td>None</td>\n",
       "    </tr>\n",
       "    <tr>\n",
       "      <th>...</th>\n",
       "      <td>...</td>\n",
       "      <td>...</td>\n",
       "      <td>...</td>\n",
       "      <td>...</td>\n",
       "      <td>...</td>\n",
       "      <td>...</td>\n",
       "      <td>...</td>\n",
       "      <td>...</td>\n",
       "      <td>...</td>\n",
       "      <td>...</td>\n",
       "    </tr>\n",
       "    <tr>\n",
       "      <th>2667</th>\n",
       "      <td>Supervised Learning for AI with Python and Ten...</td>\n",
       "      <td>None</td>\n",
       "      <td>None</td>\n",
       "      <td>None</td>\n",
       "      <td>21</td>\n",
       "      <td>113</td>\n",
       "      <td>Beginner</td>\n",
       "      <td>NaN</td>\n",
       "      <td>None</td>\n",
       "      <td>None</td>\n",
       "    </tr>\n",
       "    <tr>\n",
       "      <th>2690</th>\n",
       "      <td>Detect Fraud and Predict the Stock Market with...</td>\n",
       "      <td>None</td>\n",
       "      <td>None</td>\n",
       "      <td>None</td>\n",
       "      <td>7</td>\n",
       "      <td>42</td>\n",
       "      <td>Beginner</td>\n",
       "      <td>NaN</td>\n",
       "      <td>None</td>\n",
       "      <td>None</td>\n",
       "    </tr>\n",
       "    <tr>\n",
       "      <th>2713</th>\n",
       "      <td>Data Analytics with Pyspark</td>\n",
       "      <td>None</td>\n",
       "      <td>None</td>\n",
       "      <td>None</td>\n",
       "      <td>2</td>\n",
       "      <td>10</td>\n",
       "      <td>All Levels</td>\n",
       "      <td>NaN</td>\n",
       "      <td>None</td>\n",
       "      <td>None</td>\n",
       "    </tr>\n",
       "    <tr>\n",
       "      <th>2736</th>\n",
       "      <td>Complete Machine Learning Bootcamp [Updated]</td>\n",
       "      <td>None</td>\n",
       "      <td>None</td>\n",
       "      <td>None</td>\n",
       "      <td>5.5</td>\n",
       "      <td>73</td>\n",
       "      <td>All Levels</td>\n",
       "      <td>NaN</td>\n",
       "      <td>None</td>\n",
       "      <td>None</td>\n",
       "    </tr>\n",
       "    <tr>\n",
       "      <th>2759</th>\n",
       "      <td>Learning Path: TensorFlow: Machine &amp; Deep Lear...</td>\n",
       "      <td>None</td>\n",
       "      <td>None</td>\n",
       "      <td>None</td>\n",
       "      <td>5.5</td>\n",
       "      <td>85</td>\n",
       "      <td>Beginner</td>\n",
       "      <td>NaN</td>\n",
       "      <td>None</td>\n",
       "      <td>None</td>\n",
       "    </tr>\n",
       "  </tbody>\n",
       "</table>\n",
       "<p>366 rows × 10 columns</p>\n",
       "</div>"
      ],
      "text/plain": [
       "                                                   Name  \\\n",
       "0     The Data Science Course: Complete Data Science...   \n",
       "1     100 Days of Code: The Complete Python Pro Boot...   \n",
       "2     Complete A.I. & Machine Learning, Data Science...   \n",
       "3     Data Science: Supervised Machine Learning in P...   \n",
       "4     Python for Data Science and Machine Learning B...   \n",
       "...                                                 ...   \n",
       "2667  Supervised Learning for AI with Python and Ten...   \n",
       "2690  Detect Fraud and Predict the Stock Market with...   \n",
       "2713                        Data Analytics with Pyspark   \n",
       "2736       Complete Machine Learning Bootcamp [Updated]   \n",
       "2759  Learning Path: TensorFlow: Machine & Deep Lear...   \n",
       "\n",
       "                                          Lecturer Rating  Reviews Hours  \\\n",
       "0                                      365 Careers    4.6  142,660    32   \n",
       "1     Dr. Angela Yu, Developer and Lead Instructor    4.7  312,786  58.5   \n",
       "2                    Andrei Neagoie, Daniel Bourke    4.6   23,174    44   \n",
       "3       Lazy Programmer Team, Lazy Programmer Inc.    4.6    3,271    44   \n",
       "4                  Jose Portilla, Pierian Training    4.6  144,598    25   \n",
       "...                                            ...    ...      ...   ...   \n",
       "2667                                          None   None     None    21   \n",
       "2690                                          None   None     None     7   \n",
       "2713                                          None   None     None     2   \n",
       "2736                                          None   None     None   5.5   \n",
       "2759                                          None   None     None   5.5   \n",
       "\n",
       "     Lectures       Level Base Price Original Price Discount Price  \n",
       "0         520  All Levels        NaN           None           None  \n",
       "1         640  All Levels        NaN           None           None  \n",
       "2         384  All Levels        NaN           None           None  \n",
       "3         384  All Levels        NaN           None           None  \n",
       "4         165  All Levels        NaN           None           None  \n",
       "...       ...         ...        ...            ...            ...  \n",
       "2667      113    Beginner        NaN           None           None  \n",
       "2690       42    Beginner        NaN           None           None  \n",
       "2713       10  All Levels        NaN           None           None  \n",
       "2736       73  All Levels        NaN           None           None  \n",
       "2759       85    Beginner        NaN           None           None  \n",
       "\n",
       "[366 rows x 10 columns]"
      ]
     },
     "execution_count": 8,
     "metadata": {},
     "output_type": "execute_result"
    }
   ],
   "source": [
    "udemy_courses[udemy_courses['Original Price'].isnull()]"
   ]
  },
  {
   "cell_type": "code",
   "execution_count": 9,
   "metadata": {},
   "outputs": [
    {
     "data": {
      "text/plain": [
       "120"
      ]
     },
     "execution_count": 9,
     "metadata": {},
     "output_type": "execute_result"
    }
   ],
   "source": [
    "udemy_courses.duplicated().sum()"
   ]
  },
  {
   "cell_type": "code",
   "execution_count": 10,
   "metadata": {},
   "outputs": [
    {
     "data": {
      "text/plain": [
       "384"
      ]
     },
     "execution_count": 10,
     "metadata": {},
     "output_type": "execute_result"
    }
   ],
   "source": [
    "udemy_courses['Name'].duplicated().sum()"
   ]
  },
  {
   "cell_type": "code",
   "execution_count": 11,
   "metadata": {},
   "outputs": [],
   "source": [
    "udemy_courses.to_csv('udemy_courses_v3.csv', index=False)"
   ]
  },
  {
   "cell_type": "code",
   "execution_count": null,
   "metadata": {},
   "outputs": [],
   "source": []
  }
 ],
 "metadata": {
  "kernelspec": {
   "display_name": "Python 3 (ipykernel)",
   "language": "python",
   "name": "python3"
  }
 },
 "nbformat": 4,
 "nbformat_minor": 2
}
