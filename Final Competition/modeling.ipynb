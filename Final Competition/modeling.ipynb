{
 "cells": [
  {
   "cell_type": "markdown",
   "metadata": {},
   "source": [
    "# 2nd Stage IEEE Competition: Modeling"
   ]
  },
  {
   "cell_type": "markdown",
   "metadata": {},
   "source": [
    "In this notebook, I will show you the steps were taken to get to the final model."
   ]
  },
  {
   "cell_type": "markdown",
   "metadata": {},
   "source": [
    "## Importing"
   ]
  },
  {
   "cell_type": "code",
   "execution_count": 2,
   "metadata": {},
   "outputs": [],
   "source": [
    "import pandas as pd\n",
    "import warnings\n",
    "warnings.filterwarnings('ignore')\n",
    "\n",
    "from sklearn.model_selection import train_test_split\n",
    "from sklearn.ensemble import RandomForestClassifier, GradientBoostingClassifier, StackingClassifier\n",
    "from catboost import CatBoostClassifier\n",
    "from xgboost import XGBClassifier\n",
    "from lightgbm import LGBMClassifier\n",
    "from sklearn.metrics import accuracy_score, log_loss, classification_report, confusion_matrix\n",
    "from sklearn.linear_model import LogisticRegression\n",
    "from sklearn.preprocessing import StandardScaler, OneHotEncoder\n",
    "from sklearn.preprocessing import OneHotEncoder\n",
    "from sklearn.pipeline import Pipeline\n",
    "from sklearn.compose import ColumnTransformer"
   ]
  },
  {
   "cell_type": "code",
   "execution_count": 3,
   "metadata": {},
   "outputs": [],
   "source": [
    "test = pd.read_csv('test_cleaned.csv')\n",
    "test.drop('Unnamed: 0', axis=1, inplace=True)\n",
    "train = pd.read_csv('train_cleaned.csv')\n",
    "train.drop('Unnamed: 0', axis=1, inplace=True)"
   ]
  },
  {
   "cell_type": "code",
   "execution_count": 4,
   "metadata": {},
   "outputs": [],
   "source": [
    "# I was trying to drop columns and see how it affects the model, and at last I decided to drop these columns\n",
    "\n",
    "train.drop(['educational_num','cluster_gain_normalized', 'cluster_loss_normalized'], axis=1, inplace=True)\n",
    "test.drop(['educational_num', 'cluster_gain_normalized', 'cluster_loss_normalized'], axis=1, inplace=True)"
   ]
  },
  {
   "cell_type": "code",
   "execution_count": 5,
   "metadata": {},
   "outputs": [],
   "source": [
    "# This step was to calculate the weights for the classes, so that I can try it in models\n",
    "\n",
    "total_samples = train.income.value_counts().sum()\n",
    "samples_0 = train.income.value_counts()[0]\n",
    "samples_1 = train.income.value_counts()[1]\n",
    "samples_0 = total_samples/samples_0\n",
    "samples_1 = total_samples/samples_1"
   ]
  },
  {
   "cell_type": "code",
   "execution_count": 6,
   "metadata": {},
   "outputs": [
    {
     "data": {
      "text/plain": [
       "((25948, 17), (6489, 16))"
      ]
     },
     "execution_count": 6,
     "metadata": {},
     "output_type": "execute_result"
    }
   ],
   "source": [
    "train.shape, test.shape"
   ]
  },
  {
   "cell_type": "code",
   "execution_count": 7,
   "metadata": {},
   "outputs": [],
   "source": [
    "x = train.drop('income', axis=1)\n",
    "y = train['income']\n",
    "\n",
    "x_train, x_test, y_train, y_test = train_test_split(x, y, test_size=0.2, random_state=42)"
   ]
  },
  {
   "cell_type": "code",
   "execution_count": 8,
   "metadata": {},
   "outputs": [],
   "source": [
    "sc = StandardScaler()\n",
    "ohe = OneHotEncoder()\n",
    "\n",
    "num_cols = x.select_dtypes(include='number').columns.tolist()\n",
    "cat_cols = x.select_dtypes(exclude='number').columns.tolist()\n",
    "\n",
    "num_transformer = Pipeline(steps=[\n",
    "    ('scaler', sc)\n",
    "])\n",
    "\n",
    "cat_transformer = Pipeline(steps=[\n",
    "    ('ohe', ohe)\n",
    "])\n",
    "\n",
    "preprocessor = ColumnTransformer(\n",
    "    transformers=[\n",
    "        ('num', num_transformer, num_cols),\n",
    "        ('cat', cat_transformer, cat_cols)\n",
    "    ])"
   ]
  },
  {
   "cell_type": "code",
   "execution_count": 9,
   "metadata": {},
   "outputs": [
    {
     "name": "stdout",
     "output_type": "stream",
     "text": [
      "['age_years', 'final_weight', 'capital_gain', 'capital_loss', 'hours_per_week', 'married', 'cluster_gain', 'cluster_loss']\n",
      "['workclass', 'education', 'marital_status', 'job_title', 'relationship', 'race', 'gender', 'country_of_origin']\n"
     ]
    }
   ],
   "source": [
    "print(num_cols)\n",
    "print(cat_cols)"
   ]
  },
  {
   "cell_type": "code",
   "execution_count": 25,
   "metadata": {},
   "outputs": [
    {
     "name": "stdout",
     "output_type": "stream",
     "text": [
      "Accuracy: 0.7666666666666667\n",
      "Log Loss: 0.4106101291826084\n",
      "Confusion Matrix: [[2225 1048]\n",
      " [ 163 1754]]\n"
     ]
    }
   ],
   "source": [
    "cat = CatBoostClassifier(random_state=42, verbose=0, n_estimators=2000)\n",
    "pipe_2_cat = Pipeline(steps=[\n",
    "    ('preprocessor', preprocessor),\n",
    "    ('model', cat)\n",
    "])\n",
    "\n",
    "pipe_2_cat.fit(x_train, y_train)\n",
    "y_pred = pipe_2_cat.predict(x_test)\n",
    "y_pred_proba = pipe_2_cat.predict_proba(x_test)\n",
    "\n",
    "print('Accuracy:', accuracy_score(y_test, y_pred))\n",
    "print('Log Loss:', log_loss(y_test, y_pred_proba))\n",
    "print('Confusion Matrix:', confusion_matrix(y_test, y_pred))"
   ]
  },
  {
   "cell_type": "code",
   "execution_count": 197,
   "metadata": {},
   "outputs": [],
   "source": [
    "pipe_2_cat.fit(x, y)\n",
    "y_pred = pipe_2_cat.predict(test)\n",
    "y_pred_proba = pipe_2_cat.predict_proba(test)\n",
    "\n",
    "submission = pd.DataFrame({'ID':test.index, 'income':y_pred})\n",
    "submission.to_csv('submission_cat_7_last.csv', index=False)\n"
   ]
  },
  {
   "cell_type": "code",
   "execution_count": 199,
   "metadata": {},
   "outputs": [
    {
     "name": "stdout",
     "output_type": "stream",
     "text": [
      "Accuracy: 0.841233140655106\n",
      "Log Loss: 0.32514773452601425\n",
      "Confusion Matrix: [[2903  370]\n",
      " [ 454 1463]]\n"
     ]
    }
   ],
   "source": [
    "cat = CatBoostClassifier(random_state=42, verbose=0, learning_rate=0.05, max_depth=5)\n",
    "pipe_2_cat = Pipeline(steps=[\n",
    "    ('preprocessor', preprocessor),\n",
    "    ('model', cat)\n",
    "])\n",
    "\n",
    "pipe_2_cat.fit(x_train, y_train)\n",
    "y_pred = pipe_2_cat.predict(x_test)\n",
    "y_pred_proba = pipe_2_cat.predict_proba(x_test)\n",
    "\n",
    "print('Accuracy:', accuracy_score(y_test, y_pred))\n",
    "print('Log Loss:', log_loss(y_test, y_pred_proba))\n",
    "print('Confusion Matrix:', confusion_matrix(y_test, y_pred))"
   ]
  },
  {
   "cell_type": "code",
   "execution_count": 200,
   "metadata": {},
   "outputs": [],
   "source": [
    "pipe_2_cat.fit(x, y)\n",
    "y_pred = pipe_2_cat.predict(test)\n",
    "y_pred_proba = pipe_2_cat.predict_proba(test)\n",
    "\n",
    "submission = pd.DataFrame({'ID':test.index, 'income':y_pred})\n",
    "submission.to_csv('submission_cat_7_last.csv', index=False)\n"
   ]
  },
  {
   "cell_type": "code",
   "execution_count": 72,
   "metadata": {},
   "outputs": [
    {
     "name": "stdout",
     "output_type": "stream",
     "text": [
      "Accuracy: 0.8208092485549133\n",
      "Log Loss: 0.38224739556148135\n"
     ]
    }
   ],
   "source": [
    "rf = RandomForestClassifier(random_state=42, n_estimators=100, max_depth=10)\n",
    "pipe = Pipeline(steps=[\n",
    "    ('preprocessor', preprocessor),\n",
    "    ('model', rf)\n",
    "])\n",
    "\n",
    "pipe.fit(x_train, y_train)\n",
    "y_pred = pipe.predict(x_test)\n",
    "y_pred_proba = pipe.predict_proba(x_test)\n",
    "\n",
    "print('Accuracy:', accuracy_score(y_test, y_pred))\n",
    "print('Log Loss:', log_loss(y_test, y_pred_proba))"
   ]
  },
  {
   "cell_type": "code",
   "execution_count": 73,
   "metadata": {},
   "outputs": [
    {
     "name": "stdout",
     "output_type": "stream",
     "text": [
      "Accuracy: 0.8402697495183045\n",
      "Log Loss: 0.3297380260477602\n"
     ]
    }
   ],
   "source": [
    "gb = GradientBoostingClassifier(random_state=42, n_estimators=500)\n",
    "pipe = Pipeline(steps=[\n",
    "    ('preprocessor', preprocessor),\n",
    "    ('model', gb)\n",
    "])\n",
    "\n",
    "pipe.fit(x_train, y_train)\n",
    "y_pred = pipe.predict(x_test)\n",
    "y_pred_proba = pipe.predict_proba(x_test)\n",
    "\n",
    "print('Accuracy:', accuracy_score(y_test, y_pred))\n",
    "print('Log Loss:', log_loss(y_test, y_pred_proba))"
   ]
  },
  {
   "cell_type": "code",
   "execution_count": 74,
   "metadata": {},
   "outputs": [
    {
     "name": "stdout",
     "output_type": "stream",
     "text": [
      "Accuracy: 0.8425818882466282\n",
      "Log Loss: 0.32586646144110143\n"
     ]
    }
   ],
   "source": [
    "cat = CatBoostClassifier(random_state=42, verbose=0)\n",
    "pipe = Pipeline(steps=[\n",
    "    ('preprocessor', preprocessor),\n",
    "    ('model', cat)\n",
    "])\n",
    "\n",
    "pipe.fit(x_train, y_train)\n",
    "y_pred = pipe.predict(x_test)\n",
    "y_pred_proba = pipe.predict_proba(x_test)\n",
    "\n",
    "print('Accuracy:', accuracy_score(y_test, y_pred))\n",
    "print('Log Loss:', log_loss(y_test, y_pred_proba))"
   ]
  },
  {
   "cell_type": "code",
   "execution_count": 75,
   "metadata": {},
   "outputs": [
    {
     "data": {
      "text/html": [
       "<div>\n",
       "<style scoped>\n",
       "    .dataframe tbody tr th:only-of-type {\n",
       "        vertical-align: middle;\n",
       "    }\n",
       "\n",
       "    .dataframe tbody tr th {\n",
       "        vertical-align: top;\n",
       "    }\n",
       "\n",
       "    .dataframe thead th {\n",
       "        text-align: right;\n",
       "    }\n",
       "</style>\n",
       "<table border=\"1\" class=\"dataframe\">\n",
       "  <thead>\n",
       "    <tr style=\"text-align: right;\">\n",
       "      <th></th>\n",
       "      <th>feature</th>\n",
       "      <th>importance</th>\n",
       "    </tr>\n",
       "  </thead>\n",
       "  <tbody>\n",
       "    <tr>\n",
       "      <th>2</th>\n",
       "      <td>capital_gain</td>\n",
       "      <td>20.552251</td>\n",
       "    </tr>\n",
       "    <tr>\n",
       "      <th>5</th>\n",
       "      <td>married</td>\n",
       "      <td>16.372957</td>\n",
       "    </tr>\n",
       "    <tr>\n",
       "      <th>0</th>\n",
       "      <td>age_years</td>\n",
       "      <td>11.553463</td>\n",
       "    </tr>\n",
       "    <tr>\n",
       "      <th>3</th>\n",
       "      <td>capital_loss</td>\n",
       "      <td>8.663606</td>\n",
       "    </tr>\n",
       "    <tr>\n",
       "      <th>4</th>\n",
       "      <td>hours_per_week</td>\n",
       "      <td>6.308758</td>\n",
       "    </tr>\n",
       "    <tr>\n",
       "      <th>1</th>\n",
       "      <td>final_weight</td>\n",
       "      <td>3.551630</td>\n",
       "    </tr>\n",
       "    <tr>\n",
       "      <th>48</th>\n",
       "      <td>relationship_husband</td>\n",
       "      <td>2.810633</td>\n",
       "    </tr>\n",
       "    <tr>\n",
       "      <th>45</th>\n",
       "      <td>job_title_specialized_professional</td>\n",
       "      <td>2.745140</td>\n",
       "    </tr>\n",
       "    <tr>\n",
       "      <th>36</th>\n",
       "      <td>job_title_corporate_executive</td>\n",
       "      <td>2.089119</td>\n",
       "    </tr>\n",
       "    <tr>\n",
       "      <th>19</th>\n",
       "      <td>education_bachelors_degree</td>\n",
       "      <td>1.912684</td>\n",
       "    </tr>\n",
       "    <tr>\n",
       "      <th>53</th>\n",
       "      <td>relationship_wife</td>\n",
       "      <td>1.365659</td>\n",
       "    </tr>\n",
       "    <tr>\n",
       "      <th>25</th>\n",
       "      <td>education_masters_degree</td>\n",
       "      <td>1.298984</td>\n",
       "    </tr>\n",
       "    <tr>\n",
       "      <th>24</th>\n",
       "      <td>education_high_school_graduate</td>\n",
       "      <td>1.062434</td>\n",
       "    </tr>\n",
       "    <tr>\n",
       "      <th>38</th>\n",
       "      <td>job_title_general_service_worker</td>\n",
       "      <td>1.034041</td>\n",
       "    </tr>\n",
       "    <tr>\n",
       "      <th>31</th>\n",
       "      <td>education_tenth_grade</td>\n",
       "      <td>0.997153</td>\n",
       "    </tr>\n",
       "    <tr>\n",
       "      <th>28</th>\n",
       "      <td>education_professional_school</td>\n",
       "      <td>0.971093</td>\n",
       "    </tr>\n",
       "    <tr>\n",
       "      <th>49</th>\n",
       "      <td>relationship_not_in_family</td>\n",
       "      <td>0.791201</td>\n",
       "    </tr>\n",
       "    <tr>\n",
       "      <th>6</th>\n",
       "      <td>cluster_gain</td>\n",
       "      <td>0.783980</td>\n",
       "    </tr>\n",
       "    <tr>\n",
       "      <th>13</th>\n",
       "      <td>workclass_self_emp_not_inc</td>\n",
       "      <td>0.774533</td>\n",
       "    </tr>\n",
       "    <tr>\n",
       "      <th>21</th>\n",
       "      <td>education_eleventh_grade</td>\n",
       "      <td>0.725900</td>\n",
       "    </tr>\n",
       "    <tr>\n",
       "      <th>59</th>\n",
       "      <td>gender_female</td>\n",
       "      <td>0.691921</td>\n",
       "    </tr>\n",
       "    <tr>\n",
       "      <th>60</th>\n",
       "      <td>gender_male</td>\n",
       "      <td>0.659514</td>\n",
       "    </tr>\n",
       "    <tr>\n",
       "      <th>29</th>\n",
       "      <td>education_seventh_eighth_grade</td>\n",
       "      <td>0.654331</td>\n",
       "    </tr>\n",
       "    <tr>\n",
       "      <th>41</th>\n",
       "      <td>job_title_manual_labor</td>\n",
       "      <td>0.652999</td>\n",
       "    </tr>\n",
       "    <tr>\n",
       "      <th>20</th>\n",
       "      <td>education_doctorate_degree</td>\n",
       "      <td>0.557239</td>\n",
       "    </tr>\n",
       "    <tr>\n",
       "      <th>40</th>\n",
       "      <td>job_title_machine_operator</td>\n",
       "      <td>0.547460</td>\n",
       "    </tr>\n",
       "    <tr>\n",
       "      <th>35</th>\n",
       "      <td>job_title_business_development</td>\n",
       "      <td>0.475902</td>\n",
       "    </tr>\n",
       "    <tr>\n",
       "      <th>52</th>\n",
       "      <td>relationship_unmarried</td>\n",
       "      <td>0.464860</td>\n",
       "    </tr>\n",
       "    <tr>\n",
       "      <th>8</th>\n",
       "      <td>workclass_federal_gov</td>\n",
       "      <td>0.411163</td>\n",
       "    </tr>\n",
       "    <tr>\n",
       "      <th>56</th>\n",
       "      <td>race_black</td>\n",
       "      <td>0.393018</td>\n",
       "    </tr>\n",
       "  </tbody>\n",
       "</table>\n",
       "</div>"
      ],
      "text/plain": [
       "                               feature  importance\n",
       "2                         capital_gain   20.552251\n",
       "5                              married   16.372957\n",
       "0                            age_years   11.553463\n",
       "3                         capital_loss    8.663606\n",
       "4                       hours_per_week    6.308758\n",
       "1                         final_weight    3.551630\n",
       "48                relationship_husband    2.810633\n",
       "45  job_title_specialized_professional    2.745140\n",
       "36       job_title_corporate_executive    2.089119\n",
       "19          education_bachelors_degree    1.912684\n",
       "53                   relationship_wife    1.365659\n",
       "25            education_masters_degree    1.298984\n",
       "24      education_high_school_graduate    1.062434\n",
       "38    job_title_general_service_worker    1.034041\n",
       "31               education_tenth_grade    0.997153\n",
       "28       education_professional_school    0.971093\n",
       "49          relationship_not_in_family    0.791201\n",
       "6                         cluster_gain    0.783980\n",
       "13          workclass_self_emp_not_inc    0.774533\n",
       "21            education_eleventh_grade    0.725900\n",
       "59                       gender_female    0.691921\n",
       "60                         gender_male    0.659514\n",
       "29      education_seventh_eighth_grade    0.654331\n",
       "41              job_title_manual_labor    0.652999\n",
       "20          education_doctorate_degree    0.557239\n",
       "40          job_title_machine_operator    0.547460\n",
       "35      job_title_business_development    0.475902\n",
       "52              relationship_unmarried    0.464860\n",
       "8                workclass_federal_gov    0.411163\n",
       "56                          race_black    0.393018"
      ]
     },
     "execution_count": 75,
     "metadata": {},
     "output_type": "execute_result"
    }
   ],
   "source": [
    "# Get feature importances from the model\n",
    "feature_importances = pipe.named_steps['model'].feature_importances_\n",
    "\n",
    "# Get numerical and categorical feature names\n",
    "features = num_cols + list(pipe.named_steps['preprocessor'].transformers_[1][1].named_steps['ohe'].get_feature_names_out(cat_cols))\n",
    "\n",
    "# Create a DataFrame to hold the feature names and their importances\n",
    "feature_importances_df = pd.DataFrame({'feature': features, 'importance': feature_importances})\n",
    "\n",
    "# Sort by importance and display the top 10 features\n",
    "feature_importances_df.sort_values('importance', ascending=False).head(30)\n"
   ]
  },
  {
   "cell_type": "code",
   "execution_count": 77,
   "metadata": {},
   "outputs": [
    {
     "name": "stdout",
     "output_type": "stream",
     "text": [
      "Accuracy: 0.841233140655106\n",
      "Log Loss: 0.3282160774067055\n",
      "Confusion Matrix: [[2897  376]\n",
      " [ 448 1469]]\n"
     ]
    }
   ],
   "source": [
    "lgb = LGBMClassifier(random_state=42, verbose=-1)\n",
    "pipe_lgb = Pipeline(steps=[\n",
    "    ('preprocessor', preprocessor),\n",
    "    ('model', lgb)\n",
    "])\n",
    "\n",
    "pipe_lgb.fit(x_train, y_train)\n",
    "y_pred = pipe_lgb.predict(x_test)\n",
    "y_pred_proba = pipe_lgb.predict_proba(x_test)\n",
    "\n",
    "\n",
    "print('Accuracy:', accuracy_score(y_test, y_pred))\n",
    "print('Log Loss:', log_loss(y_test, y_pred_proba))\n",
    "print('Confusion Matrix:', confusion_matrix(y_test, y_pred))"
   ]
  },
  {
   "cell_type": "code",
   "execution_count": 91,
   "metadata": {},
   "outputs": [
    {
     "name": "stdout",
     "output_type": "stream",
     "text": [
      "Accuracy: 0.8391136801541426\n",
      "Log Loss: 0.32728489023675206\n",
      "Confusion Matrix: [[2902  371]\n",
      " [ 464 1453]]\n"
     ]
    }
   ],
   "source": [
    "xg = XGBClassifier(random_state=42, verbosity=0, n_estimators=50)\n",
    "pipe_xg = Pipeline(steps=[\n",
    "    ('preprocessor', preprocessor),\n",
    "    ('model', xg)\n",
    "])\n",
    "\n",
    "pipe_xg.fit(x_train, y_train)\n",
    "y_pred = pipe_xg.predict(x_test)\n",
    "y_pred_proba = pipe_xg.predict_proba(x_test)\n",
    "\n",
    "print('Accuracy:', accuracy_score(y_test, y_pred))\n",
    "print('Log Loss:', log_loss(y_test, y_pred_proba))\n",
    "print('Confusion Matrix:', confusion_matrix(y_test, y_pred))"
   ]
  },
  {
   "cell_type": "markdown",
   "metadata": {},
   "source": [
    "### CatBoost With class weights"
   ]
  },
  {
   "cell_type": "code",
   "execution_count": 107,
   "metadata": {},
   "outputs": [
    {
     "name": "stdout",
     "output_type": "stream",
     "text": [
      "Accuracy: 0.8400770712909441\n",
      "Log Loss: 0.3382780202722463\n",
      "Confusion Matrix: [[2696  577]\n",
      " [ 253 1664]]\n"
     ]
    }
   ],
   "source": [
    "cat = CatBoostClassifier(random_state=42, verbose=0, class_weights=[samples_0, samples_1])\n",
    "pipe_1_cat = Pipeline(steps=[\n",
    "    ('preprocessor', preprocessor),\n",
    "    ('model', cat)\n",
    "])\n",
    "\n",
    "pipe_1_cat.fit(x_train, y_train)\n",
    "y_pred = pipe_1_cat.predict(x_test)\n",
    "y_pred_proba = pipe_1_cat.predict_proba(x_test)\n",
    "\n",
    "print('Accuracy:', accuracy_score(y_test, y_pred))\n",
    "print('Log Loss:', log_loss(y_test, y_pred_proba))\n",
    "print('Confusion Matrix:', confusion_matrix(y_test, y_pred))"
   ]
  },
  {
   "cell_type": "markdown",
   "metadata": {},
   "source": [
    "### CatBoost Without class weights"
   ]
  },
  {
   "cell_type": "code",
   "execution_count": 108,
   "metadata": {},
   "outputs": [
    {
     "name": "stdout",
     "output_type": "stream",
     "text": [
      "Accuracy: 0.8425818882466282\n",
      "Log Loss: 0.32586646144110143\n",
      "Confusion Matrix: [[2903  370]\n",
      " [ 447 1470]]\n"
     ]
    }
   ],
   "source": [
    "cat = CatBoostClassifier(random_state=42, verbose=0)\n",
    "pipe_2_cat = Pipeline(steps=[\n",
    "    ('preprocessor', preprocessor),\n",
    "    ('model', cat)\n",
    "])\n",
    "\n",
    "pipe_2_cat.fit(x_train, y_train)\n",
    "y_pred = pipe_2_cat.predict(x_test)\n",
    "y_pred_proba = pipe_2_cat.predict_proba(x_test)\n",
    "\n",
    "print('Accuracy:', accuracy_score(y_test, y_pred))\n",
    "print('Log Loss:', log_loss(y_test, y_pred_proba))\n",
    "print('Confusion Matrix:', confusion_matrix(y_test, y_pred))"
   ]
  },
  {
   "cell_type": "code",
   "execution_count": 140,
   "metadata": {},
   "outputs": [
    {
     "name": "stdout",
     "output_type": "stream",
     "text": [
      "Accuracy: 0.841233140655106\n",
      "Log Loss: 0.32538864847979976\n",
      "Confusion Matrix: [[2895  378]\n",
      " [ 446 1471]]\n"
     ]
    }
   ],
   "source": [
    "cat = CatBoostClassifier(random_state=42, verbose=0, learning_rate=0.05, max_depth=5)\n",
    "pipe_2_cat = Pipeline(steps=[\n",
    "    ('preprocessor', preprocessor),\n",
    "    ('model', cat)\n",
    "])\n",
    "\n",
    "pipe_2_cat.fit(x_train, y_train)\n",
    "y_pred = pipe_2_cat.predict(x_test)\n",
    "y_pred_proba = pipe_2_cat.predict_proba(x_test)\n",
    "\n",
    "print('Accuracy:', accuracy_score(y_test, y_pred))\n",
    "print('Log Loss:', log_loss(y_test, y_pred_proba))\n",
    "print('Confusion Matrix:', confusion_matrix(y_test, y_pred))"
   ]
  },
  {
   "cell_type": "code",
   "execution_count": 141,
   "metadata": {},
   "outputs": [
    {
     "data": {
      "text/html": [
       "<div>\n",
       "<style scoped>\n",
       "    .dataframe tbody tr th:only-of-type {\n",
       "        vertical-align: middle;\n",
       "    }\n",
       "\n",
       "    .dataframe tbody tr th {\n",
       "        vertical-align: top;\n",
       "    }\n",
       "\n",
       "    .dataframe thead th {\n",
       "        text-align: right;\n",
       "    }\n",
       "</style>\n",
       "<table border=\"1\" class=\"dataframe\">\n",
       "  <thead>\n",
       "    <tr style=\"text-align: right;\">\n",
       "      <th></th>\n",
       "      <th>ID</th>\n",
       "      <th>income</th>\n",
       "    </tr>\n",
       "  </thead>\n",
       "  <tbody>\n",
       "    <tr>\n",
       "      <th>0</th>\n",
       "      <td>0</td>\n",
       "      <td>0</td>\n",
       "    </tr>\n",
       "    <tr>\n",
       "      <th>1</th>\n",
       "      <td>1</td>\n",
       "      <td>0</td>\n",
       "    </tr>\n",
       "    <tr>\n",
       "      <th>2</th>\n",
       "      <td>2</td>\n",
       "      <td>0</td>\n",
       "    </tr>\n",
       "    <tr>\n",
       "      <th>3</th>\n",
       "      <td>3</td>\n",
       "      <td>0</td>\n",
       "    </tr>\n",
       "    <tr>\n",
       "      <th>4</th>\n",
       "      <td>4</td>\n",
       "      <td>1</td>\n",
       "    </tr>\n",
       "  </tbody>\n",
       "</table>\n",
       "</div>"
      ],
      "text/plain": [
       "   ID  income\n",
       "0   0       0\n",
       "1   1       0\n",
       "2   2       0\n",
       "3   3       0\n",
       "4   4       1"
      ]
     },
     "execution_count": 141,
     "metadata": {},
     "output_type": "execute_result"
    }
   ],
   "source": [
    "pipe_2_cat.fit(x, y)\n",
    "y_pred = pipe_2_cat.predict(test)\n",
    "y_pred_proba = pipe_2_cat.predict_proba(test)\n",
    "\n",
    "submission = pd.DataFrame({'ID': test.index, 'income': y_pred})\n",
    "submission.to_csv('submission_cat_3.csv', index=False)\n",
    "submission.head()"
   ]
  },
  {
   "cell_type": "markdown",
   "metadata": {},
   "source": [
    "## Improving Random Forest"
   ]
  },
  {
   "cell_type": "code",
   "execution_count": 130,
   "metadata": {},
   "outputs": [
    {
     "name": "stdout",
     "output_type": "stream",
     "text": [
      "Accuracy: 0.820616570327553\n",
      "Log Loss: 0.382453105017859\n",
      "Confusion Matrix: [[2922  351]\n",
      " [ 580 1337]]\n",
      "Classification Report:               precision    recall  f1-score   support\n",
      "\n",
      "           0       0.83      0.89      0.86      3273\n",
      "           1       0.79      0.70      0.74      1917\n",
      "\n",
      "    accuracy                           0.82      5190\n",
      "   macro avg       0.81      0.80      0.80      5190\n",
      "weighted avg       0.82      0.82      0.82      5190\n",
      "\n"
     ]
    }
   ],
   "source": [
    "rf = RandomForestClassifier(random_state=42, n_estimators=200, max_depth=10)\n",
    "pipe_rf = Pipeline(steps=[\n",
    "    ('preprocessor', preprocessor),\n",
    "    ('model', rf)\n",
    "])\n",
    "\n",
    "pipe_rf.fit(x_train, y_train)\n",
    "y_pred = pipe_rf.predict(x_test)\n",
    "y_pred_proba = pipe_rf.predict_proba(x_test)\n",
    "\n",
    "print('Accuracy:', accuracy_score(y_test, y_pred))\n",
    "print('Log Loss:', log_loss(y_test, y_pred_proba))\n",
    "print('Confusion Matrix:', confusion_matrix(y_test, y_pred))\n",
    "print('Classification Report:', classification_report(y_test, y_pred))"
   ]
  },
  {
   "cell_type": "code",
   "execution_count": 131,
   "metadata": {},
   "outputs": [
    {
     "name": "stdout",
     "output_type": "stream",
     "text": [
      "Accuracy: 0.8329479768786127\n",
      "Log Loss: 0.3519581231077142\n",
      "Confusion Matrix: [[2897  376]\n",
      " [ 491 1426]]\n",
      "Classification Report:               precision    recall  f1-score   support\n",
      "\n",
      "           0       0.86      0.89      0.87      3273\n",
      "           1       0.79      0.74      0.77      1917\n",
      "\n",
      "    accuracy                           0.83      5190\n",
      "   macro avg       0.82      0.81      0.82      5190\n",
      "weighted avg       0.83      0.83      0.83      5190\n",
      "\n"
     ]
    }
   ],
   "source": [
    "rf = RandomForestClassifier(random_state=42, n_estimators=100, min_samples_split=5, min_samples_leaf=2, max_features='sqrt', max_depth=40, bootstrap=True)\n",
    "pipe_rf = Pipeline(steps=[\n",
    "    ('preprocessor', preprocessor),\n",
    "    ('model', rf)\n",
    "])\n",
    "\n",
    "pipe_rf.fit(x_train, y_train)\n",
    "y_pred = pipe_rf.predict(x_test)\n",
    "y_pred_proba = pipe_rf.predict_proba(x_test)\n",
    "\n",
    "print('Accuracy:', accuracy_score(y_test, y_pred))\n",
    "print('Log Loss:', log_loss(y_test, y_pred_proba))\n",
    "print('Confusion Matrix:', confusion_matrix(y_test, y_pred))\n",
    "print('Classification Report:', classification_report(y_test, y_pred))"
   ]
  },
  {
   "cell_type": "code",
   "execution_count": 134,
   "metadata": {},
   "outputs": [],
   "source": [
    "lgbm = LGBMClassifier(random_state=42, verbose=-1)\n",
    "\n",
    "\n",
    "xgb = XGBClassifier(random_state=42, verbosity=0, n_estimators=50)\n",
    "\n",
    "\n",
    "cat = CatBoostClassifier(random_state=42, verbose=0, learning_rate=0.05, max_depth=5)\n",
    "\n",
    "rf = RandomForestClassifier(random_state=42, n_estimators=100, min_samples_split=5, \n",
    "                            min_samples_leaf=2, max_features='sqrt', max_depth=40, bootstrap=True)\n",
    "\n",
    "\n",
    "lr = LogisticRegression(random_state=42)\n",
    "\n",
    "gb = GradientBoostingClassifier(random_state=42, n_estimators=500)"
   ]
  },
  {
   "cell_type": "code",
   "execution_count": 137,
   "metadata": {},
   "outputs": [
    {
     "name": "stdout",
     "output_type": "stream",
     "text": [
      "Accuracy: 0.8418111753371869\n",
      "Log Loss: 0.3303211796329823\n"
     ]
    }
   ],
   "source": [
    "cat_ = CatBoostClassifier(random_state=42, verbose=0)\n",
    "stack = StackingClassifier(estimators=[\n",
    "    ('lgb', lgbm),\n",
    "    ('xgb', xgb),\n",
    "    ('cat', cat),\n",
    "    ('gb', gb),\n",
    "    ('rf', rf), \n",
    "], final_estimator=cat_)\n",
    "\n",
    "stack_pipe = Pipeline(steps=[\n",
    "    ('preprocessor', preprocessor),\n",
    "    ('model', stack)\n",
    "])\n",
    "\n",
    "stack_pipe.fit(x_train, y_train)\n",
    "y_pred = stack_pipe.predict(x_test)\n",
    "y_pred_proba = stack_pipe.predict_proba(x_test)\n",
    "\n",
    "print('Accuracy:', accuracy_score(y_test, y_pred))\n",
    "print('Log Loss:', log_loss(y_test, y_pred_proba))"
   ]
  },
  {
   "cell_type": "code",
   "execution_count": 149,
   "metadata": {},
   "outputs": [],
   "source": [
    "stack_pipe.fit(x, y)\n",
    "y_pred = stack_pipe.predict(test)\n",
    "y_pred_proba = stack_pipe.predict_proba(test)\n",
    "\n",
    "submission = pd.DataFrame({'ID': test.index, 'income': y_pred})\n",
    "submission.to_csv('submission_stack_last.csv', index=False)"
   ]
  },
  {
   "cell_type": "code",
   "execution_count": 155,
   "metadata": {},
   "outputs": [
    {
     "name": "stdout",
     "output_type": "stream",
     "text": [
      "Accuracy: 0.8410404624277457\n",
      "Log Loss: 0.339850809090164\n"
     ]
    }
   ],
   "source": [
    "stack_2 = StackingClassifier(estimators=[\n",
    "    ('cat', cat),\n",
    "    ('lgb', lgbm),\n",
    "    ('xgb', xgb),\n",
    "    ('gb', gb), \n",
    "    ('cat2', cat),\n",
    "    ('lgb2', lgbm),\n",
    "    ('xgb2', xgb),\n",
    "    ('gb2', gb)\n",
    "], final_estimator=LogisticRegression(random_state=42))\n",
    "\n",
    "stack_pipe_2 = Pipeline(steps=[\n",
    "    ('preprocessor', preprocessor),\n",
    "    ('model', stack_2)\n",
    "])\n",
    "\n",
    "stack_pipe_2.fit(x_train, y_train)\n",
    "y_pred = stack_pipe_2.predict(x_test)\n",
    "y_pred_proba = stack_pipe_2.predict_proba(x_test)\n",
    "\n",
    "print('Accuracy:', accuracy_score(y_test, y_pred))\n",
    "print('Log Loss:', log_loss(y_test, y_pred_proba))"
   ]
  },
  {
   "cell_type": "code",
   "execution_count": 193,
   "metadata": {},
   "outputs": [],
   "source": [
    "stack_pipe_2.fit(x, y)\n",
    "y_pred = stack_pipe_2.predict(test)\n",
    "y_pred_proba = stack_pipe_2.predict_proba(test)\n",
    "\n",
    "submission = pd.DataFrame({'ID': test.index, 'income': y_pred})\n",
    "submission.to_csv('submission_6_ultra.csv', index=False)"
   ]
  }
 ],
 "metadata": {
  "kernelspec": {
   "display_name": "Python 3",
   "language": "python",
   "name": "python3"
  },
  "language_info": {
   "codemirror_mode": {
    "name": "ipython",
    "version": 3
   },
   "file_extension": ".py",
   "mimetype": "text/x-python",
   "name": "python",
   "nbconvert_exporter": "python",
   "pygments_lexer": "ipython3",
   "version": "3.12.5"
  }
 },
 "nbformat": 4,
 "nbformat_minor": 2
}
