{
 "cells": [
  {
   "cell_type": "code",
   "execution_count": 1,
   "id": "d0eb4f16-5a99-460d-a5ba-706b7ef0bbe7",
   "metadata": {
    "executionCancelledAt": null,
    "executionTime": 10,
    "id": "bA5ajAmk7XH6",
    "lastExecutedAt": 1707247709382,
    "lastScheduledRunId": null,
    "lastSuccessfullyExecutedCode": "# Import libraries\nimport pandas as pd\nimport numpy as np\nimport matplotlib.pyplot as plt"
   },
   "outputs": [],
   "source": [
    "# Import libraries\n",
    "import pandas as pd\n",
    "import numpy as np\n",
    "import matplotlib.pyplot as plt"
   ]
  },
  {
   "cell_type": "markdown",
   "id": "0a7e03e3-23d7-4e83-9965-40f526f2d9ec",
   "metadata": {},
   "source": [
    "## Task 1: Loading and Inspecting the Data\n",
    "\n",
    "We will be working with a dataset of audiobooks downloaded from audible.in from 1998 to 2025 (pre-planned releases). [Source](https://www.kaggle.com/datasets/snehangsude/audible-dataset)\n",
    "\n",
    "The first thing we will do is load the raw audible data.\n",
    "\n",
    "### Instructions:\n",
    "* Using pandas, read the `audible_raw.csv` file that is located inside the `data` folder in our local directory. Assign to `audible`.\n",
    "* Show the first few rows of the `audible` data frame."
   ]
  },
  {
   "cell_type": "code",
   "execution_count": 2,
   "id": "d11e4c3e-94ec-4ba7-a492-3f3211ba274c",
   "metadata": {
    "chartConfig": {
     "bar": {
      "hasRoundedCorners": true,
      "stacked": false
     },
     "type": "bar",
     "version": "v1"
    },
    "executionCancelledAt": null,
    "executionTime": 193,
    "lastExecutedAt": 1707247709575,
    "lastScheduledRunId": null,
    "lastSuccessfullyExecutedCode": "# Load the audible_raw.csv file\naudible = pd.read_csv(\"data/audible_raw.csv\")\n# View the first rows of the dataframe\naudible.head()",
    "outputsMetadata": {
     "0": {
      "columns": {
       "language": {
        "wrap": false
       }
      },
      "height": 213,
      "type": "dataFrame"
     }
    },
    "visualizeDataframe": false
   },
   "outputs": [
    {
     "data": {
      "text/html": [
       "<div>\n",
       "<style scoped>\n",
       "    .dataframe tbody tr th:only-of-type {\n",
       "        vertical-align: middle;\n",
       "    }\n",
       "\n",
       "    .dataframe tbody tr th {\n",
       "        vertical-align: top;\n",
       "    }\n",
       "\n",
       "    .dataframe thead th {\n",
       "        text-align: right;\n",
       "    }\n",
       "</style>\n",
       "<table border=\"1\" class=\"dataframe\">\n",
       "  <thead>\n",
       "    <tr style=\"text-align: right;\">\n",
       "      <th></th>\n",
       "      <th>name</th>\n",
       "      <th>author</th>\n",
       "      <th>narrator</th>\n",
       "      <th>time</th>\n",
       "      <th>releasedate</th>\n",
       "      <th>language</th>\n",
       "      <th>stars</th>\n",
       "      <th>price</th>\n",
       "    </tr>\n",
       "  </thead>\n",
       "  <tbody>\n",
       "    <tr>\n",
       "      <th>0</th>\n",
       "      <td>Geronimo Stilton #11 &amp; #12</td>\n",
       "      <td>Writtenby:GeronimoStilton</td>\n",
       "      <td>Narratedby:BillLobely</td>\n",
       "      <td>2 hrs and 20 mins</td>\n",
       "      <td>04-08-08</td>\n",
       "      <td>English</td>\n",
       "      <td>5 out of 5 stars34 ratings</td>\n",
       "      <td>468.00</td>\n",
       "    </tr>\n",
       "    <tr>\n",
       "      <th>1</th>\n",
       "      <td>The Burning Maze</td>\n",
       "      <td>Writtenby:RickRiordan</td>\n",
       "      <td>Narratedby:RobbieDaymond</td>\n",
       "      <td>13 hrs and 8 mins</td>\n",
       "      <td>01-05-18</td>\n",
       "      <td>English</td>\n",
       "      <td>4.5 out of 5 stars41 ratings</td>\n",
       "      <td>820.00</td>\n",
       "    </tr>\n",
       "    <tr>\n",
       "      <th>2</th>\n",
       "      <td>The Deep End</td>\n",
       "      <td>Writtenby:JeffKinney</td>\n",
       "      <td>Narratedby:DanRussell</td>\n",
       "      <td>2 hrs and 3 mins</td>\n",
       "      <td>06-11-20</td>\n",
       "      <td>English</td>\n",
       "      <td>4.5 out of 5 stars38 ratings</td>\n",
       "      <td>410.00</td>\n",
       "    </tr>\n",
       "    <tr>\n",
       "      <th>3</th>\n",
       "      <td>Daughter of the Deep</td>\n",
       "      <td>Writtenby:RickRiordan</td>\n",
       "      <td>Narratedby:SoneelaNankani</td>\n",
       "      <td>11 hrs and 16 mins</td>\n",
       "      <td>05-10-21</td>\n",
       "      <td>English</td>\n",
       "      <td>4.5 out of 5 stars12 ratings</td>\n",
       "      <td>615.00</td>\n",
       "    </tr>\n",
       "    <tr>\n",
       "      <th>4</th>\n",
       "      <td>The Lightning Thief: Percy Jackson, Book 1</td>\n",
       "      <td>Writtenby:RickRiordan</td>\n",
       "      <td>Narratedby:JesseBernstein</td>\n",
       "      <td>10 hrs</td>\n",
       "      <td>13-01-10</td>\n",
       "      <td>English</td>\n",
       "      <td>4.5 out of 5 stars181 ratings</td>\n",
       "      <td>820.00</td>\n",
       "    </tr>\n",
       "  </tbody>\n",
       "</table>\n",
       "</div>"
      ],
      "text/plain": [
       "                                         name                     author  \\\n",
       "0                  Geronimo Stilton #11 & #12  Writtenby:GeronimoStilton   \n",
       "1                            The Burning Maze      Writtenby:RickRiordan   \n",
       "2                                The Deep End       Writtenby:JeffKinney   \n",
       "3                        Daughter of the Deep      Writtenby:RickRiordan   \n",
       "4  The Lightning Thief: Percy Jackson, Book 1      Writtenby:RickRiordan   \n",
       "\n",
       "                    narrator                time releasedate language  \\\n",
       "0      Narratedby:BillLobely   2 hrs and 20 mins    04-08-08  English   \n",
       "1   Narratedby:RobbieDaymond   13 hrs and 8 mins    01-05-18  English   \n",
       "2      Narratedby:DanRussell    2 hrs and 3 mins    06-11-20  English   \n",
       "3  Narratedby:SoneelaNankani  11 hrs and 16 mins    05-10-21  English   \n",
       "4  Narratedby:JesseBernstein              10 hrs    13-01-10  English   \n",
       "\n",
       "                           stars   price  \n",
       "0     5 out of 5 stars34 ratings  468.00  \n",
       "1   4.5 out of 5 stars41 ratings  820.00  \n",
       "2   4.5 out of 5 stars38 ratings  410.00  \n",
       "3   4.5 out of 5 stars12 ratings  615.00  \n",
       "4  4.5 out of 5 stars181 ratings  820.00  "
      ]
     },
     "execution_count": 2,
     "metadata": {},
     "output_type": "execute_result"
    }
   ],
   "source": [
    "# Load the audible_raw.csv file\n",
    "audible = pd.read_csv(\"data/audible_raw.csv\")\n",
    "# View the first rows of the dataframe\n",
    "audible.head()"
   ]
  },
  {
   "cell_type": "markdown",
   "id": "0e5fec85-ae7b-4c7b-a8b9-7e8cf47b1bcb",
   "metadata": {},
   "source": [
    "### 💾 The data\n",
    "\n",
    "- \"name\" - The name of the audiobook.\n",
    "- \"author\" - The audiobook's author.\n",
    "- \"narrator\" - The audiobook's narrator.\n",
    "- \"time\" -  The audiobook's duration, in hours and minutes.\n",
    "- \"releasedate\" -  The date the audiobook was published.\n",
    "- \"language\" -  The audiobook's language.\n",
    "- \"stars\" -  The average number of stars (out of 5) and the number of ratings (if available).\n",
    "- \"price\" -  The audiobook's price in INR (Indian Rupee)."
   ]
  },
  {
   "cell_type": "markdown",
   "id": "b34a10b0-67fe-402f-b4aa-24577d0857fa",
   "metadata": {},
   "source": [
    " We can use the `.info()` method to inspect the data types of the columns"
   ]
  },
  {
   "cell_type": "code",
   "execution_count": 3,
   "id": "00ecf8cb-a271-4dbd-b08d-bd3b187964b2",
   "metadata": {
    "executionCancelledAt": null,
    "executionTime": 134,
    "lastExecutedAt": 1707247709709,
    "lastScheduledRunId": null,
    "lastSuccessfullyExecutedCode": "# Inspect the columns' data types\naudible.info()",
    "outputsMetadata": {
     "0": {
      "height": 317,
      "type": "stream"
     }
    }
   },
   "outputs": [
    {
     "name": "stdout",
     "output_type": "stream",
     "text": [
      "<class 'pandas.core.frame.DataFrame'>\n",
      "RangeIndex: 87489 entries, 0 to 87488\n",
      "Data columns (total 8 columns):\n",
      " #   Column       Non-Null Count  Dtype \n",
      "---  ------       --------------  ----- \n",
      " 0   name         87489 non-null  object\n",
      " 1   author       87489 non-null  object\n",
      " 2   narrator     87489 non-null  object\n",
      " 3   time         87489 non-null  object\n",
      " 4   releasedate  87489 non-null  object\n",
      " 5   language     87489 non-null  object\n",
      " 6   stars        87489 non-null  object\n",
      " 7   price        87489 non-null  object\n",
      "dtypes: object(8)\n",
      "memory usage: 5.3+ MB\n"
     ]
    }
   ],
   "source": [
    "# Inspect the columns' data types\n",
    "audible.info()"
   ]
  },
  {
   "cell_type": "markdown",
   "id": "47940552-2d24-40f5-8a87-153abc54e9d9",
   "metadata": {},
   "source": [
    "## Task 2: Clean text data in Author and Narrator columns\n",
    "\n",
    "We will start cleaning some of the text columns like `author` and `narrator`. We can remove the `Writtenby:` and `Narratedby:` portions of the text in those columns.\n",
    "\n",
    "For this, we will use the `.str.replace()` method\n",
    "\n",
    "### Instructions:\n",
    "* Remove 'Writtenby:' from the `author` column\n",
    "* Remove 'Narratedby:' from the `narrator` column\n",
    "* Check the results"
   ]
  },
  {
   "cell_type": "code",
   "execution_count": 4,
   "id": "f6eacd20-36df-4841-9cdc-034c93477ff3",
   "metadata": {
    "executionCancelledAt": null,
    "executionTime": 274,
    "lastExecutedAt": 1707247709983,
    "lastScheduledRunId": null,
    "lastSuccessfullyExecutedCode": "# Remove Writtenby: from the author column\naudible['author'] = audible['author'].str.replace(\"Writtenby:\", \"\")\n# Remove Narratedby: from the narrator column\naudible['narrator'] = audible['narrator'].str.replace(\"Narratedby:\", \"\")\n# Check the results\naudible",
    "outputsMetadata": {
     "0": {
      "height": 326,
      "type": "dataFrame"
     }
    }
   },
   "outputs": [
    {
     "data": {
      "text/html": [
       "<div>\n",
       "<style scoped>\n",
       "    .dataframe tbody tr th:only-of-type {\n",
       "        vertical-align: middle;\n",
       "    }\n",
       "\n",
       "    .dataframe tbody tr th {\n",
       "        vertical-align: top;\n",
       "    }\n",
       "\n",
       "    .dataframe thead th {\n",
       "        text-align: right;\n",
       "    }\n",
       "</style>\n",
       "<table border=\"1\" class=\"dataframe\">\n",
       "  <thead>\n",
       "    <tr style=\"text-align: right;\">\n",
       "      <th></th>\n",
       "      <th>name</th>\n",
       "      <th>author</th>\n",
       "      <th>narrator</th>\n",
       "      <th>time</th>\n",
       "      <th>releasedate</th>\n",
       "      <th>language</th>\n",
       "      <th>stars</th>\n",
       "      <th>price</th>\n",
       "    </tr>\n",
       "  </thead>\n",
       "  <tbody>\n",
       "    <tr>\n",
       "      <th>0</th>\n",
       "      <td>Geronimo Stilton #11 &amp; #12</td>\n",
       "      <td>GeronimoStilton</td>\n",
       "      <td>BillLobely</td>\n",
       "      <td>2 hrs and 20 mins</td>\n",
       "      <td>04-08-08</td>\n",
       "      <td>English</td>\n",
       "      <td>5 out of 5 stars34 ratings</td>\n",
       "      <td>468.00</td>\n",
       "    </tr>\n",
       "    <tr>\n",
       "      <th>1</th>\n",
       "      <td>The Burning Maze</td>\n",
       "      <td>RickRiordan</td>\n",
       "      <td>RobbieDaymond</td>\n",
       "      <td>13 hrs and 8 mins</td>\n",
       "      <td>01-05-18</td>\n",
       "      <td>English</td>\n",
       "      <td>4.5 out of 5 stars41 ratings</td>\n",
       "      <td>820.00</td>\n",
       "    </tr>\n",
       "    <tr>\n",
       "      <th>2</th>\n",
       "      <td>The Deep End</td>\n",
       "      <td>JeffKinney</td>\n",
       "      <td>DanRussell</td>\n",
       "      <td>2 hrs and 3 mins</td>\n",
       "      <td>06-11-20</td>\n",
       "      <td>English</td>\n",
       "      <td>4.5 out of 5 stars38 ratings</td>\n",
       "      <td>410.00</td>\n",
       "    </tr>\n",
       "    <tr>\n",
       "      <th>3</th>\n",
       "      <td>Daughter of the Deep</td>\n",
       "      <td>RickRiordan</td>\n",
       "      <td>SoneelaNankani</td>\n",
       "      <td>11 hrs and 16 mins</td>\n",
       "      <td>05-10-21</td>\n",
       "      <td>English</td>\n",
       "      <td>4.5 out of 5 stars12 ratings</td>\n",
       "      <td>615.00</td>\n",
       "    </tr>\n",
       "    <tr>\n",
       "      <th>4</th>\n",
       "      <td>The Lightning Thief: Percy Jackson, Book 1</td>\n",
       "      <td>RickRiordan</td>\n",
       "      <td>JesseBernstein</td>\n",
       "      <td>10 hrs</td>\n",
       "      <td>13-01-10</td>\n",
       "      <td>English</td>\n",
       "      <td>4.5 out of 5 stars181 ratings</td>\n",
       "      <td>820.00</td>\n",
       "    </tr>\n",
       "    <tr>\n",
       "      <th>...</th>\n",
       "      <td>...</td>\n",
       "      <td>...</td>\n",
       "      <td>...</td>\n",
       "      <td>...</td>\n",
       "      <td>...</td>\n",
       "      <td>...</td>\n",
       "      <td>...</td>\n",
       "      <td>...</td>\n",
       "    </tr>\n",
       "    <tr>\n",
       "      <th>87484</th>\n",
       "      <td>Last Days of the Bus Club</td>\n",
       "      <td>ChrisStewart</td>\n",
       "      <td>ChrisStewart</td>\n",
       "      <td>7 hrs and 34 mins</td>\n",
       "      <td>09-03-17</td>\n",
       "      <td>English</td>\n",
       "      <td>Not rated yet</td>\n",
       "      <td>596.00</td>\n",
       "    </tr>\n",
       "    <tr>\n",
       "      <th>87485</th>\n",
       "      <td>The Alps</td>\n",
       "      <td>StephenO'Shea</td>\n",
       "      <td>RobertFass</td>\n",
       "      <td>10 hrs and 7 mins</td>\n",
       "      <td>21-02-17</td>\n",
       "      <td>English</td>\n",
       "      <td>Not rated yet</td>\n",
       "      <td>820.00</td>\n",
       "    </tr>\n",
       "    <tr>\n",
       "      <th>87486</th>\n",
       "      <td>The Innocents Abroad</td>\n",
       "      <td>MarkTwain</td>\n",
       "      <td>FloGibson</td>\n",
       "      <td>19 hrs and 4 mins</td>\n",
       "      <td>30-12-16</td>\n",
       "      <td>English</td>\n",
       "      <td>Not rated yet</td>\n",
       "      <td>938.00</td>\n",
       "    </tr>\n",
       "    <tr>\n",
       "      <th>87487</th>\n",
       "      <td>A Sentimental Journey</td>\n",
       "      <td>LaurenceSterne</td>\n",
       "      <td>AntonLesser</td>\n",
       "      <td>4 hrs and 8 mins</td>\n",
       "      <td>23-02-11</td>\n",
       "      <td>English</td>\n",
       "      <td>Not rated yet</td>\n",
       "      <td>680.00</td>\n",
       "    </tr>\n",
       "    <tr>\n",
       "      <th>87488</th>\n",
       "      <td>Havana</td>\n",
       "      <td>MarkKurlansky</td>\n",
       "      <td>FleetCooper</td>\n",
       "      <td>6 hrs and 1 min</td>\n",
       "      <td>07-03-17</td>\n",
       "      <td>English</td>\n",
       "      <td>Not rated yet</td>\n",
       "      <td>569.00</td>\n",
       "    </tr>\n",
       "  </tbody>\n",
       "</table>\n",
       "<p>87489 rows × 8 columns</p>\n",
       "</div>"
      ],
      "text/plain": [
       "                                             name           author  \\\n",
       "0                      Geronimo Stilton #11 & #12  GeronimoStilton   \n",
       "1                                The Burning Maze      RickRiordan   \n",
       "2                                    The Deep End       JeffKinney   \n",
       "3                            Daughter of the Deep      RickRiordan   \n",
       "4      The Lightning Thief: Percy Jackson, Book 1      RickRiordan   \n",
       "...                                           ...              ...   \n",
       "87484                   Last Days of the Bus Club     ChrisStewart   \n",
       "87485                                    The Alps    StephenO'Shea   \n",
       "87486                        The Innocents Abroad        MarkTwain   \n",
       "87487                       A Sentimental Journey   LaurenceSterne   \n",
       "87488                                      Havana    MarkKurlansky   \n",
       "\n",
       "             narrator                time releasedate language  \\\n",
       "0          BillLobely   2 hrs and 20 mins    04-08-08  English   \n",
       "1       RobbieDaymond   13 hrs and 8 mins    01-05-18  English   \n",
       "2          DanRussell    2 hrs and 3 mins    06-11-20  English   \n",
       "3      SoneelaNankani  11 hrs and 16 mins    05-10-21  English   \n",
       "4      JesseBernstein              10 hrs    13-01-10  English   \n",
       "...               ...                 ...         ...      ...   \n",
       "87484    ChrisStewart   7 hrs and 34 mins    09-03-17  English   \n",
       "87485      RobertFass   10 hrs and 7 mins    21-02-17  English   \n",
       "87486       FloGibson   19 hrs and 4 mins    30-12-16  English   \n",
       "87487     AntonLesser    4 hrs and 8 mins    23-02-11  English   \n",
       "87488     FleetCooper     6 hrs and 1 min    07-03-17  English   \n",
       "\n",
       "                               stars   price  \n",
       "0         5 out of 5 stars34 ratings  468.00  \n",
       "1       4.5 out of 5 stars41 ratings  820.00  \n",
       "2       4.5 out of 5 stars38 ratings  410.00  \n",
       "3       4.5 out of 5 stars12 ratings  615.00  \n",
       "4      4.5 out of 5 stars181 ratings  820.00  \n",
       "...                              ...     ...  \n",
       "87484                  Not rated yet  596.00  \n",
       "87485                  Not rated yet  820.00  \n",
       "87486                  Not rated yet  938.00  \n",
       "87487                  Not rated yet  680.00  \n",
       "87488                  Not rated yet  569.00  \n",
       "\n",
       "[87489 rows x 8 columns]"
      ]
     },
     "execution_count": 4,
     "metadata": {},
     "output_type": "execute_result"
    }
   ],
   "source": [
    "# Remove Writtenby: from the author column\n",
    "audible['author'] = audible['author'].str.replace(\"Writtenby:\", \"\")\n",
    "# Remove Narratedby: from the narrator column\n",
    "audible['narrator'] = audible['narrator'].str.replace(\"Narratedby:\", \"\")\n",
    "# Check the results\n",
    "audible"
   ]
  },
  {
   "cell_type": "markdown",
   "id": "7a171579-a305-41b7-b060-c097e07f9c54",
   "metadata": {},
   "source": [
    "## Task 3: Extract number of stars and ratings from Stars column.\n",
    "\n",
    "The `stars` column combines the number of stars and the number of ratins. Let's turn this into numbers and split it into two columns: `rating_stars` and `n_ratings`.\n",
    "\n",
    "First we will use the `.sample()` method to get a glimpse at the type of entries in that column."
   ]
  },
  {
   "cell_type": "code",
   "execution_count": 5,
   "id": "d87f3a1c-b75d-4625-ace5-db1e8cf5a291",
   "metadata": {
    "executionCancelledAt": null,
    "executionTime": 55,
    "lastExecutedAt": 1707247710038,
    "lastScheduledRunId": null,
    "lastSuccessfullyExecutedCode": "# Get a glimpse of the stars column\naudible.stars.sample(n=10)",
    "outputsMetadata": {
     "0": {
      "columns": {
       "stars": {
        "wrap": false
       }
      },
      "height": 97,
      "type": "dataFrame"
     }
    }
   },
   "outputs": [
    {
     "data": {
      "text/plain": [
       "23909               Not rated yet\n",
       "47569               Not rated yet\n",
       "6069                Not rated yet\n",
       "61120    3 out of 5 stars1 rating\n",
       "9941                Not rated yet\n",
       "13882               Not rated yet\n",
       "58061               Not rated yet\n",
       "16142               Not rated yet\n",
       "34129               Not rated yet\n",
       "70838               Not rated yet\n",
       "Name: stars, dtype: object"
      ]
     },
     "execution_count": 5,
     "metadata": {},
     "output_type": "execute_result"
    }
   ],
   "source": [
    "# Get a glimpse of the stars column\n",
    "audible.stars.sample(n=10)"
   ]
  },
  {
   "cell_type": "markdown",
   "id": "74f20a83-61ef-492a-adcc-eb09d722b231",
   "metadata": {},
   "source": [
    "Since there are many instances of `Not rated yet`, let's filter them out and sample again:"
   ]
  },
  {
   "cell_type": "code",
   "execution_count": 6,
   "id": "096674e7-8bdb-4aee-9a0e-7f8464c9affd",
   "metadata": {
    "executionCancelledAt": null,
    "executionTime": 20,
    "lastExecutedAt": 1707247939279,
    "lastScheduledRunId": null,
    "lastSuccessfullyExecutedCode": "# Explore the values of the star column that are not 'Not rated yet'\naudible[audible[\"stars\"] != \"Not rated yet\"].stars.sample(n=10)",
    "outputsMetadata": {
     "0": {
      "height": 97,
      "type": "dataFrame"
     }
    }
   },
   "outputs": [
    {
     "data": {
      "text/plain": [
       "56555        5 out of 5 stars1 rating\n",
       "30287        5 out of 5 stars1 rating\n",
       "25018       5 out of 5 stars2 ratings\n",
       "27295    4.5 out of 5 stars15 ratings\n",
       "58727        5 out of 5 stars1 rating\n",
       "80102       5 out of 5 stars2 ratings\n",
       "65313     2.5 out of 5 stars2 ratings\n",
       "11820     3.5 out of 5 stars2 ratings\n",
       "53337     4.5 out of 5 stars6 ratings\n",
       "13107        5 out of 5 stars1 rating\n",
       "Name: stars, dtype: object"
      ]
     },
     "execution_count": 6,
     "metadata": {},
     "output_type": "execute_result"
    }
   ],
   "source": [
    "# Explore the values of the star column that are not 'Not rated yet'\n",
    "audible[audible[\"stars\"] != \"Not rated yet\"].stars.sample(n=10)"
   ]
  },
  {
   "cell_type": "code",
   "execution_count": 7,
   "id": "8fef8ed5-9328-4ac9-98da-d8ac9c2c3bfa",
   "metadata": {
    "executionCancelledAt": null,
    "executionTime": 44,
    "lastExecutedAt": 1707248096610,
    "lastScheduledRunId": null,
    "lastSuccessfullyExecutedCode": "audible[audible.stars.str.contains(\",\") == True].stars.sample(n=10)",
    "outputsMetadata": {
     "0": {
      "height": 337,
      "type": "dataFrame"
     }
    }
   },
   "outputs": [
    {
     "data": {
      "text/plain": [
       "62320    4.5 out of 5 stars1,838 ratings\n",
       "49825    4.5 out of 5 stars1,107 ratings\n",
       "35942     5 out of 5 stars12,569 ratings\n",
       "58570    4.5 out of 5 stars5,973 ratings\n",
       "41082      5 out of 5 stars5,500 ratings\n",
       "44477    4.5 out of 5 stars1,088 ratings\n",
       "27293    4.5 out of 5 stars1,807 ratings\n",
       "7551       5 out of 5 stars1,423 ratings\n",
       "62294    4.5 out of 5 stars4,184 ratings\n",
       "26754    4.5 out of 5 stars2,924 ratings\n",
       "Name: stars, dtype: object"
      ]
     },
     "execution_count": 7,
     "metadata": {},
     "output_type": "execute_result"
    }
   ],
   "source": [
    "audible[audible.stars.str.contains(\",\") == True].stars.sample(n=10)"
   ]
  },
  {
   "cell_type": "markdown",
   "id": "668b92e7-9a53-4f76-be13-e4721daebf56",
   "metadata": {},
   "source": [
    "As a first step, we can replace the instances of `Not rated yet` with `NaN`"
   ]
  },
  {
   "cell_type": "code",
   "execution_count": 8,
   "id": "b98dc637-16c5-4dba-857f-62e3fb290045",
   "metadata": {
    "executionCancelledAt": null,
    "executionTime": 48,
    "lastExecutedAt": 1707246814657,
    "lastScheduledRunId": null,
    "lastSuccessfullyExecutedCode": "# Replace 'Not rated yet' with NaN\naudible['stars'].replace(\"Not rated yet\", np.nan, inplace = True)"
   },
   "outputs": [],
   "source": [
    "# Replace 'Not rated yet' with NaN\n",
    "audible['stars'].replace(\"Not rated yet\", np.nan, inplace = True)"
   ]
  },
  {
   "cell_type": "markdown",
   "id": "86876dd4-20a8-41a4-b5ca-9dfbfcc1dec2",
   "metadata": {},
   "source": [
    "We can use `.str.extract()` to get the number of stars and the number of ratings into their own columns.\n",
    "\n",
    "### Instructions:\n",
    "* Extract the number of stars into the `rating_stars` column\n",
    "* Extract the number of ratings into the `n_ratings` column\n",
    "* Convert both new columns to float"
   ]
  },
  {
   "cell_type": "code",
   "execution_count": 9,
   "id": "80dfd44d-1ad1-443b-91c1-71092ce327b2",
   "metadata": {
    "executionCancelledAt": null,
    "executionTime": 238,
    "lastExecutedAt": 1707248225523,
    "lastScheduledRunId": null,
    "lastSuccessfullyExecutedCode": "# Extract number of stars into rating_stars and turn into float\naudible['rating_stars'] = audible['stars'].str.extract(r\"(^[\\d.]+)\").astype(\"float\")\n# Replace the comma, extract number of ratings into n_ratings and turn into float\naudible['n_ratings'] = audible['stars'].str.replace(\",\",'').str.extract(r\"s([\\d]+)\").astype(\"float\")\n# Examine the new rating_stars and n_ratings columns\naudible[['rating_stars', 'n_ratings']]",
    "outputsMetadata": {
     "0": {
      "height": 326,
      "type": "dataFrame"
     }
    }
   },
   "outputs": [
    {
     "data": {
      "text/html": [
       "<div>\n",
       "<style scoped>\n",
       "    .dataframe tbody tr th:only-of-type {\n",
       "        vertical-align: middle;\n",
       "    }\n",
       "\n",
       "    .dataframe tbody tr th {\n",
       "        vertical-align: top;\n",
       "    }\n",
       "\n",
       "    .dataframe thead th {\n",
       "        text-align: right;\n",
       "    }\n",
       "</style>\n",
       "<table border=\"1\" class=\"dataframe\">\n",
       "  <thead>\n",
       "    <tr style=\"text-align: right;\">\n",
       "      <th></th>\n",
       "      <th>rating_stars</th>\n",
       "      <th>n_ratings</th>\n",
       "    </tr>\n",
       "  </thead>\n",
       "  <tbody>\n",
       "    <tr>\n",
       "      <th>0</th>\n",
       "      <td>5.0</td>\n",
       "      <td>34.0</td>\n",
       "    </tr>\n",
       "    <tr>\n",
       "      <th>1</th>\n",
       "      <td>4.5</td>\n",
       "      <td>41.0</td>\n",
       "    </tr>\n",
       "    <tr>\n",
       "      <th>2</th>\n",
       "      <td>4.5</td>\n",
       "      <td>38.0</td>\n",
       "    </tr>\n",
       "    <tr>\n",
       "      <th>3</th>\n",
       "      <td>4.5</td>\n",
       "      <td>12.0</td>\n",
       "    </tr>\n",
       "    <tr>\n",
       "      <th>4</th>\n",
       "      <td>4.5</td>\n",
       "      <td>181.0</td>\n",
       "    </tr>\n",
       "    <tr>\n",
       "      <th>...</th>\n",
       "      <td>...</td>\n",
       "      <td>...</td>\n",
       "    </tr>\n",
       "    <tr>\n",
       "      <th>87484</th>\n",
       "      <td>NaN</td>\n",
       "      <td>NaN</td>\n",
       "    </tr>\n",
       "    <tr>\n",
       "      <th>87485</th>\n",
       "      <td>NaN</td>\n",
       "      <td>NaN</td>\n",
       "    </tr>\n",
       "    <tr>\n",
       "      <th>87486</th>\n",
       "      <td>NaN</td>\n",
       "      <td>NaN</td>\n",
       "    </tr>\n",
       "    <tr>\n",
       "      <th>87487</th>\n",
       "      <td>NaN</td>\n",
       "      <td>NaN</td>\n",
       "    </tr>\n",
       "    <tr>\n",
       "      <th>87488</th>\n",
       "      <td>NaN</td>\n",
       "      <td>NaN</td>\n",
       "    </tr>\n",
       "  </tbody>\n",
       "</table>\n",
       "<p>87489 rows × 2 columns</p>\n",
       "</div>"
      ],
      "text/plain": [
       "       rating_stars  n_ratings\n",
       "0               5.0       34.0\n",
       "1               4.5       41.0\n",
       "2               4.5       38.0\n",
       "3               4.5       12.0\n",
       "4               4.5      181.0\n",
       "...             ...        ...\n",
       "87484           NaN        NaN\n",
       "87485           NaN        NaN\n",
       "87486           NaN        NaN\n",
       "87487           NaN        NaN\n",
       "87488           NaN        NaN\n",
       "\n",
       "[87489 rows x 2 columns]"
      ]
     },
     "execution_count": 9,
     "metadata": {},
     "output_type": "execute_result"
    }
   ],
   "source": [
    "# Extract number of stars into rating_stars and turn into float\n",
    "audible['rating_stars'] = audible['stars'].str.extract(r\"(^[\\d.]+)\").astype(\"float\")\n",
    "# Replace the comma, extract number of ratings into n_ratings and turn into float\n",
    "audible['n_ratings'] = audible['stars'].str.replace(\",\",'').str.extract(r\"s([\\d]+)\").astype(\"float\")\n",
    "# Examine the new rating_stars and n_ratings columns\n",
    "audible[['rating_stars', 'n_ratings']]"
   ]
  },
  {
   "cell_type": "markdown",
   "id": "fb4a3883-44f0-44fb-bb6c-29f074bf73bb",
   "metadata": {},
   "source": [
    "As a last step, let's delete the `stars` column using the `.drop` command:"
   ]
  },
  {
   "cell_type": "code",
   "execution_count": 10,
   "id": "c55c7d51-dc39-44d9-85d3-f01c81ac55a1",
   "metadata": {
    "executionCancelledAt": null,
    "executionTime": null,
    "lastExecutedAt": null,
    "lastScheduledRunId": null,
    "lastSuccessfullyExecutedCode": null,
    "outputsMetadata": {
     "0": {
      "height": 343,
      "type": "dataFrame"
     }
    }
   },
   "outputs": [
    {
     "data": {
      "text/html": [
       "<div>\n",
       "<style scoped>\n",
       "    .dataframe tbody tr th:only-of-type {\n",
       "        vertical-align: middle;\n",
       "    }\n",
       "\n",
       "    .dataframe tbody tr th {\n",
       "        vertical-align: top;\n",
       "    }\n",
       "\n",
       "    .dataframe thead th {\n",
       "        text-align: right;\n",
       "    }\n",
       "</style>\n",
       "<table border=\"1\" class=\"dataframe\">\n",
       "  <thead>\n",
       "    <tr style=\"text-align: right;\">\n",
       "      <th></th>\n",
       "      <th>name</th>\n",
       "      <th>author</th>\n",
       "      <th>narrator</th>\n",
       "      <th>time</th>\n",
       "      <th>releasedate</th>\n",
       "      <th>language</th>\n",
       "      <th>price</th>\n",
       "      <th>rating_stars</th>\n",
       "      <th>n_ratings</th>\n",
       "    </tr>\n",
       "  </thead>\n",
       "  <tbody>\n",
       "    <tr>\n",
       "      <th>0</th>\n",
       "      <td>Geronimo Stilton #11 &amp; #12</td>\n",
       "      <td>GeronimoStilton</td>\n",
       "      <td>BillLobely</td>\n",
       "      <td>2 hrs and 20 mins</td>\n",
       "      <td>04-08-08</td>\n",
       "      <td>English</td>\n",
       "      <td>468.00</td>\n",
       "      <td>5.0</td>\n",
       "      <td>34.0</td>\n",
       "    </tr>\n",
       "    <tr>\n",
       "      <th>1</th>\n",
       "      <td>The Burning Maze</td>\n",
       "      <td>RickRiordan</td>\n",
       "      <td>RobbieDaymond</td>\n",
       "      <td>13 hrs and 8 mins</td>\n",
       "      <td>01-05-18</td>\n",
       "      <td>English</td>\n",
       "      <td>820.00</td>\n",
       "      <td>4.5</td>\n",
       "      <td>41.0</td>\n",
       "    </tr>\n",
       "    <tr>\n",
       "      <th>2</th>\n",
       "      <td>The Deep End</td>\n",
       "      <td>JeffKinney</td>\n",
       "      <td>DanRussell</td>\n",
       "      <td>2 hrs and 3 mins</td>\n",
       "      <td>06-11-20</td>\n",
       "      <td>English</td>\n",
       "      <td>410.00</td>\n",
       "      <td>4.5</td>\n",
       "      <td>38.0</td>\n",
       "    </tr>\n",
       "    <tr>\n",
       "      <th>3</th>\n",
       "      <td>Daughter of the Deep</td>\n",
       "      <td>RickRiordan</td>\n",
       "      <td>SoneelaNankani</td>\n",
       "      <td>11 hrs and 16 mins</td>\n",
       "      <td>05-10-21</td>\n",
       "      <td>English</td>\n",
       "      <td>615.00</td>\n",
       "      <td>4.5</td>\n",
       "      <td>12.0</td>\n",
       "    </tr>\n",
       "    <tr>\n",
       "      <th>4</th>\n",
       "      <td>The Lightning Thief: Percy Jackson, Book 1</td>\n",
       "      <td>RickRiordan</td>\n",
       "      <td>JesseBernstein</td>\n",
       "      <td>10 hrs</td>\n",
       "      <td>13-01-10</td>\n",
       "      <td>English</td>\n",
       "      <td>820.00</td>\n",
       "      <td>4.5</td>\n",
       "      <td>181.0</td>\n",
       "    </tr>\n",
       "    <tr>\n",
       "      <th>...</th>\n",
       "      <td>...</td>\n",
       "      <td>...</td>\n",
       "      <td>...</td>\n",
       "      <td>...</td>\n",
       "      <td>...</td>\n",
       "      <td>...</td>\n",
       "      <td>...</td>\n",
       "      <td>...</td>\n",
       "      <td>...</td>\n",
       "    </tr>\n",
       "    <tr>\n",
       "      <th>87484</th>\n",
       "      <td>Last Days of the Bus Club</td>\n",
       "      <td>ChrisStewart</td>\n",
       "      <td>ChrisStewart</td>\n",
       "      <td>7 hrs and 34 mins</td>\n",
       "      <td>09-03-17</td>\n",
       "      <td>English</td>\n",
       "      <td>596.00</td>\n",
       "      <td>NaN</td>\n",
       "      <td>NaN</td>\n",
       "    </tr>\n",
       "    <tr>\n",
       "      <th>87485</th>\n",
       "      <td>The Alps</td>\n",
       "      <td>StephenO'Shea</td>\n",
       "      <td>RobertFass</td>\n",
       "      <td>10 hrs and 7 mins</td>\n",
       "      <td>21-02-17</td>\n",
       "      <td>English</td>\n",
       "      <td>820.00</td>\n",
       "      <td>NaN</td>\n",
       "      <td>NaN</td>\n",
       "    </tr>\n",
       "    <tr>\n",
       "      <th>87486</th>\n",
       "      <td>The Innocents Abroad</td>\n",
       "      <td>MarkTwain</td>\n",
       "      <td>FloGibson</td>\n",
       "      <td>19 hrs and 4 mins</td>\n",
       "      <td>30-12-16</td>\n",
       "      <td>English</td>\n",
       "      <td>938.00</td>\n",
       "      <td>NaN</td>\n",
       "      <td>NaN</td>\n",
       "    </tr>\n",
       "    <tr>\n",
       "      <th>87487</th>\n",
       "      <td>A Sentimental Journey</td>\n",
       "      <td>LaurenceSterne</td>\n",
       "      <td>AntonLesser</td>\n",
       "      <td>4 hrs and 8 mins</td>\n",
       "      <td>23-02-11</td>\n",
       "      <td>English</td>\n",
       "      <td>680.00</td>\n",
       "      <td>NaN</td>\n",
       "      <td>NaN</td>\n",
       "    </tr>\n",
       "    <tr>\n",
       "      <th>87488</th>\n",
       "      <td>Havana</td>\n",
       "      <td>MarkKurlansky</td>\n",
       "      <td>FleetCooper</td>\n",
       "      <td>6 hrs and 1 min</td>\n",
       "      <td>07-03-17</td>\n",
       "      <td>English</td>\n",
       "      <td>569.00</td>\n",
       "      <td>NaN</td>\n",
       "      <td>NaN</td>\n",
       "    </tr>\n",
       "  </tbody>\n",
       "</table>\n",
       "<p>87489 rows × 9 columns</p>\n",
       "</div>"
      ],
      "text/plain": [
       "                                             name           author  \\\n",
       "0                      Geronimo Stilton #11 & #12  GeronimoStilton   \n",
       "1                                The Burning Maze      RickRiordan   \n",
       "2                                    The Deep End       JeffKinney   \n",
       "3                            Daughter of the Deep      RickRiordan   \n",
       "4      The Lightning Thief: Percy Jackson, Book 1      RickRiordan   \n",
       "...                                           ...              ...   \n",
       "87484                   Last Days of the Bus Club     ChrisStewart   \n",
       "87485                                    The Alps    StephenO'Shea   \n",
       "87486                        The Innocents Abroad        MarkTwain   \n",
       "87487                       A Sentimental Journey   LaurenceSterne   \n",
       "87488                                      Havana    MarkKurlansky   \n",
       "\n",
       "             narrator                time releasedate language   price  \\\n",
       "0          BillLobely   2 hrs and 20 mins    04-08-08  English  468.00   \n",
       "1       RobbieDaymond   13 hrs and 8 mins    01-05-18  English  820.00   \n",
       "2          DanRussell    2 hrs and 3 mins    06-11-20  English  410.00   \n",
       "3      SoneelaNankani  11 hrs and 16 mins    05-10-21  English  615.00   \n",
       "4      JesseBernstein              10 hrs    13-01-10  English  820.00   \n",
       "...               ...                 ...         ...      ...     ...   \n",
       "87484    ChrisStewart   7 hrs and 34 mins    09-03-17  English  596.00   \n",
       "87485      RobertFass   10 hrs and 7 mins    21-02-17  English  820.00   \n",
       "87486       FloGibson   19 hrs and 4 mins    30-12-16  English  938.00   \n",
       "87487     AntonLesser    4 hrs and 8 mins    23-02-11  English  680.00   \n",
       "87488     FleetCooper     6 hrs and 1 min    07-03-17  English  569.00   \n",
       "\n",
       "       rating_stars  n_ratings  \n",
       "0               5.0       34.0  \n",
       "1               4.5       41.0  \n",
       "2               4.5       38.0  \n",
       "3               4.5       12.0  \n",
       "4               4.5      181.0  \n",
       "...             ...        ...  \n",
       "87484           NaN        NaN  \n",
       "87485           NaN        NaN  \n",
       "87486           NaN        NaN  \n",
       "87487           NaN        NaN  \n",
       "87488           NaN        NaN  \n",
       "\n",
       "[87489 rows x 9 columns]"
      ]
     },
     "execution_count": 10,
     "metadata": {},
     "output_type": "execute_result"
    }
   ],
   "source": [
    "# Drop the stars column\n",
    "audible.drop('stars', axis=1, inplace=True)\n",
    "# Check the results\n",
    "audible"
   ]
  },
  {
   "cell_type": "markdown",
   "id": "4ce12839-cd89-4ca3-8797-1c69f5b63f89",
   "metadata": {},
   "source": [
    "## Task 4: Change data types\n",
    "\n",
    "Another important step is to have our data in the correct data types\n",
    "\n",
    "### Instructions:\n",
    "* Set `price` to float\n",
    "* Turn `rating_stars` to category\n",
    "* Convert `releasedate` to datetime"
   ]
  },
  {
   "cell_type": "code",
   "execution_count": 11,
   "id": "da9ccac2-9a44-4976-88fd-563dce45d5ae",
   "metadata": {
    "executionCancelledAt": null,
    "executionTime": 20,
    "lastExecutedAt": 1707248668027,
    "lastScheduledRunId": null,
    "lastSuccessfullyExecutedCode": "# Explore the price column\naudible.price.sample(n=10)"
   },
   "outputs": [
    {
     "data": {
      "text/plain": [
       "26048    468.00\n",
       "25622    300.00\n",
       "58083    574.00\n",
       "62901    537.00\n",
       "59179      Free\n",
       "66033    585.00\n",
       "38459    836.00\n",
       "30646    949.00\n",
       "26021    645.00\n",
       "30260    735.00\n",
       "Name: price, dtype: object"
      ]
     },
     "execution_count": 11,
     "metadata": {},
     "output_type": "execute_result"
    }
   ],
   "source": [
    "# Explore the price column\n",
    "audible.price.sample(n=10)"
   ]
  },
  {
   "cell_type": "code",
   "execution_count": 12,
   "id": "754d4374-f91e-4e98-b620-577350f1e252",
   "metadata": {
    "executionCancelledAt": null,
    "executionTime": 40,
    "lastExecutedAt": 1707248728849,
    "lastScheduledRunId": null,
    "lastSuccessfullyExecutedCode": "audible.price.str.contains(\"Free\").value_counts()"
   },
   "outputs": [
    {
     "data": {
      "text/plain": [
       "False    87151\n",
       "True       338\n",
       "Name: price, dtype: int64"
      ]
     },
     "execution_count": 12,
     "metadata": {},
     "output_type": "execute_result"
    }
   ],
   "source": [
    "audible.price.str.contains(\"Free\").value_counts()"
   ]
  },
  {
   "cell_type": "markdown",
   "id": "f84e4272-52c9-4f9d-974c-335c46c282bd",
   "metadata": {},
   "source": [
    "We need to get rid of the comma and the word 'Free' before we can convert the data."
   ]
  },
  {
   "cell_type": "code",
   "execution_count": 13,
   "id": "76e75c2f-818f-4ae0-88c6-de8fb65b2052",
   "metadata": {
    "executionCancelledAt": null,
    "executionTime": 111,
    "lastExecutedAt": 1707248935994,
    "lastScheduledRunId": null,
    "lastSuccessfullyExecutedCode": "# Replace the comma with ''\naudible.price = audible.price.str.replace(',', '')\n# Replace 'Free' with 0\naudible.price = audible.price.str.replace('Free', '0')\n# Turn price to float\naudible.price = audible.price.astype(\"float\")\n\naudible.price.sample(n=10)"
   },
   "outputs": [
    {
     "data": {
      "text/plain": [
       "79611     139.0\n",
       "81348     569.0\n",
       "13052     305.0\n",
       "38960     836.0\n",
       "44301    1055.0\n",
       "40559     703.0\n",
       "58527     668.0\n",
       "81490     668.0\n",
       "47522     562.0\n",
       "5043      190.0\n",
       "Name: price, dtype: float64"
      ]
     },
     "execution_count": 13,
     "metadata": {},
     "output_type": "execute_result"
    }
   ],
   "source": [
    "# Replace the comma with ''\n",
    "audible.price = audible.price.str.replace(',', '')\n",
    "# Replace 'Free' with 0\n",
    "audible.price = audible.price.str.replace('Free', '0')\n",
    "# Turn price to float\n",
    "audible.price = audible.price.astype(\"float\")\n",
    "\n",
    "audible.price.sample(n=10)"
   ]
  },
  {
   "cell_type": "markdown",
   "id": "6500fe18-8bf9-4a9a-9733-420afe328180",
   "metadata": {},
   "source": [
    "* Turn `rating_stars` to category\n",
    "\n",
    "Since `stars` can only take a small number of discrete values, the best data type for the column is `category`.\n",
    "\n",
    "Let's first look at the unique values in that column to confirm:"
   ]
  },
  {
   "cell_type": "code",
   "execution_count": 14,
   "id": "0c147230-c83f-46b8-a01b-f67b1a79157c",
   "metadata": {
    "executionCancelledAt": null,
    "executionTime": 21,
    "lastExecutedAt": 1707249054320,
    "lastScheduledRunId": null,
    "lastSuccessfullyExecutedCode": "# Look at the unique values in the rating_stars column\naudible.rating_stars.unique()"
   },
   "outputs": [
    {
     "data": {
      "text/plain": [
       "array([5. , 4.5, 4. , nan, 3.5, 3. , 1. , 2. , 2.5, 1.5])"
      ]
     },
     "execution_count": 14,
     "metadata": {},
     "output_type": "execute_result"
    }
   ],
   "source": [
    "# Look at the unique values in the rating_stars column\n",
    "audible.rating_stars.unique()"
   ]
  },
  {
   "cell_type": "markdown",
   "id": "d00d6894-506b-45b7-8fbc-c3c158d37b98",
   "metadata": {},
   "source": [
    "We can now use `.astype` to change the data type."
   ]
  },
  {
   "cell_type": "code",
   "execution_count": 15,
   "id": "9802dca4-e90a-48d6-a450-bb59c9f22f64",
   "metadata": {
    "executionCancelledAt": null,
    "executionTime": 14,
    "lastExecutedAt": 1707249152004,
    "lastScheduledRunId": null,
    "lastSuccessfullyExecutedCode": "# Turn rating_stars to category\naudible['rating_stars'] = audible['rating_stars'].astype(\"category\")\naudible['rating_stars'].info"
   },
   "outputs": [
    {
     "name": "stderr",
     "output_type": "stream",
     "text": [
      "C:\\ProgramData\\Anaconda3\\lib\\site-packages\\IPython\\lib\\pretty.py:700: FutureWarning: Index.ravel returning ndarray is deprecated; in a future version this will return a view on self.\n",
      "  output = repr(obj)\n"
     ]
    },
    {
     "data": {
      "text/plain": [
       "<bound method Series.info of 0        5.0\n",
       "1        4.5\n",
       "2        4.5\n",
       "3        4.5\n",
       "4        4.5\n",
       "        ... \n",
       "87484    NaN\n",
       "87485    NaN\n",
       "87486    NaN\n",
       "87487    NaN\n",
       "87488    NaN\n",
       "Name: rating_stars, Length: 87489, dtype: category\n",
       "Categories (9, float64): [1.0, 1.5, 2.0, 2.5, ..., 3.5, 4.0, 4.5, 5.0]>"
      ]
     },
     "execution_count": 15,
     "metadata": {},
     "output_type": "execute_result"
    }
   ],
   "source": [
    "# Turn rating_stars to category\n",
    "audible['rating_stars'] = audible['rating_stars'].astype(\"category\")\n",
    "audible['rating_stars'].info"
   ]
  },
  {
   "cell_type": "markdown",
   "id": "4020a811-4a1e-4e4b-aee6-96db2cd89ac5",
   "metadata": {},
   "source": [
    "* Convert `releasedate` date to datetime\n",
    "\n",
    "Here we will use the `to_datetime()` function to turn the dates into datetime objects:"
   ]
  },
  {
   "cell_type": "code",
   "execution_count": 16,
   "id": "89b25e98-de84-4bb8-b650-676a81a4682c",
   "metadata": {
    "executionCancelledAt": null,
    "executionTime": 470,
    "lastExecutedAt": 1707249248090,
    "lastScheduledRunId": null,
    "lastSuccessfullyExecutedCode": "# Convert releasedate to datetime\naudible.releasedate = pd.to_datetime(audible.releasedate)\n# Inspect the dataframe \naudible.info()",
    "outputsMetadata": {
     "0": {
      "height": 337,
      "type": "stream"
     }
    }
   },
   "outputs": [
    {
     "name": "stdout",
     "output_type": "stream",
     "text": [
      "<class 'pandas.core.frame.DataFrame'>\n",
      "RangeIndex: 87489 entries, 0 to 87488\n",
      "Data columns (total 9 columns):\n",
      " #   Column        Non-Null Count  Dtype         \n",
      "---  ------        --------------  -----         \n",
      " 0   name          87489 non-null  object        \n",
      " 1   author        87489 non-null  object        \n",
      " 2   narrator      87489 non-null  object        \n",
      " 3   time          87489 non-null  object        \n",
      " 4   releasedate   87489 non-null  datetime64[ns]\n",
      " 5   language      87489 non-null  object        \n",
      " 6   price         87489 non-null  float64       \n",
      " 7   rating_stars  15072 non-null  category      \n",
      " 8   n_ratings     15072 non-null  float64       \n",
      "dtypes: category(1), datetime64[ns](1), float64(2), object(5)\n",
      "memory usage: 5.4+ MB\n"
     ]
    }
   ],
   "source": [
    "# Convert releasedate to datetime\n",
    "audible.releasedate = pd.to_datetime(audible.releasedate)\n",
    "# Inspect the dataframe \n",
    "audible.info()"
   ]
  },
  {
   "cell_type": "markdown",
   "id": "a59566a9-7aaa-456e-a356-b063ac339d89",
   "metadata": {},
   "source": [
    "## Task 5: Extract hours and minutes from the `time` column\n",
    "\n",
    "The `time` column combines the number of hours and minutes into one column. We want to transform and consolidate the information into a new `time_minutes` column."
   ]
  },
  {
   "cell_type": "code",
   "execution_count": 17,
   "id": "120dc06a-96fb-45aa-8e3b-eb079da54a3a",
   "metadata": {
    "executionCancelledAt": null,
    "executionTime": 25,
    "lastExecutedAt": 1707251724568,
    "lastScheduledRunId": null,
    "lastSuccessfullyExecutedCode": "# Explore the values in the time column\naudible.time.sample(n=10)"
   },
   "outputs": [
    {
     "data": {
      "text/plain": [
       "60366    11 hrs and 23 mins\n",
       "32163     5 hrs and 21 mins\n",
       "44433    16 hrs and 10 mins\n",
       "55575    19 hrs and 38 mins\n",
       "28272     3 hrs and 23 mins\n",
       "46372     7 hrs and 54 mins\n",
       "2151                45 mins\n",
       "59143     16 hrs and 3 mins\n",
       "66832     4 hrs and 23 mins\n",
       "46479      8 hrs and 8 mins\n",
       "Name: time, dtype: object"
      ]
     },
     "execution_count": 17,
     "metadata": {},
     "output_type": "execute_result"
    }
   ],
   "source": [
    "# Explore the values in the time column\n",
    "audible.time.sample(n=10)"
   ]
  },
  {
   "cell_type": "markdown",
   "id": "9e345ee7-94dd-4389-8799-2248782c5112",
   "metadata": {},
   "source": [
    "Let's see what other ways they have encoded `min` or `minutes`:"
   ]
  },
  {
   "cell_type": "code",
   "execution_count": 18,
   "id": "cb2df360-60a2-4c31-93e5-2bb322decbf6",
   "metadata": {
    "executionCancelledAt": null,
    "executionTime": 45,
    "lastExecutedAt": 1707251858035,
    "lastScheduledRunId": null,
    "lastSuccessfullyExecutedCode": "# Search the entries in the time column for different spellings of min. Let' try min, mins, minutes\naudible.time[audible.time.str.contains('mins')].sample(n=10)"
   },
   "outputs": [
    {
     "name": "stdout",
     "output_type": "stream",
     "text": [
      "84436\n"
     ]
    },
    {
     "data": {
      "text/plain": [
       "27456    12 hrs and 17 mins\n",
       "49227     2 hrs and 28 mins\n",
       "1469                 3 mins\n",
       "82048     10 hrs and 3 mins\n",
       "31520     2 hrs and 57 mins\n",
       "Name: time, dtype: object"
      ]
     },
     "execution_count": 18,
     "metadata": {},
     "output_type": "execute_result"
    }
   ],
   "source": [
    "# Search the entries in the time column for different spellings of min. Let' try min, mins, minutes\n",
    "print(audible.time[audible.time.str.contains('mins')].count())\n",
    "audible.time[audible.time.str.contains('mins')].sample(n=5)"
   ]
  },
  {
   "cell_type": "code",
   "execution_count": 19,
   "id": "ac0bdfda",
   "metadata": {},
   "outputs": [
    {
     "name": "stdout",
     "output_type": "stream",
     "text": [
      "1710\n"
     ]
    },
    {
     "data": {
      "text/plain": [
       "75781    9 hrs and 51 mins\n",
       "57613    8 hrs and 41 mins\n",
       "62171    6 hrs and 54 mins\n",
       "2009                2 mins\n",
       "4447               52 mins\n",
       "Name: time, dtype: object"
      ]
     },
     "execution_count": 19,
     "metadata": {},
     "output_type": "execute_result"
    }
   ],
   "source": [
    "# Search the entries in the time column for different spellings of min. Let' try min, mins, minutes\n",
    "print(audible.time[audible.time.str.contains('min')].count() - audible.time[audible.time.str.contains('mins')].count())\n",
    "audible.time[audible.time.str.contains('min')].sample(n=5)"
   ]
  },
  {
   "cell_type": "code",
   "execution_count": 20,
   "id": "fae8484b",
   "metadata": {},
   "outputs": [
    {
     "name": "stdout",
     "output_type": "stream",
     "text": [
      "61\n"
     ]
    },
    {
     "data": {
      "text/plain": [
       "6243     Less than 1 minute\n",
       "24070    Less than 1 minute\n",
       "87159    Less than 1 minute\n",
       "1401     Less than 1 minute\n",
       "10895    Less than 1 minute\n",
       "Name: time, dtype: object"
      ]
     },
     "execution_count": 20,
     "metadata": {},
     "output_type": "execute_result"
    }
   ],
   "source": [
    "# Search the entries in the time column for different spellings of min. Let' try min, mins, minutes\n",
    "print(audible.time[audible.time.str.contains('minute')].count())\n",
    "audible.time[audible.time.str.contains('minute')].sample(n=5)"
   ]
  },
  {
   "cell_type": "code",
   "execution_count": 21,
   "id": "f687195d",
   "metadata": {},
   "outputs": [
    {
     "name": "stdout",
     "output_type": "stream",
     "text": [
      "67356\n"
     ]
    },
    {
     "data": {
      "text/plain": [
       "73639     4 hrs and 51 mins\n",
       "68150      2 hrs and 8 mins\n",
       "24568    15 hrs and 42 mins\n",
       "54938     5 hrs and 30 mins\n",
       "57160     7 hrs and 49 mins\n",
       "Name: time, dtype: object"
      ]
     },
     "execution_count": 21,
     "metadata": {},
     "output_type": "execute_result"
    }
   ],
   "source": [
    "# Search the entries in the time column for different spellings of min. Let' try min, mins, minutes\n",
    "print(audible.time[audible.time.str.contains('hrs')].count())\n",
    "audible.time[audible.time.str.contains('hrs')].sample(n=5)"
   ]
  },
  {
   "cell_type": "code",
   "execution_count": 22,
   "id": "57ef7770",
   "metadata": {},
   "outputs": [
    {
     "name": "stdout",
     "output_type": "stream",
     "text": [
      "6727\n"
     ]
    },
    {
     "data": {
      "text/plain": [
       "21891     6 hrs and 56 mins\n",
       "70057    13 hrs and 43 mins\n",
       "84361     4 hrs and 29 mins\n",
       "22435     8 hrs and 22 mins\n",
       "46270     6 hrs and 23 mins\n",
       "Name: time, dtype: object"
      ]
     },
     "execution_count": 22,
     "metadata": {},
     "output_type": "execute_result"
    }
   ],
   "source": [
    "# Search the entries in the time column for different spellings of min. Let' try min, mins, minutes\n",
    "print(audible.time[audible.time.str.contains('hr')].count() - audible.time[audible.time.str.contains('hrs')].count())\n",
    "audible.time[audible.time.str.contains('hr')].sample(n=5)"
   ]
  },
  {
   "cell_type": "markdown",
   "id": "d2bc14b0-253c-4f26-91ee-37ab37e8e8b2",
   "metadata": {},
   "source": [
    "We can see that we need to fix the following:\n",
    "* hr, hrs -> consolidate as `hr`\n",
    "* min, mins -> consolidate as `min`\n",
    "* Less than 1 minute -> round to 1 min"
   ]
  },
  {
   "cell_type": "code",
   "execution_count": 23,
   "id": "6f0817a3-4953-430e-98d1-2a743643c280",
   "metadata": {
    "executionCancelledAt": null,
    "executionTime": 9,
    "lastExecutedAt": 1703636808097,
    "lastScheduledRunId": null,
    "lastSuccessfullyExecutedCode": "# Replace hrs, mins, and 'Less than 1 minute'\n\n\n"
   },
   "outputs": [],
   "source": [
    "# Replace hrs, mins, and 'Less than 1 minute'\n",
    "audible.time = audible.time.str.replace('hrs', 'hr')\n",
    "audible.time = audible.time.str.replace('mins', 'min')\n",
    "audible.time = audible.time.str.replace('Less than 1 minute', '1 min')"
   ]
  },
  {
   "cell_type": "markdown",
   "id": "0fbd3f46-a515-45de-a11d-95924ca328d2",
   "metadata": {},
   "source": [
    "Let's see how it looks now:"
   ]
  },
  {
   "cell_type": "code",
   "execution_count": 24,
   "id": "3bd64428-7256-44c6-b725-86cd38e86e63",
   "metadata": {
    "executionCancelledAt": null,
    "executionTime": 12,
    "lastExecutedAt": 1703636816314,
    "lastScheduledRunId": null,
    "lastSuccessfullyExecutedCode": "# Check the results\n",
    "outputsMetadata": {
     "0": {
      "height": 323,
      "type": "dataFrame"
     }
    }
   },
   "outputs": [
    {
     "data": {
      "text/plain": [
       "61621      7 hr and 9 min\n",
       "75038    10 hr and 46 min\n",
       "43839     8 hr and 30 min\n",
       "27312     1 hr and 27 min\n",
       "19967              18 min\n",
       "65195     8 hr and 40 min\n",
       "40204    11 hr and 53 min\n",
       "74778     6 hr and 29 min\n",
       "76696     8 hr and 10 min\n",
       "19264    11 hr and 58 min\n",
       "Name: time, dtype: object"
      ]
     },
     "execution_count": 24,
     "metadata": {},
     "output_type": "execute_result"
    }
   ],
   "source": [
    "# Check the results\n",
    "audible.time.sample(n=10)"
   ]
  },
  {
   "cell_type": "markdown",
   "id": "032528c9-c3cf-45a9-aa09-d3cda2d5f73f",
   "metadata": {},
   "source": [
    "The next step is to extract the number of hours and minutes from the text, then combine in a new `time_mins` column.\n",
    "\n",
    "### Instructions: \n",
    "* Extract the number of hours from `time`. Assign to the `hours` variable.\n",
    "* Extract the number of minutes from `time`. Assign to the `mins` variable.\n",
    "* Create the `time_mins` column combining hours and minutes."
   ]
  },
  {
   "cell_type": "code",
   "execution_count": 25,
   "id": "90a64510",
   "metadata": {},
   "outputs": [
    {
     "data": {
      "text/html": [
       "<div>\n",
       "<style scoped>\n",
       "    .dataframe tbody tr th:only-of-type {\n",
       "        vertical-align: middle;\n",
       "    }\n",
       "\n",
       "    .dataframe tbody tr th {\n",
       "        vertical-align: top;\n",
       "    }\n",
       "\n",
       "    .dataframe thead th {\n",
       "        text-align: right;\n",
       "    }\n",
       "</style>\n",
       "<table border=\"1\" class=\"dataframe\">\n",
       "  <thead>\n",
       "    <tr style=\"text-align: right;\">\n",
       "      <th></th>\n",
       "      <th>name</th>\n",
       "      <th>author</th>\n",
       "      <th>narrator</th>\n",
       "      <th>time</th>\n",
       "      <th>releasedate</th>\n",
       "      <th>language</th>\n",
       "      <th>price</th>\n",
       "      <th>rating_stars</th>\n",
       "      <th>n_ratings</th>\n",
       "    </tr>\n",
       "  </thead>\n",
       "  <tbody>\n",
       "    <tr>\n",
       "      <th>0</th>\n",
       "      <td>Geronimo Stilton #11 &amp; #12</td>\n",
       "      <td>GeronimoStilton</td>\n",
       "      <td>BillLobely</td>\n",
       "      <td>2 hr and 20 min</td>\n",
       "      <td>2008-04-08</td>\n",
       "      <td>English</td>\n",
       "      <td>468.0</td>\n",
       "      <td>5.0</td>\n",
       "      <td>34.0</td>\n",
       "    </tr>\n",
       "    <tr>\n",
       "      <th>1</th>\n",
       "      <td>The Burning Maze</td>\n",
       "      <td>RickRiordan</td>\n",
       "      <td>RobbieDaymond</td>\n",
       "      <td>13 hr and 8 min</td>\n",
       "      <td>2018-01-05</td>\n",
       "      <td>English</td>\n",
       "      <td>820.0</td>\n",
       "      <td>4.5</td>\n",
       "      <td>41.0</td>\n",
       "    </tr>\n",
       "    <tr>\n",
       "      <th>2</th>\n",
       "      <td>The Deep End</td>\n",
       "      <td>JeffKinney</td>\n",
       "      <td>DanRussell</td>\n",
       "      <td>2 hr and 3 min</td>\n",
       "      <td>2020-06-11</td>\n",
       "      <td>English</td>\n",
       "      <td>410.0</td>\n",
       "      <td>4.5</td>\n",
       "      <td>38.0</td>\n",
       "    </tr>\n",
       "    <tr>\n",
       "      <th>3</th>\n",
       "      <td>Daughter of the Deep</td>\n",
       "      <td>RickRiordan</td>\n",
       "      <td>SoneelaNankani</td>\n",
       "      <td>11 hr and 16 min</td>\n",
       "      <td>2021-05-10</td>\n",
       "      <td>English</td>\n",
       "      <td>615.0</td>\n",
       "      <td>4.5</td>\n",
       "      <td>12.0</td>\n",
       "    </tr>\n",
       "    <tr>\n",
       "      <th>4</th>\n",
       "      <td>The Lightning Thief: Percy Jackson, Book 1</td>\n",
       "      <td>RickRiordan</td>\n",
       "      <td>JesseBernstein</td>\n",
       "      <td>10 hr</td>\n",
       "      <td>2010-01-13</td>\n",
       "      <td>English</td>\n",
       "      <td>820.0</td>\n",
       "      <td>4.5</td>\n",
       "      <td>181.0</td>\n",
       "    </tr>\n",
       "  </tbody>\n",
       "</table>\n",
       "</div>"
      ],
      "text/plain": [
       "                                         name           author  \\\n",
       "0                  Geronimo Stilton #11 & #12  GeronimoStilton   \n",
       "1                            The Burning Maze      RickRiordan   \n",
       "2                                The Deep End       JeffKinney   \n",
       "3                        Daughter of the Deep      RickRiordan   \n",
       "4  The Lightning Thief: Percy Jackson, Book 1      RickRiordan   \n",
       "\n",
       "         narrator              time releasedate language  price rating_stars  \\\n",
       "0      BillLobely   2 hr and 20 min  2008-04-08  English  468.0          5.0   \n",
       "1   RobbieDaymond   13 hr and 8 min  2018-01-05  English  820.0          4.5   \n",
       "2      DanRussell    2 hr and 3 min  2020-06-11  English  410.0          4.5   \n",
       "3  SoneelaNankani  11 hr and 16 min  2021-05-10  English  615.0          4.5   \n",
       "4  JesseBernstein             10 hr  2010-01-13  English  820.0          4.5   \n",
       "\n",
       "   n_ratings  \n",
       "0       34.0  \n",
       "1       41.0  \n",
       "2       38.0  \n",
       "3       12.0  \n",
       "4      181.0  "
      ]
     },
     "execution_count": 25,
     "metadata": {},
     "output_type": "execute_result"
    }
   ],
   "source": [
    "audible.head()"
   ]
  },
  {
   "cell_type": "code",
   "execution_count": 26,
   "id": "b5574c68",
   "metadata": {},
   "outputs": [
    {
     "data": {
      "text/html": [
       "<div>\n",
       "<style scoped>\n",
       "    .dataframe tbody tr th:only-of-type {\n",
       "        vertical-align: middle;\n",
       "    }\n",
       "\n",
       "    .dataframe tbody tr th {\n",
       "        vertical-align: top;\n",
       "    }\n",
       "\n",
       "    .dataframe thead th {\n",
       "        text-align: right;\n",
       "    }\n",
       "</style>\n",
       "<table border=\"1\" class=\"dataframe\">\n",
       "  <thead>\n",
       "    <tr style=\"text-align: right;\">\n",
       "      <th></th>\n",
       "      <th>0</th>\n",
       "    </tr>\n",
       "  </thead>\n",
       "  <tbody>\n",
       "    <tr>\n",
       "      <th>0</th>\n",
       "      <td>20</td>\n",
       "    </tr>\n",
       "    <tr>\n",
       "      <th>1</th>\n",
       "      <td>8</td>\n",
       "    </tr>\n",
       "    <tr>\n",
       "      <th>2</th>\n",
       "      <td>3</td>\n",
       "    </tr>\n",
       "    <tr>\n",
       "      <th>3</th>\n",
       "      <td>16</td>\n",
       "    </tr>\n",
       "    <tr>\n",
       "      <th>4</th>\n",
       "      <td>NaN</td>\n",
       "    </tr>\n",
       "    <tr>\n",
       "      <th>...</th>\n",
       "      <td>...</td>\n",
       "    </tr>\n",
       "    <tr>\n",
       "      <th>87484</th>\n",
       "      <td>34</td>\n",
       "    </tr>\n",
       "    <tr>\n",
       "      <th>87485</th>\n",
       "      <td>7</td>\n",
       "    </tr>\n",
       "    <tr>\n",
       "      <th>87486</th>\n",
       "      <td>4</td>\n",
       "    </tr>\n",
       "    <tr>\n",
       "      <th>87487</th>\n",
       "      <td>8</td>\n",
       "    </tr>\n",
       "    <tr>\n",
       "      <th>87488</th>\n",
       "      <td>1</td>\n",
       "    </tr>\n",
       "  </tbody>\n",
       "</table>\n",
       "<p>87489 rows × 1 columns</p>\n",
       "</div>"
      ],
      "text/plain": [
       "         0\n",
       "0       20\n",
       "1        8\n",
       "2        3\n",
       "3       16\n",
       "4      NaN\n",
       "...    ...\n",
       "87484   34\n",
       "87485    7\n",
       "87486    4\n",
       "87487    8\n",
       "87488    1\n",
       "\n",
       "[87489 rows x 1 columns]"
      ]
     },
     "execution_count": 26,
     "metadata": {},
     "output_type": "execute_result"
    }
   ],
   "source": [
    "audible.time.str.extract(r\"(\\d+) min\")"
   ]
  },
  {
   "cell_type": "code",
   "execution_count": 27,
   "id": "8cf70611-a69a-4111-9c41-74de4fbf5863",
   "metadata": {
    "executionCancelledAt": null,
    "executionTime": 10,
    "lastExecutedAt": 1703636827854,
    "lastScheduledRunId": null,
    "lastSuccessfullyExecutedCode": "# Extract the number of hours, turn to integer\n\n# Extract the number of minutes, turn to integer\n\n# Combine hours and minutes into the time_mins column\n\n# Check the results\n",
    "outputsMetadata": {
     "0": {
      "height": 323,
      "type": "dataFrame"
     }
    }
   },
   "outputs": [
    {
     "data": {
      "text/plain": [
       "0         140\n",
       "1         788\n",
       "2         123\n",
       "3         676\n",
       "4         600\n",
       "         ... \n",
       "87484     454\n",
       "87485     607\n",
       "87486    1144\n",
       "87487     248\n",
       "87488     361\n",
       "Name: time_mins, Length: 87489, dtype: int32"
      ]
     },
     "execution_count": 27,
     "metadata": {},
     "output_type": "execute_result"
    }
   ],
   "source": [
    "# Extract the number of hours, turn to integer\n",
    "hours = audible.time.str.extract(r\"(\\d+) hr\").fillna(0).astype(\"int\")\n",
    "# Extract the number of minutes, turn to integer\n",
    "mins = audible.time.str.extract(r\"(\\d+) min\").fillna(0).astype(\"int\")\n",
    "# Combine hours and minutes into the time_mins column\n",
    "audible['time_mins'] = hours * 60 + mins\n",
    "# Check the results\n",
    "audible['time_mins']"
   ]
  },
  {
   "cell_type": "markdown",
   "id": "ec7ece51-0692-4dd4-ae0c-2735b016269a",
   "metadata": {},
   "source": [
    "And as final step, let's delete the columns we don't need any more:"
   ]
  },
  {
   "cell_type": "code",
   "execution_count": 28,
   "id": "54b40957-1dce-402f-8acc-632a5d3de756",
   "metadata": {
    "executionCancelledAt": null,
    "executionTime": 11,
    "lastExecutedAt": 1703636832302,
    "lastScheduledRunId": null,
    "lastSuccessfullyExecutedCode": "# Drop the time column\n"
   },
   "outputs": [],
   "source": [
    "# Drop the time column\n",
    "audible.drop('time', axis=1, inplace=True)"
   ]
  },
  {
   "cell_type": "markdown",
   "id": "b03b6682-1165-4304-9722-b0f0e8065f0c",
   "metadata": {},
   "source": [
    "Here is how our dataframe looks now:"
   ]
  },
  {
   "cell_type": "code",
   "execution_count": 29,
   "id": "ade24183-d3f6-4b3d-b380-e4cfa8bb0684",
   "metadata": {
    "executionCancelledAt": null,
    "executionTime": 11,
    "lastExecutedAt": 1703636834900,
    "lastScheduledRunId": null,
    "lastSuccessfullyExecutedCode": "# Inspect the dataframe \n",
    "outputsMetadata": {
     "0": {
      "height": 337,
      "type": "stream"
     }
    }
   },
   "outputs": [
    {
     "data": {
      "text/html": [
       "<div>\n",
       "<style scoped>\n",
       "    .dataframe tbody tr th:only-of-type {\n",
       "        vertical-align: middle;\n",
       "    }\n",
       "\n",
       "    .dataframe tbody tr th {\n",
       "        vertical-align: top;\n",
       "    }\n",
       "\n",
       "    .dataframe thead th {\n",
       "        text-align: right;\n",
       "    }\n",
       "</style>\n",
       "<table border=\"1\" class=\"dataframe\">\n",
       "  <thead>\n",
       "    <tr style=\"text-align: right;\">\n",
       "      <th></th>\n",
       "      <th>name</th>\n",
       "      <th>author</th>\n",
       "      <th>narrator</th>\n",
       "      <th>releasedate</th>\n",
       "      <th>language</th>\n",
       "      <th>price</th>\n",
       "      <th>rating_stars</th>\n",
       "      <th>n_ratings</th>\n",
       "      <th>time_mins</th>\n",
       "    </tr>\n",
       "  </thead>\n",
       "  <tbody>\n",
       "    <tr>\n",
       "      <th>80151</th>\n",
       "      <td>Poco meno degli angeli</td>\n",
       "      <td>MauroRuggiero</td>\n",
       "      <td>ClaudioCarini</td>\n",
       "      <td>2022-01-20</td>\n",
       "      <td>italian</td>\n",
       "      <td>382.0</td>\n",
       "      <td>NaN</td>\n",
       "      <td>NaN</td>\n",
       "      <td>461</td>\n",
       "    </tr>\n",
       "    <tr>\n",
       "      <th>5456</th>\n",
       "      <td>The Inquisitor's Tale</td>\n",
       "      <td>AdamGidwitz,BenjaminBagby</td>\n",
       "      <td>AdamGidwitz,VikasAdam,MarkBramhall,</td>\n",
       "      <td>2016-09-27</td>\n",
       "      <td>English</td>\n",
       "      <td>1256.0</td>\n",
       "      <td>NaN</td>\n",
       "      <td>NaN</td>\n",
       "      <td>622</td>\n",
       "    </tr>\n",
       "    <tr>\n",
       "      <th>29557</th>\n",
       "      <td>The 7-Minute Productivity Solution</td>\n",
       "      <td>JohnBrandon</td>\n",
       "      <td>GeorgeW.Sarris</td>\n",
       "      <td>2022-01-18</td>\n",
       "      <td>English</td>\n",
       "      <td>586.0</td>\n",
       "      <td>NaN</td>\n",
       "      <td>NaN</td>\n",
       "      <td>395</td>\n",
       "    </tr>\n",
       "    <tr>\n",
       "      <th>72755</th>\n",
       "      <td>Longing for Her Wolves</td>\n",
       "      <td>TaraWest</td>\n",
       "      <td>StephanieRose</td>\n",
       "      <td>2019-09-04</td>\n",
       "      <td>English</td>\n",
       "      <td>586.0</td>\n",
       "      <td>NaN</td>\n",
       "      <td>NaN</td>\n",
       "      <td>515</td>\n",
       "    </tr>\n",
       "    <tr>\n",
       "      <th>53509</th>\n",
       "      <td>A Living Friend</td>\n",
       "      <td>RobertBly</td>\n",
       "      <td>RobertBly,ColemanBarks</td>\n",
       "      <td>2021-08-28</td>\n",
       "      <td>English</td>\n",
       "      <td>233.0</td>\n",
       "      <td>NaN</td>\n",
       "      <td>NaN</td>\n",
       "      <td>69</td>\n",
       "    </tr>\n",
       "    <tr>\n",
       "      <th>47357</th>\n",
       "      <td>Ja siihen liittyy tarina</td>\n",
       "      <td>JeffreyArcher,Britt-MarieNorrgård-translator</td>\n",
       "      <td>JoonasKaariainen</td>\n",
       "      <td>2022-01-26</td>\n",
       "      <td>finnish</td>\n",
       "      <td>233.0</td>\n",
       "      <td>NaN</td>\n",
       "      <td>NaN</td>\n",
       "      <td>527</td>\n",
       "    </tr>\n",
       "    <tr>\n",
       "      <th>40804</th>\n",
       "      <td>Gli armeni</td>\n",
       "      <td>GabriellaUluhogian</td>\n",
       "      <td>CarlottaViscovo</td>\n",
       "      <td>2021-03-23</td>\n",
       "      <td>italian</td>\n",
       "      <td>574.0</td>\n",
       "      <td>NaN</td>\n",
       "      <td>NaN</td>\n",
       "      <td>532</td>\n",
       "    </tr>\n",
       "    <tr>\n",
       "      <th>61748</th>\n",
       "      <td>Praying the Scriptures for Your Children</td>\n",
       "      <td>JodieBerndt,FernNichols</td>\n",
       "      <td>SarahZimmerman</td>\n",
       "      <td>2018-05-29</td>\n",
       "      <td>English</td>\n",
       "      <td>586.0</td>\n",
       "      <td>5.0</td>\n",
       "      <td>1.0</td>\n",
       "      <td>368</td>\n",
       "    </tr>\n",
       "    <tr>\n",
       "      <th>71547</th>\n",
       "      <td>Mi jefe [Resisting the Boss]</td>\n",
       "      <td>WhitneyG.</td>\n",
       "      <td>JaimeCollepardo,CarlaToledano</td>\n",
       "      <td>2022-02-15</td>\n",
       "      <td>spanish</td>\n",
       "      <td>703.0</td>\n",
       "      <td>NaN</td>\n",
       "      <td>NaN</td>\n",
       "      <td>895</td>\n",
       "    </tr>\n",
       "    <tr>\n",
       "      <th>61760</th>\n",
       "      <td>Mindful Parenting in a Chaotic World</td>\n",
       "      <td>NicoleLibinPhD</td>\n",
       "      <td>ChelseaStephens</td>\n",
       "      <td>2019-10-12</td>\n",
       "      <td>English</td>\n",
       "      <td>233.0</td>\n",
       "      <td>5.0</td>\n",
       "      <td>1.0</td>\n",
       "      <td>132</td>\n",
       "    </tr>\n",
       "  </tbody>\n",
       "</table>\n",
       "</div>"
      ],
      "text/plain": [
       "                                           name  \\\n",
       "80151                    Poco meno degli angeli   \n",
       "5456                      The Inquisitor's Tale   \n",
       "29557        The 7-Minute Productivity Solution   \n",
       "72755                    Longing for Her Wolves   \n",
       "53509                           A Living Friend   \n",
       "47357                  Ja siihen liittyy tarina   \n",
       "40804                                Gli armeni   \n",
       "61748  Praying the Scriptures for Your Children   \n",
       "71547              Mi jefe [Resisting the Boss]   \n",
       "61760      Mindful Parenting in a Chaotic World   \n",
       "\n",
       "                                             author  \\\n",
       "80151                                 MauroRuggiero   \n",
       "5456                      AdamGidwitz,BenjaminBagby   \n",
       "29557                                   JohnBrandon   \n",
       "72755                                      TaraWest   \n",
       "53509                                     RobertBly   \n",
       "47357  JeffreyArcher,Britt-MarieNorrgård-translator   \n",
       "40804                            GabriellaUluhogian   \n",
       "61748                       JodieBerndt,FernNichols   \n",
       "71547                                     WhitneyG.   \n",
       "61760                                NicoleLibinPhD   \n",
       "\n",
       "                                  narrator releasedate language   price  \\\n",
       "80151                        ClaudioCarini  2022-01-20  italian   382.0   \n",
       "5456   AdamGidwitz,VikasAdam,MarkBramhall,  2016-09-27  English  1256.0   \n",
       "29557                       GeorgeW.Sarris  2022-01-18  English   586.0   \n",
       "72755                        StephanieRose  2019-09-04  English   586.0   \n",
       "53509               RobertBly,ColemanBarks  2021-08-28  English   233.0   \n",
       "47357                     JoonasKaariainen  2022-01-26  finnish   233.0   \n",
       "40804                      CarlottaViscovo  2021-03-23  italian   574.0   \n",
       "61748                       SarahZimmerman  2018-05-29  English   586.0   \n",
       "71547        JaimeCollepardo,CarlaToledano  2022-02-15  spanish   703.0   \n",
       "61760                      ChelseaStephens  2019-10-12  English   233.0   \n",
       "\n",
       "      rating_stars  n_ratings  time_mins  \n",
       "80151          NaN        NaN        461  \n",
       "5456           NaN        NaN        622  \n",
       "29557          NaN        NaN        395  \n",
       "72755          NaN        NaN        515  \n",
       "53509          NaN        NaN         69  \n",
       "47357          NaN        NaN        527  \n",
       "40804          NaN        NaN        532  \n",
       "61748          5.0        1.0        368  \n",
       "71547          NaN        NaN        895  \n",
       "61760          5.0        1.0        132  "
      ]
     },
     "execution_count": 29,
     "metadata": {},
     "output_type": "execute_result"
    }
   ],
   "source": [
    "# Inspect the dataframe \n",
    "audible.sample(n=10)"
   ]
  },
  {
   "cell_type": "markdown",
   "id": "bc18846c-6bab-4089-9471-4cbf62b9234c",
   "metadata": {},
   "source": [
    "## Task 6: Check data ranges\n",
    "\n",
    "Another important step is to confirm that the values in our columns are in the expected ranges and that we don't have out-of-range values.\n",
    "\n",
    "Let's create a histogram of the numeric columns to visually inspect ht ranges and the shape of the distribution:"
   ]
  },
  {
   "cell_type": "code",
   "execution_count": 30,
   "id": "71bc7a0f-95dd-47df-a72e-0210289291ea",
   "metadata": {
    "executionCancelledAt": null,
    "executionTime": 12,
    "lastExecutedAt": 1703636842683,
    "lastScheduledRunId": null,
    "lastSuccessfullyExecutedCode": "# Plot histograms of all the numerical columns\n"
   },
   "outputs": [
    {
     "data": {
      "image/png": "[encoded data removed]",
      "text/plain": [
       "<Figure size 1000x1000 with 4 Axes>"
      ]
     },
     "metadata": {},
     "output_type": "display_data"
    }
   ],
   "source": [
    "# Plot histograms of all the numerical columns\n",
    "audible.hist(figsize=(10, 10), bins=100)\n",
    "plt.show()"
   ]
  },
  {
   "cell_type": "markdown",
   "id": "9e14b4b0-a419-43d8-8738-bee3b8611991",
   "metadata": {},
   "source": [
    "Additionally, we can use `.describe()` to look at a summary of our data"
   ]
  },
  {
   "cell_type": "code",
   "execution_count": 31,
   "id": "39bc28a5-28b5-4387-81a5-092812b8e5e5",
   "metadata": {
    "executionCancelledAt": null,
    "executionTime": 10,
    "lastExecutedAt": 1703636849381,
    "lastScheduledRunId": null,
    "lastSuccessfullyExecutedCode": "# Look at the numeric columns\n",
    "outputsMetadata": {
     "0": {
      "height": 273,
      "type": "dataFrame"
     }
    }
   },
   "outputs": [
    {
     "data": {
      "text/html": [
       "<div>\n",
       "<style scoped>\n",
       "    .dataframe tbody tr th:only-of-type {\n",
       "        vertical-align: middle;\n",
       "    }\n",
       "\n",
       "    .dataframe tbody tr th {\n",
       "        vertical-align: top;\n",
       "    }\n",
       "\n",
       "    .dataframe thead th {\n",
       "        text-align: right;\n",
       "    }\n",
       "</style>\n",
       "<table border=\"1\" class=\"dataframe\">\n",
       "  <thead>\n",
       "    <tr style=\"text-align: right;\">\n",
       "      <th></th>\n",
       "      <th>price</th>\n",
       "      <th>n_ratings</th>\n",
       "      <th>time_mins</th>\n",
       "    </tr>\n",
       "  </thead>\n",
       "  <tbody>\n",
       "    <tr>\n",
       "      <th>count</th>\n",
       "      <td>87489.000000</td>\n",
       "      <td>15072.000000</td>\n",
       "      <td>87489.000000</td>\n",
       "    </tr>\n",
       "    <tr>\n",
       "      <th>mean</th>\n",
       "      <td>559.009246</td>\n",
       "      <td>21.613190</td>\n",
       "      <td>417.497663</td>\n",
       "    </tr>\n",
       "    <tr>\n",
       "      <th>std</th>\n",
       "      <td>336.096642</td>\n",
       "      <td>207.479634</td>\n",
       "      <td>364.559399</td>\n",
       "    </tr>\n",
       "    <tr>\n",
       "      <th>min</th>\n",
       "      <td>0.000000</td>\n",
       "      <td>1.000000</td>\n",
       "      <td>1.000000</td>\n",
       "    </tr>\n",
       "    <tr>\n",
       "      <th>25%</th>\n",
       "      <td>268.000000</td>\n",
       "      <td>1.000000</td>\n",
       "      <td>142.000000</td>\n",
       "    </tr>\n",
       "    <tr>\n",
       "      <th>50%</th>\n",
       "      <td>585.000000</td>\n",
       "      <td>2.000000</td>\n",
       "      <td>386.000000</td>\n",
       "    </tr>\n",
       "    <tr>\n",
       "      <th>75%</th>\n",
       "      <td>755.000000</td>\n",
       "      <td>7.000000</td>\n",
       "      <td>584.000000</td>\n",
       "    </tr>\n",
       "    <tr>\n",
       "      <th>max</th>\n",
       "      <td>7198.000000</td>\n",
       "      <td>12573.000000</td>\n",
       "      <td>8595.000000</td>\n",
       "    </tr>\n",
       "  </tbody>\n",
       "</table>\n",
       "</div>"
      ],
      "text/plain": [
       "              price     n_ratings     time_mins\n",
       "count  87489.000000  15072.000000  87489.000000\n",
       "mean     559.009246     21.613190    417.497663\n",
       "std      336.096642    207.479634    364.559399\n",
       "min        0.000000      1.000000      1.000000\n",
       "25%      268.000000      1.000000    142.000000\n",
       "50%      585.000000      2.000000    386.000000\n",
       "75%      755.000000      7.000000    584.000000\n",
       "max     7198.000000  12573.000000   8595.000000"
      ]
     },
     "execution_count": 31,
     "metadata": {},
     "output_type": "execute_result"
    }
   ],
   "source": [
    "# Look at the numeric columns\n",
    "audible.describe()"
   ]
  },
  {
   "cell_type": "code",
   "execution_count": 32,
   "id": "7786e006",
   "metadata": {},
   "outputs": [
    {
     "data": {
      "text/html": [
       "<div>\n",
       "<style scoped>\n",
       "    .dataframe tbody tr th:only-of-type {\n",
       "        vertical-align: middle;\n",
       "    }\n",
       "\n",
       "    .dataframe tbody tr th {\n",
       "        vertical-align: top;\n",
       "    }\n",
       "\n",
       "    .dataframe thead th {\n",
       "        text-align: right;\n",
       "    }\n",
       "</style>\n",
       "<table border=\"1\" class=\"dataframe\">\n",
       "  <thead>\n",
       "    <tr style=\"text-align: right;\">\n",
       "      <th></th>\n",
       "      <th>name</th>\n",
       "      <th>author</th>\n",
       "      <th>narrator</th>\n",
       "      <th>language</th>\n",
       "    </tr>\n",
       "  </thead>\n",
       "  <tbody>\n",
       "    <tr>\n",
       "      <th>count</th>\n",
       "      <td>87489</td>\n",
       "      <td>87489</td>\n",
       "      <td>87489</td>\n",
       "      <td>87489</td>\n",
       "    </tr>\n",
       "    <tr>\n",
       "      <th>unique</th>\n",
       "      <td>82767</td>\n",
       "      <td>48374</td>\n",
       "      <td>29717</td>\n",
       "      <td>36</td>\n",
       "    </tr>\n",
       "    <tr>\n",
       "      <th>top</th>\n",
       "      <td>The Art of War</td>\n",
       "      <td>矢島雅弘,石橋遊</td>\n",
       "      <td>anonymous</td>\n",
       "      <td>English</td>\n",
       "    </tr>\n",
       "    <tr>\n",
       "      <th>freq</th>\n",
       "      <td>20</td>\n",
       "      <td>874</td>\n",
       "      <td>1034</td>\n",
       "      <td>61884</td>\n",
       "    </tr>\n",
       "  </tbody>\n",
       "</table>\n",
       "</div>"
      ],
      "text/plain": [
       "                  name    author   narrator language\n",
       "count            87489     87489      87489    87489\n",
       "unique           82767     48374      29717       36\n",
       "top     The Art of War  矢島雅弘,石橋遊  anonymous  English\n",
       "freq                20       874       1034    61884"
      ]
     },
     "execution_count": 32,
     "metadata": {},
     "output_type": "execute_result"
    }
   ],
   "source": [
    "audible.describe(include='object')"
   ]
  },
  {
   "cell_type": "code",
   "execution_count": 33,
   "id": "3a61f89b-76d8-4793-8fe8-cb470ea84966",
   "metadata": {
    "chartConfig": {
     "bar": {
      "hasRoundedCorners": true,
      "stacked": false
     },
     "type": "bar",
     "version": "v1"
    },
    "executionTime": 57,
    "lastSuccessfullyExecutedCode": "# Look at the non numeric columns\naudible.describe(exclude=[np.number])",
    "outputsMetadata": {
     "0": {
      "height": 221,
      "type": "dataFrame"
     }
    },
    "visualizeDataframe": false
   },
   "outputs": [
    {
     "name": "stderr",
     "output_type": "stream",
     "text": [
      "C:\\Users\\deel\\AppData\\Local\\Temp\\ipykernel_19464\\2838511557.py:2: FutureWarning: Treating datetime data as categorical rather than numeric in `.describe` is deprecated and will be removed in a future version of pandas. Specify `datetime_is_numeric=True` to silence this warning and adopt the future behavior now.\n",
      "  audible.describe(exclude=[np.number])\n"
     ]
    },
    {
     "data": {
      "text/html": [
       "<div>\n",
       "<style scoped>\n",
       "    .dataframe tbody tr th:only-of-type {\n",
       "        vertical-align: middle;\n",
       "    }\n",
       "\n",
       "    .dataframe tbody tr th {\n",
       "        vertical-align: top;\n",
       "    }\n",
       "\n",
       "    .dataframe thead th {\n",
       "        text-align: right;\n",
       "    }\n",
       "</style>\n",
       "<table border=\"1\" class=\"dataframe\">\n",
       "  <thead>\n",
       "    <tr style=\"text-align: right;\">\n",
       "      <th></th>\n",
       "      <th>name</th>\n",
       "      <th>author</th>\n",
       "      <th>narrator</th>\n",
       "      <th>releasedate</th>\n",
       "      <th>language</th>\n",
       "      <th>rating_stars</th>\n",
       "    </tr>\n",
       "  </thead>\n",
       "  <tbody>\n",
       "    <tr>\n",
       "      <th>count</th>\n",
       "      <td>87489</td>\n",
       "      <td>87489</td>\n",
       "      <td>87489</td>\n",
       "      <td>87489</td>\n",
       "      <td>87489</td>\n",
       "      <td>15072.0</td>\n",
       "    </tr>\n",
       "    <tr>\n",
       "      <th>unique</th>\n",
       "      <td>82767</td>\n",
       "      <td>48374</td>\n",
       "      <td>29717</td>\n",
       "      <td>5058</td>\n",
       "      <td>36</td>\n",
       "      <td>9.0</td>\n",
       "    </tr>\n",
       "    <tr>\n",
       "      <th>top</th>\n",
       "      <td>The Art of War</td>\n",
       "      <td>矢島雅弘,石橋遊</td>\n",
       "      <td>anonymous</td>\n",
       "      <td>2018-05-16 00:00:00</td>\n",
       "      <td>English</td>\n",
       "      <td>5.0</td>\n",
       "    </tr>\n",
       "    <tr>\n",
       "      <th>freq</th>\n",
       "      <td>20</td>\n",
       "      <td>874</td>\n",
       "      <td>1034</td>\n",
       "      <td>773</td>\n",
       "      <td>61884</td>\n",
       "      <td>6761.0</td>\n",
       "    </tr>\n",
       "    <tr>\n",
       "      <th>first</th>\n",
       "      <td>NaN</td>\n",
       "      <td>NaN</td>\n",
       "      <td>NaN</td>\n",
       "      <td>1998-12-27 00:00:00</td>\n",
       "      <td>NaN</td>\n",
       "      <td>NaN</td>\n",
       "    </tr>\n",
       "    <tr>\n",
       "      <th>last</th>\n",
       "      <td>NaN</td>\n",
       "      <td>NaN</td>\n",
       "      <td>NaN</td>\n",
       "      <td>2025-11-14 00:00:00</td>\n",
       "      <td>NaN</td>\n",
       "      <td>NaN</td>\n",
       "    </tr>\n",
       "  </tbody>\n",
       "</table>\n",
       "</div>"
      ],
      "text/plain": [
       "                  name    author   narrator          releasedate language  \\\n",
       "count            87489     87489      87489                87489    87489   \n",
       "unique           82767     48374      29717                 5058       36   \n",
       "top     The Art of War  矢島雅弘,石橋遊  anonymous  2018-05-16 00:00:00  English   \n",
       "freq                20       874       1034                  773    61884   \n",
       "first              NaN       NaN        NaN  1998-12-27 00:00:00      NaN   \n",
       "last               NaN       NaN        NaN  2025-11-14 00:00:00      NaN   \n",
       "\n",
       "        rating_stars  \n",
       "count        15072.0  \n",
       "unique           9.0  \n",
       "top              5.0  \n",
       "freq          6761.0  \n",
       "first            NaN  \n",
       "last             NaN  "
      ]
     },
     "execution_count": 33,
     "metadata": {},
     "output_type": "execute_result"
    }
   ],
   "source": [
    "# Look at the non numeric columns\n",
    "audible.describe(exclude=[np.number])"
   ]
  },
  {
   "cell_type": "markdown",
   "id": "1e382f9e-0beb-4855-88fd-579106ba7b0a",
   "metadata": {},
   "source": [
    "We will transform the prices in `price` to USD for this exercise. We can use the exchange rate of 1 USD = 0.012 INR:"
   ]
  },
  {
   "cell_type": "code",
   "execution_count": 34,
   "id": "22cd90ab-53cc-40e2-a90a-2439991ddbfc",
   "metadata": {
    "executionCancelledAt": null,
    "executionTime": 11,
    "jupyter": {
     "outputs_hidden": false,
     "source_hidden": false
    },
    "lastExecutedAt": 1703636856199,
    "lastScheduledRunId": null,
    "lastSuccessfullyExecutedCode": "# Transform prices to USD (multiply times 0.012)\n\n# Check the results\n"
   },
   "outputs": [
    {
     "data": {
      "text/plain": [
       "72441    10.044\n",
       "42561     8.016\n",
       "25614     4.128\n",
       "50502     6.420\n",
       "39574     9.048\n",
       "58558     9.840\n",
       "21562     7.740\n",
       "16758     6.468\n",
       "24263     7.020\n",
       "66168     7.020\n",
       "Name: price, dtype: float64"
      ]
     },
     "execution_count": 34,
     "metadata": {},
     "output_type": "execute_result"
    }
   ],
   "source": [
    "# Transform prices to USD (multiply times 0.012)\n",
    "audible.price = audible.price * 0.012\n",
    "# Check the results\n",
    "audible.price.sample(n=10)"
   ]
  },
  {
   "cell_type": "markdown",
   "id": "c04ca8b7-516d-4446-ab3a-1da7766c04b7",
   "metadata": {},
   "source": [
    "There values in the `language` column have different capitalization. Let's fix that."
   ]
  },
  {
   "cell_type": "code",
   "execution_count": 35,
   "id": "f5af1078-c6b0-4751-92f4-c9b914b0d3a6",
   "metadata": {
    "executionCancelledAt": null,
    "executionTime": 11,
    "lastExecutedAt": 1703636861142,
    "lastScheduledRunId": null,
    "lastSuccessfullyExecutedCode": "# Inspect the language column before making changes\n"
   },
   "outputs": [
    {
     "data": {
      "text/plain": [
       "34757    spanish\n",
       "18630    italian\n",
       "40146    English\n",
       "68258     german\n",
       "58279    English\n",
       "85008    English\n",
       "48223    English\n",
       "21759    English\n",
       "73337    English\n",
       "43664    English\n",
       "Name: language, dtype: object"
      ]
     },
     "execution_count": 35,
     "metadata": {},
     "output_type": "execute_result"
    }
   ],
   "source": [
    "# Inspect the language column before making changes\n",
    "audible.language.sample(10)"
   ]
  },
  {
   "cell_type": "code",
   "execution_count": 36,
   "id": "2bbd1927-f090-45f7-b66b-ca3ee8bfba9d",
   "metadata": {
    "executionCancelledAt": null,
    "executionTime": 11,
    "lastExecutedAt": 1703636868965,
    "lastScheduledRunId": null,
    "lastSuccessfullyExecutedCode": "# Update capitalization in the language column\n\n# Check the results\n"
   },
   "outputs": [
    {
     "data": {
      "text/plain": [
       "61373     english\n",
       "76229     english\n",
       "19061     russian\n",
       "68733    japanese\n",
       "14394     spanish\n",
       "27479     english\n",
       "41747     english\n",
       "82712     english\n",
       "74289     english\n",
       "52654     english\n",
       "Name: language, dtype: object"
      ]
     },
     "execution_count": 36,
     "metadata": {},
     "output_type": "execute_result"
    }
   ],
   "source": [
    "# Update capitalization in the language column\n",
    "audible.language =  audible.language.str.lower()\n",
    "# Check the results\n",
    "audible.language.sample(10)"
   ]
  },
  {
   "cell_type": "markdown",
   "id": "6b697677-a8bc-4b1b-9ce9-7d38906c5a23",
   "metadata": {},
   "source": [
    "## Task 7: Checking for duplicates\n",
    "\n",
    "How many duplicates do we have?\n",
    "\n",
    "As a first step look for duplicates using `.duplicated()` and `.sum()`:"
   ]
  },
  {
   "cell_type": "code",
   "execution_count": 37,
   "id": "f5d2ed76-44d5-4d68-bc39-41e70df5349b",
   "metadata": {
    "executionCancelledAt": null,
    "executionTime": 11,
    "lastExecutedAt": 1703636876657,
    "lastScheduledRunId": null,
    "lastSuccessfullyExecutedCode": "# Look for duplicate rows\n"
   },
   "outputs": [
    {
     "data": {
      "text/plain": [
       "0"
      ]
     },
     "execution_count": 37,
     "metadata": {},
     "output_type": "execute_result"
    }
   ],
   "source": [
    "# Look for duplicate rows\n",
    "audible.duplicated().sum()"
   ]
  },
  {
   "cell_type": "markdown",
   "id": "07c5e07a-ea4b-4583-afa0-b8a9f96782ce",
   "metadata": {},
   "source": [
    "It is useful to look for duplicates only using a subset of the columns that make sense. We will use the following subset of columns:\n",
    "* name\n",
    "* author\n",
    "* narrator\n",
    "* time_mins\n",
    "* price\n",
    "\n",
    "Here we use `.duplicated()` again, but with our subset of columns."
   ]
  },
  {
   "cell_type": "code",
   "execution_count": 38,
   "id": "2ce4ccbb-4f84-4df9-ad8d-a6e91462ddf3",
   "metadata": {
    "executionCancelledAt": null,
    "executionTime": 12,
    "lastExecutedAt": 1703636883462,
    "lastScheduledRunId": null,
    "lastSuccessfullyExecutedCode": "# Create a list of our subset columns and assign to subset_cols\n\n# Check for duplicates using our subset of columns\n"
   },
   "outputs": [
    {
     "data": {
      "text/plain": [
       "70"
      ]
     },
     "execution_count": 38,
     "metadata": {},
     "output_type": "execute_result"
    }
   ],
   "source": [
    "# Create a list of our subset columns and assign to subset_cols\n",
    "sub = ['name', 'author', 'narrator', 'time_mins', 'price']\n",
    "# Check for duplicates using our subset of columns\n",
    "audible.duplicated(subset=sub).sum()"
   ]
  },
  {
   "cell_type": "markdown",
   "id": "ad1dd974-3579-4443-96d1-46df909c54b1",
   "metadata": {},
   "source": [
    "Let's look at those values (use `keep=false`) and see what is going on:"
   ]
  },
  {
   "cell_type": "code",
   "execution_count": 39,
   "id": "6d1fe8ea-31f7-4d46-bf7f-9d55220e6137",
   "metadata": {
    "executionCancelledAt": null,
    "executionTime": 11,
    "lastExecutedAt": 1703636888007,
    "lastScheduledRunId": null,
    "lastSuccessfullyExecutedCode": "# Check the duplicated rows keeping the duplicates and order by the name column\n",
    "outputsMetadata": {
     "0": {
      "height": 323,
      "type": "dataFrame"
     }
    }
   },
   "outputs": [
    {
     "data": {
      "text/html": [
       "<div>\n",
       "<style scoped>\n",
       "    .dataframe tbody tr th:only-of-type {\n",
       "        vertical-align: middle;\n",
       "    }\n",
       "\n",
       "    .dataframe tbody tr th {\n",
       "        vertical-align: top;\n",
       "    }\n",
       "\n",
       "    .dataframe thead th {\n",
       "        text-align: right;\n",
       "    }\n",
       "</style>\n",
       "<table border=\"1\" class=\"dataframe\">\n",
       "  <thead>\n",
       "    <tr style=\"text-align: right;\">\n",
       "      <th></th>\n",
       "      <th>name</th>\n",
       "      <th>author</th>\n",
       "      <th>narrator</th>\n",
       "      <th>releasedate</th>\n",
       "      <th>language</th>\n",
       "      <th>price</th>\n",
       "      <th>rating_stars</th>\n",
       "      <th>n_ratings</th>\n",
       "      <th>time_mins</th>\n",
       "    </tr>\n",
       "  </thead>\n",
       "  <tbody>\n",
       "    <tr>\n",
       "      <th>63978</th>\n",
       "      <td>\"Das Böse ist des Menschen beste Kraft\"</td>\n",
       "      <td>ChristianLiederer</td>\n",
       "      <td>ThomasKrause</td>\n",
       "      <td>2021-12-14</td>\n",
       "      <td>german</td>\n",
       "      <td>2.796</td>\n",
       "      <td>NaN</td>\n",
       "      <td>NaN</td>\n",
       "      <td>144</td>\n",
       "    </tr>\n",
       "    <tr>\n",
       "      <th>63965</th>\n",
       "      <td>\"Das Böse ist des Menschen beste Kraft\"</td>\n",
       "      <td>ChristianLiederer</td>\n",
       "      <td>ThomasKrause</td>\n",
       "      <td>2021-12-23</td>\n",
       "      <td>german</td>\n",
       "      <td>2.796</td>\n",
       "      <td>NaN</td>\n",
       "      <td>NaN</td>\n",
       "      <td>144</td>\n",
       "    </tr>\n",
       "    <tr>\n",
       "      <th>24625</th>\n",
       "      <td>90 Minutes in Heaven</td>\n",
       "      <td>DonPiper,CecilMurphey</td>\n",
       "      <td>DonPiper</td>\n",
       "      <td>2015-09-25</td>\n",
       "      <td>english</td>\n",
       "      <td>7.032</td>\n",
       "      <td>NaN</td>\n",
       "      <td>NaN</td>\n",
       "      <td>495</td>\n",
       "    </tr>\n",
       "    <tr>\n",
       "      <th>24116</th>\n",
       "      <td>90 Minutes in Heaven</td>\n",
       "      <td>DonPiper,CecilMurphey</td>\n",
       "      <td>DonPiper</td>\n",
       "      <td>2020-10-15</td>\n",
       "      <td>english</td>\n",
       "      <td>7.032</td>\n",
       "      <td>NaN</td>\n",
       "      <td>NaN</td>\n",
       "      <td>495</td>\n",
       "    </tr>\n",
       "    <tr>\n",
       "      <th>16971</th>\n",
       "      <td>Adagio in Dm</td>\n",
       "      <td>BillBrown</td>\n",
       "      <td>BillBrown</td>\n",
       "      <td>2021-06-08</td>\n",
       "      <td>english</td>\n",
       "      <td>5.472</td>\n",
       "      <td>NaN</td>\n",
       "      <td>NaN</td>\n",
       "      <td>78</td>\n",
       "    </tr>\n",
       "    <tr>\n",
       "      <th>...</th>\n",
       "      <td>...</td>\n",
       "      <td>...</td>\n",
       "      <td>...</td>\n",
       "      <td>...</td>\n",
       "      <td>...</td>\n",
       "      <td>...</td>\n",
       "      <td>...</td>\n",
       "      <td>...</td>\n",
       "      <td>...</td>\n",
       "    </tr>\n",
       "    <tr>\n",
       "      <th>18338</th>\n",
       "      <td>What I Talk About When I Talk About Running</td>\n",
       "      <td>HarukiMurakami</td>\n",
       "      <td>RayPorter</td>\n",
       "      <td>2016-07-07</td>\n",
       "      <td>english</td>\n",
       "      <td>4.776</td>\n",
       "      <td>4.5</td>\n",
       "      <td>193.0</td>\n",
       "      <td>263</td>\n",
       "    </tr>\n",
       "    <tr>\n",
       "      <th>38021</th>\n",
       "      <td>When Women Ruled the World</td>\n",
       "      <td>KaraCooney</td>\n",
       "      <td>KaraCooney</td>\n",
       "      <td>2018-11-30</td>\n",
       "      <td>english</td>\n",
       "      <td>10.032</td>\n",
       "      <td>4.5</td>\n",
       "      <td>14.0</td>\n",
       "      <td>555</td>\n",
       "    </tr>\n",
       "    <tr>\n",
       "      <th>20260</th>\n",
       "      <td>When Women Ruled the World</td>\n",
       "      <td>KaraCooney</td>\n",
       "      <td>KaraCooney</td>\n",
       "      <td>2018-11-30</td>\n",
       "      <td>english</td>\n",
       "      <td>10.032</td>\n",
       "      <td>4.5</td>\n",
       "      <td>13.0</td>\n",
       "      <td>555</td>\n",
       "    </tr>\n",
       "    <tr>\n",
       "      <th>22158</th>\n",
       "      <td>Wings of Fire</td>\n",
       "      <td>APJAbdulKalam,ArunTiwari</td>\n",
       "      <td>GirishKarnad</td>\n",
       "      <td>2020-01-04</td>\n",
       "      <td>english</td>\n",
       "      <td>0.900</td>\n",
       "      <td>5.0</td>\n",
       "      <td>1823.0</td>\n",
       "      <td>75</td>\n",
       "    </tr>\n",
       "    <tr>\n",
       "      <th>64428</th>\n",
       "      <td>Wings of Fire</td>\n",
       "      <td>APJAbdulKalam,ArunTiwari</td>\n",
       "      <td>GirishKarnad</td>\n",
       "      <td>2020-01-04</td>\n",
       "      <td>english</td>\n",
       "      <td>0.900</td>\n",
       "      <td>5.0</td>\n",
       "      <td>1827.0</td>\n",
       "      <td>75</td>\n",
       "    </tr>\n",
       "  </tbody>\n",
       "</table>\n",
       "<p>139 rows × 9 columns</p>\n",
       "</div>"
      ],
      "text/plain": [
       "                                              name                    author  \\\n",
       "63978      \"Das Böse ist des Menschen beste Kraft\"         ChristianLiederer   \n",
       "63965      \"Das Böse ist des Menschen beste Kraft\"         ChristianLiederer   \n",
       "24625                         90 Minutes in Heaven     DonPiper,CecilMurphey   \n",
       "24116                         90 Minutes in Heaven     DonPiper,CecilMurphey   \n",
       "16971                                 Adagio in Dm                 BillBrown   \n",
       "...                                            ...                       ...   \n",
       "18338  What I Talk About When I Talk About Running            HarukiMurakami   \n",
       "38021                   When Women Ruled the World                KaraCooney   \n",
       "20260                   When Women Ruled the World                KaraCooney   \n",
       "22158                                Wings of Fire  APJAbdulKalam,ArunTiwari   \n",
       "64428                                Wings of Fire  APJAbdulKalam,ArunTiwari   \n",
       "\n",
       "           narrator releasedate language   price rating_stars  n_ratings  \\\n",
       "63978  ThomasKrause  2021-12-14   german   2.796          NaN        NaN   \n",
       "63965  ThomasKrause  2021-12-23   german   2.796          NaN        NaN   \n",
       "24625      DonPiper  2015-09-25  english   7.032          NaN        NaN   \n",
       "24116      DonPiper  2020-10-15  english   7.032          NaN        NaN   \n",
       "16971     BillBrown  2021-06-08  english   5.472          NaN        NaN   \n",
       "...             ...         ...      ...     ...          ...        ...   \n",
       "18338     RayPorter  2016-07-07  english   4.776          4.5      193.0   \n",
       "38021    KaraCooney  2018-11-30  english  10.032          4.5       14.0   \n",
       "20260    KaraCooney  2018-11-30  english  10.032          4.5       13.0   \n",
       "22158  GirishKarnad  2020-01-04  english   0.900          5.0     1823.0   \n",
       "64428  GirishKarnad  2020-01-04  english   0.900          5.0     1827.0   \n",
       "\n",
       "       time_mins  \n",
       "63978        144  \n",
       "63965        144  \n",
       "24625        495  \n",
       "24116        495  \n",
       "16971         78  \n",
       "...          ...  \n",
       "18338        263  \n",
       "38021        555  \n",
       "20260        555  \n",
       "22158         75  \n",
       "64428         75  \n",
       "\n",
       "[139 rows x 9 columns]"
      ]
     },
     "execution_count": 39,
     "metadata": {},
     "output_type": "execute_result"
    }
   ],
   "source": [
    "# Check the duplicated rows keeping the duplicates and order by the name column\n",
    "audible[audible.duplicated(keep = False, subset=sub)].sort_values(by='name')"
   ]
  },
  {
   "cell_type": "markdown",
   "id": "311c02af-9738-40c1-92b6-88ab1a71fc2f",
   "metadata": {},
   "source": [
    "We can see that the duplicates are for files with different release dates. We can decide to keep the record with the last release date.\n",
    "\n",
    "We will can use the `drop_duplicates()` method with the same subset and using `keep=last` to keep the last release date"
   ]
  },
  {
   "cell_type": "code",
   "execution_count": 40,
   "id": "93c6470a-fd3f-4624-b130-1e347e04d64b",
   "metadata": {
    "executionCancelledAt": null,
    "executionTime": 12,
    "lastExecutedAt": 1703636891971,
    "lastScheduledRunId": null,
    "lastSuccessfullyExecutedCode": "# Drop duplicated rows keeping the last release date\n"
   },
   "outputs": [],
   "source": [
    "# Drop duplicated rows keeping the last release date\n",
    "audible.drop_duplicates(subset=sub, keep='last', inplace=True)"
   ]
  },
  {
   "cell_type": "markdown",
   "id": "cdc50f0f-ba96-45e1-815f-605e9dd3fd06",
   "metadata": {},
   "source": [
    "We can check again for duplicates:"
   ]
  },
  {
   "cell_type": "code",
   "execution_count": 41,
   "id": "19a62e3b-3a6c-4a63-8e85-f46771fb86ec",
   "metadata": {
    "executionCancelledAt": null,
    "executionTime": 11,
    "lastExecutedAt": 1703636895639,
    "lastScheduledRunId": null,
    "lastSuccessfullyExecutedCode": "# Check again for duplicates using our subset of columns\n"
   },
   "outputs": [
    {
     "data": {
      "text/plain": [
       "0"
      ]
     },
     "execution_count": 41,
     "metadata": {},
     "output_type": "execute_result"
    }
   ],
   "source": [
    "# Check again for duplicates using our subset of columns\n",
    "audible.duplicated(subset=sub).sum()"
   ]
  },
  {
   "cell_type": "markdown",
   "id": "88e86ba5-c4c4-4604-a15f-b5b582aedd92",
   "metadata": {},
   "source": [
    "## Task 8: Dealing with missing data\n",
    "\n",
    "Before we finish, let's take a look at missing data in our columns. We can use the `.isna()` method and chain it with `.sum()` to get the total:"
   ]
  },
  {
   "cell_type": "code",
   "execution_count": 42,
   "id": "cec72ccc-e505-42c7-9591-63fb7c60850b",
   "metadata": {
    "executionCancelledAt": null,
    "executionTime": 11,
    "lastExecutedAt": 1703636898853,
    "lastScheduledRunId": null,
    "lastSuccessfullyExecutedCode": "# Check for null values\n"
   },
   "outputs": [
    {
     "data": {
      "text/plain": [
       "name                0\n",
       "author              0\n",
       "narrator            0\n",
       "releasedate         0\n",
       "language            0\n",
       "price               0\n",
       "rating_stars    72387\n",
       "n_ratings       72387\n",
       "time_mins           0\n",
       "dtype: int64"
      ]
     },
     "execution_count": 42,
     "metadata": {},
     "output_type": "execute_result"
    }
   ],
   "source": [
    "# Check for null values\n",
    "audible.isna().sum()"
   ]
  },
  {
   "cell_type": "markdown",
   "id": "794f5889-ad5d-48f2-8bf0-a9ec802586ca",
   "metadata": {},
   "source": [
    "We could turn the **NaN** values to 0 or another numeric value, or we could keep them. It depends on our use case.\n",
    "\n",
    "If we want to plot the ratings distribution, it can make sense to drop audiobooks with no ratings. But if we need to use the distribution of prices for our analysis, then removing audiobooks with no ratings will bias our results (since unrated audiobooks are likely more niche and might have a different pricing structure than rated audiobooks).\n",
    "\n",
    "We will keep the unrated audiobooks for now."
   ]
  },
  {
   "cell_type": "markdown",
   "id": "1ee82272-cd9b-48d3-b2c3-a961a36153fb",
   "metadata": {},
   "source": [
    "## Task 9: Save the cleaned data set\n",
    "\n",
    "We can use the `.to_csv` method to save the clean file. We include `index=False` so that we don't also copy the current index to our destination file."
   ]
  },
  {
   "cell_type": "code",
   "execution_count": 43,
   "id": "025c632b-20ba-4f53-98fc-39897869c447",
   "metadata": {
    "executionCancelledAt": null,
    "executionTime": 11,
    "lastExecutedAt": 1703636903304,
    "lastScheduledRunId": null,
    "lastSuccessfullyExecutedCode": "# Save the dataframe to a new file: 'audible_clean.csv'\n"
   },
   "outputs": [],
   "source": [
    "# Save the dataframe to a new file: 'audible_clean.csv'\n",
    "# audible.to_csv(\"audible_clean.csv\", index=False)"
   ]
  },
  {
   "cell_type": "code",
   "execution_count": 44,
   "id": "89b46586",
   "metadata": {},
   "outputs": [],
   "source": [
    "true = pd.read_csv(\"data/audible_clean.csv\")\n",
    "ans = pd.read_csv(\"audible_clean.csv\")"
   ]
  },
  {
   "cell_type": "code",
   "execution_count": 45,
   "id": "c09249e0",
   "metadata": {},
   "outputs": [
    {
     "data": {
      "text/plain": [
       "name            87419\n",
       "author          87419\n",
       "narrator        87419\n",
       "releasedate     87419\n",
       "language        87419\n",
       "price           87419\n",
       "rating_stars    87419\n",
       "n_ratings       87419\n",
       "time_mins       87419\n",
       "dtype: int64"
      ]
     },
     "execution_count": 45,
     "metadata": {},
     "output_type": "execute_result"
    }
   ],
   "source": [
    "(true == ans).count()"
   ]
  },
  {
   "cell_type": "code",
   "execution_count": 46,
   "id": "9734b0f1",
   "metadata": {},
   "outputs": [
    {
     "name": "stdout",
     "output_type": "stream",
     "text": [
      "87419\n",
      "87419\n"
     ]
    }
   ],
   "source": [
    "print(len(true))\n",
    "print(len(ans))"
   ]
  },
  {
   "cell_type": "markdown",
   "id": "81244bbf",
   "metadata": {},
   "source": [
    "### Now we are sure that our data is the same as answer, so our data is clean and ready for the next stage."
   ]
  }
 ],
 "metadata": {
  "editor": "DataCamp Workspace",
  "kernelspec": {
   "display_name": "Python 3 (ipykernel)",
   "language": "python",
   "name": "python3"
  },
  "language_info": {
   "codemirror_mode": {
    "name": "ipython",
    "version": 3
   },
   "file_extension": ".py",
   "mimetype": "text/x-python",
   "name": "python",
   "nbconvert_exporter": "python",
   "pygments_lexer": "ipython3",
   "version": "3.9.13"
  }
 },
 "nbformat": 4,
 "nbformat_minor": 5
}
