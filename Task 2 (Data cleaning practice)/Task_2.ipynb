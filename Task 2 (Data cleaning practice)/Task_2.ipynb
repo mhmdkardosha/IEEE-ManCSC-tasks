{
 "cells": [
  {
   "cell_type": "markdown",
   "metadata": {},
   "source": [
    "<h1 style=\"text-align:center;\">Data Cleaning Practice</h1>"
   ]
  },
  {
   "cell_type": "markdown",
   "metadata": {},
   "source": [
    "- Let's begin by importing the necessary libraries and the dataset:"
   ]
  },
  {
   "cell_type": "code",
   "execution_count": 959,
   "metadata": {},
   "outputs": [
    {
     "data": {
      "text/html": [
       "<div>\n",
       "<style scoped>\n",
       "    .dataframe tbody tr th:only-of-type {\n",
       "        vertical-align: middle;\n",
       "    }\n",
       "\n",
       "    .dataframe tbody tr th {\n",
       "        vertical-align: top;\n",
       "    }\n",
       "\n",
       "    .dataframe thead th {\n",
       "        text-align: right;\n",
       "    }\n",
       "</style>\n",
       "<table border=\"1\" class=\"dataframe\">\n",
       "  <thead>\n",
       "    <tr style=\"text-align: right;\">\n",
       "      <th></th>\n",
       "      <th>Brand</th>\n",
       "      <th>Model</th>\n",
       "      <th>Year</th>\n",
       "      <th>Category</th>\n",
       "      <th>Displacement (ccm)</th>\n",
       "      <th>Power (hp)</th>\n",
       "      <th>Engine cylinder</th>\n",
       "      <th>Engine stroke</th>\n",
       "      <th>Gearbox</th>\n",
       "      <th>Fuel capacity (lts)</th>\n",
       "      <th>Fuel system</th>\n",
       "      <th>Fuel control</th>\n",
       "      <th>Cooling system</th>\n",
       "      <th>Transmission type</th>\n",
       "      <th>Dry weight (kg)</th>\n",
       "      <th>Wheelbase (mm)</th>\n",
       "      <th>Seat height (mm)</th>\n",
       "    </tr>\n",
       "  </thead>\n",
       "  <tbody>\n",
       "    <tr>\n",
       "      <th>12542</th>\n",
       "      <td>honda</td>\n",
       "      <td>cbf stunner</td>\n",
       "      <td>2014</td>\n",
       "      <td>Sport</td>\n",
       "      <td>124.7</td>\n",
       "      <td>11.6</td>\n",
       "      <td>Single cylinder</td>\n",
       "      <td>four-stroke</td>\n",
       "      <td>5-speed</td>\n",
       "      <td>13.00</td>\n",
       "      <td>Carburettor. CV type</td>\n",
       "      <td>Overhead Cams (OHC)</td>\n",
       "      <td>Air</td>\n",
       "      <td>Chain</td>\n",
       "      <td>110.0</td>\n",
       "      <td>1271.0</td>\n",
       "      <td>NaN</td>\n",
       "    </tr>\n",
       "    <tr>\n",
       "      <th>18121</th>\n",
       "      <td>kawasaki</td>\n",
       "      <td>ninja 1000</td>\n",
       "      <td>2012</td>\n",
       "      <td>Sport</td>\n",
       "      <td>1043.0</td>\n",
       "      <td>NaN</td>\n",
       "      <td>In-line four</td>\n",
       "      <td>four-stroke</td>\n",
       "      <td>6-speed</td>\n",
       "      <td>18.93</td>\n",
       "      <td>Injection. DFI  with four 38mm Keihin throttle...</td>\n",
       "      <td>Double Overhead Cams/Twin Cam (DOHC)</td>\n",
       "      <td>Liquid</td>\n",
       "      <td>Chain</td>\n",
       "      <td>NaN</td>\n",
       "      <td>1445.0</td>\n",
       "      <td>820.0</td>\n",
       "    </tr>\n",
       "    <tr>\n",
       "      <th>18169</th>\n",
       "      <td>kawasaki</td>\n",
       "      <td>ninja 250sl krt edition</td>\n",
       "      <td>2017</td>\n",
       "      <td>Sport</td>\n",
       "      <td>249.0</td>\n",
       "      <td>31.0</td>\n",
       "      <td>Single cylinder</td>\n",
       "      <td>four-stroke</td>\n",
       "      <td>6-speed</td>\n",
       "      <td>11.00</td>\n",
       "      <td>Injection</td>\n",
       "      <td>Double Overhead Cams/Twin Cam (DOHC)</td>\n",
       "      <td>Liquid</td>\n",
       "      <td>Chain</td>\n",
       "      <td>NaN</td>\n",
       "      <td>1330.0</td>\n",
       "      <td>780.0</td>\n",
       "    </tr>\n",
       "    <tr>\n",
       "      <th>35115</th>\n",
       "      <td>yamaha</td>\n",
       "      <td>fz6 fazer abs</td>\n",
       "      <td>2007</td>\n",
       "      <td>Naked bike</td>\n",
       "      <td>600.0</td>\n",
       "      <td>76.4</td>\n",
       "      <td>In-line four</td>\n",
       "      <td>four-stroke</td>\n",
       "      <td>NaN</td>\n",
       "      <td>19.40</td>\n",
       "      <td>Injection</td>\n",
       "      <td>Double Overhead Cams/Twin Cam (DOHC)</td>\n",
       "      <td>Liquid</td>\n",
       "      <td>NaN</td>\n",
       "      <td>191.0</td>\n",
       "      <td>1440.0</td>\n",
       "      <td>795.0</td>\n",
       "    </tr>\n",
       "    <tr>\n",
       "      <th>21027</th>\n",
       "      <td>ktm</td>\n",
       "      <td>prestige</td>\n",
       "      <td>2006</td>\n",
       "      <td>Super motard</td>\n",
       "      <td>625.0</td>\n",
       "      <td>53.6</td>\n",
       "      <td>Single cylinder</td>\n",
       "      <td>four-stroke</td>\n",
       "      <td>5-speed</td>\n",
       "      <td>NaN</td>\n",
       "      <td>NaN</td>\n",
       "      <td>Overhead Cams (OHC)</td>\n",
       "      <td>Liquid</td>\n",
       "      <td>Chain</td>\n",
       "      <td>NaN</td>\n",
       "      <td>1510.0</td>\n",
       "      <td>910.0</td>\n",
       "    </tr>\n",
       "  </tbody>\n",
       "</table>\n",
       "</div>"
      ],
      "text/plain": [
       "          Brand                    Model  Year      Category  \\\n",
       "12542     honda              cbf stunner  2014         Sport   \n",
       "18121  kawasaki               ninja 1000  2012         Sport   \n",
       "18169  kawasaki  ninja 250sl krt edition  2017         Sport   \n",
       "35115    yamaha            fz6 fazer abs  2007    Naked bike   \n",
       "21027       ktm                 prestige  2006  Super motard   \n",
       "\n",
       "       Displacement (ccm)  Power (hp)  Engine cylinder Engine stroke  Gearbox  \\\n",
       "12542               124.7        11.6  Single cylinder   four-stroke  5-speed   \n",
       "18121              1043.0         NaN     In-line four   four-stroke  6-speed   \n",
       "18169               249.0        31.0  Single cylinder   four-stroke  6-speed   \n",
       "35115               600.0        76.4     In-line four   four-stroke      NaN   \n",
       "21027               625.0        53.6  Single cylinder   four-stroke  5-speed   \n",
       "\n",
       "       Fuel capacity (lts)                                        Fuel system  \\\n",
       "12542                13.00                               Carburettor. CV type   \n",
       "18121                18.93  Injection. DFI  with four 38mm Keihin throttle...   \n",
       "18169                11.00                                          Injection   \n",
       "35115                19.40                                          Injection   \n",
       "21027                  NaN                                                NaN   \n",
       "\n",
       "                               Fuel control Cooling system Transmission type  \\\n",
       "12542                   Overhead Cams (OHC)            Air             Chain   \n",
       "18121  Double Overhead Cams/Twin Cam (DOHC)         Liquid             Chain   \n",
       "18169  Double Overhead Cams/Twin Cam (DOHC)         Liquid             Chain   \n",
       "35115  Double Overhead Cams/Twin Cam (DOHC)         Liquid               NaN   \n",
       "21027                   Overhead Cams (OHC)         Liquid             Chain   \n",
       "\n",
       "       Dry weight (kg)  Wheelbase (mm)  Seat height (mm)  \n",
       "12542            110.0          1271.0               NaN  \n",
       "18121              NaN          1445.0             820.0  \n",
       "18169              NaN          1330.0             780.0  \n",
       "35115            191.0          1440.0             795.0  \n",
       "21027              NaN          1510.0             910.0  "
      ]
     },
     "execution_count": 959,
     "metadata": {},
     "output_type": "execute_result"
    }
   ],
   "source": [
    "import pandas as pd \n",
    "import numpy as np\n",
    "import matplotlib.pyplot as plt\n",
    "import seaborn as sns\n",
    "import warnings\n",
    "warnings.filterwarnings('ignore')\n",
    "\n",
    "df = pd.read_csv(\"all_bikez_curated.csv\")\n",
    "df.sample(5)"
   ]
  },
  {
   "cell_type": "markdown",
   "metadata": {},
   "source": [
    "### 💾 The data:\n",
    "- \"Brand\" - brand name of the motorcycle.\n",
    "-\t\"Model\" - model name of the motorcycle.\n",
    "-\t\"year\" - year the motorcycle was built.\n",
    "-\t\"Category\" - sub-class the motorcycle belongs to in the market (style of motorcycle).\n",
    "-\t\"Displacement (ccm)\" - engine size of the motorcycle in cubic centimeters (ccm).\n",
    "-\t\"Power (hp)\" - max power output in horsepower (hp) and kilowatt (kW) along with peak power rpm.\n",
    "-\t\"Engine cylinder\" - number of cylinders in the engine as well as configuration.\n",
    "-\t\"Engine stroke\" - number of stages to complete one power stroke of the engine.\n",
    "-\t\"Gearbox\" - number of gears in transmission.\n",
    "-\t\"Transmission type\" - type of transmission of the motorcycle.\n",
    "-\t\"Dry weight (kg)\" - weight of the motorcycle, without any fluids, in kilograms (kg) and pounds (lbs).\n",
    "-\t\"Wheelbase (mm)\" - distance between the points where the front and rear wheels touch the ground in millimeters (mm).\n",
    "-\t\"Fuel capacity (lts)\" - maximum capacity of fuel tank in liters (lts).\n",
    "-\t\"Fuel system\" - fuel delivery system into engine.\n",
    "-\t\"Fuel control\" - valve configuration fo the engine.\n",
    "-\t\"Seat height (mm)\" - height from bottom of seat to the ground in millimeters (mm).\n",
    "-\t\"Cooling system\" - engine cooling system.\n",
    "\n"
   ]
  },
  {
   "cell_type": "markdown",
   "metadata": {},
   "source": [
    "## Inspecting and Cleaning"
   ]
  },
  {
   "cell_type": "code",
   "execution_count": 960,
   "metadata": {},
   "outputs": [
    {
     "name": "stdout",
     "output_type": "stream",
     "text": [
      "<class 'pandas.core.frame.DataFrame'>\n",
      "RangeIndex: 38543 entries, 0 to 38542\n",
      "Data columns (total 17 columns):\n",
      " #   Column               Non-Null Count  Dtype  \n",
      "---  ------               --------------  -----  \n",
      " 0   Brand                38543 non-null  object \n",
      " 1   Model                38515 non-null  object \n",
      " 2   Year                 38543 non-null  object \n",
      " 3   Category             38543 non-null  object \n",
      " 4   Displacement (ccm)   37514 non-null  float64\n",
      " 5   Power (hp)           26162 non-null  float64\n",
      " 6   Engine cylinder      38527 non-null  object \n",
      " 7   Engine stroke        38532 non-null  object \n",
      " 8   Gearbox              32733 non-null  object \n",
      " 9   Fuel capacity (lts)  31747 non-null  float64\n",
      " 10  Fuel system          27893 non-null  object \n",
      " 11  Fuel control         22032 non-null  object \n",
      " 12  Cooling system       34322 non-null  object \n",
      " 13  Transmission type    32912 non-null  object \n",
      " 14  Dry weight (kg)      22534 non-null  float64\n",
      " 15  Wheelbase (mm)       25530 non-null  float64\n",
      " 16  Seat height (mm)     24225 non-null  float64\n",
      "dtypes: float64(6), object(11)\n",
      "memory usage: 5.0+ MB\n"
     ]
    }
   ],
   "source": [
    "df.info()"
   ]
  },
  {
   "cell_type": "code",
   "execution_count": 961,
   "metadata": {},
   "outputs": [],
   "source": [
    "df.columns = ['brand', 'model', 'year', 'category', 'displacement', 'power', 'engine_cylinder', 'engine_stroke', \\\n",
    "                'gear_box', 'fuel_capacity', 'fuel_system', 'fuel_control', 'cooling_system', 'trans_type', 'dry_weight',\\\n",
    "                    'wheelbase', 'seat_height'] "
   ]
  },
  {
   "cell_type": "code",
   "execution_count": 962,
   "metadata": {},
   "outputs": [
    {
     "data": {
      "text/html": [
       "<div>\n",
       "<style scoped>\n",
       "    .dataframe tbody tr th:only-of-type {\n",
       "        vertical-align: middle;\n",
       "    }\n",
       "\n",
       "    .dataframe tbody tr th {\n",
       "        vertical-align: top;\n",
       "    }\n",
       "\n",
       "    .dataframe thead th {\n",
       "        text-align: right;\n",
       "    }\n",
       "</style>\n",
       "<table border=\"1\" class=\"dataframe\">\n",
       "  <thead>\n",
       "    <tr style=\"text-align: right;\">\n",
       "      <th></th>\n",
       "      <th>brand</th>\n",
       "      <th>model</th>\n",
       "      <th>year</th>\n",
       "      <th>category</th>\n",
       "      <th>displacement</th>\n",
       "      <th>power</th>\n",
       "      <th>engine_cylinder</th>\n",
       "      <th>engine_stroke</th>\n",
       "      <th>gear_box</th>\n",
       "      <th>fuel_capacity</th>\n",
       "      <th>fuel_system</th>\n",
       "      <th>fuel_control</th>\n",
       "      <th>cooling_system</th>\n",
       "      <th>trans_type</th>\n",
       "      <th>dry_weight</th>\n",
       "      <th>wheelbase</th>\n",
       "      <th>seat_height</th>\n",
       "    </tr>\n",
       "  </thead>\n",
       "  <tbody>\n",
       "    <tr>\n",
       "      <th>22903</th>\n",
       "      <td>megelli</td>\n",
       "      <td>sport 250r</td>\n",
       "      <td>2016</td>\n",
       "      <td>Sport</td>\n",
       "      <td>249.6</td>\n",
       "      <td>27.0</td>\n",
       "      <td>Single cylinder</td>\n",
       "      <td>four-stroke</td>\n",
       "      <td>6-speed</td>\n",
       "      <td>7.0</td>\n",
       "      <td>Carburettor. TK/MV34</td>\n",
       "      <td>Single Overhead Cams (SOHC)</td>\n",
       "      <td>Liquid</td>\n",
       "      <td>Chain</td>\n",
       "      <td>137.0</td>\n",
       "      <td>1349.0</td>\n",
       "      <td>765.0</td>\n",
       "    </tr>\n",
       "  </tbody>\n",
       "</table>\n",
       "</div>"
      ],
      "text/plain": [
       "         brand       model  year category  displacement  power  \\\n",
       "22903  megelli  sport 250r  2016    Sport         249.6   27.0   \n",
       "\n",
       "       engine_cylinder engine_stroke gear_box  fuel_capacity  \\\n",
       "22903  Single cylinder   four-stroke  6-speed            7.0   \n",
       "\n",
       "                fuel_system                 fuel_control cooling_system  \\\n",
       "22903  Carburettor. TK/MV34  Single Overhead Cams (SOHC)         Liquid   \n",
       "\n",
       "      trans_type  dry_weight  wheelbase  seat_height  \n",
       "22903      Chain       137.0     1349.0        765.0  "
      ]
     },
     "execution_count": 962,
     "metadata": {},
     "output_type": "execute_result"
    }
   ],
   "source": [
    "df.sample()"
   ]
  },
  {
   "cell_type": "code",
   "execution_count": 963,
   "metadata": {},
   "outputs": [
    {
     "data": {
      "text/plain": [
       "array(['2011', '2007', '2021', '2016', '2018', '2020', '2022', '1923',\n",
       "       '1924', '1925', '1926', '1927', '2009', '2010', '2014', '2008',\n",
       "       '2019', '2012', '2013', '2040', '1957', '1958', '1955', '1956',\n",
       "       '1952', '1953', '1954', '1959', '1960', '2077', '2003', '3019',\n",
       "       '1961', '1962', '1963', '1964', '1965', '1966', '1967', '1968',\n",
       "       '1969', '1971', '1972', '1970', '1974', '1962 CE', '1963 CE',\n",
       "       '2005', '2015', '2018 CE', '2006', '1922', '1928', '1949', '1950',\n",
       "       '1951', '2001', '2017', '1986', '1999', '1985', '1987', '1996',\n",
       "       '1991', '1988', '1989', '1990', '1992', '2004', '2002', '1997',\n",
       "       '1998', '2000', '1993', '1984', '1995', '1948', '1937', '1938',\n",
       "       '1931', '1901', '1902', '1903', '1913', '1914', '1915', '1916',\n",
       "       '1918', '1932', '1933', '1934', '1935', '1936', '1939', '1940',\n",
       "       '1941', '1942', '1943', '1944', '1945', '1946', '1947', '1898',\n",
       "       '1910', '1929', '1975', '1976', '1973', '1977', '1978', '1979',\n",
       "       '1980', '1982', '1983', '1981', '1917', '1919', '1994', '1930',\n",
       "       '1897', '1920', '1921', '1899', '1900', '1904', '1911', '1912',\n",
       "       '1896', '1909', '1905', '1906', '1907', '1908', '1894', '1895',\n",
       "       1982, 1983, 1972, 1979, 1980, 1981, 1973, 2021, 2022, 1968, 1969,\n",
       "       1991, 1992, 1995, 1996, 1997, 1998, 2013, 2014, 1999, 2000, 2001,\n",
       "       2002, 2003, 1970, 2016, 2017, 2015, 2020, 1977, 2009, 2010, 2011,\n",
       "       2019, 2008, 2012, 2007, 2006, 2018, 1994, 1974, 1975, 1993, 1987,\n",
       "       1988, 1989, 1990, 1971, 1976, 1978, 2005, 1938, 1939, 1940, 1941,\n",
       "       1942, 1943, 1944, 1945, 1946, 1947, 1948, 1949, 1950, 1959, 1934,\n",
       "       1935, 1936, 1937, 1951, 1952, 1953, 1954, 1955, 1956, 1957, 1958,\n",
       "       1964, 1965, 1966, 1967, 1960, 1961, 1962, 1963, 2004, 1897, 1913,\n",
       "       1914, 1984, 1985, 1986, 1925, 1926, 1927, 1928, 1933, 1924, 1922,\n",
       "       1923, 1921, 1929], dtype=object)"
      ]
     },
     "execution_count": 963,
     "metadata": {},
     "output_type": "execute_result"
    }
   ],
   "source": [
    "df.year.unique()"
   ]
  },
  {
   "cell_type": "markdown",
   "metadata": {},
   "source": [
    "You notice that this column needs some replacements before turning it to integer."
   ]
  },
  {
   "cell_type": "code",
   "execution_count": 964,
   "metadata": {},
   "outputs": [],
   "source": [
    "df.year = df.year.astype('str')\n",
    "df.year = df.year.str.replace(' CE', '')\n",
    "df.year.replace('3019', '2019', inplace=True)\n",
    "df.year.replace('2077', '2017', inplace = True)\n",
    "df.year.replace('2040', '2004', inplace=True)"
   ]
  },
  {
   "cell_type": "code",
   "execution_count": 965,
   "metadata": {},
   "outputs": [
    {
     "data": {
      "text/plain": [
       "array(['2011', '2007', '2021', '2016', '2018', '2020', '2022', '1923',\n",
       "       '1924', '1925', '1926', '1927', '2009', '2010', '2014', '2008',\n",
       "       '2019', '2012', '2013', '2004', '1957', '1958', '1955', '1956',\n",
       "       '1952', '1953', '1954', '1959', '1960', '2017', '2003', '1961',\n",
       "       '1962', '1963', '1964', '1965', '1966', '1967', '1968', '1969',\n",
       "       '1971', '1972', '1970', '1974', '2005', '2015', '2006', '1922',\n",
       "       '1928', '1949', '1950', '1951', '2001', '1986', '1999', '1985',\n",
       "       '1987', '1996', '1991', '1988', '1989', '1990', '1992', '2002',\n",
       "       '1997', '1998', '2000', '1993', '1984', '1995', '1948', '1937',\n",
       "       '1938', '1931', '1901', '1902', '1903', '1913', '1914', '1915',\n",
       "       '1916', '1918', '1932', '1933', '1934', '1935', '1936', '1939',\n",
       "       '1940', '1941', '1942', '1943', '1944', '1945', '1946', '1947',\n",
       "       '1898', '1910', '1929', '1975', '1976', '1973', '1977', '1978',\n",
       "       '1979', '1980', '1982', '1983', '1981', '1917', '1919', '1994',\n",
       "       '1930', '1897', '1920', '1921', '1899', '1900', '1904', '1911',\n",
       "       '1912', '1896', '1909', '1905', '1906', '1907', '1908', '1894',\n",
       "       '1895'], dtype=object)"
      ]
     },
     "execution_count": 965,
     "metadata": {},
     "output_type": "execute_result"
    }
   ],
   "source": [
    "df.year.unique()"
   ]
  },
  {
   "cell_type": "code",
   "execution_count": 966,
   "metadata": {},
   "outputs": [
    {
     "name": "stdout",
     "output_type": "stream",
     "text": [
      "False\n",
      "False\n",
      "False\n"
     ]
    }
   ],
   "source": [
    "df.year = df.year.astype('int')\n",
    "\n",
    "print(df.year.apply(lambda x: x > 2024).any())\n",
    "print(df.year.apply(lambda x: x == np.NaN).any())\n",
    "print(df.year.isna().any())"
   ]
  },
  {
   "cell_type": "code",
   "execution_count": 967,
   "metadata": {},
   "outputs": [
    {
     "data": {
      "text/plain": [
       "Scooter                      6704\n",
       "Sport                        5557\n",
       "Enduro / offroad             4273\n",
       "Custom / cruiser             4161\n",
       "Naked bike                   3251\n",
       "Allround                     3141\n",
       "Classic                      1885\n",
       "Super motard                 1634\n",
       "Touring                      1573\n",
       "ATV                          1489\n",
       "Sport touring                1364\n",
       "Cross / motocross            1243\n",
       "Unspecified category          806\n",
       "Trial                         560\n",
       "Minibike, cross               529\n",
       "Prototype / concept model     210\n",
       "Minibike, sport               142\n",
       "Speedway                       21\n",
       "Name: category, dtype: int64"
      ]
     },
     "execution_count": 967,
     "metadata": {},
     "output_type": "execute_result"
    }
   ],
   "source": [
    "df.category.value_counts(dropna=False)"
   ]
  },
  {
   "cell_type": "code",
   "execution_count": 968,
   "metadata": {},
   "outputs": [],
   "source": [
    "df.category = df.category.astype('category')"
   ]
  },
  {
   "cell_type": "code",
   "execution_count": 969,
   "metadata": {},
   "outputs": [
    {
     "data": {
      "text/plain": [
       "Single cylinder         20717\n",
       "V2                       7456\n",
       "Twin                     3392\n",
       "In-line four             3169\n",
       "Electric                  997\n",
       "Two cylinder boxer        936\n",
       "In-line three             852\n",
       "V4                        459\n",
       "Six cylinder boxer        137\n",
       "In-line six               114\n",
       "V8                         79\n",
       "Four cylinder boxer        53\n",
       "V6                         42\n",
       "Diesel                     37\n",
       "Square four cylinder       33\n",
       "Gas turbine                19\n",
       "NaN                        16\n",
       "Dual disk Wankel           13\n",
       "Radial                     10\n",
       "Single disk Wankel          8\n",
       "V3                          3\n",
       "V10                         1\n",
       "Name: engine_cylinder, dtype: int64"
      ]
     },
     "execution_count": 969,
     "metadata": {},
     "output_type": "execute_result"
    }
   ],
   "source": [
    "df.engine_cylinder.value_counts(dropna=False)"
   ]
  },
  {
   "cell_type": "code",
   "execution_count": 970,
   "metadata": {},
   "outputs": [
    {
     "data": {
      "text/plain": [
       " four-stroke            30721\n",
       " two-stroke              6694\n",
       "Electric                  997\n",
       "Diesel                     37\n",
       "Square four cylinder       33\n",
       "Gas turbine                19\n",
       "Dual disk Wankel           13\n",
       "NaN                        11\n",
       "Radial                     10\n",
       "Single disk Wankel          8\n",
       "Name: engine_stroke, dtype: int64"
      ]
     },
     "execution_count": 970,
     "metadata": {},
     "output_type": "execute_result"
    }
   ],
   "source": [
    "df.engine_stroke.value_counts(dropna=False)"
   ]
  },
  {
   "cell_type": "code",
   "execution_count": 971,
   "metadata": {},
   "outputs": [],
   "source": [
    "df.engine_stroke.replace(' four-stroke', 'Four-stroke', inplace=True)\n",
    "df.engine_stroke.replace(' two-stroke', 'Two-stroke', inplace=True)"
   ]
  },
  {
   "cell_type": "code",
   "execution_count": 972,
   "metadata": {},
   "outputs": [
    {
     "data": {
      "text/plain": [
       "6-speed                 11912\n",
       "5-speed                 11002\n",
       "Automatic                6050\n",
       "NaN                      5810\n",
       "4-speed                  2799\n",
       "3-speed                   478\n",
       "1-speed                   289\n",
       "2-speed                    93\n",
       "4-speed with reverse       49\n",
       "7-speed                    24\n",
       "100-speed                  15\n",
       "2-speed automatic           8\n",
       "5-speed with reverse        5\n",
       "10-speed                    4\n",
       "8-speed                     3\n",
       "6-speed with reverse        1\n",
       "3-speed automatic           1\n",
       "Name: gear_box, dtype: int64"
      ]
     },
     "execution_count": 972,
     "metadata": {},
     "output_type": "execute_result"
    }
   ],
   "source": [
    "df.gear_box.value_counts(dropna=False)"
   ]
  },
  {
   "cell_type": "code",
   "execution_count": 973,
   "metadata": {},
   "outputs": [],
   "source": [
    "df.gear_box = df.gear_box.str.replace('100-speed|8-speed|10-speed', '7-speed', regex=True, case=False)"
   ]
  },
  {
   "cell_type": "code",
   "execution_count": 974,
   "metadata": {},
   "outputs": [
    {
     "data": {
      "text/plain": [
       "6-speed                 11912\n",
       "5-speed                 11002\n",
       "Automatic                6050\n",
       "4-speed                  2799\n",
       "3-speed                   478\n",
       "1-speed                   289\n",
       "2-speed                    93\n",
       "4-speed with reverse       49\n",
       "7-speed                    46\n",
       "2-speed automatic           8\n",
       "5-speed with reverse        5\n",
       "6-speed with reverse        1\n",
       "3-speed automatic           1\n",
       "Name: gear_box, dtype: int64"
      ]
     },
     "execution_count": 974,
     "metadata": {},
     "output_type": "execute_result"
    }
   ],
   "source": [
    "df.gear_box.value_counts()"
   ]
  },
  {
   "cell_type": "code",
   "execution_count": 944,
   "metadata": {},
   "outputs": [
    {
     "data": {
      "text/plain": [
       "Chain          21489\n",
       "Belt            7112\n",
       "NaN             5631\n",
       "Shaft drive     4311\n",
       "Name: trans_type, dtype: int64"
      ]
     },
     "execution_count": 944,
     "metadata": {},
     "output_type": "execute_result"
    }
   ],
   "source": [
    "df.trans_type.value_counts(dropna=False)"
   ]
  },
  {
   "cell_type": "code",
   "execution_count": 945,
   "metadata": {},
   "outputs": [],
   "source": [
    "df.gear_box.fillna(df.gear_box.mode()[0], inplace=True)\n",
    "df.fuel_capacity.fillna(df.fuel_capacity.median(), inplace=True)\n",
    "df.trans_type.fillna(\"Unknown\", inplace=True)\n",
    "\n",
    "df.drop(columns=['dry_weight', 'wheelbase', 'seat_height', 'fuel_system', 'fuel_control', 'power'], axis=1, inplace=True)"
   ]
  },
  {
   "cell_type": "code",
   "execution_count": 946,
   "metadata": {},
   "outputs": [
    {
     "name": "stdout",
     "output_type": "stream",
     "text": [
      "<class 'pandas.core.frame.DataFrame'>\n",
      "RangeIndex: 38543 entries, 0 to 38542\n",
      "Data columns (total 11 columns):\n",
      " #   Column           Non-Null Count  Dtype   \n",
      "---  ------           --------------  -----   \n",
      " 0   brand            38543 non-null  object  \n",
      " 1   model            38515 non-null  object  \n",
      " 2   year             38543 non-null  int32   \n",
      " 3   category         38543 non-null  category\n",
      " 4   displacement     37514 non-null  float64 \n",
      " 5   engine_cylinder  38527 non-null  object  \n",
      " 6   engine_stroke    38532 non-null  object  \n",
      " 7   gear_box         38543 non-null  object  \n",
      " 8   fuel_capacity    38543 non-null  float64 \n",
      " 9   cooling_system   34322 non-null  object  \n",
      " 10  trans_type       38543 non-null  object  \n",
      "dtypes: category(1), float64(2), int32(1), object(7)\n",
      "memory usage: 2.8+ MB\n"
     ]
    }
   ],
   "source": [
    "df.info()"
   ]
  },
  {
   "cell_type": "code",
   "execution_count": 947,
   "metadata": {},
   "outputs": [
    {
     "data": {
      "text/plain": [
       "Air            16968\n",
       "Liquid         15725\n",
       "NaN             4221\n",
       "Oil & air       1621\n",
       "Liquids            3\n",
       "air                2\n",
       "the air            1\n",
       "airr               1\n",
       "Oil and air        1\n",
       "Name: cooling_system, dtype: int64"
      ]
     },
     "execution_count": 947,
     "metadata": {},
     "output_type": "execute_result"
    }
   ],
   "source": [
    "df.cooling_system.value_counts(dropna=False)"
   ]
  },
  {
   "cell_type": "code",
   "execution_count": 948,
   "metadata": {},
   "outputs": [],
   "source": [
    "df.cooling_system = df.cooling_system.str.lower()\n",
    "df.cooling_system.replace(\"liquids\", \"liquid\", inplace=True)\n",
    "df.cooling_system = df.cooling_system.str.replace(\"the air|airr\", \"air\", regex=True, case=False)\n",
    "df.cooling_system.replace(\"oil & air\", \"oil and air\", inplace=True)"
   ]
  },
  {
   "cell_type": "code",
   "execution_count": 949,
   "metadata": {},
   "outputs": [
    {
     "data": {
      "text/plain": [
       "air            16972\n",
       "liquid         15728\n",
       "NaN             4221\n",
       "oil and air     1622\n",
       "Name: cooling_system, dtype: int64"
      ]
     },
     "execution_count": 949,
     "metadata": {},
     "output_type": "execute_result"
    }
   ],
   "source": [
    "df.cooling_system.value_counts(dropna=False)"
   ]
  },
  {
   "cell_type": "code",
   "execution_count": 950,
   "metadata": {},
   "outputs": [],
   "source": [
    "df.cooling_system.fillna(\"Unknown\", inplace=True)"
   ]
  },
  {
   "cell_type": "code",
   "execution_count": 951,
   "metadata": {},
   "outputs": [
    {
     "data": {
      "text/plain": [
       "brand                 0\n",
       "model                28\n",
       "year                  0\n",
       "category              0\n",
       "displacement       1029\n",
       "engine_cylinder      16\n",
       "engine_stroke        11\n",
       "gear_box              0\n",
       "fuel_capacity         0\n",
       "cooling_system        0\n",
       "trans_type            0\n",
       "dtype: int64"
      ]
     },
     "execution_count": 951,
     "metadata": {},
     "output_type": "execute_result"
    }
   ],
   "source": [
    "df.isna().sum()"
   ]
  },
  {
   "cell_type": "code",
   "execution_count": 952,
   "metadata": {},
   "outputs": [
    {
     "data": {
      "text/plain": [
       "<AxesSubplot:xlabel='displacement'>"
      ]
     },
     "execution_count": 952,
     "metadata": {},
     "output_type": "execute_result"
    },
    {
     "data": {
      "image/png": "[encoded data removed]",
      "text/plain": [
       "<Figure size 640x480 with 1 Axes>"
      ]
     },
     "metadata": {},
     "output_type": "display_data"
    }
   ],
   "source": [
    "sns.boxplot(df.displacement)"
   ]
  },
  {
   "cell_type": "code",
   "execution_count": 953,
   "metadata": {},
   "outputs": [],
   "source": [
    "df.displacement.fillna(df.displacement.median(), inplace=True)"
   ]
  },
  {
   "cell_type": "code",
   "execution_count": 954,
   "metadata": {},
   "outputs": [
    {
     "data": {
      "text/plain": [
       "brand               0\n",
       "model              28\n",
       "year                0\n",
       "category            0\n",
       "displacement        0\n",
       "engine_cylinder    16\n",
       "engine_stroke      11\n",
       "gear_box            0\n",
       "fuel_capacity       0\n",
       "cooling_system      0\n",
       "trans_type          0\n",
       "dtype: int64"
      ]
     },
     "execution_count": 954,
     "metadata": {},
     "output_type": "execute_result"
    }
   ],
   "source": [
    "df.isna().sum()"
   ]
  },
  {
   "cell_type": "code",
   "execution_count": 955,
   "metadata": {},
   "outputs": [],
   "source": [
    "df.dropna(inplace=True)"
   ]
  },
  {
   "cell_type": "code",
   "execution_count": 956,
   "metadata": {},
   "outputs": [],
   "source": [
    "df.drop_duplicates(inplace=True)"
   ]
  },
  {
   "cell_type": "code",
   "execution_count": 957,
   "metadata": {},
   "outputs": [],
   "source": [
    "df.engine_cylinder = df.engine_cylinder.astype('category')\n",
    "df.engine_stroke = df.engine_stroke.astype('category')\n",
    "df.gear_box = df.gear_box.astype('category')"
   ]
  },
  {
   "cell_type": "code",
   "execution_count": 958,
   "metadata": {},
   "outputs": [
    {
     "name": "stdout",
     "output_type": "stream",
     "text": [
      "<class 'pandas.core.frame.DataFrame'>\n",
      "Int64Index: 38428 entries, 0 to 38476\n",
      "Data columns (total 11 columns):\n",
      " #   Column           Non-Null Count  Dtype   \n",
      "---  ------           --------------  -----   \n",
      " 0   brand            38428 non-null  object  \n",
      " 1   model            38428 non-null  object  \n",
      " 2   year             38428 non-null  int32   \n",
      " 3   category         38428 non-null  category\n",
      " 4   displacement     38428 non-null  float64 \n",
      " 5   engine_cylinder  38428 non-null  category\n",
      " 6   engine_stroke    38428 non-null  category\n",
      " 7   gear_box         38428 non-null  category\n",
      " 8   fuel_capacity    38428 non-null  float64 \n",
      " 9   cooling_system   38428 non-null  object  \n",
      " 10  trans_type       38428 non-null  object  \n",
      "dtypes: category(4), float64(2), int32(1), object(4)\n",
      "memory usage: 2.3+ MB\n"
     ]
    }
   ],
   "source": [
    "df.info()"
   ]
  },
  {
   "cell_type": "markdown",
   "metadata": {},
   "source": [
    "### Recap\n",
    "- We replaced columns names with easy ones.\n",
    "- We fixed 'Year' column by removing the 'CE' and converting it to integer.\n",
    "- We fixed other columns' data types.\n",
    "- We filled missing values of columns 'gearbox' with the mode, 'cooling_system' and 'trans_type' with the \"Unkown\"word.\n",
    "- We filled missing values of \"fuel_capacity\" with the median of each column.\n",
    "- we dropped 'dry_weight', 'wheelbase', 'seat_height', 'fuel_system', 'power' and 'fuel_control' columns as they have too many missing values.\n",
    "- We dropped rows with missing values in 'model', 'engine_stroke' and 'engine_cylinder' columns."
   ]
  },
  {
   "cell_type": "markdown",
   "metadata": {},
   "source": [
    "<h2 style=\"text-align:center;\">Thank You</h2>"
   ]
  }
 ],
 "metadata": {
  "kernelspec": {
   "display_name": "base",
   "language": "python",
   "name": "python3"
  },
  "language_info": {
   "codemirror_mode": {
    "name": "ipython",
    "version": 3
   },
   "file_extension": ".py",
   "mimetype": "text/x-python",
   "name": "python",
   "nbconvert_exporter": "python",
   "pygments_lexer": "ipython3",
   "version": "3.9.13"
  }
 },
 "nbformat": 4,
 "nbformat_minor": 2
}
